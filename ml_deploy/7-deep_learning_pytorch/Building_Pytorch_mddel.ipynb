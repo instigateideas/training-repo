{
 "cells": [
  {
   "cell_type": "code",
   "execution_count": 2,
   "id": "b7b3454b",
   "metadata": {},
   "outputs": [],
   "source": [
    "# import packages\n",
    "import torch\n",
    "import torch.nn as nn\n",
    "from torch.nn import functional as F\n",
    "import pandas as pd\n",
    "import numpy as np"
   ]
  },
  {
   "cell_type": "code",
   "execution_count": 4,
   "id": "81b7a56a",
   "metadata": {},
   "outputs": [],
   "source": [
    "dataset = pd.read_csv(\"./data/storepurchasedata_large.csv\")"
   ]
  },
  {
   "cell_type": "code",
   "execution_count": 5,
   "id": "4f873d08",
   "metadata": {},
   "outputs": [
    {
     "data": {
      "text/plain": [
       "(1554, 3)"
      ]
     },
     "execution_count": 5,
     "metadata": {},
     "output_type": "execute_result"
    }
   ],
   "source": [
    "dataset.shape"
   ]
  },
  {
   "cell_type": "code",
   "execution_count": 6,
   "id": "0817a353",
   "metadata": {},
   "outputs": [
    {
     "data": {
      "text/html": [
       "<div>\n",
       "<style scoped>\n",
       "    .dataframe tbody tr th:only-of-type {\n",
       "        vertical-align: middle;\n",
       "    }\n",
       "\n",
       "    .dataframe tbody tr th {\n",
       "        vertical-align: top;\n",
       "    }\n",
       "\n",
       "    .dataframe thead th {\n",
       "        text-align: right;\n",
       "    }\n",
       "</style>\n",
       "<table border=\"1\" class=\"dataframe\">\n",
       "  <thead>\n",
       "    <tr style=\"text-align: right;\">\n",
       "      <th></th>\n",
       "      <th>Age</th>\n",
       "      <th>Salary</th>\n",
       "      <th>Purchased</th>\n",
       "    </tr>\n",
       "  </thead>\n",
       "  <tbody>\n",
       "    <tr>\n",
       "      <th>0</th>\n",
       "      <td>18</td>\n",
       "      <td>20000</td>\n",
       "      <td>0</td>\n",
       "    </tr>\n",
       "    <tr>\n",
       "      <th>1</th>\n",
       "      <td>19</td>\n",
       "      <td>22000</td>\n",
       "      <td>0</td>\n",
       "    </tr>\n",
       "    <tr>\n",
       "      <th>2</th>\n",
       "      <td>20</td>\n",
       "      <td>24000</td>\n",
       "      <td>0</td>\n",
       "    </tr>\n",
       "    <tr>\n",
       "      <th>3</th>\n",
       "      <td>21</td>\n",
       "      <td>28000</td>\n",
       "      <td>0</td>\n",
       "    </tr>\n",
       "    <tr>\n",
       "      <th>4</th>\n",
       "      <td>22</td>\n",
       "      <td>60000</td>\n",
       "      <td>1</td>\n",
       "    </tr>\n",
       "  </tbody>\n",
       "</table>\n",
       "</div>"
      ],
      "text/plain": [
       "   Age  Salary  Purchased\n",
       "0   18   20000          0\n",
       "1   19   22000          0\n",
       "2   20   24000          0\n",
       "3   21   28000          0\n",
       "4   22   60000          1"
      ]
     },
     "execution_count": 6,
     "metadata": {},
     "output_type": "execute_result"
    }
   ],
   "source": [
    "dataset.head()"
   ]
  },
  {
   "cell_type": "code",
   "execution_count": 7,
   "id": "878f7a89",
   "metadata": {},
   "outputs": [],
   "source": [
    "# Get the IDV and DV in X and y variables\n",
    "X = dataset.iloc[:, :-1].values\n",
    "y = dataset.iloc[:,-1].values"
   ]
  },
  {
   "cell_type": "code",
   "execution_count": 8,
   "id": "67700854",
   "metadata": {},
   "outputs": [],
   "source": [
    "# Split the data to train & test split\n",
    "from sklearn.model_selection import train_test_split\n",
    "X_train, X_test, y_train, y_test = train_test_split(X, y, test_size =.20,random_state=0)"
   ]
  },
  {
   "cell_type": "code",
   "execution_count": 9,
   "id": "65d20eb6",
   "metadata": {},
   "outputs": [],
   "source": [
    "# Standard scaling the data\n",
    "from sklearn.preprocessing import StandardScaler\n",
    "sc = StandardScaler()\n",
    "X_train = sc.fit_transform(X_train)\n",
    "X_test = sc.transform(X_test)"
   ]
  },
  {
   "cell_type": "code",
   "execution_count": 10,
   "id": "5a0bbae3",
   "metadata": {},
   "outputs": [],
   "source": [
    "# convert the arrays to the tensors IDV's\n",
    "Xtrain_ = torch.from_numpy(X_train).float()\n",
    "Xtest_ = torch.from_numpy(X_test).float()"
   ]
  },
  {
   "cell_type": "code",
   "execution_count": 13,
   "id": "5379b86c",
   "metadata": {},
   "outputs": [],
   "source": [
    "# DV to Tensor\n",
    "ytrain_ = torch.from_numpy(y_train)\n",
    "ytest_ = torch.from_numpy(y_test)"
   ]
  },
  {
   "cell_type": "code",
   "execution_count": 15,
   "id": "a57a36ea",
   "metadata": {},
   "outputs": [
    {
     "data": {
      "text/plain": [
       "(torch.Size([1243, 2]),\n",
       " torch.Size([1243]),\n",
       " torch.Size([311, 2]),\n",
       " torch.Size([311]))"
      ]
     },
     "execution_count": 15,
     "metadata": {},
     "output_type": "execute_result"
    }
   ],
   "source": [
    "Xtrain_.shape, ytrain_.shape, Xtest_.shape, ytest_.shape"
   ]
  },
  {
   "cell_type": "markdown",
   "id": "3e425835",
   "metadata": {},
   "source": [
    "<img src=\"./data/nn-image.png\">"
   ]
  },
  {
   "cell_type": "code",
   "execution_count": 16,
   "id": "d6859ba8",
   "metadata": {},
   "outputs": [],
   "source": [
    "# Fix the neural network parameters\n",
    "input_size=2\n",
    "output_size=2\n",
    "hidden_size=10"
   ]
  },
  {
   "cell_type": "code",
   "execution_count": 18,
   "id": "25d5b9d4",
   "metadata": {},
   "outputs": [],
   "source": [
    "class Net(nn.Module):\n",
    "    def __init__(self):\n",
    "        super(Net, self).__init__()\n",
    "        self.fc1 = torch.nn.Linear(input_size, hidden_size)\n",
    "        self.fc2 = torch.nn.Linear(hidden_size, hidden_size)\n",
    "        self.fc3 = torch.nn.Linear(hidden_size, output_size)\n",
    "\n",
    "\n",
    "    def forward(self, X):\n",
    "        X = torch.relu((self.fc1(X)))\n",
    "        X = torch.relu((self.fc2(X)))\n",
    "        X = self.fc3(X)\n",
    "\n",
    "        return F.log_softmax(X,dim=1)"
   ]
  },
  {
   "cell_type": "code",
   "execution_count": 19,
   "id": "96be19c2",
   "metadata": {},
   "outputs": [],
   "source": [
    "model = Net()\n",
    "import torch.optim as optim\n",
    "optimizer = torch.optim.Adam(model.parameters(), lr=0.01)\n",
    "loss_fn = nn.NLLLoss()"
   ]
  },
  {
   "cell_type": "code",
   "execution_count": 20,
   "id": "660bb82e",
   "metadata": {},
   "outputs": [
    {
     "name": "stdout",
     "output_type": "stream",
     "text": [
      "Epoch 0 loss 0.7116402983665466\n",
      "Epoch 1 loss 0.6918826699256897\n",
      "Epoch 2 loss 0.6724310517311096\n",
      "Epoch 3 loss 0.6534146666526794\n",
      "Epoch 4 loss 0.6349195241928101\n",
      "Epoch 5 loss 0.616766631603241\n",
      "Epoch 6 loss 0.5985733866691589\n",
      "Epoch 7 loss 0.5800601840019226\n",
      "Epoch 8 loss 0.5609275102615356\n",
      "Epoch 9 loss 0.5412424206733704\n",
      "Epoch 10 loss 0.5212754607200623\n",
      "Epoch 11 loss 0.5009044408798218\n",
      "Epoch 12 loss 0.479924738407135\n",
      "Epoch 13 loss 0.4585697054862976\n",
      "Epoch 14 loss 0.4369315207004547\n",
      "Epoch 15 loss 0.4152473211288452\n",
      "Epoch 16 loss 0.3933025300502777\n",
      "Epoch 17 loss 0.3716881573200226\n",
      "Epoch 18 loss 0.35023316740989685\n",
      "Epoch 19 loss 0.32891732454299927\n",
      "Epoch 20 loss 0.308023601770401\n",
      "Epoch 21 loss 0.28803542256355286\n",
      "Epoch 22 loss 0.2696225941181183\n",
      "Epoch 23 loss 0.2530255913734436\n",
      "Epoch 24 loss 0.23744407296180725\n",
      "Epoch 25 loss 0.22291919589042664\n",
      "Epoch 26 loss 0.20957732200622559\n",
      "Epoch 27 loss 0.1974719762802124\n",
      "Epoch 28 loss 0.1864442080259323\n",
      "Epoch 29 loss 0.17649470269680023\n",
      "Epoch 30 loss 0.16767236590385437\n",
      "Epoch 31 loss 0.1598585993051529\n",
      "Epoch 32 loss 0.15304765105247498\n",
      "Epoch 33 loss 0.14711858332157135\n",
      "Epoch 34 loss 0.14197829365730286\n",
      "Epoch 35 loss 0.13770851492881775\n",
      "Epoch 36 loss 0.1342681348323822\n",
      "Epoch 37 loss 0.1315559446811676\n",
      "Epoch 38 loss 0.12944243848323822\n",
      "Epoch 39 loss 0.12775442004203796\n",
      "Epoch 40 loss 0.12630900740623474\n",
      "Epoch 41 loss 0.12498792260885239\n",
      "Epoch 42 loss 0.12387007474899292\n",
      "Epoch 43 loss 0.1228514090180397\n",
      "Epoch 44 loss 0.12196562439203262\n",
      "Epoch 45 loss 0.12125027924776077\n",
      "Epoch 46 loss 0.12070248275995255\n",
      "Epoch 47 loss 0.12026863545179367\n",
      "Epoch 48 loss 0.1198686882853508\n",
      "Epoch 49 loss 0.11943484097719193\n",
      "Epoch 50 loss 0.1189386174082756\n",
      "Epoch 51 loss 0.11841872334480286\n",
      "Epoch 52 loss 0.11796846240758896\n",
      "Epoch 53 loss 0.1176588162779808\n",
      "Epoch 54 loss 0.11739026010036469\n",
      "Epoch 55 loss 0.11712771654129028\n",
      "Epoch 56 loss 0.11683816462755203\n",
      "Epoch 57 loss 0.11649756133556366\n",
      "Epoch 58 loss 0.11604712903499603\n",
      "Epoch 59 loss 0.11558028310537338\n",
      "Epoch 60 loss 0.11513029783964157\n",
      "Epoch 61 loss 0.11468926817178726\n",
      "Epoch 62 loss 0.11427464336156845\n",
      "Epoch 63 loss 0.11387047171592712\n",
      "Epoch 64 loss 0.11342629790306091\n",
      "Epoch 65 loss 0.11292864382266998\n",
      "Epoch 66 loss 0.11282655596733093\n",
      "Epoch 67 loss 0.11280037462711334\n",
      "Epoch 68 loss 0.1127786785364151\n",
      "Epoch 69 loss 0.11273875832557678\n",
      "Epoch 70 loss 0.11266860365867615\n",
      "Epoch 71 loss 0.1125151589512825\n",
      "Epoch 72 loss 0.11227947473526001\n",
      "Epoch 73 loss 0.11205340176820755\n",
      "Epoch 74 loss 0.11187141388654709\n",
      "Epoch 75 loss 0.1117343157529831\n",
      "Epoch 76 loss 0.11160024255514145\n",
      "Epoch 77 loss 0.11142312735319138\n",
      "Epoch 78 loss 0.11123210191726685\n",
      "Epoch 79 loss 0.11112168431282043\n",
      "Epoch 80 loss 0.11103765666484833\n",
      "Epoch 81 loss 0.11100378632545471\n",
      "Epoch 82 loss 0.11097091436386108\n",
      "Epoch 83 loss 0.1108941063284874\n",
      "Epoch 84 loss 0.11077781766653061\n",
      "Epoch 85 loss 0.1106451228260994\n",
      "Epoch 86 loss 0.1105198860168457\n",
      "Epoch 87 loss 0.11041466146707535\n",
      "Epoch 88 loss 0.11032773554325104\n",
      "Epoch 89 loss 0.11022444814443588\n",
      "Epoch 90 loss 0.1101599633693695\n",
      "Epoch 91 loss 0.11011979728937149\n",
      "Epoch 92 loss 0.11007016152143478\n",
      "Epoch 93 loss 0.11001382023096085\n",
      "Epoch 94 loss 0.10994324833154678\n",
      "Epoch 95 loss 0.10985509306192398\n",
      "Epoch 96 loss 0.1097528487443924\n",
      "Epoch 97 loss 0.1097269132733345\n",
      "Epoch 98 loss 0.10969429463148117\n",
      "Epoch 99 loss 0.10964374244213104\n"
     ]
    },
    {
     "data": {
      "text/plain": [
       "[Parameter containing:\n",
       " tensor([[ 1.1845,  0.1708],\n",
       "         [ 1.0688,  0.0491],\n",
       "         [-0.1095,  0.2725],\n",
       "         [-0.4175, -0.7834],\n",
       "         [-0.7833,  0.7674],\n",
       "         [-0.8426, -0.7962],\n",
       "         [-0.1553,  0.6721],\n",
       "         [-0.2452,  0.6762],\n",
       "         [ 0.6899, -0.0326],\n",
       "         [-0.4535, -0.6424]], requires_grad=True),\n",
       " Parameter containing:\n",
       " tensor([ 0.4757,  0.6939, -0.3026,  0.6071,  0.3092, -0.0562,  0.4169,  0.3273,\n",
       "          0.0891,  0.4045], requires_grad=True),\n",
       " Parameter containing:\n",
       " tensor([[ 0.2839,  0.6936,  0.4528, -0.4053,  0.0238, -0.5775,  0.1022,  0.2906,\n",
       "           0.5569, -0.2428],\n",
       "         [-0.0976, -0.1882,  0.0789, -0.3716,  0.0352, -0.2724,  0.1556, -0.2126,\n",
       "           0.2017, -0.2253],\n",
       "         [-0.3919, -0.0543, -0.0109,  0.3189, -0.3510,  0.2400,  0.0653, -0.3234,\n",
       "          -0.3637,  0.4468],\n",
       "         [ 0.1579, -0.2660,  0.0229, -0.0661, -0.2295,  0.1056, -0.3102, -0.1969,\n",
       "           0.2503, -0.3125],\n",
       "         [ 0.1455, -0.1903, -0.0930, -0.0610, -0.1133, -0.1432,  0.1437, -0.3653,\n",
       "           0.0757, -0.3182],\n",
       "         [ 0.2855,  0.6889,  0.0079, -0.3459,  0.5907, -0.1531,  0.4528,  0.1522,\n",
       "           0.5300, -0.0986],\n",
       "         [-0.7527, -0.2890, -0.4007,  0.5112, -0.0651,  0.6377,  0.0239, -0.6405,\n",
       "           0.1083,  0.6355],\n",
       "         [-0.2024, -0.1424,  0.1340,  0.0993,  0.0050,  0.0446, -0.1060,  0.0278,\n",
       "           0.0368,  0.3826],\n",
       "         [ 0.3449,  0.3352,  0.0760, -0.0384,  0.3007, -0.3921,  0.2656,  0.6299,\n",
       "           0.5561, -0.1119],\n",
       "         [ 0.3459,  0.6034,  0.0292,  0.0068,  0.6841, -0.4814,  0.5885,  0.1530,\n",
       "           0.1556, -0.1884]], requires_grad=True),\n",
       " Parameter containing:\n",
       " tensor([ 0.5044, -0.2818,  0.2547,  0.0751, -0.2493,  0.3520,  0.3334,  0.1861,\n",
       "          0.5809,  0.4960], requires_grad=True),\n",
       " Parameter containing:\n",
       " tensor([[-0.6816, -0.0835,  0.3459, -0.0219,  0.1866, -0.4705,  0.7785,  0.0693,\n",
       "          -0.1748, -0.6830],\n",
       "         [ 0.1814,  0.0640, -0.3079, -0.1560,  0.0720,  0.6022, -0.4440, -0.1496,\n",
       "           0.6570,  0.2970]], requires_grad=True),\n",
       " Parameter containing:\n",
       " tensor([0.1722, 0.3699], requires_grad=True)]"
      ]
     },
     "execution_count": 20,
     "metadata": {},
     "output_type": "execute_result"
    }
   ],
   "source": [
    "epochs = 100\n",
    "for epoch in range(epochs):\n",
    "    optimizer.zero_grad()\n",
    "    Ypred = model(Xtrain_)\n",
    "    loss = loss_fn(Ypred,  ytrain_)\n",
    "    loss.backward()\n",
    "    optimizer.step()\n",
    "    print('Epoch',epoch, 'loss',loss.item())\n",
    "\n",
    "list(model.parameters())"
   ]
  },
  {
   "cell_type": "markdown",
   "id": "bfd38ce0",
   "metadata": {},
   "source": [
    "## Predict using Pytorch Models"
   ]
  },
  {
   "cell_type": "code",
   "execution_count": 21,
   "id": "909d81fe",
   "metadata": {},
   "outputs": [
    {
     "data": {
      "text/plain": [
       "tensor([[-0.2650, -1.7622]])"
      ]
     },
     "execution_count": 21,
     "metadata": {},
     "output_type": "execute_result"
    }
   ],
   "source": [
    "torch.from_numpy(sc.transform(np.array([[40,20000]]))).float()"
   ]
  },
  {
   "cell_type": "code",
   "execution_count": 22,
   "id": "7c86f9a2",
   "metadata": {},
   "outputs": [
    {
     "data": {
      "text/plain": [
       "tensor([[-4.1995e-03, -5.4749e+00]], grad_fn=<LogSoftmaxBackward0>)"
      ]
     },
     "execution_count": 22,
     "metadata": {},
     "output_type": "execute_result"
    }
   ],
   "source": [
    "y_cust_20_40000 = model(torch.from_numpy(sc.transform(np.array([[40,20000]]))).float())\n",
    "y_cust_20_40000"
   ]
  },
  {
   "cell_type": "code",
   "execution_count": 24,
   "id": "52465f54",
   "metadata": {},
   "outputs": [
    {
     "data": {
      "text/plain": [
       "tensor([0])"
      ]
     },
     "execution_count": 24,
     "metadata": {},
     "output_type": "execute_result"
    }
   ],
   "source": [
    "_, predicted_20_40000 = torch.max(y_cust_20_40000.data,-1)\n",
    "predicted_20_40000"
   ]
  },
  {
   "cell_type": "code",
   "execution_count": 25,
   "id": "b41be1c0",
   "metadata": {},
   "outputs": [
    {
     "data": {
      "text/plain": [
       "tensor([[-1.0337, -0.4396]], grad_fn=<LogSoftmaxBackward0>)"
      ]
     },
     "execution_count": 25,
     "metadata": {},
     "output_type": "execute_result"
    }
   ],
   "source": [
    "y_cust_42_50000 = model(torch.from_numpy(sc.transform(np.array([[42,50000]]))).float())\n",
    "y_cust_42_50000"
   ]
  },
  {
   "cell_type": "code",
   "execution_count": 26,
   "id": "fe3469dc",
   "metadata": {},
   "outputs": [
    {
     "data": {
      "text/plain": [
       "tensor([1])"
      ]
     },
     "execution_count": 26,
     "metadata": {},
     "output_type": "execute_result"
    }
   ],
   "source": [
    "_, predicted_42_50000 = torch.max(y_cust_42_50000.data,-1)\n",
    "predicted_42_50000"
   ]
  },
  {
   "cell_type": "markdown",
   "id": "1ee7898e",
   "metadata": {},
   "source": [
    "## Save the model file"
   ]
  },
  {
   "cell_type": "code",
   "execution_count": 30,
   "id": "0d750778",
   "metadata": {},
   "outputs": [],
   "source": [
    "torch.save(model, 'customer_buy.pt')"
   ]
  },
  {
   "cell_type": "code",
   "execution_count": 31,
   "id": "e3474ab6",
   "metadata": {},
   "outputs": [
    {
     "name": "stdout",
     "output_type": "stream",
     "text": [
      "'Building_&_Deploy_Pytorch.ipynb'   customer_buy_state_dict\r\n",
      " customer_buy.pt\t\t    data\r\n"
     ]
    }
   ],
   "source": [
    "!ls"
   ]
  },
  {
   "cell_type": "code",
   "execution_count": 32,
   "id": "3893434d",
   "metadata": {},
   "outputs": [],
   "source": [
    "# Load the model\n",
    "restored_model = torch.load('customer_buy.pt')"
   ]
  },
  {
   "cell_type": "code",
   "execution_count": 33,
   "id": "25dbed16",
   "metadata": {},
   "outputs": [
    {
     "data": {
      "text/plain": [
       "tensor([[-1.0337, -0.4396]], grad_fn=<LogSoftmaxBackward0>)"
      ]
     },
     "execution_count": 33,
     "metadata": {},
     "output_type": "execute_result"
    }
   ],
   "source": [
    "# Predict from loaded model\n",
    "y_cust_42_50000 = restored_model(torch.from_numpy(sc.transform(np.array([[42,50000]]))).float())\n",
    "y_cust_42_50000"
   ]
  },
  {
   "cell_type": "code",
   "execution_count": 34,
   "id": "607d18c6",
   "metadata": {},
   "outputs": [
    {
     "data": {
      "text/plain": [
       "tensor([1])"
      ]
     },
     "execution_count": 34,
     "metadata": {},
     "output_type": "execute_result"
    }
   ],
   "source": [
    "_, predicted_42_50000 = torch.max(y_cust_42_50000.data,-1)\n",
    "predicted_42_50000"
   ]
  },
  {
   "cell_type": "markdown",
   "id": "1d31f12d",
   "metadata": {},
   "source": [
    "## Recommended way of saving the model "
   ]
  },
  {
   "cell_type": "code",
   "execution_count": 27,
   "id": "1e843e83",
   "metadata": {},
   "outputs": [],
   "source": [
    "# Save the torch model file\n",
    "torch.save(model.state_dict(),'customer_buy_state_dict')"
   ]
  },
  {
   "cell_type": "markdown",
   "id": "4302c367",
   "metadata": {},
   "source": [
    "## Use pytorch dictionary"
   ]
  },
  {
   "cell_type": "code",
   "execution_count": 35,
   "id": "0e6dcb4b",
   "metadata": {},
   "outputs": [],
   "source": [
    "input_size=2\n",
    "output_size=2\n",
    "hidden_size=10"
   ]
  },
  {
   "cell_type": "code",
   "execution_count": 36,
   "id": "d338d1fb",
   "metadata": {},
   "outputs": [],
   "source": [
    "class Net(nn.Module):\n",
    "    def __init__(self):\n",
    "        super(Net, self).__init__()\n",
    "        self.fc1 = torch.nn.Linear(input_size, hidden_size)\n",
    "        self.fc2 = torch.nn.Linear(hidden_size, hidden_size)\n",
    "        self.fc3 = torch.nn.Linear(hidden_size, output_size)\n",
    "\n",
    "\n",
    "    def forward(self, X):\n",
    "        X = torch.relu((self.fc1(X)))\n",
    "        X = torch.relu((self.fc2(X)))\n",
    "        X = self.fc3(X)\n",
    "\n",
    "        return F.log_softmax(X,dim=1)"
   ]
  },
  {
   "cell_type": "code",
   "execution_count": 37,
   "id": "fc5cd09e",
   "metadata": {},
   "outputs": [],
   "source": [
    "new_predictor = Net()"
   ]
  },
  {
   "cell_type": "code",
   "execution_count": 38,
   "id": "36a8604c",
   "metadata": {},
   "outputs": [
    {
     "data": {
      "text/plain": [
       "<All keys matched successfully>"
      ]
     },
     "execution_count": 38,
     "metadata": {},
     "output_type": "execute_result"
    }
   ],
   "source": [
    "new_predictor.load_state_dict(torch.load('customer_buy_state_dict'))"
   ]
  },
  {
   "cell_type": "code",
   "execution_count": 39,
   "id": "4b8f5b2c",
   "metadata": {},
   "outputs": [
    {
     "data": {
      "text/plain": [
       "tensor([[-1.0337, -0.4396]], grad_fn=<LogSoftmaxBackward0>)"
      ]
     },
     "execution_count": 39,
     "metadata": {},
     "output_type": "execute_result"
    }
   ],
   "source": [
    "# Predict from loaded model\n",
    "y_cust_42_50000 = new_predictor(torch.from_numpy(sc.transform(np.array([[42,50000]]))).float())\n",
    "y_cust_42_50000"
   ]
  },
  {
   "cell_type": "code",
   "execution_count": 40,
   "id": "2c4eb411",
   "metadata": {},
   "outputs": [
    {
     "data": {
      "text/plain": [
       "tensor([1])"
      ]
     },
     "execution_count": 40,
     "metadata": {},
     "output_type": "execute_result"
    }
   ],
   "source": [
    "_, predicted_42_50000 = torch.max(y_cust_42_50000.data,-1)\n",
    "predicted_42_50000"
   ]
  },
  {
   "cell_type": "code",
   "execution_count": null,
   "id": "eed65cc6",
   "metadata": {},
   "outputs": [],
   "source": []
  }
 ],
 "metadata": {
  "kernelspec": {
   "display_name": "Python 3",
   "language": "python",
   "name": "python3"
  },
  "language_info": {
   "codemirror_mode": {
    "name": "ipython",
    "version": 3
   },
   "file_extension": ".py",
   "mimetype": "text/x-python",
   "name": "python",
   "nbconvert_exporter": "python",
   "pygments_lexer": "ipython3",
   "version": "3.10.6 (main, Nov 14 2022, 16:10:14) [GCC 11.3.0]"
  },
  "vscode": {
   "interpreter": {
    "hash": "916dbcbb3f70747c44a77c7bcd40155683ae19c65e1c03b4aa3499c5328201f1"
   }
  }
 },
 "nbformat": 4,
 "nbformat_minor": 5
}
