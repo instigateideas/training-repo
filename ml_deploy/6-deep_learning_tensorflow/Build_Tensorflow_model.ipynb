{
 "cells": [
  {
   "cell_type": "code",
   "execution_count": 1,
   "id": "00602131",
   "metadata": {},
   "outputs": [],
   "source": [
    "import pandas as pd\n",
    "import numpy as np\n",
    "import tensorflow as tf"
   ]
  },
  {
   "cell_type": "markdown",
   "id": "2b077c84",
   "metadata": {},
   "source": [
    "### Set the environment variable to suppress the warning from tensoflow\n",
    "```bash\n",
    "export TF_CPP_MIN_LOG_LEVEL=\"2\"\n",
    "```"
   ]
  },
  {
   "cell_type": "code",
   "execution_count": 2,
   "id": "8b78bdb9",
   "metadata": {},
   "outputs": [],
   "source": [
    "dataset = pd.read_csv(\"./data/storepurchasedata_large.csv\")"
   ]
  },
  {
   "cell_type": "code",
   "execution_count": 3,
   "id": "d5723707",
   "metadata": {},
   "outputs": [
    {
     "data": {
      "text/plain": [
       "(1554, 3)"
      ]
     },
     "execution_count": 3,
     "metadata": {},
     "output_type": "execute_result"
    }
   ],
   "source": [
    "dataset.shape"
   ]
  },
  {
   "cell_type": "code",
   "execution_count": 4,
   "id": "3712de29",
   "metadata": {},
   "outputs": [
    {
     "data": {
      "text/html": [
       "<div>\n",
       "<style scoped>\n",
       "    .dataframe tbody tr th:only-of-type {\n",
       "        vertical-align: middle;\n",
       "    }\n",
       "\n",
       "    .dataframe tbody tr th {\n",
       "        vertical-align: top;\n",
       "    }\n",
       "\n",
       "    .dataframe thead th {\n",
       "        text-align: right;\n",
       "    }\n",
       "</style>\n",
       "<table border=\"1\" class=\"dataframe\">\n",
       "  <thead>\n",
       "    <tr style=\"text-align: right;\">\n",
       "      <th></th>\n",
       "      <th>Age</th>\n",
       "      <th>Salary</th>\n",
       "      <th>Purchased</th>\n",
       "    </tr>\n",
       "  </thead>\n",
       "  <tbody>\n",
       "    <tr>\n",
       "      <th>0</th>\n",
       "      <td>18</td>\n",
       "      <td>20000</td>\n",
       "      <td>0</td>\n",
       "    </tr>\n",
       "    <tr>\n",
       "      <th>1</th>\n",
       "      <td>19</td>\n",
       "      <td>22000</td>\n",
       "      <td>0</td>\n",
       "    </tr>\n",
       "    <tr>\n",
       "      <th>2</th>\n",
       "      <td>20</td>\n",
       "      <td>24000</td>\n",
       "      <td>0</td>\n",
       "    </tr>\n",
       "    <tr>\n",
       "      <th>3</th>\n",
       "      <td>21</td>\n",
       "      <td>28000</td>\n",
       "      <td>0</td>\n",
       "    </tr>\n",
       "    <tr>\n",
       "      <th>4</th>\n",
       "      <td>22</td>\n",
       "      <td>60000</td>\n",
       "      <td>1</td>\n",
       "    </tr>\n",
       "  </tbody>\n",
       "</table>\n",
       "</div>"
      ],
      "text/plain": [
       "   Age  Salary  Purchased\n",
       "0   18   20000          0\n",
       "1   19   22000          0\n",
       "2   20   24000          0\n",
       "3   21   28000          0\n",
       "4   22   60000          1"
      ]
     },
     "execution_count": 4,
     "metadata": {},
     "output_type": "execute_result"
    }
   ],
   "source": [
    "dataset.head()"
   ]
  },
  {
   "cell_type": "code",
   "execution_count": 5,
   "id": "1af02ebc",
   "metadata": {},
   "outputs": [],
   "source": [
    "# Get the IDV and DV in X and y variables\n",
    "X = dataset.iloc[:, :-1].values\n",
    "y = dataset.iloc[:,-1].values"
   ]
  },
  {
   "cell_type": "code",
   "execution_count": 6,
   "id": "689b0348",
   "metadata": {},
   "outputs": [],
   "source": [
    "# Split the data to train & test split\n",
    "from sklearn.model_selection import train_test_split\n",
    "X_train, X_test, y_train, y_test = train_test_split(X, y, test_size =.20,random_state=0)"
   ]
  },
  {
   "cell_type": "code",
   "execution_count": 7,
   "id": "94d3b108",
   "metadata": {},
   "outputs": [],
   "source": [
    "# Standard scaling the data\n",
    "from sklearn.preprocessing import StandardScaler\n",
    "sc = StandardScaler()\n",
    "X_train = sc.fit_transform(X_train)\n",
    "X_test = sc.transform(X_test)"
   ]
  },
  {
   "cell_type": "code",
   "execution_count": 8,
   "id": "92bf7e35",
   "metadata": {},
   "outputs": [
    {
     "data": {
      "text/plain": [
       "array([[-0.09347628,  0.22152545],\n",
       "       [ 1.22167788, -0.53416893],\n",
       "       [-1.06554674,  0.41044905],\n",
       "       ...,\n",
       "       [ 1.2788585 ,  0.41044905],\n",
       "       [-0.95118551,  0.22152545],\n",
       "       [-1.2942692 , -1.431556  ]])"
      ]
     },
     "execution_count": 8,
     "metadata": {},
     "output_type": "execute_result"
    }
   ],
   "source": [
    "X_train"
   ]
  },
  {
   "cell_type": "code",
   "execution_count": 9,
   "id": "4fa0b6f4",
   "metadata": {},
   "outputs": [],
   "source": [
    "# Build the tensorflow model\n",
    "model = tf.keras.models.Sequential([\n",
    "    tf.keras.layers.Dense(10, activation='relu'),\n",
    "    tf.keras.layers.Dense(10, activation='relu'),\n",
    "    tf.keras.layers.Dense(2, activation='softmax')\n",
    "])"
   ]
  },
  {
   "cell_type": "code",
   "execution_count": 10,
   "id": "6c90a2e1",
   "metadata": {},
   "outputs": [],
   "source": [
    "# compile the model \n",
    "model.compile(optimizer='adam',\n",
    "            loss='sparse_categorical_crossentropy',\n",
    "            metrics=['accuracy'])"
   ]
  },
  {
   "cell_type": "code",
   "execution_count": 11,
   "id": "93128096",
   "metadata": {},
   "outputs": [
    {
     "name": "stdout",
     "output_type": "stream",
     "text": [
      "Epoch 1/50\n",
      "39/39 [==============================] - 0s 740us/step - loss: 0.7176 - accuracy: 0.4730\n",
      "Epoch 2/50\n",
      "39/39 [==============================] - 0s 712us/step - loss: 0.5344 - accuracy: 0.7007\n",
      "Epoch 3/50\n",
      "39/39 [==============================] - 0s 744us/step - loss: 0.4431 - accuracy: 0.7506\n",
      "Epoch 4/50\n",
      "39/39 [==============================] - 0s 663us/step - loss: 0.3851 - accuracy: 0.8375\n",
      "Epoch 5/50\n",
      "39/39 [==============================] - 0s 787us/step - loss: 0.3357 - accuracy: 0.8866\n",
      "Epoch 6/50\n",
      "39/39 [==============================] - 0s 784us/step - loss: 0.2867 - accuracy: 0.9477\n",
      "Epoch 7/50\n",
      "39/39 [==============================] - 0s 803us/step - loss: 0.2428 - accuracy: 0.9590\n",
      "Epoch 8/50\n",
      "39/39 [==============================] - 0s 788us/step - loss: 0.2057 - accuracy: 0.9566\n",
      "Epoch 9/50\n",
      "39/39 [==============================] - 0s 669us/step - loss: 0.1778 - accuracy: 0.9558\n",
      "Epoch 10/50\n",
      "39/39 [==============================] - 0s 720us/step - loss: 0.1587 - accuracy: 0.9549\n",
      "Epoch 11/50\n",
      "39/39 [==============================] - 0s 713us/step - loss: 0.1446 - accuracy: 0.9558\n",
      "Epoch 12/50\n",
      "39/39 [==============================] - 0s 666us/step - loss: 0.1337 - accuracy: 0.9541\n",
      "Epoch 13/50\n",
      "39/39 [==============================] - 0s 673us/step - loss: 0.1267 - accuracy: 0.9525\n",
      "Epoch 14/50\n",
      "39/39 [==============================] - 0s 649us/step - loss: 0.1222 - accuracy: 0.9525\n",
      "Epoch 15/50\n",
      "39/39 [==============================] - 0s 795us/step - loss: 0.1195 - accuracy: 0.9525\n",
      "Epoch 16/50\n",
      "39/39 [==============================] - 0s 665us/step - loss: 0.1175 - accuracy: 0.9517\n",
      "Epoch 17/50\n",
      "39/39 [==============================] - 0s 751us/step - loss: 0.1156 - accuracy: 0.9517\n",
      "Epoch 18/50\n",
      "39/39 [==============================] - 0s 712us/step - loss: 0.1150 - accuracy: 0.9533\n",
      "Epoch 19/50\n",
      "39/39 [==============================] - 0s 681us/step - loss: 0.1136 - accuracy: 0.9517\n",
      "Epoch 20/50\n",
      "39/39 [==============================] - 0s 946us/step - loss: 0.1123 - accuracy: 0.9549\n",
      "Epoch 21/50\n",
      "39/39 [==============================] - 0s 664us/step - loss: 0.1117 - accuracy: 0.9525\n",
      "Epoch 22/50\n",
      "39/39 [==============================] - 0s 710us/step - loss: 0.1104 - accuracy: 0.9517\n",
      "Epoch 23/50\n",
      "39/39 [==============================] - 0s 696us/step - loss: 0.1099 - accuracy: 0.9517\n",
      "Epoch 24/50\n",
      "39/39 [==============================] - 0s 669us/step - loss: 0.1092 - accuracy: 0.9533\n",
      "Epoch 25/50\n",
      "39/39 [==============================] - 0s 758us/step - loss: 0.1098 - accuracy: 0.9517\n",
      "Epoch 26/50\n",
      "39/39 [==============================] - 0s 703us/step - loss: 0.1090 - accuracy: 0.9525\n",
      "Epoch 27/50\n",
      "39/39 [==============================] - 0s 686us/step - loss: 0.1081 - accuracy: 0.9525\n",
      "Epoch 28/50\n",
      "39/39 [==============================] - 0s 647us/step - loss: 0.1080 - accuracy: 0.9517\n",
      "Epoch 29/50\n",
      "39/39 [==============================] - 0s 657us/step - loss: 0.1077 - accuracy: 0.9517\n",
      "Epoch 30/50\n",
      "39/39 [==============================] - 0s 698us/step - loss: 0.1075 - accuracy: 0.9517\n",
      "Epoch 31/50\n",
      "39/39 [==============================] - 0s 643us/step - loss: 0.1074 - accuracy: 0.9517\n",
      "Epoch 32/50\n",
      "39/39 [==============================] - 0s 746us/step - loss: 0.1074 - accuracy: 0.9517\n",
      "Epoch 33/50\n",
      "39/39 [==============================] - 0s 673us/step - loss: 0.1074 - accuracy: 0.9525\n",
      "Epoch 34/50\n",
      "39/39 [==============================] - 0s 705us/step - loss: 0.1069 - accuracy: 0.9517\n",
      "Epoch 35/50\n",
      "39/39 [==============================] - 0s 636us/step - loss: 0.1072 - accuracy: 0.9517\n",
      "Epoch 36/50\n",
      "39/39 [==============================] - 0s 714us/step - loss: 0.1067 - accuracy: 0.9517\n",
      "Epoch 37/50\n",
      "39/39 [==============================] - 0s 781us/step - loss: 0.1066 - accuracy: 0.9517\n",
      "Epoch 38/50\n",
      "39/39 [==============================] - 0s 759us/step - loss: 0.1066 - accuracy: 0.9517\n",
      "Epoch 39/50\n",
      "39/39 [==============================] - 0s 727us/step - loss: 0.1066 - accuracy: 0.9517\n",
      "Epoch 40/50\n",
      "39/39 [==============================] - 0s 761us/step - loss: 0.1064 - accuracy: 0.9517\n",
      "Epoch 41/50\n",
      "39/39 [==============================] - 0s 866us/step - loss: 0.1059 - accuracy: 0.9517\n",
      "Epoch 42/50\n",
      "39/39 [==============================] - 0s 784us/step - loss: 0.1066 - accuracy: 0.9525\n",
      "Epoch 43/50\n",
      "39/39 [==============================] - 0s 660us/step - loss: 0.1057 - accuracy: 0.9517\n",
      "Epoch 44/50\n",
      "39/39 [==============================] - 0s 645us/step - loss: 0.1058 - accuracy: 0.9517\n",
      "Epoch 45/50\n",
      "39/39 [==============================] - 0s 694us/step - loss: 0.1060 - accuracy: 0.9517\n",
      "Epoch 46/50\n",
      "39/39 [==============================] - 0s 682us/step - loss: 0.1056 - accuracy: 0.9517\n",
      "Epoch 47/50\n",
      "39/39 [==============================] - 0s 812us/step - loss: 0.1054 - accuracy: 0.9517\n",
      "Epoch 48/50\n",
      "39/39 [==============================] - 0s 720us/step - loss: 0.1053 - accuracy: 0.9517\n",
      "Epoch 49/50\n",
      "39/39 [==============================] - 0s 760us/step - loss: 0.1057 - accuracy: 0.9525\n",
      "Epoch 50/50\n",
      "39/39 [==============================] - 0s 962us/step - loss: 0.1051 - accuracy: 0.9517\n"
     ]
    },
    {
     "data": {
      "text/plain": [
       "<keras.callbacks.History at 0x7f8f93823640>"
      ]
     },
     "execution_count": 11,
     "metadata": {},
     "output_type": "execute_result"
    }
   ],
   "source": [
    "model.fit(X_train, y_train, epochs=50)"
   ]
  },
  {
   "cell_type": "code",
   "execution_count": 14,
   "id": "d731c203",
   "metadata": {},
   "outputs": [
    {
     "name": "stdout",
     "output_type": "stream",
     "text": [
      "10/10 [==============================] - 0s 659us/step - loss: 0.1041 - accuracy: 0.9550\n"
     ]
    }
   ],
   "source": [
    "loss, accuracy = model.evaluate(X_test, y_test)"
   ]
  },
  {
   "cell_type": "code",
   "execution_count": 15,
   "id": "2f323bb2",
   "metadata": {},
   "outputs": [
    {
     "name": "stdout",
     "output_type": "stream",
     "text": [
      "Model: \"sequential\"\n",
      "_________________________________________________________________\n",
      " Layer (type)                Output Shape              Param #   \n",
      "=================================================================\n",
      " dense (Dense)               (None, 10)                30        \n",
      "                                                                 \n",
      " dense_1 (Dense)             (None, 10)                110       \n",
      "                                                                 \n",
      " dense_2 (Dense)             (None, 2)                 22        \n",
      "                                                                 \n",
      "=================================================================\n",
      "Total params: 162\n",
      "Trainable params: 162\n",
      "Non-trainable params: 0\n",
      "_________________________________________________________________\n"
     ]
    }
   ],
   "source": [
    "model.summary()"
   ]
  },
  {
   "cell_type": "code",
   "execution_count": 16,
   "id": "c023ade5",
   "metadata": {},
   "outputs": [
    {
     "name": "stdout",
     "output_type": "stream",
     "text": [
      "1/1 [==============================] - 0s 44ms/step\n"
     ]
    },
    {
     "data": {
      "text/plain": [
       "array([0.6596004], dtype=float32)"
      ]
     },
     "execution_count": 16,
     "metadata": {},
     "output_type": "execute_result"
    }
   ],
   "source": [
    "prediction1 = model.predict(sc.transform(np.array([[42, 50000]])))[:,1]\n",
    "prediction1"
   ]
  },
  {
   "cell_type": "code",
   "execution_count": 17,
   "id": "36ad974b",
   "metadata": {},
   "outputs": [
    {
     "name": "stdout",
     "output_type": "stream",
     "text": [
      "1/1 [==============================] - 0s 14ms/step\n"
     ]
    },
    {
     "data": {
      "text/plain": [
       "array([0.00894171], dtype=float32)"
      ]
     },
     "execution_count": 17,
     "metadata": {},
     "output_type": "execute_result"
    }
   ],
   "source": [
    "prediction2 = model.predict(sc.transform(np.array([[20, 40000]])))[:,1]\n",
    "prediction2"
   ]
  },
  {
   "cell_type": "code",
   "execution_count": 18,
   "id": "2cd29f40",
   "metadata": {},
   "outputs": [
    {
     "name": "stderr",
     "output_type": "stream",
     "text": [
      "WARNING:absl:Found untraced functions such as _update_step_xla while saving (showing 1 of 1). These functions will not be directly callable after loading.\n"
     ]
    },
    {
     "name": "stdout",
     "output_type": "stream",
     "text": [
      "INFO:tensorflow:Assets written to: consumer_behavior_model/1/assets\n"
     ]
    },
    {
     "name": "stderr",
     "output_type": "stream",
     "text": [
      "INFO:tensorflow:Assets written to: consumer_behavior_model/1/assets\n"
     ]
    }
   ],
   "source": [
    "model.save('consumer_behavior_model/1')"
   ]
  },
  {
   "cell_type": "code",
   "execution_count": 19,
   "id": "5682e481",
   "metadata": {},
   "outputs": [
    {
     "name": "stdout",
     "output_type": "stream",
     "text": [
      "Build_Tensorflow_model.ipynb  consumer_behavior_model  sc.pickle\r\n",
      "client-code.py\t\t      data\t\t       server-code.py\r\n"
     ]
    }
   ],
   "source": [
    "!ls"
   ]
  },
  {
   "cell_type": "code",
   "execution_count": 21,
   "id": "d9ede7e2",
   "metadata": {},
   "outputs": [
    {
     "name": "stdout",
     "output_type": "stream",
     "text": [
      "assets\tfingerprint.pb\tkeras_metadata.pb  saved_model.pb  variables\r\n"
     ]
    }
   ],
   "source": [
    "# variable - weights & checkpoints are saved\n",
    "# saved_model.pb - protoblob format the model file is saved\n",
    "!ls consumer_behavior_model/1"
   ]
  },
  {
   "cell_type": "markdown",
   "id": "67bc4af6",
   "metadata": {},
   "source": [
    " ## Loading the saved model file"
   ]
  },
  {
   "cell_type": "code",
   "execution_count": 22,
   "id": "2cc04d8c",
   "metadata": {},
   "outputs": [],
   "source": [
    "from tensorflow.keras.models import load_model"
   ]
  },
  {
   "cell_type": "code",
   "execution_count": 23,
   "id": "69a123f7",
   "metadata": {},
   "outputs": [],
   "source": [
    "cust_model = load_model('consumer_behavior_model/1/')"
   ]
  },
  {
   "cell_type": "code",
   "execution_count": 25,
   "id": "93075e0a",
   "metadata": {},
   "outputs": [
    {
     "name": "stdout",
     "output_type": "stream",
     "text": [
      "1/1 [==============================] - 0s 11ms/step\n"
     ]
    }
   ],
   "source": [
    "prediction  = cust_model.predict(sc.transform(np.array([[20, 40000]])))[:,1]"
   ]
  },
  {
   "cell_type": "code",
   "execution_count": 26,
   "id": "7403ff6f",
   "metadata": {},
   "outputs": [
    {
     "data": {
      "text/plain": [
       "array([0.00814757], dtype=float32)"
      ]
     },
     "execution_count": 26,
     "metadata": {},
     "output_type": "execute_result"
    }
   ],
   "source": [
    "prediction"
   ]
  },
  {
   "cell_type": "code",
   "execution_count": null,
   "id": "a27e905a",
   "metadata": {},
   "outputs": [],
   "source": []
  }
 ],
 "metadata": {
  "kernelspec": {
   "display_name": "Python 3 (ipykernel)",
   "language": "python",
   "name": "python3"
  },
  "language_info": {
   "codemirror_mode": {
    "name": "ipython",
    "version": 3
   },
   "file_extension": ".py",
   "mimetype": "text/x-python",
   "name": "python",
   "nbconvert_exporter": "python",
   "pygments_lexer": "ipython3",
   "version": "3.10.6"
  }
 },
 "nbformat": 4,
 "nbformat_minor": 5
}
