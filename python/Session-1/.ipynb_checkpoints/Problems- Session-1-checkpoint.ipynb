{
 "cells": [
  {
   "cell_type": "markdown",
   "id": "91a2705b",
   "metadata": {},
   "source": [
    "### Number Guessing game\n",
    "You have only three choice to guess a number between 1-10. if it is guessed number right within 3 times you won else you lose. Tip use while loop"
   ]
  },
  {
   "cell_type": "code",
   "execution_count": null,
   "id": "9b3b8f28",
   "metadata": {},
   "outputs": [],
   "source": [
    "guess_count = 1\n",
    "guess_limit = 3\n",
    "secret_number = 9\n",
    "while guess_count <= guess_limit:\n",
    "    guessed_num = int(input(\"Guess a number: \"))\n",
    "    if guessed_num == secret_number:\n",
    "        print(\"You won..!!!\")\n",
    "        break\n",
    "    if guess_count == guess_limit:\n",
    "        print(\"Sorry, You Lost..!!\")\n",
    "\n",
    "    guess_count = guess_count + 1"
   ]
  },
  {
   "cell_type": "markdown",
   "id": "9af55919",
   "metadata": {},
   "source": [
    "### Get the City\n",
    "\n",
    "Create a list of states in india and their respective cities. Now create a function which will check and tell us whether the respective city is in which state. <br />\n",
    "\n",
    "1. Get the name of the city from the users\n",
    "2. use dictionary to save the city and corresponding state eg. shown below\n",
    "3. Handle the if some cities are not available using the get method in dictionary\n",
    "\n",
    "a = {\"Trichy\": \"Tamil Nadu\", \"Coimbatore\": \"Tamil Nadu\", \"Wayanad\": \"Kerala\", \"Kochi\": \"Kerala\", \"Chennai\": \"Tamil Nadu\"}"
   ]
  },
  {
   "cell_type": "code",
   "execution_count": null,
   "id": "675e6c75",
   "metadata": {},
   "outputs": [],
   "source": [
    "a = {\"Trichy\": \"Tamil Nadu\", \"Coimbatore\": \"Tamil Nadu\", \"Wayanad\": \"Kerala\", \"Kochi\": \"Kerala\",\n",
    "     \"Chennai\": \"Tamil Nadu\"}\n",
    "\n",
    "city = input(\"Enter the city name: \")\n",
    "state = a.get(city, \"not found\")\n",
    "print(f\"City {city} is in {state}\")"
   ]
  },
  {
   "cell_type": "markdown",
   "id": "d3ad442b",
   "metadata": {},
   "source": [
    "### Challenge shapes:\n",
    "Using the list of numbers. Draw the shape of 'F' as shown below. (Tip: use nested for loop)\n",
    "\n",
    "<img src=\"fshape.png\" alt=\"f-shaped\" style=\"text-align:left\">"
   ]
  },
  {
   "cell_type": "code",
   "execution_count": 5,
   "id": "cb266bf0",
   "metadata": {},
   "outputs": [
    {
     "name": "stdout",
     "output_type": "stream",
     "text": [
      "*****\n",
      "**\n",
      "*****\n",
      "**\n",
      "**\n"
     ]
    }
   ],
   "source": [
    "i = [5, 2, 5, 2, 2]\n",
    "for x in i:\n",
    "    print(\"*\"*x)"
   ]
  },
  {
   "cell_type": "markdown",
   "id": "67497015",
   "metadata": {},
   "source": [
    "### Use while loop to add records\n",
    "Create a program which will help the Librarian to add data of the book and save it to dictionary and print list of boooks."
   ]
  },
  {
   "cell_type": "code",
   "execution_count": null,
   "id": "4a3c65dd",
   "metadata": {},
   "outputs": [],
   "source": [
    "# use while loop to add records\n",
    "i = 1\n",
    "num_records = input(\"Enter the number of records to save: \")\n",
    "data = []\n",
    "while i <= int(num_records):\n",
    "    new_record = {}\n",
    "    new_record[\"name\"] = input(\"Please Enter the name: \")\n",
    "    new_record[\"age\"] = input(\"Enter the age: \")\n",
    "    data.append(new_record)\n",
    "    i = i + 1\n",
    "\n",
    "print(\"\\n\")\n",
    "for record in data:\n",
    "    print(f\"Name of student is {record['name']} and age is {record['age']}\")"
   ]
  },
  {
   "cell_type": "markdown",
   "id": "c4cd91d6",
   "metadata": {},
   "source": [
    "### Write Funtion\n",
    "Write function to do all the calculator operations on two numbers?\n",
    "1. Addition\n",
    "2. Subraction\n",
    "3. Multiplication\n",
    "4. Division"
   ]
  },
  {
   "cell_type": "code",
   "execution_count": null,
   "id": "e6aa785d",
   "metadata": {},
   "outputs": [],
   "source": [
    "# Addtion, Subraction, Multiplication & Division\n",
    "def add(a, b):\n",
    "    print(\"ADDING %d + %d\" % (a, b))\n",
    "    return a + b\n",
    "\n",
    "def subtract(a, b):\n",
    "    print(\"SUBTRACTING %d - %d\" % (a, b))\n",
    "    return a - b\n",
    "\n",
    "def multiply(a, b):\n",
    "    print(\"MULTIPLYING %d * %d\" % (a, b))\n",
    "    return a * b\n",
    "\n",
    "def divide(a, b):\n",
    "    print(\"DIVIDING %d / %d\" % (a, b))\n",
    "    return a / b\n",
    "\n",
    "print(\"Let's do some math with just functions!\")\n",
    "age = add(30, 5)\n",
    "height = subtract(78, 4)\n",
    "weight = multiply(90, 2)\n",
    "iq = divide(100, 2)"
   ]
  }
 ],
 "metadata": {
  "kernelspec": {
   "display_name": "Python 3 (ipykernel)",
   "language": "python",
   "name": "python3"
  },
  "language_info": {
   "codemirror_mode": {
    "name": "ipython",
    "version": 3
   },
   "file_extension": ".py",
   "mimetype": "text/x-python",
   "name": "python",
   "nbconvert_exporter": "python",
   "pygments_lexer": "ipython3",
   "version": "3.10.6"
  }
 },
 "nbformat": 4,
 "nbformat_minor": 5
}
