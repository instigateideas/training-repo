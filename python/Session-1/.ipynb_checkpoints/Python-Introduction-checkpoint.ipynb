{
 "cells": [
  {
   "cell_type": "markdown",
   "id": "20a8b004",
   "metadata": {},
   "source": [
    "## Welcome to the Python Training"
   ]
  },
  {
   "cell_type": "markdown",
   "id": "675d9108",
   "metadata": {},
   "source": [
    "### Why to learn Python?\n",
    "- Most popular language according to stackoverflow\n",
    "- various applications webdevelopment- API, data science, data analysis & game development\n",
    "- Less lines of code \n",
    "- Easy with very simple syntax for the beginners"
   ]
  },
  {
   "cell_type": "markdown",
   "id": "f9ac9d9e",
   "metadata": {},
   "source": [
    "### Python Domains\n",
    "- Data Analyst/ Data Scientist\n",
    "- Software Engineer\n",
    "- Software Developer\n",
    "- Devops Engineer\n",
    "- Web Developer\n",
    "- Security Analyst\n",
    "- Business Analyst\n",
    "- Network Engineer"
   ]
  },
  {
   "cell_type": "markdown",
   "id": "4760f8ef",
   "metadata": {},
   "source": [
    "## Setup Python\n",
    "\n",
    "Install python 3.8.10 <br />\n",
    "\n",
    "Download the .exe file for the windows installation <br />\n",
    "[Download Here](https://www.python.org/downloads/release/python-3810/)\n",
    "\n",
    "Install VS Code <br />\n",
    "[Download Here](https://code.visualstudio.com/download)\n",
    "\n",
    "What is PIP? <br />\n",
    "PIP is the package manager for python packages or modules\n",
    "\n",
    "What is Package? <br />\n",
    "A package contains all the files you need for a module. Modules are python code libraries you can include in your project."
   ]
  },
  {
   "cell_type": "markdown",
   "id": "41c0edbf",
   "metadata": {},
   "source": [
    "## Create a Virtual Environment\n",
    "\n",
    "#### Purpose of creating environment\n",
    "A virtual environment is a tool that helps to keeps dependencies required by different project seperate by creating isolated python virtual environment for them.\n",
    "\n",
    "```bash\n",
    "pip3 install virtualenv\n",
    "```\n",
    "\n",
    "#### Specific python virtual environment (Linux)\n",
    "```bash\n",
    "virtualenv -p /home/username/opt/python-3.10.1/bin/python3 venv\n",
    "```\n",
    "\n",
    "#### Delete Virtual Environment\n",
    "Delete the \"venv\" folder"
   ]
  },
  {
   "cell_type": "markdown",
   "id": "d454bb3f",
   "metadata": {},
   "source": [
    "## Install Packages\n",
    "\n",
    "#### List Packages\n",
    "```bash\n",
    "pip3 list\n",
    "```\n"
   ]
  },
  {
   "cell_type": "code",
   "execution_count": 18,
   "id": "cdef1501",
   "metadata": {},
   "outputs": [],
   "source": [
    "a, b, c = (10, 20, 30)"
   ]
  },
  {
   "cell_type": "markdown",
   "id": "f3326e84",
   "metadata": {},
   "source": [
    "### Python Datatypes <br />\n",
    "\n",
    "Data type is what type of data that we are using during programming.\n",
    "\n",
    "1. variables & constant <br />\n",
    "    1.1 Data has to be stored to the memory of the computer. <br />\n",
    "    1.2 So storing the data we have variables in programming. <br />\n",
    "2. My First Program <br />\n",
    "    2.1 Use the python interpretor teach about variables <br />\n",
    "    2.2.Use VS Code and write a first hello world program & execute <br />\n",
    "    2.3 Teach declare variable in py code and print & variable overloading (int & float example) <br />\n",
    "3. Rules for Python variables <br />\n",
    "    3.1 A variable name must start with a letter or the underscore character <br />\n",
    "    3.2 A variable name cannot start with a number <br />\n",
    "    3.3.A variable name can only contain alpha-numeric characters and underscores (A-z, 0-9, and _ ) <br />\n",
    "    3.4 Variable names are case-sensitive (age, Age and AGE are three different variables)<br />\n",
    "4. Example what you will store <br />\n",
    "    4.1 John is a patient. he is 20 yrs old. He is having an headache. he is a new patient? <br />\n",
    "    4.2 Librarian wanted to store the books data what are the variables you will save? <br />\n",
    "    4.3 Car service station wanted to store data what are the variables you will save? <br />\n",
    "    4.4 Hotel wanted to save the menu of items what are the variable you will save? <br />\n",
    "5. Use of the input function <br />\n",
    "    5.1 Input function and concat the string name (\"Hello Raju\") <br />\n",
    "    5.2 Question: Get the person name and fav colour and print \"{name} like {fav_col}\" <br />\n",
    "6. Type Conversion <br />\n",
    "    6.1 Input function ==> \"Birth_year\" and calculate the age? [age = curr_yr - birth_year] First error <br />\n",
    "    6.2 Learn type(), int(), float() <br />\n",
    "    6.3 Get the name and weight (kg) from the user and convert and print in pounds (1kg = 2.20 pnds) <br />\n",
    "    6.4 Find the area of the circle rectangle (PI*r^2) = Teach the constant basic<br />\n",
    "7. Strings<br />\n",
    "    7.1 Single quote and double quotes ('Python for \"Beginners\"')<br />\n",
    "    7.2 concat string<br />\n",
    "    7.3 Formatted string<br />\n",
    "    7.4 Multiline String(\\n)<br />\n",
    "    7.4 Write a document and print it as string '''<br />\n",
    "    7.5 Indexing string [0] [-1], range index [0:3], [:]<br />\n",
    "    7.6 what is the output of name = \"jennifer\" => name[1:-1] = ennife<br />\n",
    "    \n",
    "  \n",
    "<br />\n",
    "2. numbers\n",
    "    - x = 5 - int\n",
    "    - x= 11/5 - float\n",
    "    - check the type of numbers\n",
    "3. operations & numbers\n",
    "    - operators + - * / ** ()\n",
    "    - a-z A-Z 0-9\n",
    "4. casting\n",
    "    x = 2\n",
    "    x = float(2)\n",
    "    int(x)\n",
    "this is casting\n",
    "7. indexing and slicing\n",
    "8. string formating\n",
    "    8.1 String Multiplying\n",
    "    8.2 String concat\n",
    "    8.3 string slicing\n",
    "    8.4 string methods\n",
    "9. list\n",
    "10. tuples\n",
    "11. Dictionary\n",
    "    - pop - delete by key\n",
    "    - popitem - deletes the last key\n",
    "12. boolean\n",
    "    2>1\n",
    "    1>2\n",
    "    True/ False"
   ]
  },
  {
   "cell_type": "markdown",
   "id": "3c810862",
   "metadata": {},
   "source": [
    "### Operators\n",
    "1. Arithmetic operators\n",
    "    - +, -, *, / , %, **, //\n",
    "2. Assignment operators (=, +=, -=, *=, /=, %=, **=, //=)\n",
    "3. Comparision operators (==, <=, >=, !=, <, >)\n",
    "4. Logical operators (and , or, not)\n",
    "5. Identity operators (is , is not)\n",
    "    x = 3\n",
    "    - x is 3  ==> True\n",
    "    - x is not 5  ==> True\n",
    "6. Membership operators (in, not in)\n",
    "    x = [1, 2, 3]\n",
    "    - 3 in x ==> True\n",
    "    - 9 not in x ==> True\n",
    "7. Bitwise operators (&, |, ^, ~, <<, >>)\n",
    "8. Augmented Assignment Operator (eg. x+=3)\n",
    "9. Operator Precedence\n",
    "    x = 10+ 3 * 2 ==> 10+6 = 16\n",
    "    1. Paranthesis\n",
    "    2. Exponentiation\n",
    "    3. Multiplication or Division\n",
    "    4. Addition or Subraction\n",
    "    \n",
    "    x = 10+3 *2 **2 = 22 <br />\n",
    "    x = (10+3)*2** 2 = 52 <br />\n",
    "    \n",
    "    what is the solution for this <br />\n",
    "    x = (2+3)*10 - 3 <br />"
   ]
  },
  {
   "cell_type": "markdown",
   "id": "700116fc",
   "metadata": {},
   "source": [
    "### Modules\n",
    "\n",
    "math module- supermarket examples access various things\n",
    "1. math.ceil()\n",
    "2. math.floor()\n",
    "3. math.factorial()\n",
    "\n",
    "[module Doc](https://docs.python.org/3/library/math.html#trigonometric-functions)\n"
   ]
  },
  {
   "cell_type": "markdown",
   "id": "ba7be016",
   "metadata": {},
   "source": [
    "### Conditions\n",
    "if it is hot <br />\n",
    "    -its is a hot day<br />\n",
    "    - Drink plenty of water<br />\n",
    "otherwise if it is cold<br />\n",
    "    - it's a cold day<br />\n",
    "    - wear warm clothes<br />\n",
    "otherwise<br />\n",
    "    - It's a lovely day<br />\n"
   ]
  },
  {
   "cell_type": "code",
   "execution_count": 8,
   "id": "aea5b11e",
   "metadata": {},
   "outputs": [
    {
     "name": "stdout",
     "output_type": "stream",
     "text": [
      "It's a lovely day\n"
     ]
    }
   ],
   "source": [
    "is_hot = False\n",
    "is_cold = False\n",
    "if is_hot:\n",
    "    print(\"It's a hot day\")\n",
    "    print(\"Drink plenty of water\")\n",
    "elif is_cold:\n",
    "    print(\"It's a cold day\")\n",
    "    print(\"Wear warm clothes\")\n",
    "else:\n",
    "    print(\"It's a lovely day\")"
   ]
  },
  {
   "cell_type": "markdown",
   "id": "c86b6eeb",
   "metadata": {},
   "source": [
    "Write a program to find the downpayment the user have to pay. Price of the house is 1M Rupees. if the buyer has good credit then downpayment should be 10% of the price of property otherwise 20% of the price of property. Then print the downpayment the buyer has to pay."
   ]
  },
  {
   "cell_type": "code",
   "execution_count": 10,
   "id": "9321e486",
   "metadata": {},
   "outputs": [
    {
     "name": "stdout",
     "output_type": "stream",
     "text": [
      "Downpayment buyer have to pay: Rs. 100000.0\n"
     ]
    }
   ],
   "source": [
    "has_good_credit = True\n",
    "if has_good_credit:\n",
    "    down_payment = 0.1*1000000\n",
    "else:\n",
    "    down_payment = 0.2*1000000\n",
    "    \n",
    "print(f\"Downpayment buyer have to pay: Rs. {down_payment}\")"
   ]
  },
  {
   "cell_type": "markdown",
   "id": "99b4c8e4",
   "metadata": {},
   "source": [
    "if the applicant is having high income and good credit ==> Eligible for loan"
   ]
  },
  {
   "cell_type": "code",
   "execution_count": 12,
   "id": "784c65b5",
   "metadata": {},
   "outputs": [
    {
     "name": "stdout",
     "output_type": "stream",
     "text": [
      "Not Eligible for loan\n"
     ]
    }
   ],
   "source": [
    "has_high_income = True\n",
    "has_good_credit = False\n",
    "if has_high_income and has_good_credit:\n",
    "    print(\"Eligible for loan\")\n",
    "else:\n",
    "    print(\"Not Eligible for loan\")"
   ]
  },
  {
   "cell_type": "markdown",
   "id": "564f9036",
   "metadata": {},
   "source": [
    "applicant has good credit and no criminal record will be eligible for loan?"
   ]
  },
  {
   "cell_type": "code",
   "execution_count": 16,
   "id": "42d19d3f",
   "metadata": {},
   "outputs": [
    {
     "name": "stdout",
     "output_type": "stream",
     "text": [
      "Eligible for loan\n"
     ]
    }
   ],
   "source": [
    "has_good_credit = True\n",
    "has_criminal_record = False\n",
    "if has_good_credit and not has_criminal_record:\n",
    "    print(\"Eligible for loan\")\n",
    "else:\n",
    "    print(\"Not Eligible for loan\")"
   ]
  },
  {
   "cell_type": "markdown",
   "id": "f257e1a5",
   "metadata": {},
   "source": [
    "### Comparision operator\n",
    "if temp  grt than 30 it is a hot day and if temp less than 10 it is a cold day, otherwise neither hot/cold - pleasant day"
   ]
  },
  {
   "cell_type": "code",
   "execution_count": 19,
   "id": "c64ed75c",
   "metadata": {},
   "outputs": [
    {
     "name": "stdout",
     "output_type": "stream",
     "text": [
      "It's a pleasant day\n"
     ]
    }
   ],
   "source": [
    "temp = 15\n",
    "if temp >=30:\n",
    "    print(\"It's a hot day\")\n",
    "elif temp <=10:\n",
    "    print(\"It's a colder day\")\n",
    "else:\n",
    "    print(\"It's a pleasant day\")"
   ]
  },
  {
   "cell_type": "markdown",
   "id": "80074ebe",
   "metadata": {},
   "source": [
    "check the length of the name entered if less than 3 character long print name should be atlest 3 character long.\n",
    "if length of name is greater than 50 characters name should be within 50 characters else print hello + name"
   ]
  },
  {
   "cell_type": "markdown",
   "id": "256097ed",
   "metadata": {},
   "source": [
    "Project:\n",
    "Get the weight details from the user and ask whether the entered unit is pound of kilos and convert the weight to the other unit for example if user weight is 160 pounds change it to kilos as 72 kg and print it out"
   ]
  },
  {
   "cell_type": "markdown",
   "id": "fe4eba9c",
   "metadata": {},
   "source": [
    "## Control statements"
   ]
  },
  {
   "cell_type": "code",
   "execution_count": 21,
   "id": "9c6917ae",
   "metadata": {},
   "outputs": [
    {
     "name": "stdout",
     "output_type": "stream",
     "text": [
      "1\n",
      "2\n",
      "3\n",
      "4\n",
      "5\n",
      "Done\n"
     ]
    }
   ],
   "source": [
    "### While loops interactive programs\n",
    "i = 1\n",
    "while i <= 5:\n",
    "    print(i)\n",
    "    i = i + 1\n",
    "print(\"Done\")"
   ]
  },
  {
   "cell_type": "code",
   "execution_count": 24,
   "id": "b9fc0f57",
   "metadata": {},
   "outputs": [
    {
     "name": "stdout",
     "output_type": "stream",
     "text": [
      "*\n",
      "**\n",
      "***\n",
      "****\n",
      "*****\n",
      "Done\n"
     ]
    }
   ],
   "source": [
    "# Print a triangle - using while loop\n",
    "i = 1\n",
    "while i <= 5:\n",
    "    print(\"*\" * i)\n",
    "    i = i + 1\n",
    "print(\"Done\")"
   ]
  },
  {
   "cell_type": "markdown",
   "id": "4345ba47",
   "metadata": {},
   "source": [
    "## Guessing game\n",
    "You have only three choice to guess a number between 1-10. if it is guessed number right within 3 times you won else you lose. Tip use while loop"
   ]
  },
  {
   "cell_type": "code",
   "execution_count": 37,
   "id": "a725d289",
   "metadata": {},
   "outputs": [
    {
     "name": "stdout",
     "output_type": "stream",
     "text": [
      "Guess a number: 2\n",
      "Guess a number: 3\n",
      "Guess a number: 4\n",
      "Sorry, You Lost..!!\n"
     ]
    }
   ],
   "source": [
    "guess_count = 1\n",
    "guess_limit = 3\n",
    "secret_number = 9\n",
    "while guess_count <= guess_limit:\n",
    "    guessed_num = int(input(\"Guess a number: \"))\n",
    "    if guessed_num == secret_number:\n",
    "        print(\"You won..!!!\")\n",
    "        break\n",
    "    if guess_count == guess_limit:\n",
    "        print(\"Sorry, You Lost..!!\")\n",
    "\n",
    "    guess_count = guess_count + 1\n",
    "    \n",
    "        "
   ]
  },
  {
   "cell_type": "markdown",
   "id": "0043ca9e",
   "metadata": {},
   "source": [
    "Project: you have develop a car game with getting the input from the users<br />\n",
    "    1. \"Start\" will start the car - print(\"car started\")<br />\n",
    "    2. \"Stop\" will stop the car - print(\"car stopped\")<br />\n",
    "    3. \"Quit\" will quit the game - print(\"Bye\")<br />\n",
    "    \n",
    "if any other command is posted it will say sorry i dont understand that. Print the game instruction at the start of the program (Tip: use while loop)"
   ]
  },
  {
   "cell_type": "code",
   "execution_count": 41,
   "id": "981f58eb",
   "metadata": {},
   "outputs": [
    {
     "name": "stdout",
     "output_type": "stream",
     "text": [
      "Welcome to the car game\n",
      "\n",
      "You have Three commands to operate the car\n",
      "'Start' - will start the engine\n",
      "'Stop' - will stop the engine\n",
      "'Quit' - will exit out of the game\n",
      "\n",
      "Enter the command: aa\n",
      "I don't understand your command\n",
      "Enter the command: Quit\n",
      "Byee...\n"
     ]
    }
   ],
   "source": [
    "print(\"Welcome to the car game\")\n",
    "print('''\n",
    "You have Three commands to operate the car\n",
    "'Start' - will start the engine\n",
    "'Stop' - will stop the engine\n",
    "'Quit' - will exit out of the game\n",
    "''')\n",
    "cond = True\n",
    "while cond:\n",
    "    command = input(\"Enter the command: \")\n",
    "    if command == \"Start\":\n",
    "        print(\"Car Started...\")\n",
    "    elif command == \"Stop\":\n",
    "        print(\"Car Stopped...\")\n",
    "    elif command == \"Quit\":\n",
    "        print(\"Byee...\")\n",
    "        break\n",
    "    else:\n",
    "        print(\"I don't understand your command\")"
   ]
  },
  {
   "cell_type": "markdown",
   "id": "a41c689a",
   "metadata": {},
   "source": [
    "### For Loop\n",
    "\n",
    "for loops are used to iterate through string, list, tuple, objects, length, dictionary"
   ]
  },
  {
   "cell_type": "code",
   "execution_count": 42,
   "id": "47348d43",
   "metadata": {},
   "outputs": [
    {
     "name": "stdout",
     "output_type": "stream",
     "text": [
      "P\n",
      "y\n",
      "t\n",
      "h\n",
      "o\n",
      "n\n"
     ]
    }
   ],
   "source": [
    "for i in \"Python\":\n",
    "    print(i)"
   ]
  },
  {
   "cell_type": "code",
   "execution_count": 43,
   "id": "eeec219c",
   "metadata": {},
   "outputs": [
    {
     "name": "stdout",
     "output_type": "stream",
     "text": [
      "0\n",
      "1\n",
      "2\n",
      "3\n",
      "4\n"
     ]
    }
   ],
   "source": [
    "for i in range(0, 5):\n",
    "    print(i)"
   ]
  },
  {
   "cell_type": "code",
   "execution_count": 44,
   "id": "43990667",
   "metadata": {},
   "outputs": [
    {
     "name": "stdout",
     "output_type": "stream",
     "text": [
      "apple\n",
      "orange\n",
      "berry\n"
     ]
    }
   ],
   "source": [
    "for i in [\"apple\", \"orange\", \"berry\"]:\n",
    "    print(i)"
   ]
  },
  {
   "cell_type": "code",
   "execution_count": 45,
   "id": "1d1bbdbd",
   "metadata": {},
   "outputs": [
    {
     "name": "stdout",
     "output_type": "stream",
     "text": [
      "1\n",
      "2\n",
      "3\n"
     ]
    }
   ],
   "source": [
    "for i in (1, 2, 3):\n",
    "    print(i)"
   ]
  },
  {
   "cell_type": "code",
   "execution_count": 48,
   "id": "29fc11c8",
   "metadata": {},
   "outputs": [
    {
     "name": "stdout",
     "output_type": "stream",
     "text": [
      "0\n",
      "2\n",
      "4\n",
      "6\n",
      "8\n"
     ]
    }
   ],
   "source": [
    "for i in range(0, 10, 2):\n",
    "    print(i)"
   ]
  },
  {
   "cell_type": "code",
   "execution_count": 50,
   "id": "785c41c1",
   "metadata": {},
   "outputs": [
    {
     "name": "stdout",
     "output_type": "stream",
     "text": [
      "(0, 0)\n",
      "(0, 1)\n",
      "(0, 2)\n",
      "(0, 3)\n",
      "(1, 0)\n",
      "(1, 1)\n",
      "(1, 2)\n",
      "(1, 3)\n",
      "(2, 0)\n",
      "(2, 1)\n",
      "(2, 2)\n",
      "(2, 3)\n",
      "(3, 0)\n",
      "(3, 1)\n",
      "(3, 2)\n",
      "(3, 3)\n"
     ]
    }
   ],
   "source": [
    "# nested loop\n",
    "for x in range(4):\n",
    "    for y in range(4):\n",
    "        print(f\"({x}, {y})\")"
   ]
  },
  {
   "cell_type": "markdown",
   "id": "2d98742c",
   "metadata": {},
   "source": [
    "Challenge:\n",
    "Using the list of numbers. Draw the shape of 'F' as shown below\n",
    "\n",
    "<img src=\"fshape.png\" alt=\"f-shaped\" style=\"text-align:left\">"
   ]
  },
  {
   "cell_type": "code",
   "execution_count": 51,
   "id": "32a91c48",
   "metadata": {},
   "outputs": [
    {
     "name": "stdout",
     "output_type": "stream",
     "text": [
      "xxxxx\n",
      "xx\n",
      "xxxxx\n",
      "xx\n",
      "xx\n"
     ]
    }
   ],
   "source": [
    "numbers = [5,2, 5, 2, 2]\n",
    "for x_count in numbers:\n",
    "    output = ''\n",
    "    for count in range(x_count):\n",
    "        output +='x'\n",
    "    print(output)"
   ]
  },
  {
   "cell_type": "markdown",
   "id": "b8246c53",
   "metadata": {},
   "source": [
    "## List"
   ]
  },
  {
   "cell_type": "code",
   "execution_count": 53,
   "id": "70b164ac",
   "metadata": {},
   "outputs": [
    {
     "name": "stdout",
     "output_type": "stream",
     "text": [
      "John\n",
      "Bob\n",
      "Sarah\n",
      "Mary\n"
     ]
    }
   ],
   "source": [
    "names = [\"John\", \"Bob\", \"Sarah\", \"Mary\"]\n",
    "for name in names:\n",
    "    print(name)"
   ]
  },
  {
   "cell_type": "code",
   "execution_count": 54,
   "id": "44e8fe02",
   "metadata": {},
   "outputs": [
    {
     "data": {
      "text/plain": [
       "'Mary'"
      ]
     },
     "execution_count": 54,
     "metadata": {},
     "output_type": "execute_result"
    }
   ],
   "source": [
    "names[-1]"
   ]
  },
  {
   "cell_type": "code",
   "execution_count": 55,
   "id": "96c6503b",
   "metadata": {},
   "outputs": [
    {
     "data": {
      "text/plain": [
       "['John', 'Bob', 'Sarah', 'Mary']"
      ]
     },
     "execution_count": 55,
     "metadata": {},
     "output_type": "execute_result"
    }
   ],
   "source": [
    "names[0:]"
   ]
  },
  {
   "cell_type": "code",
   "execution_count": 56,
   "id": "aa67a736",
   "metadata": {},
   "outputs": [
    {
     "data": {
      "text/plain": [
       "['Sarah', 'Mary']"
      ]
     },
     "execution_count": 56,
     "metadata": {},
     "output_type": "execute_result"
    }
   ],
   "source": [
    "names[2:]"
   ]
  },
  {
   "cell_type": "code",
   "execution_count": 57,
   "id": "dfc48ca2",
   "metadata": {},
   "outputs": [
    {
     "data": {
      "text/plain": [
       "'Sarah'"
      ]
     },
     "execution_count": 57,
     "metadata": {},
     "output_type": "execute_result"
    }
   ],
   "source": [
    "names[-2]"
   ]
  },
  {
   "cell_type": "code",
   "execution_count": 58,
   "id": "bb6d2a66",
   "metadata": {},
   "outputs": [
    {
     "data": {
      "text/plain": [
       "['John', 'Bob', 'Sarah', 'Mary']"
      ]
     },
     "execution_count": 58,
     "metadata": {},
     "output_type": "execute_result"
    }
   ],
   "source": [
    "names[:]"
   ]
  },
  {
   "cell_type": "code",
   "execution_count": 74,
   "id": "7a679d8b",
   "metadata": {},
   "outputs": [
    {
     "data": {
      "text/plain": [
       "0"
      ]
     },
     "execution_count": 74,
     "metadata": {},
     "output_type": "execute_result"
    }
   ],
   "source": [
    "names.index(\"Jon\")"
   ]
  },
  {
   "cell_type": "code",
   "execution_count": 75,
   "id": "fa4247f2",
   "metadata": {},
   "outputs": [],
   "source": [
    "names.append(\"Babi\")"
   ]
  },
  {
   "cell_type": "code",
   "execution_count": 76,
   "id": "1d91c750",
   "metadata": {},
   "outputs": [
    {
     "data": {
      "text/plain": [
       "['Jon', 'Bob', 'Sarah', 'Mary', 'Babi']"
      ]
     },
     "execution_count": 76,
     "metadata": {},
     "output_type": "execute_result"
    }
   ],
   "source": [
    "names"
   ]
  },
  {
   "cell_type": "code",
   "execution_count": 77,
   "id": "dd9be46b",
   "metadata": {},
   "outputs": [
    {
     "data": {
      "text/plain": [
       "5"
      ]
     },
     "execution_count": 77,
     "metadata": {},
     "output_type": "execute_result"
    }
   ],
   "source": [
    "len(names)"
   ]
  },
  {
   "cell_type": "code",
   "execution_count": 78,
   "id": "d421ca18",
   "metadata": {},
   "outputs": [
    {
     "data": {
      "text/plain": [
       "'Babi'"
      ]
     },
     "execution_count": 78,
     "metadata": {},
     "output_type": "execute_result"
    }
   ],
   "source": [
    "names.pop()"
   ]
  },
  {
   "cell_type": "code",
   "execution_count": 79,
   "id": "a1c7f57d",
   "metadata": {},
   "outputs": [
    {
     "data": {
      "text/plain": [
       "['Jon', 'Bob', 'Sarah', 'Mary']"
      ]
     },
     "execution_count": 79,
     "metadata": {},
     "output_type": "execute_result"
    }
   ],
   "source": [
    "names"
   ]
  },
  {
   "cell_type": "code",
   "execution_count": 80,
   "id": "28bf7ddb",
   "metadata": {},
   "outputs": [],
   "source": [
    "names.insert(1, \"Raj\")"
   ]
  },
  {
   "cell_type": "code",
   "execution_count": 81,
   "id": "28ac2a92",
   "metadata": {},
   "outputs": [
    {
     "data": {
      "text/plain": [
       "['Jon', 'Raj', 'Bob', 'Sarah', 'Mary']"
      ]
     },
     "execution_count": 81,
     "metadata": {},
     "output_type": "execute_result"
    }
   ],
   "source": [
    "names"
   ]
  },
  {
   "cell_type": "code",
   "execution_count": 59,
   "id": "e491adc8",
   "metadata": {},
   "outputs": [],
   "source": [
    "# Remove\n",
    "names[0] = \"Jon\""
   ]
  },
  {
   "cell_type": "code",
   "execution_count": 60,
   "id": "6295f9aa",
   "metadata": {},
   "outputs": [
    {
     "data": {
      "text/plain": [
       "['Jon', 'Bob', 'Sarah', 'Mary']"
      ]
     },
     "execution_count": 60,
     "metadata": {},
     "output_type": "execute_result"
    }
   ],
   "source": [
    "names"
   ]
  },
  {
   "cell_type": "code",
   "execution_count": 61,
   "id": "052d7244",
   "metadata": {},
   "outputs": [],
   "source": [
    "# Project\n",
    "# Find the largest number in the list\n",
    "a = [5, 6, 6, 8 , 10]"
   ]
  },
  {
   "cell_type": "code",
   "execution_count": 67,
   "id": "23d9b7a6",
   "metadata": {},
   "outputs": [
    {
     "name": "stdout",
     "output_type": "stream",
     "text": [
      "10\n"
     ]
    }
   ],
   "source": [
    "max_no = a[0]\n",
    "for i in a:\n",
    "    if i > max_no:\n",
    "        max_no = i\n",
    "print(max_no)"
   ]
  },
  {
   "cell_type": "markdown",
   "id": "9d7d04ce",
   "metadata": {},
   "source": [
    "## Array"
   ]
  },
  {
   "cell_type": "markdown",
   "id": "5fe36f7d",
   "metadata": {},
   "source": [
    "Two dimentional list is an array"
   ]
  },
  {
   "cell_type": "code",
   "execution_count": 68,
   "id": "4cca6a47",
   "metadata": {},
   "outputs": [],
   "source": [
    "matrix = [[1,2,3], [4, 5, 6], [7, 8, 9]]"
   ]
  },
  {
   "cell_type": "code",
   "execution_count": 69,
   "id": "16f371f2",
   "metadata": {},
   "outputs": [
    {
     "data": {
      "text/plain": [
       "[[1, 2, 3], [4, 5, 6], [7, 8, 9]]"
      ]
     },
     "execution_count": 69,
     "metadata": {},
     "output_type": "execute_result"
    }
   ],
   "source": [
    "matrix"
   ]
  },
  {
   "cell_type": "code",
   "execution_count": 70,
   "id": "1bb7ba37",
   "metadata": {},
   "outputs": [
    {
     "data": {
      "text/plain": [
       "1"
      ]
     },
     "execution_count": 70,
     "metadata": {},
     "output_type": "execute_result"
    }
   ],
   "source": [
    "matrix[0][0]"
   ]
  },
  {
   "cell_type": "code",
   "execution_count": 71,
   "id": "f1ac5ee2",
   "metadata": {},
   "outputs": [
    {
     "data": {
      "text/plain": [
       "[2, 3]"
      ]
     },
     "execution_count": 71,
     "metadata": {},
     "output_type": "execute_result"
    }
   ],
   "source": [
    "matrix[0][1:]"
   ]
  },
  {
   "cell_type": "code",
   "execution_count": 72,
   "id": "7bd2e742",
   "metadata": {},
   "outputs": [
    {
     "data": {
      "text/plain": [
       "[7, 8, 9]"
      ]
     },
     "execution_count": 72,
     "metadata": {},
     "output_type": "execute_result"
    }
   ],
   "source": [
    "matrix[2][:]"
   ]
  },
  {
   "cell_type": "code",
   "execution_count": 73,
   "id": "2ae36544",
   "metadata": {},
   "outputs": [
    {
     "data": {
      "text/plain": [
       "[4, 5, 6]"
      ]
     },
     "execution_count": 73,
     "metadata": {},
     "output_type": "execute_result"
    }
   ],
   "source": [
    "matrix[:][1]"
   ]
  },
  {
   "cell_type": "markdown",
   "id": "47de39e7",
   "metadata": {},
   "source": [
    "## Print Statement - Formatting"
   ]
  },
  {
   "cell_type": "code",
   "execution_count": 35,
   "id": "cc073068",
   "metadata": {},
   "outputs": [
    {
     "name": "stdout",
     "output_type": "stream",
     "text": [
      "Hi you there, his predicted life is 23.57 years\n"
     ]
    }
   ],
   "source": [
    "print(\"Hi %s there, his predicted life is %.2f years\" % (\"you\", 23.5677))"
   ]
  },
  {
   "cell_type": "code",
   "execution_count": 36,
   "id": "4d9c7bb9",
   "metadata": {},
   "outputs": [
    {
     "name": "stdout",
     "output_type": "stream",
     "text": [
      "Happy birthday to you\n"
     ]
    }
   ],
   "source": [
    "a = \"you\"\n",
    "print(f\"Happy birthday to {a}\")"
   ]
  },
  {
   "cell_type": "code",
   "execution_count": 45,
   "id": "8e3def19",
   "metadata": {},
   "outputs": [
    {
     "name": "stdout",
     "output_type": "stream",
     "text": [
      "Arun's Height is 169 & weight is 72\n",
      "Babi's Height is 142 & weight is 62\n",
      "Praveen's Height is 182 & weight is 90\n"
     ]
    }
   ],
   "source": [
    "formatter = \"%s's Height is %d & weight is %d\"\n",
    "print(formatter % (\"Arun\", 169, 72))\n",
    "print(formatter % (\"Babi\", 142, 62))\n",
    "print(formatter % (\"Praveen\", 182, 90))"
   ]
  },
  {
   "cell_type": "code",
   "execution_count": 48,
   "id": "f6f6b90f",
   "metadata": {},
   "outputs": [
    {
     "name": "stdout",
     "output_type": "stream",
     "text": [
      "Months in 2023 a year\n",
      "\n",
      "Jan\n",
      "Feb\n",
      "Mar\n",
      "Apr\n",
      "May\n",
      "Jun\n",
      "Jul\n",
      "Aug\n",
      "Sep\n",
      "Oct\n",
      "Nov\n",
      "Dec\n"
     ]
    }
   ],
   "source": [
    "months= \"\\nJan\\nFeb\\nMar\\nApr\\nMay\\nJun\\nJul\\nAug\\nSep\\nOct\\nNov\\nDec\"\n",
    "print(\"Months in %d a year\" % 2023)\n",
    "print(months)"
   ]
  },
  {
   "cell_type": "code",
   "execution_count": 54,
   "id": "597b232b",
   "metadata": {},
   "outputs": [
    {
     "name": "stdout",
     "output_type": "stream",
     "text": [
      "\tI'm tabbed in.\n",
      "I'm split\n",
      "on a line.\n",
      "I'm \\ a \\& cat.\n"
     ]
    }
   ],
   "source": [
    "tabby_cat = \"\\tI'm tabbed in.\"\n",
    "persian_cat = \"I'm split\\non a line.\"\n",
    "backslash_cat = \"I'm \\\\ a \\\\ cat.\"\n",
    "print(tabby_cat)\n",
    "print(persian_cat)\n",
    "print(backslash_cat)"
   ]
  },
  {
   "cell_type": "code",
   "execution_count": null,
   "id": "50c128d9",
   "metadata": {},
   "outputs": [],
   "source": []
  }
 ],
 "metadata": {
  "kernelspec": {
   "display_name": "Python 3 (ipykernel)",
   "language": "python",
   "name": "python3"
  },
  "language_info": {
   "codemirror_mode": {
    "name": "ipython",
    "version": 3
   },
   "file_extension": ".py",
   "mimetype": "text/x-python",
   "name": "python",
   "nbconvert_exporter": "python",
   "pygments_lexer": "ipython3",
   "version": "3.10.6"
  }
 },
 "nbformat": 4,
 "nbformat_minor": 5
}
