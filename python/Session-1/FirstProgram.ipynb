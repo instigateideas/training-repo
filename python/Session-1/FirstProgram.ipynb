{
 "cells": [
  {
   "cell_type": "code",
   "execution_count": 3,
   "id": "c7dbd1c9",
   "metadata": {},
   "outputs": [],
   "source": [
    "a = 15"
   ]
  },
  {
   "cell_type": "code",
   "execution_count": 4,
   "id": "828c2a8f",
   "metadata": {},
   "outputs": [
    {
     "data": {
      "text/plain": [
       "15"
      ]
     },
     "execution_count": 4,
     "metadata": {},
     "output_type": "execute_result"
    }
   ],
   "source": [
    "a"
   ]
  },
  {
   "cell_type": "markdown",
   "id": "43af4053",
   "metadata": {},
   "source": [
    "# Data type\n",
    "1. Integer\n",
    "2. String\n",
    "3. Float\n",
    "4. list\n",
    "5. tuple\n",
    "6. Dictionary\n",
    "7. sets\n",
    "8. Booolan"
   ]
  },
  {
   "cell_type": "code",
   "execution_count": 5,
   "id": "3eebe4f0",
   "metadata": {},
   "outputs": [],
   "source": [
    "a = 15"
   ]
  },
  {
   "cell_type": "code",
   "execution_count": 6,
   "id": "fa3afc7f",
   "metadata": {},
   "outputs": [
    {
     "data": {
      "text/plain": [
       "'hello world'"
      ]
     },
     "execution_count": 6,
     "metadata": {},
     "output_type": "execute_result"
    }
   ],
   "source": [
    "\"hello world\""
   ]
  },
  {
   "cell_type": "code",
   "execution_count": 7,
   "id": "38e16f55",
   "metadata": {},
   "outputs": [],
   "source": [
    "c = \"Arunachalam\""
   ]
  },
  {
   "cell_type": "code",
   "execution_count": 8,
   "id": "a86541b9",
   "metadata": {},
   "outputs": [
    {
     "data": {
      "text/plain": [
       "'Arunachalam'"
      ]
     },
     "execution_count": 8,
     "metadata": {},
     "output_type": "execute_result"
    }
   ],
   "source": [
    "c"
   ]
  },
  {
   "cell_type": "code",
   "execution_count": 10,
   "id": "876ed547",
   "metadata": {},
   "outputs": [],
   "source": [
    "d =1.4"
   ]
  },
  {
   "cell_type": "code",
   "execution_count": 11,
   "id": "f3083f65",
   "metadata": {},
   "outputs": [
    {
     "data": {
      "text/plain": [
       "1.4"
      ]
     },
     "execution_count": 11,
     "metadata": {},
     "output_type": "execute_result"
    }
   ],
   "source": [
    "d"
   ]
  },
  {
   "cell_type": "code",
   "execution_count": 15,
   "id": "cab0f783",
   "metadata": {},
   "outputs": [
    {
     "data": {
      "text/plain": [
       "1.4"
      ]
     },
     "execution_count": 15,
     "metadata": {},
     "output_type": "execute_result"
    }
   ],
   "source": [
    "d"
   ]
  },
  {
   "cell_type": "code",
   "execution_count": 16,
   "id": "75c889ba",
   "metadata": {},
   "outputs": [
    {
     "data": {
      "text/plain": [
       "20"
      ]
     },
     "execution_count": 16,
     "metadata": {},
     "output_type": "execute_result"
    }
   ],
   "source": [
    "a = 15\n",
    "a = 20\n",
    "a"
   ]
  },
  {
   "cell_type": "code",
   "execution_count": 17,
   "id": "6db8b2c2",
   "metadata": {},
   "outputs": [],
   "source": [
    "a = 20"
   ]
  },
  {
   "cell_type": "code",
   "execution_count": 18,
   "id": "ea1f5d96",
   "metadata": {},
   "outputs": [],
   "source": [
    "food_cost = 11"
   ]
  },
  {
   "cell_type": "code",
   "execution_count": 19,
   "id": "4c64ae16",
   "metadata": {},
   "outputs": [],
   "source": [
    "python_language = \"Version 3.9\""
   ]
  },
  {
   "cell_type": "code",
   "execution_count": 20,
   "id": "1584dc61",
   "metadata": {},
   "outputs": [
    {
     "data": {
      "text/plain": [
       "'Version 3.9'"
      ]
     },
     "execution_count": 20,
     "metadata": {},
     "output_type": "execute_result"
    }
   ],
   "source": [
    "python_language"
   ]
  },
  {
   "cell_type": "code",
   "execution_count": 22,
   "id": "900b138a",
   "metadata": {},
   "outputs": [
    {
     "ename": "SyntaxError",
     "evalue": "invalid decimal literal (3513586505.py, line 1)",
     "output_type": "error",
     "traceback": [
      "\u001b[0;36m  File \u001b[0;32m\"/tmp/ipykernel_17168/3513586505.py\"\u001b[0;36m, line \u001b[0;32m1\u001b[0m\n\u001b[0;31m    34good = 13\u001b[0m\n\u001b[0m     ^\u001b[0m\n\u001b[0;31mSyntaxError\u001b[0m\u001b[0;31m:\u001b[0m invalid decimal literal\n"
     ]
    }
   ],
   "source": [
    "34good = 13"
   ]
  },
  {
   "cell_type": "code",
   "execution_count": 23,
   "id": "513c7ef2",
   "metadata": {},
   "outputs": [],
   "source": [
    "good34 = 13"
   ]
  },
  {
   "cell_type": "code",
   "execution_count": 24,
   "id": "711d6b19",
   "metadata": {},
   "outputs": [
    {
     "data": {
      "text/plain": [
       "3"
      ]
     },
     "execution_count": 24,
     "metadata": {},
     "output_type": "execute_result"
    }
   ],
   "source": [
    "_x = 3\n",
    "_x"
   ]
  },
  {
   "cell_type": "markdown",
   "id": "bde692b5",
   "metadata": {},
   "source": [
    "### allowed\n",
    "A-Z, a-z, 0-9, and _ "
   ]
  },
  {
   "cell_type": "code",
   "execution_count": 26,
   "id": "e72abcef",
   "metadata": {},
   "outputs": [
    {
     "data": {
      "text/plain": [
       "23"
      ]
     },
     "execution_count": 26,
     "metadata": {},
     "output_type": "execute_result"
    }
   ],
   "source": [
    "age = 23\n",
    "Age=32\n",
    "age"
   ]
  },
  {
   "cell_type": "code",
   "execution_count": 27,
   "id": "bd137cd5",
   "metadata": {},
   "outputs": [
    {
     "data": {
      "text/plain": [
       "32"
      ]
     },
     "execution_count": 27,
     "metadata": {},
     "output_type": "execute_result"
    }
   ],
   "source": [
    "Age"
   ]
  },
  {
   "cell_type": "code",
   "execution_count": 28,
   "id": "bcf553c1",
   "metadata": {},
   "outputs": [],
   "source": [
    "AGE = 13"
   ]
  },
  {
   "cell_type": "code",
   "execution_count": 29,
   "id": "04f43835",
   "metadata": {},
   "outputs": [
    {
     "data": {
      "text/plain": [
       "13"
      ]
     },
     "execution_count": 29,
     "metadata": {},
     "output_type": "execute_result"
    }
   ],
   "source": [
    "AGE"
   ]
  },
  {
   "cell_type": "markdown",
   "id": "16e4b685",
   "metadata": {},
   "source": [
    "# John is a patient. he is 20 yrs old. He is having an headache. he is a new patient?\n",
    "\n",
    "Variable_names?\n",
    "datatypes"
   ]
  },
  {
   "cell_type": "code",
   "execution_count": 30,
   "id": "f493c588",
   "metadata": {},
   "outputs": [
    {
     "data": {
      "text/plain": [
       "False"
      ]
     },
     "execution_count": 30,
     "metadata": {},
     "output_type": "execute_result"
    }
   ],
   "source": [
    "True\n",
    "False"
   ]
  },
  {
   "cell_type": "code",
   "execution_count": 31,
   "id": "434bccac",
   "metadata": {},
   "outputs": [],
   "source": [
    "name = \"John\"\n",
    "age = 23\n",
    "disease = \"Headache\"\n",
    "is_new_patient = True"
   ]
  },
  {
   "cell_type": "markdown",
   "id": "c3014625",
   "metadata": {},
   "source": [
    "## Librarian wanted to store the books data what are the variables you will save?"
   ]
  },
  {
   "cell_type": "markdown",
   "id": "6949a19d",
   "metadata": {},
   "source": [
    "### Variables need to store\n",
    "\n",
    "isbn_book, name_book, author, publication_name, year, price, availability_status, rack_no"
   ]
  },
  {
   "cell_type": "markdown",
   "id": "9520bf94",
   "metadata": {},
   "source": [
    "### input() Functions"
   ]
  },
  {
   "cell_type": "code",
   "execution_count": 34,
   "id": "417de4ba",
   "metadata": {},
   "outputs": [
    {
     "name": "stdout",
     "output_type": "stream",
     "text": [
      "Enter your name: Arun\n",
      "His name is  Arun\n"
     ]
    }
   ],
   "source": [
    "name = input(\"Enter your name: \")\n",
    "print(\"His name is \", name)"
   ]
  },
  {
   "cell_type": "code",
   "execution_count": 33,
   "id": "42e2b46f",
   "metadata": {},
   "outputs": [
    {
     "data": {
      "text/plain": [
       "'Arun'"
      ]
     },
     "execution_count": 33,
     "metadata": {},
     "output_type": "execute_result"
    }
   ],
   "source": [
    "name"
   ]
  },
  {
   "cell_type": "markdown",
   "id": "37b367d8",
   "metadata": {},
   "source": [
    "### Question: Get the person name and fav colour and print \"{name} like {fav_col}\""
   ]
  },
  {
   "cell_type": "code",
   "execution_count": 35,
   "id": "3e9cb9c4",
   "metadata": {},
   "outputs": [
    {
     "name": "stdout",
     "output_type": "stream",
     "text": [
      "Enter your name: Arun\n",
      "Enter fav color: Blue\n",
      "Arun  likes  Blue\n"
     ]
    }
   ],
   "source": [
    "name = input(\"Enter your name: \")\n",
    "fav_col = input(\"Enter fav color: \")\n",
    "print(name, \" likes \", fav_col )"
   ]
  },
  {
   "cell_type": "markdown",
   "id": "f611537e",
   "metadata": {},
   "source": [
    "## Print Statement - Formatting"
   ]
  },
  {
   "cell_type": "code",
   "execution_count": 36,
   "id": "9f0dd3d0",
   "metadata": {},
   "outputs": [
    {
     "name": "stdout",
     "output_type": "stream",
     "text": [
      "Hi you there, his predicted life is 23.57 years\n"
     ]
    }
   ],
   "source": [
    "print(\"Hi %s there, his predicted life is %.2f years\" % (\"you\", 23.5677))"
   ]
  },
  {
   "cell_type": "markdown",
   "id": "43ad683b",
   "metadata": {},
   "source": [
    "%s - string<br />\n",
    "%d - interger/ digit <br />\n",
    "%f - float <br />"
   ]
  },
  {
   "cell_type": "code",
   "execution_count": 38,
   "id": "a9c3af0b",
   "metadata": {},
   "outputs": [],
   "source": [
    "name = \"Arun\"\n",
    "height = 169.34"
   ]
  },
  {
   "cell_type": "code",
   "execution_count": 40,
   "id": "c766a460",
   "metadata": {},
   "outputs": [
    {
     "name": "stdout",
     "output_type": "stream",
     "text": [
      "Name is Arun his height is 169.34\n"
     ]
    }
   ],
   "source": [
    "print(\"Name is %s his height is %.2f\" % (name, height))"
   ]
  },
  {
   "cell_type": "code",
   "execution_count": 41,
   "id": "0d805557",
   "metadata": {},
   "outputs": [
    {
     "name": "stdout",
     "output_type": "stream",
     "text": [
      "Name is Arun his height is 169.34\n"
     ]
    }
   ],
   "source": [
    "print(f\"Name is {name} his height is {height}\")"
   ]
  },
  {
   "cell_type": "code",
   "execution_count": 43,
   "id": "42c387d5",
   "metadata": {},
   "outputs": [
    {
     "data": {
      "text/plain": [
       "'Arun is his name'"
      ]
     },
     "execution_count": 43,
     "metadata": {},
     "output_type": "execute_result"
    }
   ],
   "source": [
    "name + \" is his name\""
   ]
  },
  {
   "cell_type": "code",
   "execution_count": 44,
   "id": "2dc630d7",
   "metadata": {},
   "outputs": [],
   "source": [
    "a = '''\n",
    "Welcome to Python Program\n",
    "\n",
    "1. Datatypes\n",
    "2. Operators\n",
    "3. Control Statement\n",
    "'''"
   ]
  },
  {
   "cell_type": "code",
   "execution_count": 45,
   "id": "e1b8d194",
   "metadata": {},
   "outputs": [
    {
     "name": "stdout",
     "output_type": "stream",
     "text": [
      "\n",
      "Welcome to Python Program\n",
      "\n",
      "1. Datatypes\n",
      "2. Operators\n",
      "3. Control Statement\n",
      "\n"
     ]
    }
   ],
   "source": [
    "print(a)"
   ]
  },
  {
   "cell_type": "code",
   "execution_count": 48,
   "id": "3c43ef87",
   "metadata": {},
   "outputs": [
    {
     "name": "stdout",
     "output_type": "stream",
     "text": [
      "Welcome to Python Program \n",
      "1. Datatype \n",
      "2.Operators\n"
     ]
    }
   ],
   "source": [
    "# \\n is newline\n",
    "print(\"Welcome to Python Program \\n1. Datatype \\n2.Operators\")"
   ]
  },
  {
   "cell_type": "markdown",
   "id": "98aeb71d",
   "metadata": {},
   "source": [
    "### Question\n",
    "How old are you?<br />\n",
    "How tall are you?<br />\n",
    "How much do you weigh? <br />\n",
    "\n",
    "Print:<br />\n",
    "So, you're '32' old, '169' tall and '72' heavy."
   ]
  },
  {
   "cell_type": "code",
   "execution_count": 50,
   "id": "04031c88",
   "metadata": {},
   "outputs": [
    {
     "name": "stdout",
     "output_type": "stream",
     "text": [
      "So, you\"re \"32\" old, \"$169\" tall and \"72\" heavy.\n"
     ]
    }
   ],
   "source": [
    "print('So, you\"re \"32\" old, \"169\" tall and \"72\" heavy.')"
   ]
  },
  {
   "cell_type": "code",
   "execution_count": 57,
   "id": "8c48f31b",
   "metadata": {},
   "outputs": [
    {
     "name": "stdout",
     "output_type": "stream",
     "text": [
      "Enter the year of Birth: 1990\n",
      "Age is 32\n"
     ]
    }
   ],
   "source": [
    "# calculate\n",
    "year_of_birth = input(\"Enter the year of Birth: \")\n",
    "current_yr = 2022\n",
    "age = current_yr-int(year_of_birth)\n",
    "print(f\"Age is {age}\")"
   ]
  },
  {
   "cell_type": "code",
   "execution_count": 53,
   "id": "7a2eb810",
   "metadata": {},
   "outputs": [
    {
     "data": {
      "text/plain": [
       "str"
      ]
     },
     "execution_count": 53,
     "metadata": {},
     "output_type": "execute_result"
    }
   ],
   "source": [
    "# casting\n",
    "a = \"1990\"\n",
    "type(a)\n",
    "\n",
    "o = 1.4\n",
    "type(o)"
   ]
  },
  {
   "cell_type": "code",
   "execution_count": 56,
   "id": "65d764d8",
   "metadata": {},
   "outputs": [
    {
     "data": {
      "text/plain": [
       "int"
      ]
     },
     "execution_count": 56,
     "metadata": {},
     "output_type": "execute_result"
    }
   ],
   "source": [
    "c = int(a)\n",
    "type(c)"
   ]
  },
  {
   "cell_type": "code",
   "execution_count": 58,
   "id": "5d21866f",
   "metadata": {},
   "outputs": [
    {
     "data": {
      "text/plain": [
       "'a'"
      ]
     },
     "execution_count": 58,
     "metadata": {},
     "output_type": "execute_result"
    }
   ],
   "source": [
    "str(\"a\")"
   ]
  },
  {
   "cell_type": "markdown",
   "id": "fd4d42d7",
   "metadata": {},
   "source": [
    "## List "
   ]
  },
  {
   "cell_type": "markdown",
   "id": "7057c1e7",
   "metadata": {},
   "source": [
    "cities in Tamil nadu"
   ]
  },
  {
   "cell_type": "code",
   "execution_count": 60,
   "id": "82aec192",
   "metadata": {},
   "outputs": [],
   "source": [
    "a= \"Trichy\"\n",
    "b= \"chennai\""
   ]
  },
  {
   "cell_type": "code",
   "execution_count": 61,
   "id": "6196730c",
   "metadata": {},
   "outputs": [
    {
     "data": {
      "text/plain": [
       "('Trichy', 'chennai')"
      ]
     },
     "execution_count": 61,
     "metadata": {},
     "output_type": "execute_result"
    }
   ],
   "source": [
    "a, b"
   ]
  },
  {
   "cell_type": "code",
   "execution_count": 64,
   "id": "fdac241f",
   "metadata": {},
   "outputs": [],
   "source": [
    "tamil_nadu = [\"Trichy\", \"Chennai\", \"Coimbatore\"]"
   ]
  },
  {
   "cell_type": "code",
   "execution_count": 65,
   "id": "9b2b5cfb",
   "metadata": {},
   "outputs": [
    {
     "data": {
      "text/plain": [
       "['Trichy', 'Chennai', 'Coimbatore']"
      ]
     },
     "execution_count": 65,
     "metadata": {},
     "output_type": "execute_result"
    }
   ],
   "source": [
    "tamil_nadu"
   ]
  },
  {
   "cell_type": "code",
   "execution_count": 67,
   "id": "59f88243",
   "metadata": {},
   "outputs": [],
   "source": [
    "# add an element\n",
    "tamil_nadu.append(\"Tirunelveli\")"
   ]
  },
  {
   "cell_type": "code",
   "execution_count": 68,
   "id": "0b32a491",
   "metadata": {},
   "outputs": [
    {
     "data": {
      "text/plain": [
       "['Trichy', 'Chennai', 'Coimbatore', 'Tirunelvel', 'Tirunelveli']"
      ]
     },
     "execution_count": 68,
     "metadata": {},
     "output_type": "execute_result"
    }
   ],
   "source": [
    "tamil_nadu"
   ]
  },
  {
   "cell_type": "code",
   "execution_count": 69,
   "id": "b7ab98f1",
   "metadata": {},
   "outputs": [
    {
     "data": {
      "text/plain": [
       "'Tirunelveli'"
      ]
     },
     "execution_count": 69,
     "metadata": {},
     "output_type": "execute_result"
    }
   ],
   "source": [
    "# Last element\n",
    "tamil_nadu.pop()"
   ]
  },
  {
   "cell_type": "code",
   "execution_count": 70,
   "id": "fc87977b",
   "metadata": {},
   "outputs": [],
   "source": [
    "tamil_nadu.remove(\"Tirunelvel\")"
   ]
  },
  {
   "cell_type": "code",
   "execution_count": 71,
   "id": "49ca3347",
   "metadata": {},
   "outputs": [
    {
     "data": {
      "text/plain": [
       "['Trichy', 'Chennai', 'Coimbatore']"
      ]
     },
     "execution_count": 71,
     "metadata": {},
     "output_type": "execute_result"
    }
   ],
   "source": [
    "tamil_nadu"
   ]
  },
  {
   "cell_type": "code",
   "execution_count": 73,
   "id": "5a284836",
   "metadata": {},
   "outputs": [],
   "source": [
    "tamil_nadu.insert(1, \"Tirunelveli\")"
   ]
  },
  {
   "cell_type": "code",
   "execution_count": 74,
   "id": "a9578226",
   "metadata": {},
   "outputs": [
    {
     "data": {
      "text/plain": [
       "['Trichy', 'Tirunelveli', 'Chennai', 'Coimbatore']"
      ]
     },
     "execution_count": 74,
     "metadata": {},
     "output_type": "execute_result"
    }
   ],
   "source": [
    "tamil_nadu"
   ]
  },
  {
   "cell_type": "code",
   "execution_count": 75,
   "id": "52db0c59",
   "metadata": {},
   "outputs": [
    {
     "data": {
      "text/plain": [
       "'Trichy'"
      ]
     },
     "execution_count": 75,
     "metadata": {},
     "output_type": "execute_result"
    }
   ],
   "source": [
    "tamil_nadu[0]"
   ]
  },
  {
   "cell_type": "code",
   "execution_count": 95,
   "id": "ead3b885",
   "metadata": {},
   "outputs": [],
   "source": [
    "## Multi-dimesional list 2*2\n",
    "a = [[[1,2], 2], [3, 4]]"
   ]
  },
  {
   "cell_type": "code",
   "execution_count": 96,
   "id": "bf9d98ba",
   "metadata": {},
   "outputs": [
    {
     "data": {
      "text/plain": [
       "4"
      ]
     },
     "execution_count": 96,
     "metadata": {},
     "output_type": "execute_result"
    }
   ],
   "source": [
    "a[1][1]"
   ]
  },
  {
   "cell_type": "code",
   "execution_count": 101,
   "id": "3194e75e",
   "metadata": {},
   "outputs": [
    {
     "data": {
      "text/plain": [
       "'Trichy'"
      ]
     },
     "execution_count": 101,
     "metadata": {},
     "output_type": "execute_result"
    }
   ],
   "source": [
    "tamil_nadu[0]"
   ]
  },
  {
   "cell_type": "markdown",
   "id": "d12a12e7",
   "metadata": {},
   "source": [
    "## Tuples - immutable"
   ]
  },
  {
   "cell_type": "code",
   "execution_count": 221,
   "id": "1eee7ea2",
   "metadata": {},
   "outputs": [],
   "source": [
    "a = (1, 2, 3)"
   ]
  },
  {
   "cell_type": "code",
   "execution_count": 226,
   "id": "0190d0ee",
   "metadata": {},
   "outputs": [
    {
     "ename": "TypeError",
     "evalue": "'tuple' object does not support item assignment",
     "output_type": "error",
     "traceback": [
      "\u001b[0;31m---------------------------------------------------------------------------\u001b[0m",
      "\u001b[0;31mTypeError\u001b[0m                                 Traceback (most recent call last)",
      "\u001b[0;32m/tmp/ipykernel_17168/3120817122.py\u001b[0m in \u001b[0;36m<module>\u001b[0;34m\u001b[0m\n\u001b[0;32m----> 1\u001b[0;31m \u001b[0ma\u001b[0m\u001b[0;34m[\u001b[0m\u001b[0;36m2\u001b[0m\u001b[0;34m]\u001b[0m \u001b[0;34m=\u001b[0m \u001b[0;36m3\u001b[0m\u001b[0;34m\u001b[0m\u001b[0;34m\u001b[0m\u001b[0m\n\u001b[0m",
      "\u001b[0;31mTypeError\u001b[0m: 'tuple' object does not support item assignment"
     ]
    }
   ],
   "source": [
    "a[2] = 3"
   ]
  },
  {
   "cell_type": "code",
   "execution_count": 229,
   "id": "0120ae98",
   "metadata": {},
   "outputs": [],
   "source": [
    "a = a + (5, )"
   ]
  },
  {
   "cell_type": "code",
   "execution_count": 231,
   "id": "2159c21b",
   "metadata": {},
   "outputs": [
    {
     "ename": "AttributeError",
     "evalue": "'tuple' object has no attribute 'append'",
     "output_type": "error",
     "traceback": [
      "\u001b[0;31m---------------------------------------------------------------------------\u001b[0m",
      "\u001b[0;31mAttributeError\u001b[0m                            Traceback (most recent call last)",
      "\u001b[0;32m/tmp/ipykernel_17168/226827780.py\u001b[0m in \u001b[0;36m<module>\u001b[0;34m\u001b[0m\n\u001b[0;32m----> 1\u001b[0;31m \u001b[0ma\u001b[0m\u001b[0;34m.\u001b[0m\u001b[0mappend\u001b[0m\u001b[0;34m(\u001b[0m\u001b[0;36m4\u001b[0m\u001b[0;34m)\u001b[0m\u001b[0;34m\u001b[0m\u001b[0;34m\u001b[0m\u001b[0m\n\u001b[0m",
      "\u001b[0;31mAttributeError\u001b[0m: 'tuple' object has no attribute 'append'"
     ]
    }
   ],
   "source": [
    "a.append(4)"
   ]
  },
  {
   "cell_type": "code",
   "execution_count": 223,
   "id": "c8828f91",
   "metadata": {},
   "outputs": [
    {
     "data": {
      "text/plain": [
       "[5, 2]"
      ]
     },
     "execution_count": 223,
     "metadata": {},
     "output_type": "execute_result"
    }
   ],
   "source": [
    "b = [1, 2]\n",
    "b[0] = 5\n",
    "b"
   ]
  },
  {
   "cell_type": "markdown",
   "id": "1d3c3a19",
   "metadata": {},
   "source": [
    "## Sets"
   ]
  },
  {
   "cell_type": "code",
   "execution_count": 232,
   "id": "3f6ed81c",
   "metadata": {},
   "outputs": [],
   "source": [
    "a = {2, 3, 4}"
   ]
  },
  {
   "cell_type": "code",
   "execution_count": 233,
   "id": "2dad5aac",
   "metadata": {},
   "outputs": [],
   "source": [
    "b = {2, 1, 3}"
   ]
  },
  {
   "cell_type": "code",
   "execution_count": 234,
   "id": "a5fc048b",
   "metadata": {},
   "outputs": [
    {
     "data": {
      "text/plain": [
       "{1, 2, 3, 4}"
      ]
     },
     "execution_count": 234,
     "metadata": {},
     "output_type": "execute_result"
    }
   ],
   "source": [
    "a.union(b)"
   ]
  },
  {
   "cell_type": "code",
   "execution_count": 235,
   "id": "287beda5",
   "metadata": {},
   "outputs": [
    {
     "data": {
      "text/plain": [
       "{2, 3}"
      ]
     },
     "execution_count": 235,
     "metadata": {},
     "output_type": "execute_result"
    }
   ],
   "source": [
    "a.intersection(b)"
   ]
  },
  {
   "cell_type": "code",
   "execution_count": 237,
   "id": "28f3b0bd",
   "metadata": {},
   "outputs": [],
   "source": [
    "a = [1, 3, 3, 5, 7]"
   ]
  },
  {
   "cell_type": "code",
   "execution_count": 238,
   "id": "0baec81b",
   "metadata": {},
   "outputs": [
    {
     "data": {
      "text/plain": [
       "{1, 3, 5, 7}"
      ]
     },
     "execution_count": 238,
     "metadata": {},
     "output_type": "execute_result"
    }
   ],
   "source": [
    "b = set(a)\n",
    "b"
   ]
  },
  {
   "cell_type": "markdown",
   "id": "13141db5",
   "metadata": {},
   "source": [
    "## Dictionary"
   ]
  },
  {
   "cell_type": "code",
   "execution_count": 97,
   "id": "b548db10",
   "metadata": {},
   "outputs": [],
   "source": [
    "a = {\"name\": \"Arun\", \"age\": 23}"
   ]
  },
  {
   "cell_type": "code",
   "execution_count": 102,
   "id": "b84c3b96",
   "metadata": {},
   "outputs": [
    {
     "data": {
      "text/plain": [
       "(23, 'Arun')"
      ]
     },
     "execution_count": 102,
     "metadata": {},
     "output_type": "execute_result"
    }
   ],
   "source": [
    "a[\"age\"], a[\"name\"]"
   ]
  },
  {
   "cell_type": "code",
   "execution_count": 103,
   "id": "b9bc086c",
   "metadata": {},
   "outputs": [],
   "source": [
    "# add key value pair\n",
    "a[\"native\"] = \"Salem\""
   ]
  },
  {
   "cell_type": "code",
   "execution_count": 104,
   "id": "2d7175d0",
   "metadata": {},
   "outputs": [
    {
     "data": {
      "text/plain": [
       "{'name': 'Arun', 'age': 23, 'native': 'Salem'}"
      ]
     },
     "execution_count": 104,
     "metadata": {},
     "output_type": "execute_result"
    }
   ],
   "source": [
    "a"
   ]
  },
  {
   "cell_type": "code",
   "execution_count": 105,
   "id": "401d8823",
   "metadata": {},
   "outputs": [],
   "source": [
    "b = {\"name\": \"Raj\", \"age\": 42}"
   ]
  },
  {
   "cell_type": "code",
   "execution_count": 107,
   "id": "5f7b446f",
   "metadata": {},
   "outputs": [
    {
     "data": {
      "text/plain": [
       "({'name': 'Arun', 'age': 23, 'native': 'Salem'}, {'name': 'Raj', 'age': 42})"
      ]
     },
     "execution_count": 107,
     "metadata": {},
     "output_type": "execute_result"
    }
   ],
   "source": [
    "a, b"
   ]
  },
  {
   "cell_type": "code",
   "execution_count": 109,
   "id": "0f17b653",
   "metadata": {},
   "outputs": [],
   "source": [
    "c= [a, b]"
   ]
  },
  {
   "cell_type": "code",
   "execution_count": 110,
   "id": "d761eada",
   "metadata": {},
   "outputs": [
    {
     "data": {
      "text/plain": [
       "[{'name': 'Arun', 'age': 23, 'native': 'Salem'}, {'name': 'Raj', 'age': 42}]"
      ]
     },
     "execution_count": 110,
     "metadata": {},
     "output_type": "execute_result"
    }
   ],
   "source": [
    "c"
   ]
  },
  {
   "cell_type": "code",
   "execution_count": 111,
   "id": "1bf5a17d",
   "metadata": {},
   "outputs": [
    {
     "data": {
      "text/plain": [
       "{'name': 'Arun', 'age': 23, 'native': 'Salem'}"
      ]
     },
     "execution_count": 111,
     "metadata": {},
     "output_type": "execute_result"
    }
   ],
   "source": [
    "c[0]"
   ]
  },
  {
   "cell_type": "code",
   "execution_count": 112,
   "id": "3eebfca7",
   "metadata": {},
   "outputs": [
    {
     "data": {
      "text/plain": [
       "{'name': 'Raj', 'age': 42}"
      ]
     },
     "execution_count": 112,
     "metadata": {},
     "output_type": "execute_result"
    }
   ],
   "source": [
    "c[1]"
   ]
  },
  {
   "cell_type": "code",
   "execution_count": 113,
   "id": "0aaa06a7",
   "metadata": {},
   "outputs": [
    {
     "data": {
      "text/plain": [
       "'Arun'"
      ]
     },
     "execution_count": 113,
     "metadata": {},
     "output_type": "execute_result"
    }
   ],
   "source": [
    "a[\"name\"]"
   ]
  },
  {
   "cell_type": "code",
   "execution_count": 114,
   "id": "1b872c2e",
   "metadata": {},
   "outputs": [],
   "source": [
    "# delete key value pair\n",
    "del a[\"name\"]"
   ]
  },
  {
   "cell_type": "code",
   "execution_count": 115,
   "id": "38b8c45d",
   "metadata": {},
   "outputs": [
    {
     "data": {
      "text/plain": [
       "{'age': 23, 'native': 'Salem'}"
      ]
     },
     "execution_count": 115,
     "metadata": {},
     "output_type": "execute_result"
    }
   ],
   "source": [
    "a"
   ]
  },
  {
   "cell_type": "markdown",
   "id": "593bd8b0",
   "metadata": {},
   "source": [
    "Arithmetic operators\n",
    "\n",
    "+, -, *, / , %, **, //"
   ]
  },
  {
   "cell_type": "code",
   "execution_count": 116,
   "id": "5236704a",
   "metadata": {},
   "outputs": [
    {
     "data": {
      "text/plain": [
       "8"
      ]
     },
     "execution_count": 116,
     "metadata": {},
     "output_type": "execute_result"
    }
   ],
   "source": [
    "5+3"
   ]
  },
  {
   "cell_type": "code",
   "execution_count": 117,
   "id": "cf38948b",
   "metadata": {},
   "outputs": [
    {
     "data": {
      "text/plain": [
       "3"
      ]
     },
     "execution_count": 117,
     "metadata": {},
     "output_type": "execute_result"
    }
   ],
   "source": [
    "5-2"
   ]
  },
  {
   "cell_type": "code",
   "execution_count": 118,
   "id": "56e64d11",
   "metadata": {},
   "outputs": [
    {
     "data": {
      "text/plain": [
       "6"
      ]
     },
     "execution_count": 118,
     "metadata": {},
     "output_type": "execute_result"
    }
   ],
   "source": [
    "2*3"
   ]
  },
  {
   "cell_type": "code",
   "execution_count": 119,
   "id": "23e8cf9a",
   "metadata": {},
   "outputs": [
    {
     "data": {
      "text/plain": [
       "1.5"
      ]
     },
     "execution_count": 119,
     "metadata": {},
     "output_type": "execute_result"
    }
   ],
   "source": [
    "3/2"
   ]
  },
  {
   "cell_type": "code",
   "execution_count": 120,
   "id": "3e05e1c4",
   "metadata": {},
   "outputs": [
    {
     "data": {
      "text/plain": [
       "1"
      ]
     },
     "execution_count": 120,
     "metadata": {},
     "output_type": "execute_result"
    }
   ],
   "source": [
    "3%2"
   ]
  },
  {
   "cell_type": "code",
   "execution_count": 122,
   "id": "35b31be6",
   "metadata": {},
   "outputs": [
    {
     "data": {
      "text/plain": [
       "4"
      ]
     },
     "execution_count": 122,
     "metadata": {},
     "output_type": "execute_result"
    }
   ],
   "source": [
    "# exponential\n",
    "2**2"
   ]
  },
  {
   "cell_type": "code",
   "execution_count": 123,
   "id": "4b6d9960",
   "metadata": {},
   "outputs": [
    {
     "data": {
      "text/plain": [
       "8"
      ]
     },
     "execution_count": 123,
     "metadata": {},
     "output_type": "execute_result"
    }
   ],
   "source": [
    "2**3"
   ]
  },
  {
   "cell_type": "code",
   "execution_count": 124,
   "id": "98255431",
   "metadata": {},
   "outputs": [
    {
     "data": {
      "text/plain": [
       "1"
      ]
     },
     "execution_count": 124,
     "metadata": {},
     "output_type": "execute_result"
    }
   ],
   "source": [
    "3//2"
   ]
  },
  {
   "cell_type": "code",
   "execution_count": 125,
   "id": "92dc613c",
   "metadata": {},
   "outputs": [
    {
     "data": {
      "text/plain": [
       "2"
      ]
     },
     "execution_count": 125,
     "metadata": {},
     "output_type": "execute_result"
    }
   ],
   "source": [
    "4//2"
   ]
  },
  {
   "cell_type": "code",
   "execution_count": 126,
   "id": "6fe2240b",
   "metadata": {},
   "outputs": [
    {
     "data": {
      "text/plain": [
       "2.0"
      ]
     },
     "execution_count": 126,
     "metadata": {},
     "output_type": "execute_result"
    }
   ],
   "source": [
    "4/2"
   ]
  },
  {
   "cell_type": "code",
   "execution_count": 127,
   "id": "8826bffb",
   "metadata": {},
   "outputs": [
    {
     "data": {
      "text/plain": [
       "1.5"
      ]
     },
     "execution_count": 127,
     "metadata": {},
     "output_type": "execute_result"
    }
   ],
   "source": [
    "3/2"
   ]
  },
  {
   "cell_type": "code",
   "execution_count": 128,
   "id": "20aa9491",
   "metadata": {},
   "outputs": [
    {
     "data": {
      "text/plain": [
       "1"
      ]
     },
     "execution_count": 128,
     "metadata": {},
     "output_type": "execute_result"
    }
   ],
   "source": [
    "3//2"
   ]
  },
  {
   "cell_type": "markdown",
   "id": "73c7afa8",
   "metadata": {},
   "source": [
    "Assignment operators (=, +=, -=, *=, /=, %=, **=, //=)"
   ]
  },
  {
   "cell_type": "code",
   "execution_count": 129,
   "id": "2b31cb59",
   "metadata": {},
   "outputs": [],
   "source": [
    "a = 15"
   ]
  },
  {
   "cell_type": "code",
   "execution_count": 130,
   "id": "ce435e17",
   "metadata": {},
   "outputs": [],
   "source": [
    "a += 2"
   ]
  },
  {
   "cell_type": "code",
   "execution_count": 131,
   "id": "fae22583",
   "metadata": {},
   "outputs": [
    {
     "data": {
      "text/plain": [
       "17"
      ]
     },
     "execution_count": 131,
     "metadata": {},
     "output_type": "execute_result"
    }
   ],
   "source": [
    "a"
   ]
  },
  {
   "cell_type": "code",
   "execution_count": 132,
   "id": "c001bd8d",
   "metadata": {},
   "outputs": [],
   "source": [
    "a = a+2"
   ]
  },
  {
   "cell_type": "code",
   "execution_count": 133,
   "id": "d0b569aa",
   "metadata": {},
   "outputs": [],
   "source": [
    "a -= 2"
   ]
  },
  {
   "cell_type": "code",
   "execution_count": 134,
   "id": "b1c3fc5e",
   "metadata": {},
   "outputs": [
    {
     "data": {
      "text/plain": [
       "17"
      ]
     },
     "execution_count": 134,
     "metadata": {},
     "output_type": "execute_result"
    }
   ],
   "source": [
    "a\n"
   ]
  },
  {
   "cell_type": "code",
   "execution_count": 135,
   "id": "208e5ec5",
   "metadata": {},
   "outputs": [],
   "source": [
    " a *= 2"
   ]
  },
  {
   "cell_type": "code",
   "execution_count": 136,
   "id": "1ab1859a",
   "metadata": {},
   "outputs": [
    {
     "data": {
      "text/plain": [
       "34"
      ]
     },
     "execution_count": 136,
     "metadata": {},
     "output_type": "execute_result"
    }
   ],
   "source": [
    "a"
   ]
  },
  {
   "cell_type": "code",
   "execution_count": 137,
   "id": "7e86f1c2",
   "metadata": {},
   "outputs": [],
   "source": [
    "a/=2"
   ]
  },
  {
   "cell_type": "code",
   "execution_count": 138,
   "id": "ef30ebae",
   "metadata": {},
   "outputs": [
    {
     "data": {
      "text/plain": [
       "17.0"
      ]
     },
     "execution_count": 138,
     "metadata": {},
     "output_type": "execute_result"
    }
   ],
   "source": [
    "a"
   ]
  },
  {
   "cell_type": "markdown",
   "id": "53ebde85",
   "metadata": {},
   "source": [
    "Comparision operators (==, <=, >=, !=, <, >)"
   ]
  },
  {
   "cell_type": "code",
   "execution_count": 139,
   "id": "fe3f61d1",
   "metadata": {},
   "outputs": [
    {
     "data": {
      "text/plain": [
       "True"
      ]
     },
     "execution_count": 139,
     "metadata": {},
     "output_type": "execute_result"
    }
   ],
   "source": [
    "5 == 5"
   ]
  },
  {
   "cell_type": "code",
   "execution_count": 141,
   "id": "91d7985d",
   "metadata": {},
   "outputs": [
    {
     "data": {
      "text/plain": [
       "False"
      ]
     },
     "execution_count": 141,
     "metadata": {},
     "output_type": "execute_result"
    }
   ],
   "source": [
    "\"Arun\" == \"run\""
   ]
  },
  {
   "cell_type": "code",
   "execution_count": 142,
   "id": "b101d9e8",
   "metadata": {},
   "outputs": [
    {
     "data": {
      "text/plain": [
       "False"
      ]
     },
     "execution_count": 142,
     "metadata": {},
     "output_type": "execute_result"
    }
   ],
   "source": [
    "5< 2"
   ]
  },
  {
   "cell_type": "code",
   "execution_count": 143,
   "id": "ab4b6403",
   "metadata": {},
   "outputs": [
    {
     "data": {
      "text/plain": [
       "True"
      ]
     },
     "execution_count": 143,
     "metadata": {},
     "output_type": "execute_result"
    }
   ],
   "source": [
    "3>2"
   ]
  },
  {
   "cell_type": "code",
   "execution_count": 144,
   "id": "5626e680",
   "metadata": {},
   "outputs": [
    {
     "data": {
      "text/plain": [
       "True"
      ]
     },
     "execution_count": 144,
     "metadata": {},
     "output_type": "execute_result"
    }
   ],
   "source": [
    "3!=2"
   ]
  },
  {
   "cell_type": "code",
   "execution_count": 145,
   "id": "14f292bb",
   "metadata": {},
   "outputs": [
    {
     "data": {
      "text/plain": [
       "True"
      ]
     },
     "execution_count": 145,
     "metadata": {},
     "output_type": "execute_result"
    }
   ],
   "source": [
    "5<=5"
   ]
  },
  {
   "cell_type": "code",
   "execution_count": 147,
   "id": "f1dfbb3c",
   "metadata": {},
   "outputs": [
    {
     "data": {
      "text/plain": [
       "False"
      ]
     },
     "execution_count": 147,
     "metadata": {},
     "output_type": "execute_result"
    }
   ],
   "source": [
    "5<=2"
   ]
  },
  {
   "cell_type": "markdown",
   "id": "cba0df5c",
   "metadata": {},
   "source": [
    "Logical operators (and , or, not)"
   ]
  },
  {
   "cell_type": "code",
   "execution_count": 149,
   "id": "cd022f81",
   "metadata": {},
   "outputs": [
    {
     "data": {
      "text/plain": [
       "False"
      ]
     },
     "execution_count": 149,
     "metadata": {},
     "output_type": "execute_result"
    }
   ],
   "source": [
    "True and False"
   ]
  },
  {
   "cell_type": "code",
   "execution_count": 150,
   "id": "16bdc80e",
   "metadata": {},
   "outputs": [
    {
     "data": {
      "text/plain": [
       "True"
      ]
     },
     "execution_count": 150,
     "metadata": {},
     "output_type": "execute_result"
    }
   ],
   "source": [
    "True or False"
   ]
  },
  {
   "cell_type": "code",
   "execution_count": 152,
   "id": "d1ce50ff",
   "metadata": {},
   "outputs": [
    {
     "data": {
      "text/plain": [
       "True"
      ]
     },
     "execution_count": 152,
     "metadata": {},
     "output_type": "execute_result"
    }
   ],
   "source": [
    "not False"
   ]
  },
  {
   "cell_type": "markdown",
   "id": "d478b0d7",
   "metadata": {},
   "source": [
    "Operator Precedence x = 10+ 3 * 2 ==> 10+6 = 16\n",
    "\n",
    "A. Paranthesis<br />\n",
    "B. Exponentiation<br />\n",
    "C. Multiplication or Division<br />\n",
    "D. Addition or Subraction<br />"
   ]
  },
  {
   "cell_type": "code",
   "execution_count": 153,
   "id": "525fa4fa",
   "metadata": {},
   "outputs": [],
   "source": [
    "x = 10+ 3 * 2"
   ]
  },
  {
   "cell_type": "code",
   "execution_count": 154,
   "id": "c1d207be",
   "metadata": {},
   "outputs": [
    {
     "data": {
      "text/plain": [
       "16"
      ]
     },
     "execution_count": 154,
     "metadata": {},
     "output_type": "execute_result"
    }
   ],
   "source": [
    "x"
   ]
  },
  {
   "cell_type": "code",
   "execution_count": 157,
   "id": "82196ac2",
   "metadata": {},
   "outputs": [],
   "source": [
    "x = (10+3)*2**2"
   ]
  },
  {
   "cell_type": "code",
   "execution_count": 159,
   "id": "e66524b7",
   "metadata": {},
   "outputs": [
    {
     "data": {
      "text/plain": [
       "52"
      ]
     },
     "execution_count": 159,
     "metadata": {},
     "output_type": "execute_result"
    }
   ],
   "source": [
    "x"
   ]
  },
  {
   "cell_type": "markdown",
   "id": "9eb2a6b7",
   "metadata": {},
   "source": [
    "### Conditions"
   ]
  },
  {
   "cell_type": "code",
   "execution_count": 161,
   "id": "183f5e38",
   "metadata": {},
   "outputs": [
    {
     "name": "stdout",
     "output_type": "stream",
     "text": [
      "Pleasant day\n"
     ]
    }
   ],
   "source": [
    "temp = 17\n",
    "if temp >= 30:\n",
    "    print(\"Hot day\")\n",
    "else:\n",
    "    print(\"Pleasant day\")"
   ]
  },
  {
   "cell_type": "code",
   "execution_count": 162,
   "id": "962e48a8",
   "metadata": {},
   "outputs": [
    {
     "data": {
      "text/plain": [
       "False"
      ]
     },
     "execution_count": 162,
     "metadata": {},
     "output_type": "execute_result"
    }
   ],
   "source": [
    "temp >= 30"
   ]
  },
  {
   "cell_type": "code",
   "execution_count": 166,
   "id": "7d51e2cc",
   "metadata": {},
   "outputs": [
    {
     "name": "stdout",
     "output_type": "stream",
     "text": [
      "Hot day\n"
     ]
    }
   ],
   "source": [
    "# Nested if statements\n",
    "temp = 31\n",
    "if temp >= 30:\n",
    "    print(\"Hot day\")\n",
    "elif temp < 10:\n",
    "    print(\"Cool day\")\n",
    "else:\n",
    "    print(\"Pleasant day\")"
   ]
  },
  {
   "cell_type": "markdown",
   "id": "92c9c30d",
   "metadata": {},
   "source": [
    "### Project\n",
    "\n",
    "Write a program to find the downpayment the user have to pay. Price of the house is 1M Rupees. if the buyer has good credit then downpayment should be 10% of the price of property otherwise 20% of the price of property. Then print the downpayment the buyer has to pay."
   ]
  },
  {
   "cell_type": "code",
   "execution_count": 169,
   "id": "c6063347",
   "metadata": {},
   "outputs": [
    {
     "name": "stdout",
     "output_type": "stream",
     "text": [
      "Downpayment: Rs  200000.0\n"
     ]
    }
   ],
   "source": [
    "price_of_house = 1000000\n",
    "is_good_credit = False\n",
    "if is_good_credit:\n",
    "    down_payment = price_of_house * 0.1\n",
    "else:\n",
    "    down_payment = price_of_house * 0.2\n",
    "print(\"Downpayment: Rs \", down_payment)"
   ]
  },
  {
   "cell_type": "markdown",
   "id": "a8c37cdc",
   "metadata": {},
   "source": [
    "## Loops \n",
    "1. While\n",
    "2. For"
   ]
  },
  {
   "cell_type": "code",
   "execution_count": 170,
   "id": "55557251",
   "metadata": {},
   "outputs": [
    {
     "name": "stdout",
     "output_type": "stream",
     "text": [
      "apple\n",
      "orange\n",
      "banana\n"
     ]
    }
   ],
   "source": [
    "fruits = [\"apple\", \"orange\", \"banana\"]\n",
    "for fruit in fruits:\n",
    "    print(fruit)"
   ]
  },
  {
   "cell_type": "code",
   "execution_count": 172,
   "id": "3f2ac384",
   "metadata": {},
   "outputs": [
    {
     "name": "stdout",
     "output_type": "stream",
     "text": [
      "0\n",
      "1\n",
      "2\n",
      "3\n",
      "4\n",
      "5\n",
      "6\n",
      "7\n",
      "8\n",
      "9\n"
     ]
    }
   ],
   "source": [
    "for i in range(10):\n",
    "    print(i)"
   ]
  },
  {
   "cell_type": "code",
   "execution_count": 173,
   "id": "f86547bf",
   "metadata": {},
   "outputs": [
    {
     "data": {
      "text/plain": [
       "3"
      ]
     },
     "execution_count": 173,
     "metadata": {},
     "output_type": "execute_result"
    }
   ],
   "source": [
    "len(fruits)"
   ]
  },
  {
   "cell_type": "code",
   "execution_count": 175,
   "id": "2f1a8122",
   "metadata": {},
   "outputs": [
    {
     "name": "stdout",
     "output_type": "stream",
     "text": [
      "0\n",
      "apple\n",
      "1\n",
      "orange\n",
      "2\n",
      "banana\n"
     ]
    }
   ],
   "source": [
    "for i in range(len(fruits)):\n",
    "    print(i)\n",
    "    print(fruits[i])"
   ]
  },
  {
   "cell_type": "code",
   "execution_count": 176,
   "id": "64ccd8b1",
   "metadata": {},
   "outputs": [
    {
     "name": "stdout",
     "output_type": "stream",
     "text": [
      "name Arun\n",
      "age 23\n"
     ]
    }
   ],
   "source": [
    "b = {\"name\": \"Arun\", \"age\": 23}\n",
    "for k, v in b.items():\n",
    "    print(k, v)"
   ]
  },
  {
   "cell_type": "markdown",
   "id": "c7389954",
   "metadata": {},
   "source": [
    "# Print a triangle - using for loop\n",
    "*<br />\n",
    "**<br />\n",
    "***<br />\n",
    "****<br />\n",
    "*****<br />"
   ]
  },
  {
   "cell_type": "code",
   "execution_count": 177,
   "id": "47884e01",
   "metadata": {},
   "outputs": [
    {
     "name": "stdout",
     "output_type": "stream",
     "text": [
      "*\n",
      "**\n",
      "***\n",
      "****\n",
      "*****\n"
     ]
    }
   ],
   "source": [
    "a = [1, 2, 3, 4, 5]\n",
    "for i in a:\n",
    "    print(\"*\"* i)"
   ]
  },
  {
   "cell_type": "code",
   "execution_count": 180,
   "id": "25d8a625",
   "metadata": {},
   "outputs": [
    {
     "data": {
      "text/plain": [
       "'Arun Arun '"
      ]
     },
     "execution_count": 180,
     "metadata": {},
     "output_type": "execute_result"
    }
   ],
   "source": [
    "\"Arun \" * 2"
   ]
  },
  {
   "cell_type": "code",
   "execution_count": 181,
   "id": "c139c78f",
   "metadata": {},
   "outputs": [
    {
     "name": "stdout",
     "output_type": "stream",
     "text": [
      "Welcome to the car game\n",
      "\n",
      "You have Three commands to operate the car\n",
      "'Start' - will start the engine\n",
      "'Stop' - will stop the engine\n",
      "'Quit' - will exit out of the game\n",
      "\n"
     ]
    }
   ],
   "source": [
    "## While - game development\n",
    "print(\"Welcome to the car game\")\n",
    "print('''\n",
    "You have Three commands to operate the car\n",
    "'Start' - will start the engine\n",
    "'Stop' - will stop the engine\n",
    "'Quit' - will exit out of the game\n",
    "''')"
   ]
  },
  {
   "cell_type": "code",
   "execution_count": 183,
   "id": "0d71eb25",
   "metadata": {},
   "outputs": [
    {
     "name": "stdout",
     "output_type": "stream",
     "text": [
      "Enter the command: Quit\n",
      "Byee...\n"
     ]
    }
   ],
   "source": [
    "cond = True\n",
    "while cond:\n",
    "    command = input(\"Enter the command: \")\n",
    "    if command == \"Start\":\n",
    "        print(\"Car Started...\")\n",
    "    elif command == \"Stop\":\n",
    "        print(\"Car Stopped...\")\n",
    "    elif command == \"Quit\":\n",
    "        print(\"Byee...\")\n",
    "        cond = False\n",
    "    else:\n",
    "        print(\"I don't understand your command\")"
   ]
  },
  {
   "cell_type": "code",
   "execution_count": 184,
   "id": "46439460",
   "metadata": {},
   "outputs": [
    {
     "name": "stdout",
     "output_type": "stream",
     "text": [
      "Enter the number of records to save: 2\n",
      "Please Enter the name: Arun\n",
      "Enter the age: 23\n",
      "Please Enter the name: Raj\n",
      "Enter the age: 32\n",
      "\n",
      "\n",
      "Name of student is Arun and age is 23\n",
      "Name of student is Raj and age is 32\n"
     ]
    }
   ],
   "source": [
    "# use while loop to add records\n",
    "i = 1\n",
    "num_records = input(\"Enter the number of records to save: \")\n",
    "data = []\n",
    "while i <= int(num_records):\n",
    "    new_record = {}\n",
    "    new_record[\"name\"] = input(\"Please Enter the name: \")\n",
    "    new_record[\"age\"] = input(\"Enter the age: \")\n",
    "    data.append(new_record)\n",
    "    i = i + 1\n",
    "\n",
    "print(\"\\n\")\n",
    "for record in data:\n",
    "    print(f\"Name of student is {record['name']} and age is {record['age']}\")"
   ]
  },
  {
   "cell_type": "markdown",
   "id": "56c375f0",
   "metadata": {},
   "source": [
    "## Functions"
   ]
  },
  {
   "cell_type": "code",
   "execution_count": 187,
   "id": "95712f67",
   "metadata": {},
   "outputs": [],
   "source": [
    "def fn_name():\n",
    "    print(\"Hello World\")"
   ]
  },
  {
   "cell_type": "code",
   "execution_count": 188,
   "id": "234c053e",
   "metadata": {},
   "outputs": [
    {
     "name": "stdout",
     "output_type": "stream",
     "text": [
      "Hello World\n"
     ]
    }
   ],
   "source": [
    "fn_name()"
   ]
  },
  {
   "cell_type": "code",
   "execution_count": 190,
   "id": "f365f300",
   "metadata": {},
   "outputs": [],
   "source": [
    "def add_two_number(x, y):\n",
    "    return x+y"
   ]
  },
  {
   "cell_type": "code",
   "execution_count": 191,
   "id": "1639df30",
   "metadata": {},
   "outputs": [],
   "source": [
    "a = add_to_number(x=10, y=2)"
   ]
  },
  {
   "cell_type": "code",
   "execution_count": 192,
   "id": "8cc30045",
   "metadata": {},
   "outputs": [
    {
     "data": {
      "text/plain": [
       "12"
      ]
     },
     "execution_count": 192,
     "metadata": {},
     "output_type": "execute_result"
    }
   ],
   "source": [
    "a"
   ]
  },
  {
   "cell_type": "code",
   "execution_count": 202,
   "id": "1c94e327",
   "metadata": {},
   "outputs": [],
   "source": [
    "def add_two_arg_num(*args):\n",
    "    print(args)\n",
    "    # parsing\n",
    "    x, y, z = args\n",
    "    return x+y+z"
   ]
  },
  {
   "cell_type": "code",
   "execution_count": 203,
   "id": "b6b834d2",
   "metadata": {},
   "outputs": [
    {
     "name": "stdout",
     "output_type": "stream",
     "text": [
      "(12, 2, 3)\n"
     ]
    },
    {
     "data": {
      "text/plain": [
       "17"
      ]
     },
     "execution_count": 203,
     "metadata": {},
     "output_type": "execute_result"
    }
   ],
   "source": [
    "add_two_arg_num(12, 2, 3)"
   ]
  },
  {
   "cell_type": "code",
   "execution_count": 217,
   "id": "201068bc",
   "metadata": {},
   "outputs": [],
   "source": [
    "def add_kwargs(**kwargs):\n",
    "    for k, v in kwargs.items():\n",
    "        print(k, v)"
   ]
  },
  {
   "cell_type": "code",
   "execution_count": 219,
   "id": "2b79fe8e",
   "metadata": {},
   "outputs": [
    {
     "name": "stdout",
     "output_type": "stream",
     "text": [
      "kwargs {'Arun': 10, '23': 23}\n"
     ]
    }
   ],
   "source": [
    "dict_a = {\"Arun\":10, \"23\": 23}\n",
    "add_kwargs(kwargs=dict_a)"
   ]
  },
  {
   "cell_type": "code",
   "execution_count": null,
   "id": "d40a2eff",
   "metadata": {},
   "outputs": [],
   "source": []
  },
  {
   "cell_type": "code",
   "execution_count": null,
   "id": "30dd48b6",
   "metadata": {},
   "outputs": [],
   "source": []
  },
  {
   "cell_type": "code",
   "execution_count": null,
   "id": "6bf0eb21",
   "metadata": {},
   "outputs": [],
   "source": []
  },
  {
   "cell_type": "code",
   "execution_count": null,
   "id": "2332a2ee",
   "metadata": {},
   "outputs": [],
   "source": []
  }
 ],
 "metadata": {
  "kernelspec": {
   "display_name": "Python 3 (ipykernel)",
   "language": "python",
   "name": "python3"
  },
  "language_info": {
   "codemirror_mode": {
    "name": "ipython",
    "version": 3
   },
   "file_extension": ".py",
   "mimetype": "text/x-python",
   "name": "python",
   "nbconvert_exporter": "python",
   "pygments_lexer": "ipython3",
   "version": "3.10.6"
  }
 },
 "nbformat": 4,
 "nbformat_minor": 5
}
