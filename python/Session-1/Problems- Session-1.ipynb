{
 "cells": [
  {
   "cell_type": "markdown",
   "id": "91a2705b",
   "metadata": {},
   "source": [
    "### Number Guessing game\n",
    "You have only three choice to guess a number between 1-10. if it is guessed number right within 3 times you won else you lose. Tip use while loop"
   ]
  },
  {
   "cell_type": "code",
   "execution_count": 2,
   "id": "9b3b8f28",
   "metadata": {},
   "outputs": [
    {
     "name": "stdout",
     "output_type": "stream",
     "text": [
      "Guess a number: 4\n",
      "Guess a number: 9\n",
      "You won..!!!\n"
     ]
    }
   ],
   "source": [
    "guess_count = 1\n",
    "guess_limit = 3\n",
    "secret_number = 9\n",
    "while guess_count <= guess_limit:\n",
    "    guessed_num = int(input(\"Guess a number: \"))\n",
    "    if guessed_num == secret_number:\n",
    "        print(\"You won..!!!\")\n",
    "        break\n",
    "    if guess_count == guess_limit:\n",
    "        print(\"Sorry, You Lost..!!\")\n",
    "\n",
    "    guess_count = guess_count + 1"
   ]
  },
  {
   "cell_type": "markdown",
   "id": "9af55919",
   "metadata": {},
   "source": [
    "### Get the City\n",
    "\n",
    "Create a list of states in india and their respective cities. Now create a function which will check and tell us whether the respective city is in which state. <br />\n",
    "\n",
    "1. Get the name of the city from the users\n",
    "2. use dictionary to save the city and corresponding state eg. shown below\n",
    "3. Handle the if some cities are not available using the get method in dictionary\n",
    "\n",
    "a = {\"Trichy\": \"Tamil Nadu\", \"Coimbatore\": \"Tamil Nadu\", \"Wayanad\": \"Kerala\", \"Kochi\": \"Kerala\", \"Chennai\": \"Tamil Nadu\"}"
   ]
  },
  {
   "cell_type": "code",
   "execution_count": 10,
   "id": "675e6c75",
   "metadata": {},
   "outputs": [
    {
     "ename": "KeyboardInterrupt",
     "evalue": "Interrupted by user",
     "output_type": "error",
     "traceback": [
      "\u001b[0;31m---------------------------------------------------------------------------\u001b[0m",
      "\u001b[0;31mKeyboardInterrupt\u001b[0m                         Traceback (most recent call last)",
      "Cell \u001b[0;32mIn[10], line 4\u001b[0m\n\u001b[1;32m      1\u001b[0m a \u001b[38;5;241m=\u001b[39m {\u001b[38;5;124m\"\u001b[39m\u001b[38;5;124mTrichy\u001b[39m\u001b[38;5;124m\"\u001b[39m: \u001b[38;5;124m\"\u001b[39m\u001b[38;5;124mTamil Nadu\u001b[39m\u001b[38;5;124m\"\u001b[39m, \u001b[38;5;124m\"\u001b[39m\u001b[38;5;124mCoimbatore\u001b[39m\u001b[38;5;124m\"\u001b[39m: \u001b[38;5;124m\"\u001b[39m\u001b[38;5;124mTamil Nadu\u001b[39m\u001b[38;5;124m\"\u001b[39m, \u001b[38;5;124m\"\u001b[39m\u001b[38;5;124mWayanad\u001b[39m\u001b[38;5;124m\"\u001b[39m: \u001b[38;5;124m\"\u001b[39m\u001b[38;5;124mKerala\u001b[39m\u001b[38;5;124m\"\u001b[39m, \u001b[38;5;124m\"\u001b[39m\u001b[38;5;124mKochi\u001b[39m\u001b[38;5;124m\"\u001b[39m: \u001b[38;5;124m\"\u001b[39m\u001b[38;5;124mKerala\u001b[39m\u001b[38;5;124m\"\u001b[39m,\n\u001b[1;32m      2\u001b[0m      \u001b[38;5;124m\"\u001b[39m\u001b[38;5;124mChennai\u001b[39m\u001b[38;5;124m\"\u001b[39m: \u001b[38;5;124m\"\u001b[39m\u001b[38;5;124mTamil Nadu\u001b[39m\u001b[38;5;124m\"\u001b[39m}\n\u001b[0;32m----> 4\u001b[0m city \u001b[38;5;241m=\u001b[39m \u001b[38;5;28;43minput\u001b[39;49m\u001b[43m(\u001b[49m\u001b[38;5;124;43m\"\u001b[39;49m\u001b[38;5;124;43mEnter the city name: \u001b[39;49m\u001b[38;5;124;43m\"\u001b[39;49m\u001b[43m)\u001b[49m\n\u001b[1;32m      5\u001b[0m state \u001b[38;5;241m=\u001b[39m a\u001b[38;5;241m.\u001b[39mget(city, \u001b[38;5;124m\"\u001b[39m\u001b[38;5;124mnot found\u001b[39m\u001b[38;5;124m\"\u001b[39m)\n\u001b[1;32m      6\u001b[0m \u001b[38;5;28;01mif\u001b[39;00m state \u001b[38;5;241m!=\u001b[39m \u001b[38;5;124m\"\u001b[39m\u001b[38;5;124mnot found\u001b[39m\u001b[38;5;124m\"\u001b[39m:\n",
      "File \u001b[0;32m~/Documents/training-repo/python/venv/lib/python3.10/site-packages/ipykernel/kernelbase.py:1177\u001b[0m, in \u001b[0;36mKernel.raw_input\u001b[0;34m(self, prompt)\u001b[0m\n\u001b[1;32m   1173\u001b[0m \u001b[38;5;28;01mif\u001b[39;00m \u001b[38;5;129;01mnot\u001b[39;00m \u001b[38;5;28mself\u001b[39m\u001b[38;5;241m.\u001b[39m_allow_stdin:\n\u001b[1;32m   1174\u001b[0m     \u001b[38;5;28;01mraise\u001b[39;00m StdinNotImplementedError(\n\u001b[1;32m   1175\u001b[0m         \u001b[38;5;124m\"\u001b[39m\u001b[38;5;124mraw_input was called, but this frontend does not support input requests.\u001b[39m\u001b[38;5;124m\"\u001b[39m\n\u001b[1;32m   1176\u001b[0m     )\n\u001b[0;32m-> 1177\u001b[0m \u001b[38;5;28;01mreturn\u001b[39;00m \u001b[38;5;28;43mself\u001b[39;49m\u001b[38;5;241;43m.\u001b[39;49m\u001b[43m_input_request\u001b[49m\u001b[43m(\u001b[49m\n\u001b[1;32m   1178\u001b[0m \u001b[43m    \u001b[49m\u001b[38;5;28;43mstr\u001b[39;49m\u001b[43m(\u001b[49m\u001b[43mprompt\u001b[49m\u001b[43m)\u001b[49m\u001b[43m,\u001b[49m\n\u001b[1;32m   1179\u001b[0m \u001b[43m    \u001b[49m\u001b[38;5;28;43mself\u001b[39;49m\u001b[38;5;241;43m.\u001b[39;49m\u001b[43m_parent_ident\u001b[49m\u001b[43m[\u001b[49m\u001b[38;5;124;43m\"\u001b[39;49m\u001b[38;5;124;43mshell\u001b[39;49m\u001b[38;5;124;43m\"\u001b[39;49m\u001b[43m]\u001b[49m\u001b[43m,\u001b[49m\n\u001b[1;32m   1180\u001b[0m \u001b[43m    \u001b[49m\u001b[38;5;28;43mself\u001b[39;49m\u001b[38;5;241;43m.\u001b[39;49m\u001b[43mget_parent\u001b[49m\u001b[43m(\u001b[49m\u001b[38;5;124;43m\"\u001b[39;49m\u001b[38;5;124;43mshell\u001b[39;49m\u001b[38;5;124;43m\"\u001b[39;49m\u001b[43m)\u001b[49m\u001b[43m,\u001b[49m\n\u001b[1;32m   1181\u001b[0m \u001b[43m    \u001b[49m\u001b[43mpassword\u001b[49m\u001b[38;5;241;43m=\u001b[39;49m\u001b[38;5;28;43;01mFalse\u001b[39;49;00m\u001b[43m,\u001b[49m\n\u001b[1;32m   1182\u001b[0m \u001b[43m\u001b[49m\u001b[43m)\u001b[49m\n",
      "File \u001b[0;32m~/Documents/training-repo/python/venv/lib/python3.10/site-packages/ipykernel/kernelbase.py:1219\u001b[0m, in \u001b[0;36mKernel._input_request\u001b[0;34m(self, prompt, ident, parent, password)\u001b[0m\n\u001b[1;32m   1216\u001b[0m             \u001b[38;5;28;01mbreak\u001b[39;00m\n\u001b[1;32m   1217\u001b[0m \u001b[38;5;28;01mexcept\u001b[39;00m \u001b[38;5;167;01mKeyboardInterrupt\u001b[39;00m:\n\u001b[1;32m   1218\u001b[0m     \u001b[38;5;66;03m# re-raise KeyboardInterrupt, to truncate traceback\u001b[39;00m\n\u001b[0;32m-> 1219\u001b[0m     \u001b[38;5;28;01mraise\u001b[39;00m \u001b[38;5;167;01mKeyboardInterrupt\u001b[39;00m(\u001b[38;5;124m\"\u001b[39m\u001b[38;5;124mInterrupted by user\u001b[39m\u001b[38;5;124m\"\u001b[39m) \u001b[38;5;28;01mfrom\u001b[39;00m \u001b[38;5;28mNone\u001b[39m\n\u001b[1;32m   1220\u001b[0m \u001b[38;5;28;01mexcept\u001b[39;00m \u001b[38;5;167;01mException\u001b[39;00m:\n\u001b[1;32m   1221\u001b[0m     \u001b[38;5;28mself\u001b[39m\u001b[38;5;241m.\u001b[39mlog\u001b[38;5;241m.\u001b[39mwarning(\u001b[38;5;124m\"\u001b[39m\u001b[38;5;124mInvalid Message:\u001b[39m\u001b[38;5;124m\"\u001b[39m, exc_info\u001b[38;5;241m=\u001b[39m\u001b[38;5;28;01mTrue\u001b[39;00m)\n",
      "\u001b[0;31mKeyboardInterrupt\u001b[0m: Interrupted by user"
     ]
    }
   ],
   "source": [
    "a = {\"Trichy\": \"Tamil Nadu\", \"Coimbatore\": \"Tamil Nadu\", \"Wayanad\": \"Kerala\", \"Kochi\": \"Kerala\",\n",
    "     \"Chennai\": \"Tamil Nadu\"}\n",
    "\n",
    "city = input(\"Enter the city name: \")\n",
    "state = a.get(city, \"not found\")\n",
    "if state != \"not found\":\n",
    "    print(f\"City {city} is in {state}\")\n",
    "else:\n",
    "    state = input(\"Enter the State name: \")\n",
    "    a[city] = state\n",
    "print(a)"
   ]
  },
  {
   "cell_type": "markdown",
   "id": "d3ad442b",
   "metadata": {},
   "source": [
    "### Challenge shapes:\n",
    "Using the list of numbers. Draw the shape of 'F' as shown below. (Tip: use nested for loop)\n",
    "\n",
    "<img src=\"fshape.png\" alt=\"f-shaped\" style=\"text-align:left\">"
   ]
  },
  {
   "cell_type": "code",
   "execution_count": 5,
   "id": "cb266bf0",
   "metadata": {},
   "outputs": [
    {
     "name": "stdout",
     "output_type": "stream",
     "text": [
      "*****\n",
      "**\n",
      "*****\n",
      "**\n",
      "**\n"
     ]
    }
   ],
   "source": [
    "i = [5, 2, 5, 2, 2]\n",
    "for x in i:\n",
    "    print(\"*\"*x)"
   ]
  },
  {
   "cell_type": "markdown",
   "id": "67497015",
   "metadata": {},
   "source": [
    "### Use while loop to add records\n",
    "Create a program which will help the Librarian to add data of the book and save it to dictionary and print list of boooks."
   ]
  },
  {
   "cell_type": "code",
   "execution_count": 11,
   "id": "4a3c65dd",
   "metadata": {},
   "outputs": [
    {
     "name": "stdout",
     "output_type": "stream",
     "text": [
      "Enter the number of records to save: 2\n",
      "Please Enter the name: Arun\n",
      "Enter the age: 23\n",
      "Please Enter the name: Bob\n",
      "Enter the age: 41\n",
      "\n",
      "\n",
      "Name of student is Arun and age is 23\n",
      "Name of student is Bob and age is 41\n"
     ]
    }
   ],
   "source": [
    "# use while loop to add records\n",
    "i = 1\n",
    "num_records = input(\"Enter the number of records to save: \")\n",
    "data = []\n",
    "while i <= int(num_records):\n",
    "    new_record = {}\n",
    "    new_record[\"name\"] = input(\"Please Enter the name: \")\n",
    "    new_record[\"age\"] = input(\"Enter the age: \")\n",
    "    data.append(new_record)\n",
    "    i = i + 1\n",
    "\n",
    "print(\"\\n\")\n",
    "for record in data:\n",
    "    print(f\"Name of student is {record['name']} and age is {record['age']}\")"
   ]
  },
  {
   "cell_type": "markdown",
   "id": "c4cd91d6",
   "metadata": {},
   "source": [
    "### Write Funtion\n",
    "Write function to do all the calculator operations on two numbers?\n",
    "1. Addition\n",
    "2. Subraction\n",
    "3. Multiplication\n",
    "4. Division"
   ]
  },
  {
   "cell_type": "code",
   "execution_count": 12,
   "id": "e6aa785d",
   "metadata": {},
   "outputs": [
    {
     "name": "stdout",
     "output_type": "stream",
     "text": [
      "Let's do some math with just functions!\n",
      "ADDING 30 + 5\n",
      "SUBTRACTING 78 - 4\n",
      "MULTIPLYING 90 * 2\n",
      "DIVIDING 100 / 2\n",
      "35 74 180 50.0\n"
     ]
    }
   ],
   "source": [
    "# Addtion, Subraction, Multiplication & Division\n",
    "def add(a, b):\n",
    "    print(\"ADDING %d + %d\" % (a, b))\n",
    "    return a + b\n",
    "\n",
    "def subtract(a, b):\n",
    "    print(\"SUBTRACTING %d - %d\" % (a, b))\n",
    "    return a - b\n",
    "\n",
    "def multiply(a, b):\n",
    "    print(\"MULTIPLYING %d * %d\" % (a, b))\n",
    "    return a * b\n",
    "\n",
    "def divide(a, b):\n",
    "    print(\"DIVIDING %d / %d\" % (a, b))\n",
    "    return a / b\n",
    "\n",
    "print(\"Let's do some math with just functions!\")\n",
    "added = add(30, 5)\n",
    "sub = subtract(78, 4)\n",
    "mult = multiply(90, 2)\n",
    "div = divide(100, 2)\n",
    "print(added, sub, mult, div)"
   ]
  },
  {
   "cell_type": "code",
   "execution_count": null,
   "id": "f78ab9f5",
   "metadata": {},
   "outputs": [],
   "source": []
  }
 ],
 "metadata": {
  "kernelspec": {
   "display_name": "Python 3 (ipykernel)",
   "language": "python",
   "name": "python3"
  },
  "language_info": {
   "codemirror_mode": {
    "name": "ipython",
    "version": 3
   },
   "file_extension": ".py",
   "mimetype": "text/x-python",
   "name": "python",
   "nbconvert_exporter": "python",
   "pygments_lexer": "ipython3",
   "version": "3.10.6"
  }
 },
 "nbformat": 4,
 "nbformat_minor": 5
}
