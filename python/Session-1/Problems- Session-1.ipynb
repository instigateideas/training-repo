{
 "cells": [
  {
   "cell_type": "markdown",
   "id": "5d335939",
   "metadata": {},
   "source": [
    "### Guessing game\n",
    "You have only three choice to guess a number between 1-10. if it is guessed number right within 3 times you won else you lose. Tip use while loop"
   ]
  },
  {
   "cell_type": "markdown",
   "id": "5a52e4c1",
   "metadata": {},
   "source": [
    "#### Project\n",
    "\n",
    "Create a list of states in india and their respective cities. Now create a function which will check and tell us whether the respective city is in which state. <br />\n",
    "\n",
    "1. Get the name of the city from the users\n",
    "2. use dictionary to save the city and corresponding state eg. shown below\n",
    "3. Handle the if some cities are not available using the get method in dictionary\n",
    "\n",
    "a = {\"Trichy\": \"Tamil Nadu\", \"Coimbatore\": \"Tamil Nadu\", \"Wayanad\": \"Kerala\", \"Kochi\": \"Kerala\", \"Chennai\": \"Tamil Nadu\"}"
   ]
  },
  {
   "cell_type": "markdown",
   "id": "5c346f23",
   "metadata": {},
   "source": [
    "### Challenge shapes:\n",
    "Using the list of numbers. Draw the shape of 'F' as shown below. (Tip: use nested for loop)\n",
    "\n",
    "<img src=\"fshape.png\" alt=\"f-shaped\" style=\"text-align:left\">"
   ]
  },
  {
   "cell_type": "markdown",
   "id": "9c6ce351",
   "metadata": {},
   "source": [
    "### Use while loop to add records\n",
    "Create a program which will help the Librarian to add data of the book and save it to dictionary and print list of boooks."
   ]
  },
  {
   "cell_type": "markdown",
   "id": "54385bce",
   "metadata": {},
   "source": [
    "## Write Funtion\n",
    "Write function to do all the calculator operations on two numbers?\n",
    "1. Addition\n",
    "2. Subraction\n",
    "3. Multiplication\n",
    "4. Division"
   ]
  },
  {
   "cell_type": "code",
   "execution_count": null,
   "id": "de4a11f4",
   "metadata": {},
   "outputs": [],
   "source": []
  }
 ],
 "metadata": {
  "kernelspec": {
   "display_name": "Python 3 (ipykernel)",
   "language": "python",
   "name": "python3"
  },
  "language_info": {
   "codemirror_mode": {
    "name": "ipython",
    "version": 3
   },
   "file_extension": ".py",
   "mimetype": "text/x-python",
   "name": "python",
   "nbconvert_exporter": "python",
   "pygments_lexer": "ipython3",
   "version": "3.10.6"
  }
 },
 "nbformat": 4,
 "nbformat_minor": 5
}
