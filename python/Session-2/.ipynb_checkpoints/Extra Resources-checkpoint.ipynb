{
 "cells": [
  {
   "cell_type": "markdown",
   "id": "39a1a871",
   "metadata": {},
   "source": [
    "## Classes & OOP's Python\n",
    "\n",
    "1. Class\n",
    "2. Inheritance\n",
    "3. Recursive function"
   ]
  },
  {
   "cell_type": "code",
   "execution_count": null,
   "id": "45723df8",
   "metadata": {},
   "outputs": [],
   "source": [
    "# create a class for animal - mammals\n",
    "class Mammal(object):\n",
    "    def __init__(self):\n",
    "        print(\"Mammal is activated..\")\n",
    "        \n",
    "    def walk(self):\n",
    "        print(\"mammals can walk\")\n",
    "        \n",
    "    def live_where(self):\n",
    "        print(\"mammals can live on land\")\n",
    "        \n",
    "\n",
    "class Dog(Mammal):\n",
    "    def "
   ]
  },
  {
   "cell_type": "code",
   "execution_count": null,
   "id": "d0989935",
   "metadata": {},
   "outputs": [],
   "source": []
  },
  {
   "cell_type": "code",
   "execution_count": null,
   "id": "b1234c6c",
   "metadata": {},
   "outputs": [],
   "source": []
  },
  {
   "cell_type": "markdown",
   "id": "dc6a05da",
   "metadata": {},
   "source": [
    "### Python - Data Wrangling\n",
    "\n",
    "1. Manipulating \n",
    "2. Processing\n",
    "3. Cleaning\n",
    "4. Crunching data  \n",
    "\n",
    "***\n",
    "My goal is to offer a guide to the parts of the Python\n",
    "programming language and its data-oriented library ecosystem and tools that will\n",
    "equip you to become an effective data analyst."
   ]
  },
  {
   "cell_type": "markdown",
   "id": "2bfd630c",
   "metadata": {},
   "source": [
    "### Kinds of Data\n",
    "- Tabular, CSV, Excel, Dictionary\n",
    "- Multi- Dimensional array\n",
    "- Multiple Table inter-related by columns (SQL)\n",
    "- JSON"
   ]
  },
  {
   "cell_type": "markdown",
   "id": "9e415faf",
   "metadata": {},
   "source": [
    "### Essential Python Libraries\n",
    "\n",
    "1. Numpy\n",
    "2. Pandas\n",
    "3. Matplotlib\n",
    "4. Ipython & Jupyter"
   ]
  },
  {
   "cell_type": "code",
   "execution_count": 4,
   "id": "782d5bc1",
   "metadata": {},
   "outputs": [],
   "source": [
    "import numpy as np"
   ]
  },
  {
   "cell_type": "code",
   "execution_count": 7,
   "id": "98f5ccfd",
   "metadata": {},
   "outputs": [],
   "source": [
    "a = np.random.rand(10, 10)"
   ]
  },
  {
   "cell_type": "code",
   "execution_count": 9,
   "id": "71e939ce",
   "metadata": {},
   "outputs": [
    {
     "name": "stdout",
     "output_type": "stream",
     "text": [
      "707 ns ± 6.27 ns per loop (mean ± std. dev. of 7 runs, 1000000 loops each)\n"
     ]
    }
   ],
   "source": [
    "%timeit np.dot(a, a)"
   ]
  },
  {
   "cell_type": "code",
   "execution_count": 10,
   "id": "d5c61196",
   "metadata": {},
   "outputs": [
    {
     "data": {
      "text/plain": [
       "'/home/arunachalamdharmaraj/Documents/training-repo/python/Session-2'"
      ]
     },
     "execution_count": 10,
     "metadata": {},
     "output_type": "execute_result"
    }
   ],
   "source": [
    "%pwd"
   ]
  },
  {
   "cell_type": "code",
   "execution_count": 13,
   "id": "87b23f73",
   "metadata": {},
   "outputs": [
    {
     "data": {
      "text/plain": [
       "'/home/arunachalamdharmaraj/Documents/training-repo/python/Session-2'"
      ]
     },
     "execution_count": 13,
     "metadata": {},
     "output_type": "execute_result"
    }
   ],
   "source": [
    "path = %pwd\n",
    "path"
   ]
  },
  {
   "cell_type": "code",
   "execution_count": 12,
   "id": "473a2a8e",
   "metadata": {},
   "outputs": [
    {
     "data": {
      "text/plain": [
       "'/home/arunachalamdharmaraj/Documents/training-repo/python/Session-2'"
      ]
     },
     "execution_count": 12,
     "metadata": {},
     "output_type": "execute_result"
    }
   ],
   "source": [
    "path"
   ]
  },
  {
   "cell_type": "code",
   "execution_count": 15,
   "id": "2aa2ea2c",
   "metadata": {},
   "outputs": [],
   "source": [
    "%matplotlib inline\n",
    "import matplotlib.pyplot as plt"
   ]
  },
  {
   "cell_type": "code",
   "execution_count": 16,
   "id": "8ee30a52",
   "metadata": {},
   "outputs": [
    {
     "data": {
      "text/plain": [
       "[<matplotlib.lines.Line2D at 0x7f3f5f817700>]"
      ]
     },
     "execution_count": 16,
     "metadata": {},
     "output_type": "execute_result"
    },
    {
     "data": {
      "image/png": "[encoded data removed]",
      "text/plain": [
       "<Figure size 432x288 with 1 Axes>"
      ]
     },
     "metadata": {
      "needs_background": "light"
     },
     "output_type": "display_data"
    }
   ],
   "source": [
    "plt.plot(np.random.rand(50).cumsum())"
   ]
  },
  {
   "cell_type": "code",
   "execution_count": 17,
   "id": "1f4c43c0",
   "metadata": {},
   "outputs": [],
   "source": [
    "# multiple statement to a single line we can use ;\n",
    "a = 4 ; c = 2 ; d = 10 ; "
   ]
  },
  {
   "cell_type": "code",
   "execution_count": 19,
   "id": "c21f83d3",
   "metadata": {},
   "outputs": [
    {
     "data": {
      "text/plain": [
       "(4, 2, 10)"
      ]
     },
     "execution_count": 19,
     "metadata": {},
     "output_type": "execute_result"
    }
   ],
   "source": [
    "a, c, d"
   ]
  },
  {
   "cell_type": "code",
   "execution_count": 21,
   "id": "2f892f76",
   "metadata": {},
   "outputs": [],
   "source": [
    "## File Handling - write a text file\n",
    "txt_data = '''\n",
    "Hi,\n",
    "Welcome to Python Training Session. Today we will cover the list of modules below\n",
    "1. Pandas\n",
    "2. Numpy\n",
    "'''"
   ]
  },
  {
   "cell_type": "code",
   "execution_count": 22,
   "id": "7b3135f7",
   "metadata": {},
   "outputs": [],
   "source": [
    "with open(\"sample.txt\", 'w') as file:\n",
    "    file.write(txt_data)"
   ]
  },
  {
   "cell_type": "code",
   "execution_count": 23,
   "id": "eb15f57b",
   "metadata": {},
   "outputs": [
    {
     "name": "stdout",
     "output_type": "stream",
     "text": [
      "'Data Wrangling.ipynb'   sample.txt\r\n"
     ]
    }
   ],
   "source": [
    "%ls"
   ]
  },
  {
   "cell_type": "code",
   "execution_count": 24,
   "id": "118435fa",
   "metadata": {},
   "outputs": [
    {
     "data": {
      "text/plain": [
       "5"
      ]
     },
     "execution_count": 24,
     "metadata": {},
     "output_type": "execute_result"
    }
   ],
   "source": [
    "# get the count of new line\n",
    "txt_data.count(\"\\n\")"
   ]
  },
  {
   "cell_type": "code",
   "execution_count": 29,
   "id": "fe173e9a",
   "metadata": {},
   "outputs": [
    {
     "data": {
      "text/plain": [
       "1"
      ]
     },
     "execution_count": 29,
     "metadata": {},
     "output_type": "execute_result"
    }
   ],
   "source": [
    "txt_data.count(\"Python\")"
   ]
  },
  {
   "cell_type": "code",
   "execution_count": 30,
   "id": "ece99544",
   "metadata": {},
   "outputs": [
    {
     "data": {
      "text/plain": [
       "'this\\\\has\\\\no\\\\special\\\\characters'"
      ]
     },
     "execution_count": 30,
     "metadata": {},
     "output_type": "execute_result"
    }
   ],
   "source": [
    "s = 'this\\\\has\\\\no\\\\special\\\\characters'\n",
    "s"
   ]
  },
  {
   "cell_type": "code",
   "execution_count": 31,
   "id": "01873160",
   "metadata": {},
   "outputs": [
    {
     "data": {
      "text/plain": [
       "'this\\\\\\\\has\\\\\\\\no\\\\\\\\special\\\\\\\\characters'"
      ]
     },
     "execution_count": 31,
     "metadata": {},
     "output_type": "execute_result"
    }
   ],
   "source": [
    "s = r'this\\\\has\\\\no\\\\special\\\\characters'\n",
    "s"
   ]
  },
  {
   "cell_type": "code",
   "execution_count": 33,
   "id": "0a09b589",
   "metadata": {},
   "outputs": [
    {
     "name": "stdout",
     "output_type": "stream",
     "text": [
      "12\\34\n"
     ]
    }
   ],
   "source": [
    "s = \"12\\\\34\"\n",
    "print(s)"
   ]
  },
  {
   "cell_type": "markdown",
   "id": "110fc2b0",
   "metadata": {},
   "source": [
    "## Date and Times"
   ]
  },
  {
   "cell_type": "code",
   "execution_count": 35,
   "id": "a3b5393d",
   "metadata": {},
   "outputs": [],
   "source": [
    "from datetime import datetime, date, time"
   ]
  },
  {
   "cell_type": "code",
   "execution_count": 73,
   "id": "3e957024",
   "metadata": {},
   "outputs": [
    {
     "data": {
      "text/plain": [
       "datetime.datetime"
      ]
     },
     "execution_count": 73,
     "metadata": {},
     "output_type": "execute_result"
    }
   ],
   "source": [
    "# Create a date object - year, month, date, time H:M:S\n",
    "dt = datetime(2022, 10, 29, 20, 30, 11)\n",
    "type(dt)"
   ]
  },
  {
   "cell_type": "code",
   "execution_count": 74,
   "id": "704c211e",
   "metadata": {},
   "outputs": [
    {
     "data": {
      "text/plain": [
       "(2022, 10, 29, 20, 30, 11)"
      ]
     },
     "execution_count": 74,
     "metadata": {},
     "output_type": "execute_result"
    }
   ],
   "source": [
    "dt.year, dt.month, dt.day,dt.hour, dt.minute, dt.second"
   ]
  },
  {
   "cell_type": "code",
   "execution_count": 75,
   "id": "d8e0a6ef",
   "metadata": {},
   "outputs": [
    {
     "data": {
      "text/plain": [
       "(datetime.date(2022, 10, 29), datetime.time(20, 30, 11))"
      ]
     },
     "execution_count": 75,
     "metadata": {},
     "output_type": "execute_result"
    }
   ],
   "source": [
    "dt.date(), dt.time()"
   ]
  },
  {
   "cell_type": "code",
   "execution_count": 77,
   "id": "175c9fb8",
   "metadata": {},
   "outputs": [
    {
     "data": {
      "text/plain": [
       "'10/29/2022 20:30:11'"
      ]
     },
     "execution_count": 77,
     "metadata": {},
     "output_type": "execute_result"
    }
   ],
   "source": [
    "# convert dateobj to the custom string format\n",
    "dt_str_obj = dt.strftime(\"%m/%d/%Y %H:%M:%S\")\n",
    "dt_str_obj"
   ]
  },
  {
   "cell_type": "code",
   "execution_count": 79,
   "id": "7ae3964a",
   "metadata": {},
   "outputs": [
    {
     "data": {
      "text/plain": [
       "datetime.datetime(2022, 6, 10, 8, 20, 12)"
      ]
     },
     "execution_count": 79,
     "metadata": {},
     "output_type": "execute_result"
    }
   ],
   "source": [
    "# Parsing string to datetime object\n",
    "date_str = \"10-06-2022 08:20:12\"\n",
    "date_obj = datetime.strptime(date_str, \"%d-%m-%Y %H:%M:%S\")\n",
    "date_obj"
   ]
  },
  {
   "cell_type": "code",
   "execution_count": 88,
   "id": "f0147fdb",
   "metadata": {},
   "outputs": [
    {
     "data": {
      "text/plain": [
       "datetime.datetime(1990, 5, 11, 9, 10)"
      ]
     },
     "execution_count": 88,
     "metadata": {},
     "output_type": "execute_result"
    }
   ],
   "source": [
    "# Edit the dates - replace\n",
    "date_obj.replace(year=1990, month=5, day=11, hour=9,minute=10, second=0)"
   ]
  },
  {
   "cell_type": "code",
   "execution_count": 91,
   "id": "001d2bf6",
   "metadata": {},
   "outputs": [],
   "source": [
    "birth_year = datetime(1990, 5, 11, 9, 20, 30)\n",
    "today_date = datetime.now()"
   ]
  },
  {
   "cell_type": "code",
   "execution_count": 105,
   "id": "fa3c43d7",
   "metadata": {},
   "outputs": [
    {
     "name": "stdout",
     "output_type": "stream",
     "text": [
      "you have lived 32.61 years 11902 days 6413 seconds\n"
     ]
    }
   ],
   "source": [
    "time_delta = today_date - birth_year\n",
    "age = time_delta.days/365\n",
    "print(\"you have lived %.2f years %d days %d seconds\" %(age, time_delta.days, time_delta.seconds))"
   ]
  },
  {
   "cell_type": "markdown",
   "id": "9579e713",
   "metadata": {},
   "source": [
    "## Sorting"
   ]
  },
  {
   "cell_type": "code",
   "execution_count": 107,
   "id": "797be269",
   "metadata": {},
   "outputs": [
    {
     "data": {
      "text/plain": [
       "[1, 6, 7, 9, 12, 18, 100]"
      ]
     },
     "execution_count": 107,
     "metadata": {},
     "output_type": "execute_result"
    }
   ],
   "source": [
    "## Sorting list\n",
    "a = [7, 1, 6, 9, 100, 12, 18]\n",
    "a.sort()\n",
    "a"
   ]
  },
  {
   "cell_type": "code",
   "execution_count": 108,
   "id": "39dcf318",
   "metadata": {},
   "outputs": [
    {
     "data": {
      "text/plain": [
       "['apple', 'beetroot', 'carrot', 'grapes', 'orange']"
      ]
     },
     "execution_count": 108,
     "metadata": {},
     "output_type": "execute_result"
    }
   ],
   "source": [
    "# String sorting\n",
    "fruits = [\"apple\", \"orange\", \"carrot\", \"beetroot\", \"grapes\"]\n",
    "fruits.sort()\n",
    "fruits"
   ]
  },
  {
   "cell_type": "code",
   "execution_count": 109,
   "id": "93fa8e25",
   "metadata": {},
   "outputs": [
    {
     "data": {
      "text/plain": [
       "['apple', 'orange', 'carrot', 'grapes', 'beetroot']"
      ]
     },
     "execution_count": 109,
     "metadata": {},
     "output_type": "execute_result"
    }
   ],
   "source": [
    "# Sort based on key\n",
    "fruits = [\"apple\", \"orange\", \"carrot\", \"beetroot\", \"grapes\"]\n",
    "fruits.sort(key=len)\n",
    "fruits"
   ]
  },
  {
   "cell_type": "markdown",
   "id": "23934122",
   "metadata": {},
   "source": [
    "## Zip and enumerate"
   ]
  },
  {
   "cell_type": "code",
   "execution_count": 121,
   "id": "bbc71580",
   "metadata": {},
   "outputs": [
    {
     "data": {
      "text/plain": [
       "{'foo': 0, 'king': 1, 'orchs': 2}"
      ]
     },
     "execution_count": 121,
     "metadata": {},
     "output_type": "execute_result"
    }
   ],
   "source": [
    "characters = [\"foo\", \"king\", \"orchs\"]\n",
    "data = {}\n",
    "for i, char in enumerate(characters):\n",
    "    data[char] = i\n",
    "data"
   ]
  },
  {
   "cell_type": "code",
   "execution_count": 111,
   "id": "c580ab13",
   "metadata": {},
   "outputs": [
    {
     "data": {
      "text/plain": [
       "{'apple': 20, 'banana': 40, 'orange': 18, 'grapes': 6}"
      ]
     },
     "execution_count": 111,
     "metadata": {},
     "output_type": "execute_result"
    }
   ],
   "source": [
    "a = [\"apple\", \"banana\", \"orange\", \"grapes\"]\n",
    "calorie = [20, 40, 18, 6]\n",
    "data = {}\n",
    "for fruit, cal in zip(a, calorie):\n",
    "    data[fruit] = cal\n",
    "data"
   ]
  },
  {
   "cell_type": "code",
   "execution_count": 112,
   "id": "089821d6",
   "metadata": {},
   "outputs": [],
   "source": [
    "# Zip to unzip the data\n",
    "names = [('Christopher', 'Nolan'), ('Oliver', 'Wildey'), ('Joanthan', 'Andrew')]"
   ]
  },
  {
   "cell_type": "code",
   "execution_count": 114,
   "id": "479b14cd",
   "metadata": {},
   "outputs": [],
   "source": [
    "# unzip here\n",
    "first_names, last_names = zip(*names)"
   ]
  },
  {
   "cell_type": "code",
   "execution_count": 115,
   "id": "2c884f37",
   "metadata": {},
   "outputs": [
    {
     "name": "stdout",
     "output_type": "stream",
     "text": [
      "First names:  ('Christopher', 'Oliver', 'Joanthan')\n",
      "Last names:  ('Nolan', 'Wildey', 'Andrew')\n"
     ]
    }
   ],
   "source": [
    "print(\"First names: \", first_names)\n",
    "print(\"Last names: \", last_names)"
   ]
  },
  {
   "cell_type": "code",
   "execution_count": 119,
   "id": "73d5bec2",
   "metadata": {},
   "outputs": [
    {
     "data": {
      "text/plain": [
       "[9, 8, 7, 6, 5, 4, 3, 2, 1, 0]"
      ]
     },
     "execution_count": 119,
     "metadata": {},
     "output_type": "execute_result"
    }
   ],
   "source": [
    "# Reversed\n",
    "list(reversed(range(10)))"
   ]
  },
  {
   "cell_type": "markdown",
   "id": "7f9e8d43",
   "metadata": {},
   "source": [
    "## Sets"
   ]
  },
  {
   "cell_type": "code",
   "execution_count": 122,
   "id": "495e9674",
   "metadata": {},
   "outputs": [
    {
     "data": {
      "text/plain": [
       "{1, 2, 3}"
      ]
     },
     "execution_count": 122,
     "metadata": {},
     "output_type": "execute_result"
    }
   ],
   "source": [
    "a = [2, 2, 2, 1, 3, 3]\n",
    "set(a)"
   ]
  },
  {
   "cell_type": "code",
   "execution_count": 127,
   "id": "c8e09e25",
   "metadata": {},
   "outputs": [
    {
     "name": "stdout",
     "output_type": "stream",
     "text": [
      "a:  {1, 2, 3, 4, 5}\n",
      "b:  {3, 4, 5, 6, 7, 8}\n",
      "\n",
      "Union:  {1, 2, 3, 4, 5, 6, 7, 8}\n",
      "Intersection:  {3, 4, 5}\n"
     ]
    }
   ],
   "source": [
    "a = {1, 2, 3, 4, 5}\n",
    "b = {3, 4, 5, 6, 7, 8}\n",
    "\n",
    "print(\"a: \", a)\n",
    "print(\"b: \", b)\n",
    "print('')\n",
    "\n",
    "# Union\n",
    "union_set = a.union(b)\n",
    "print(\"Union: \", union_set)\n",
    "\n",
    "# Inetesection\n",
    "intersect_set = a.intersection(b)\n",
    "print(\"Intersection: \", intersect_set)"
   ]
  },
  {
   "cell_type": "code",
   "execution_count": 128,
   "id": "a06837c2",
   "metadata": {},
   "outputs": [
    {
     "data": {
      "text/plain": [
       "{1, 2}"
      ]
     },
     "execution_count": 128,
     "metadata": {},
     "output_type": "execute_result"
    }
   ],
   "source": [
    "a.difference(b)"
   ]
  },
  {
   "cell_type": "code",
   "execution_count": 129,
   "id": "ce004376",
   "metadata": {},
   "outputs": [
    {
     "data": {
      "text/plain": [
       "{6, 7, 8}"
      ]
     },
     "execution_count": 129,
     "metadata": {},
     "output_type": "execute_result"
    }
   ],
   "source": [
    "b.difference(a)"
   ]
  },
  {
   "cell_type": "code",
   "execution_count": 130,
   "id": "693a0ec3",
   "metadata": {},
   "outputs": [
    {
     "data": {
      "text/plain": [
       "False"
      ]
     },
     "execution_count": 130,
     "metadata": {},
     "output_type": "execute_result"
    }
   ],
   "source": [
    "a.issubset(b)"
   ]
  },
  {
   "cell_type": "code",
   "execution_count": 140,
   "id": "c6de19fb",
   "metadata": {},
   "outputs": [
    {
     "data": {
      "text/plain": [
       "True"
      ]
     },
     "execution_count": 140,
     "metadata": {},
     "output_type": "execute_result"
    }
   ],
   "source": [
    "c = {1, 3, 5}\n",
    "c.issubset(a)"
   ]
  },
  {
   "cell_type": "code",
   "execution_count": 141,
   "id": "01255bc1",
   "metadata": {},
   "outputs": [
    {
     "data": {
      "text/plain": [
       "True"
      ]
     },
     "execution_count": 141,
     "metadata": {},
     "output_type": "execute_result"
    }
   ],
   "source": [
    "a.issuperset(c)"
   ]
  },
  {
   "cell_type": "code",
   "execution_count": 142,
   "id": "fcd1c1a5",
   "metadata": {},
   "outputs": [
    {
     "data": {
      "text/plain": [
       "{1, 5}"
      ]
     },
     "execution_count": 142,
     "metadata": {},
     "output_type": "execute_result"
    }
   ],
   "source": [
    "# Remove\n",
    "c.remove(3)\n",
    "c"
   ]
  },
  {
   "cell_type": "code",
   "execution_count": 144,
   "id": "65ea821f",
   "metadata": {},
   "outputs": [
    {
     "data": {
      "text/plain": [
       "set()"
      ]
     },
     "execution_count": 144,
     "metadata": {},
     "output_type": "execute_result"
    }
   ],
   "source": [
    "# clear all the elements\n",
    "c.clear()\n",
    "c"
   ]
  },
  {
   "cell_type": "code",
   "execution_count": 149,
   "id": "03130367",
   "metadata": {},
   "outputs": [
    {
     "data": {
      "text/plain": [
       "{1, 2}"
      ]
     },
     "execution_count": 149,
     "metadata": {},
     "output_type": "execute_result"
    }
   ],
   "source": [
    "# add element\n",
    "c.add(2)\n",
    "c"
   ]
  },
  {
   "cell_type": "code",
   "execution_count": 151,
   "id": "537b9a2f",
   "metadata": {},
   "outputs": [
    {
     "data": {
      "text/plain": [
       "True"
      ]
     },
     "execution_count": 151,
     "metadata": {},
     "output_type": "execute_result"
    }
   ],
   "source": [
    "# No elements in common\n",
    "d={7, 8}\n",
    "d.isdisjoint(c)"
   ]
  },
  {
   "cell_type": "code",
   "execution_count": 152,
   "id": "179145fa",
   "metadata": {},
   "outputs": [
    {
     "name": "stdout",
     "output_type": "stream",
     "text": [
      "a\n",
      "b\n"
     ]
    }
   ],
   "source": [
    "for i in {\"a\": 1, \"b\": 2}:\n",
    "    print(i)"
   ]
  },
  {
   "cell_type": "markdown",
   "id": "72e977d6",
   "metadata": {},
   "source": [
    "## Yield Function"
   ]
  },
  {
   "cell_type": "code",
   "execution_count": 156,
   "id": "ee60ea63",
   "metadata": {},
   "outputs": [],
   "source": [
    "def squares(n=10):\n",
    "    print('Generating squares from 1 to {0}'.format(n ** 2))\n",
    "    for i in range(1, n + 1):\n",
    "        yield i ** 2"
   ]
  },
  {
   "cell_type": "code",
   "execution_count": 157,
   "id": "7ff50354",
   "metadata": {},
   "outputs": [],
   "source": [
    "objs = squares()"
   ]
  },
  {
   "cell_type": "code",
   "execution_count": 158,
   "id": "b209b884",
   "metadata": {},
   "outputs": [
    {
     "name": "stdout",
     "output_type": "stream",
     "text": [
      "Generating squares from 1 to 100\n",
      "1\n",
      "4\n",
      "9\n",
      "16\n",
      "25\n",
      "36\n",
      "49\n",
      "64\n",
      "81\n",
      "100\n"
     ]
    }
   ],
   "source": [
    "for obj in objs:\n",
    "    print(obj)"
   ]
  },
  {
   "cell_type": "markdown",
   "id": "187181ad",
   "metadata": {},
   "source": [
    "## Itertools module\n",
    "names = ['Alan', 'Adam', 'Wes', 'Will', 'Albert', 'Steven']\n",
    "\n",
    "now we have to save the first name and last name in the list to new list of list"
   ]
  },
  {
   "cell_type": "code",
   "execution_count": 163,
   "id": "b1a9a591",
   "metadata": {},
   "outputs": [],
   "source": [
    "import itertools\n",
    "names = ['Alan', 'Adam', 'Wes', 'Will', 'Albert', 'Steven', \"Racheel\", \"Rajan\"]"
   ]
  },
  {
   "cell_type": "code",
   "execution_count": 164,
   "id": "7bb497b6",
   "metadata": {},
   "outputs": [],
   "source": [
    "# get first letter function from string\n",
    "first_letter = lambda x: x[0]"
   ]
  },
  {
   "cell_type": "code",
   "execution_count": 168,
   "id": "8f4ed6fe",
   "metadata": {},
   "outputs": [
    {
     "name": "stdout",
     "output_type": "stream",
     "text": [
      "Letter A:  ['Alan', 'Adam']\n",
      "Letter W:  ['Wes', 'Will']\n",
      "Letter A:  ['Albert']\n",
      "Letter S:  ['Steven']\n",
      "Letter R:  ['Racheel', 'Rajan']\n"
     ]
    }
   ],
   "source": [
    "# Group the consecutive words based on the function - first letter\n",
    "for letter, grp_names in itertools.groupby(names, first_letter):\n",
    "    print(f\"Letter {letter}: \", list(grp_names))"
   ]
  },
  {
   "cell_type": "code",
   "execution_count": 169,
   "id": "39cc6721",
   "metadata": {},
   "outputs": [
    {
     "name": "stdout",
     "output_type": "stream",
     "text": [
      "Steven\n",
      "Racheel\n"
     ]
    }
   ],
   "source": [
    "# Get the name with 'ee' in name\n",
    "for name in names:\n",
    "    cnt = name.count('e')\n",
    "    if cnt >= 2:\n",
    "        print(name)"
   ]
  },
  {
   "cell_type": "markdown",
   "id": "c11a5ae2",
   "metadata": {},
   "source": [
    "##  Errors and Exception Handling"
   ]
  },
  {
   "cell_type": "code",
   "execution_count": 171,
   "id": "045ca6c8",
   "metadata": {},
   "outputs": [
    {
     "data": {
      "text/plain": [
       "0.5"
      ]
     },
     "execution_count": 171,
     "metadata": {},
     "output_type": "execute_result"
    }
   ],
   "source": [
    "a = 5/10\n",
    "a"
   ]
  },
  {
   "cell_type": "markdown",
   "id": "4add6cc2",
   "metadata": {},
   "source": [
    "### Create a function for division\n",
    "\n",
    "```python\n",
    "def division(x, y):\n",
    "    return x/y\n",
    "\n",
    "division(5, 0)\n",
    "\n",
    "ZeroDivisionError                         Traceback (most recent call last)\n",
    "/tmp/ipykernel_6492/863577860.py in <module>\n",
    "      2     return x/y\n",
    "      3 \n",
    "----> 4 division(5, 0)\n",
    "\n",
    "/tmp/ipykernel_6492/863577860.py in division(x, y)\n",
    "      1 def division(x, y):\n",
    "----> 2     return x/y\n",
    "      3 \n",
    "      4 division(5, 0)\n",
    "\n",
    "ZeroDivisionError: division by zero\n",
    "```"
   ]
  },
  {
   "cell_type": "code",
   "execution_count": 173,
   "id": "d448f243",
   "metadata": {},
   "outputs": [],
   "source": [
    "def division(x, y):\n",
    "    try:\n",
    "        answer = x/y\n",
    "    except ZeroDivisionError:\n",
    "        answer = 0\n",
    "    \n",
    "    return answer"
   ]
  },
  {
   "cell_type": "code",
   "execution_count": 178,
   "id": "6e4e1c85",
   "metadata": {},
   "outputs": [
    {
     "name": "stdout",
     "output_type": "stream",
     "text": [
      "2.5\n",
      "0\n"
     ]
    }
   ],
   "source": [
    "# Outputs\n",
    "print(division(5, 2))\n",
    "print(division(5, 0))"
   ]
  },
  {
   "cell_type": "code",
   "execution_count": 179,
   "id": "785c13b4",
   "metadata": {},
   "outputs": [],
   "source": [
    "path = \"./new_file.txt\"\n",
    "\n",
    "def write_to_file(f):\n",
    "    content = '''\n",
    "Hello world\n",
    "'''\n",
    "    f.write(content)"
   ]
  },
  {
   "cell_type": "code",
   "execution_count": 182,
   "id": "6e6dc79c",
   "metadata": {},
   "outputs": [
    {
     "name": "stdout",
     "output_type": "stream",
     "text": [
      "Succeeded\n"
     ]
    }
   ],
   "source": [
    "f = open(path, 'w')\n",
    "try:\n",
    "    write_to_file(f)\n",
    "except:\n",
    "    print('Failed')\n",
    "else:\n",
    "    print('Succeeded')\n",
    "finally:\n",
    "    f.close()"
   ]
  },
  {
   "cell_type": "code",
   "execution_count": null,
   "id": "70502e67",
   "metadata": {},
   "outputs": [],
   "source": []
  }
 ],
 "metadata": {
  "kernelspec": {
   "display_name": "Python 3 (ipykernel)",
   "language": "python",
   "name": "python3"
  },
  "language_info": {
   "codemirror_mode": {
    "name": "ipython",
    "version": 3
   },
   "file_extension": ".py",
   "mimetype": "text/x-python",
   "name": "python",
   "nbconvert_exporter": "python",
   "pygments_lexer": "ipython3",
   "version": "3.10.6"
  }
 },
 "nbformat": 4,
 "nbformat_minor": 5
}
