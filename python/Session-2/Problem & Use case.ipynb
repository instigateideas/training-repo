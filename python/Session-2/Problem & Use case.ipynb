{
 "cells": [
  {
   "cell_type": "markdown",
   "id": "aa93f680",
   "metadata": {},
   "source": [
    "## Numpy \n",
    "\n",
    "1. Create a 2D array by using list\n",
    "2. Create a 2D array using np.random.rand()\n",
    "3. Dot Product of 2 array's \n",
    "4. Arithmetic operation sum, multiply, divide"
   ]
  },
  {
   "cell_type": "markdown",
   "id": "8d0b6612",
   "metadata": {},
   "source": [
    "### IPL Problem\n",
    "\n",
    "Kindly find the dataset attached. Find the answers for the below questions.\n",
    "\n",
    "1. What are the most common ways of dismissal per each team?\n",
    "2. Which team has scored the most number of boundaries?\n",
    "3. What’s the impact of the toss on each team?\n",
    "4. What is the most common ball to go for a boundary or to get a wicket?\n",
    "5. Which team has won by the highest margins per game?\n",
    "6. Visualize the Total runs scored by each team - bar chart?\n",
    "7. Vizualize the % of the win for each team - pie chart?\n",
    "\n",
    "use the dataset in the below path\n",
    "```python\n",
    "pd.read_csv(\"./data/IPL Ball-by-Ball 2008-2020.csv\")\n",
    "pd.read_csv(\"./data/IPL Matches 2008-2020.csv\")\n",
    "```"
   ]
  },
  {
   "cell_type": "markdown",
   "id": "b9d8e15b",
   "metadata": {},
   "source": [
    "### Use case: Organize your methods under the below class\n",
    "\n",
    "1. Data Extraction - connect_to_db, download_data, extract_data_from_api, read_excel, csv, write_to_json, read_json\n",
    "2. Data Processing - clean_data, data_manipualation, add_extra_features\n",
    "3. Predict Data - call_prediction_model\n",
    "4. Deploy_app - flask_code\n",
    "5. Insert data to mongodb - read_db, insert_data\n",
    "6.run - code to run data extraction, processing, predict & insert to mongodb"
   ]
  },
  {
   "cell_type": "code",
   "execution_count": null,
   "id": "a2f703ed",
   "metadata": {},
   "outputs": [],
   "source": []
  },
  {
   "cell_type": "code",
   "execution_count": null,
   "id": "2a3dedd0",
   "metadata": {},
   "outputs": [],
   "source": []
  },
  {
   "cell_type": "code",
   "execution_count": null,
   "id": "ff8da7d9",
   "metadata": {},
   "outputs": [],
   "source": []
  }
 ],
 "metadata": {
  "kernelspec": {
   "display_name": "Python 3 (ipykernel)",
   "language": "python",
   "name": "python3"
  },
  "language_info": {
   "codemirror_mode": {
    "name": "ipython",
    "version": 3
   },
   "file_extension": ".py",
   "mimetype": "text/x-python",
   "name": "python",
   "nbconvert_exporter": "python",
   "pygments_lexer": "ipython3",
   "version": "3.10.6"
  }
 },
 "nbformat": 4,
 "nbformat_minor": 5
}
