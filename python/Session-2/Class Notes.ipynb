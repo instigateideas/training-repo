{
 "cells": [
  {
   "cell_type": "code",
   "execution_count": 3,
   "id": "04ad8cfc",
   "metadata": {},
   "outputs": [],
   "source": [
    "def added(*data):\n",
    "    print(data)\n",
    "    sum_x = 0\n",
    "    \n",
    "    for x in data:\n",
    "        sum_x = x+ sum_x\n",
    "    \n",
    "    return sum_x"
   ]
  },
  {
   "cell_type": "code",
   "execution_count": 1,
   "id": "b335cdae",
   "metadata": {},
   "outputs": [],
   "source": [
    "def add(a, b):\n",
    "    return a+b"
   ]
  },
  {
   "cell_type": "code",
   "execution_count": 2,
   "id": "d16d132f",
   "metadata": {},
   "outputs": [
    {
     "data": {
      "text/plain": [
       "5"
      ]
     },
     "execution_count": 2,
     "metadata": {},
     "output_type": "execute_result"
    }
   ],
   "source": [
    "add(2, 3)"
   ]
  },
  {
   "cell_type": "code",
   "execution_count": 5,
   "id": "7c91c541",
   "metadata": {},
   "outputs": [
    {
     "name": "stdout",
     "output_type": "stream",
     "text": [
      "(4, 3, 5, 6, 100, 67)\n"
     ]
    },
    {
     "data": {
      "text/plain": [
       "185"
      ]
     },
     "execution_count": 5,
     "metadata": {},
     "output_type": "execute_result"
    }
   ],
   "source": [
    "added(4, 3, 5, 6, 100, 67)"
   ]
  },
  {
   "cell_type": "code",
   "execution_count": 6,
   "id": "d4626d23",
   "metadata": {},
   "outputs": [],
   "source": [
    "## Kwags\n",
    "def person(**data):\n",
    "    print(data)\n",
    "    \n",
    "    for k, v in data.items():\n",
    "        print(\"{} is {}\".format(k, v))"
   ]
  },
  {
   "cell_type": "code",
   "execution_count": 7,
   "id": "7d1229f4",
   "metadata": {},
   "outputs": [
    {
     "name": "stdout",
     "output_type": "stream",
     "text": [
      "{'Name': 'Arun', 'Age': 23, 'blood_group': 'o+'}\n",
      "Name is Arun\n",
      "Age is 23\n",
      "blood_group is o+\n"
     ]
    }
   ],
   "source": [
    "person(Name=\"Arun\", Age=23, blood_group=\"o+\")"
   ]
  },
  {
   "cell_type": "markdown",
   "id": "e864c7cc",
   "metadata": {},
   "source": [
    "## Classes"
   ]
  },
  {
   "cell_type": "code",
   "execution_count": 27,
   "id": "a0143ce0",
   "metadata": {},
   "outputs": [],
   "source": [
    "class Robot(object):\n",
    "    def walk(self):\n",
    "        print(\"i am walking..\")\n",
    "    \n",
    "    def seeing(self):\n",
    "        print(\"i am scaning\")\n",
    "    \n",
    "    def hold(self):\n",
    "        print(\"i am getting it\")"
   ]
  },
  {
   "cell_type": "code",
   "execution_count": 28,
   "id": "d9d0eee0",
   "metadata": {},
   "outputs": [
    {
     "name": "stdout",
     "output_type": "stream",
     "text": [
      "i am walking..\n"
     ]
    }
   ],
   "source": [
    "robot = Robot()\n",
    "robot.walk()"
   ]
  },
  {
   "cell_type": "markdown",
   "id": "e259de1f",
   "metadata": {},
   "source": [
    "## Class for Calculator to methods: add, subract, multiply and divide - 2 numbers\n",
    "\n",
    "- call the method and do all the operations - 3 mins"
   ]
  },
  {
   "cell_type": "code",
   "execution_count": 68,
   "id": "f308d85a",
   "metadata": {},
   "outputs": [],
   "source": [
    "class Calculator():\n",
    "    def __init__(self, x=30, y=50):\n",
    "        self.x = x\n",
    "        self.y = y\n",
    "        self.PI = 3.14\n",
    "    \n",
    "    def add(self):\n",
    "        return self.x+self.y\n",
    "    \n",
    "    def subract(self):\n",
    "        return self.x-self.y\n",
    "    \n",
    "    def mult(self):\n",
    "        return self.x*self.y\n",
    "    \n",
    "    def division(self):\n",
    "        return self.x/self.y\n",
    "    \n",
    "    def area_of_circle(self, r):\n",
    "        return self.PI * r * r"
   ]
  },
  {
   "cell_type": "code",
   "execution_count": 69,
   "id": "887e958d",
   "metadata": {},
   "outputs": [
    {
     "data": {
      "text/plain": [
       "12.56"
      ]
     },
     "execution_count": 69,
     "metadata": {},
     "output_type": "execute_result"
    }
   ],
   "source": [
    "calc = Calculator(x=4, y=6)\n",
    "calc.area_of_circle(r=2)\n"
   ]
  },
  {
   "cell_type": "code",
   "execution_count": 51,
   "id": "a4609485",
   "metadata": {},
   "outputs": [],
   "source": [
    "list_obj = []\n",
    "for x, y in [(2, 3), (4, 5), (7, 8)]:\n",
    "    calc = Calculator(x=x, y=y)\n",
    "    list_obj.append(calc)"
   ]
  },
  {
   "cell_type": "code",
   "execution_count": 52,
   "id": "88796ae9",
   "metadata": {},
   "outputs": [
    {
     "data": {
      "text/plain": [
       "[<__main__.Calculator at 0x7f2d6f49dc90>,\n",
       " <__main__.Calculator at 0x7f2d6f49fee0>,\n",
       " <__main__.Calculator at 0x7f2d6f49ece0>]"
      ]
     },
     "execution_count": 52,
     "metadata": {},
     "output_type": "execute_result"
    }
   ],
   "source": [
    "list_obj"
   ]
  },
  {
   "cell_type": "code",
   "execution_count": 55,
   "id": "71a524e8",
   "metadata": {},
   "outputs": [
    {
     "data": {
      "text/plain": [
       "0.6666666666666666"
      ]
     },
     "execution_count": 55,
     "metadata": {},
     "output_type": "execute_result"
    }
   ],
   "source": [
    "list_obj[0].division()"
   ]
  },
  {
   "cell_type": "code",
   "execution_count": 41,
   "id": "bc7a224c",
   "metadata": {},
   "outputs": [],
   "source": [
    "class Person(object):\n",
    "    def __init__(self, name):\n",
    "        self.name = name\n",
    "        \n",
    "    def tell_name(self):\n",
    "        return f\"My name is {self.name}\""
   ]
  },
  {
   "cell_type": "code",
   "execution_count": 43,
   "id": "3ce8238c",
   "metadata": {},
   "outputs": [
    {
     "data": {
      "text/plain": [
       "'My name is Arun'"
      ]
     },
     "execution_count": 43,
     "metadata": {},
     "output_type": "execute_result"
    }
   ],
   "source": [
    "person = Person(name=\"Arun\")\n",
    "person.tell_name()"
   ]
  },
  {
   "cell_type": "markdown",
   "id": "758255c0",
   "metadata": {},
   "source": [
    "#### Case Study: Organize your methods under the below class\n",
    "\n",
    "1. Data Extraction - connect_to_db, download_data, extract_data_from_api, read_excel, csv, write_to_json, read_json\n",
    "2. Data Processing - clean_data, data_manipualation, add_extra_features\n",
    "3. Predict Data - call_prediction_model\n",
    "4. Deploy_app - flask_code\n",
    "5. Insert data to mongodb - read_db, insert_data\n",
    "6. run - code to run data extraction, processing, predict & insert to mongodb"
   ]
  },
  {
   "cell_type": "markdown",
   "id": "a1b2651f",
   "metadata": {},
   "source": [
    "### Problem: Think of class Animal and write a methods in animal"
   ]
  },
  {
   "cell_type": "markdown",
   "id": "fe8d7248",
   "metadata": {},
   "source": [
    "## Numpy - Numerical Python\n",
    "\n",
    "1. Fast vectorized array operations for data munging and cleaning, subsetting and filtering, transformation, and any other kinds of computations\n",
    "2. Common array algorithms like sorting, unique, and set operations\n",
    "3. Efficient descriptive statistics and aggregating/summarizing data\n",
    "4. Data alignment and relational data manipulations for merging and joining together heterogeneous datasets\n",
    "5. Expressing conditional logic as array expressions instead of loops with if-elif- else branches\n",
    "6. Group-wise data manipulations (aggregation, transformation, function applica‐ tion)"
   ]
  },
  {
   "cell_type": "code",
   "execution_count": 71,
   "id": "4ab84445",
   "metadata": {},
   "outputs": [],
   "source": [
    "import numpy as np"
   ]
  },
  {
   "cell_type": "code",
   "execution_count": 72,
   "id": "e269eccc",
   "metadata": {},
   "outputs": [
    {
     "data": {
      "text/plain": [
       "[1, 2, 3, 4]"
      ]
     },
     "execution_count": 72,
     "metadata": {},
     "output_type": "execute_result"
    }
   ],
   "source": [
    "[1, 2, 3, 4]"
   ]
  },
  {
   "cell_type": "code",
   "execution_count": 78,
   "id": "54c685a8",
   "metadata": {},
   "outputs": [
    {
     "data": {
      "text/plain": [
       "array([ 0,  2,  4,  6,  8, 10, 12, 14, 16, 18])"
      ]
     },
     "execution_count": 78,
     "metadata": {},
     "output_type": "execute_result"
    }
   ],
   "source": [
    "2* np.arange(10)"
   ]
  },
  {
   "cell_type": "code",
   "execution_count": null,
   "id": "f8f6c438",
   "metadata": {},
   "outputs": [],
   "source": []
  },
  {
   "cell_type": "code",
   "execution_count": 77,
   "id": "e1abd0fb",
   "metadata": {},
   "outputs": [],
   "source": [
    "large_arr = np.arange(1000000)"
   ]
  },
  {
   "cell_type": "code",
   "execution_count": 81,
   "id": "635d780a",
   "metadata": {},
   "outputs": [
    {
     "name": "stdout",
     "output_type": "stream",
     "text": [
      "CPU times: user 16.9 ms, sys: 73 µs, total: 17 ms\n",
      "Wall time: 15.2 ms\n"
     ]
    }
   ],
   "source": [
    "# Numpy\n",
    "%time for i in range(10): arr2 = large_arr * 2"
   ]
  },
  {
   "cell_type": "code",
   "execution_count": 89,
   "id": "37ac43ba",
   "metadata": {},
   "outputs": [
    {
     "data": {
      "text/plain": [
       "[0, 2, 4, 6, 8, 10, 12, 14, 16, 18]"
      ]
     },
     "execution_count": 89,
     "metadata": {},
     "output_type": "execute_result"
    }
   ],
   "source": [
    "[2 * int(i) for i in range(10)]"
   ]
  },
  {
   "cell_type": "code",
   "execution_count": 82,
   "id": "fdf912f6",
   "metadata": {},
   "outputs": [],
   "source": [
    "my_list = [i for i in range(1000000)]"
   ]
  },
  {
   "cell_type": "code",
   "execution_count": 95,
   "id": "2cf09150",
   "metadata": {},
   "outputs": [
    {
     "name": "stdout",
     "output_type": "stream",
     "text": [
      "CPU times: user 317 ms, sys: 53.5 ms, total: 370 ms\n",
      "Wall time: 370 ms\n"
     ]
    }
   ],
   "source": [
    "# List operation\n",
    "%time for i in range(10): my_list2 = [x* 2 for x in range(1000000)]  "
   ]
  },
  {
   "cell_type": "code",
   "execution_count": 94,
   "id": "fc3f2869",
   "metadata": {},
   "outputs": [
    {
     "data": {
      "text/plain": [
       "25.0"
      ]
     },
     "execution_count": 94,
     "metadata": {},
     "output_type": "execute_result"
    }
   ],
   "source": [
    "375/15"
   ]
  },
  {
   "cell_type": "code",
   "execution_count": 96,
   "id": "6f284eb4",
   "metadata": {},
   "outputs": [],
   "source": [
    "## Array 1D & 2D\n",
    "arr = np.arange(10)"
   ]
  },
  {
   "cell_type": "code",
   "execution_count": 97,
   "id": "74180a06",
   "metadata": {},
   "outputs": [
    {
     "data": {
      "text/plain": [
       "array([0, 1, 2, 3, 4, 5, 6, 7, 8, 9])"
      ]
     },
     "execution_count": 97,
     "metadata": {},
     "output_type": "execute_result"
    }
   ],
   "source": [
    "arr"
   ]
  },
  {
   "cell_type": "code",
   "execution_count": 107,
   "id": "0ce8d2a7",
   "metadata": {},
   "outputs": [
    {
     "data": {
      "text/plain": [
       "array([[1, 2, 3],\n",
       "       [4, 5, 6]])"
      ]
     },
     "execution_count": 107,
     "metadata": {},
     "output_type": "execute_result"
    }
   ],
   "source": [
    "list_2d = [[1, 2, 3], [4, 5, 6]]\n",
    "arr2d = np.array(list_2d)\n",
    "arr2d"
   ]
  },
  {
   "cell_type": "code",
   "execution_count": 106,
   "id": "45b724f7",
   "metadata": {},
   "outputs": [
    {
     "data": {
      "text/plain": [
       "array([1, 2, 3])"
      ]
     },
     "execution_count": 106,
     "metadata": {},
     "output_type": "execute_result"
    }
   ],
   "source": [
    "arr2d[0]"
   ]
  },
  {
   "cell_type": "code",
   "execution_count": 108,
   "id": "7db00334",
   "metadata": {},
   "outputs": [
    {
     "data": {
      "text/plain": [
       "array([4, 5, 6])"
      ]
     },
     "execution_count": 108,
     "metadata": {},
     "output_type": "execute_result"
    }
   ],
   "source": [
    "arr2d[1]"
   ]
  },
  {
   "cell_type": "code",
   "execution_count": 131,
   "id": "0320e456",
   "metadata": {},
   "outputs": [
    {
     "data": {
      "text/plain": [
       "array([[1, 2],\n",
       "       [4, 5]])"
      ]
     },
     "execution_count": 131,
     "metadata": {},
     "output_type": "execute_result"
    }
   ],
   "source": [
    "arr2d[0:2, :2]"
   ]
  },
  {
   "cell_type": "code",
   "execution_count": 126,
   "id": "d9776a4e",
   "metadata": {},
   "outputs": [
    {
     "data": {
      "text/plain": [
       "array([3, 6])"
      ]
     },
     "execution_count": 126,
     "metadata": {},
     "output_type": "execute_result"
    }
   ],
   "source": [
    "arr2d[0:2, 2]"
   ]
  },
  {
   "cell_type": "code",
   "execution_count": 152,
   "id": "7d945374",
   "metadata": {},
   "outputs": [
    {
     "data": {
      "text/plain": [
       "array([0., 0., 0., 0., 0., 0., 0., 0., 0., 0.])"
      ]
     },
     "execution_count": 152,
     "metadata": {},
     "output_type": "execute_result"
    }
   ],
   "source": [
    "np.zeros(10, dtype=float)"
   ]
  },
  {
   "cell_type": "code",
   "execution_count": 135,
   "id": "8e6ef40f",
   "metadata": {},
   "outputs": [
    {
     "data": {
      "text/plain": [
       "array([[0., 0., 0.],\n",
       "       [0., 0., 0.]])"
      ]
     },
     "execution_count": 135,
     "metadata": {},
     "output_type": "execute_result"
    }
   ],
   "source": [
    "np.zeros((2, 3))"
   ]
  },
  {
   "cell_type": "code",
   "execution_count": 142,
   "id": "66aa6355",
   "metadata": {},
   "outputs": [
    {
     "data": {
      "text/plain": [
       "array([25, 45, 31, 76, 16, 85, 92, 86, 39, 26, 86, 81, 98, 22, 41, 11, 32,\n",
       "       54, 45, 15])"
      ]
     },
     "execution_count": 142,
     "metadata": {},
     "output_type": "execute_result"
    }
   ],
   "source": [
    "np.random.randint(1, 100, 20)"
   ]
  },
  {
   "cell_type": "code",
   "execution_count": 145,
   "id": "c6ddcbf3",
   "metadata": {},
   "outputs": [
    {
     "data": {
      "text/plain": [
       "array([34, 37,  5, 42,  4, 69, 62, 28, 51, 34,  2,  2, 50, 98, 66, 50, 28,\n",
       "       64, 81, 71, 88, 11, 86, 37, 60, 38, 61, 11, 46, 50, 46, 93, 21, 91,\n",
       "        2, 93, 39, 25, 66, 98, 84, 27, 34, 56, 24, 18, 68,  7, 51, 66, 68,\n",
       "       51,  2, 25, 51, 93, 84, 59, 67, 33, 64, 39,  6, 36, 41, 26, 61,  7,\n",
       "       30, 80, 79, 13, 59, 40, 44, 59, 56, 65, 20,  1, 11, 10, 92, 35, 91,\n",
       "       32, 32, 93, 81, 18, 36, 14, 91, 27, 23, 10, 14, 87, 97, 92])"
      ]
     },
     "execution_count": 145,
     "metadata": {},
     "output_type": "execute_result"
    }
   ],
   "source": [
    "np.random.randint(1, 100, 100)"
   ]
  },
  {
   "cell_type": "code",
   "execution_count": 149,
   "id": "62af6cbe",
   "metadata": {},
   "outputs": [],
   "source": [
    "arr = np.empty((2, 3), dtype=int)"
   ]
  },
  {
   "cell_type": "code",
   "execution_count": 153,
   "id": "98a6ffa8",
   "metadata": {},
   "outputs": [
    {
     "data": {
      "text/plain": [
       "array([10, 58, 31, 54,  4, 45, 90, 48, 85, 46, 66, 55,  7, 46, 96, 26, 53,\n",
       "       16, 41, 68])"
      ]
     },
     "execution_count": 153,
     "metadata": {},
     "output_type": "execute_result"
    }
   ],
   "source": [
    "np.random.randint(1, 100, 20)"
   ]
  },
  {
   "cell_type": "code",
   "execution_count": 161,
   "id": "c958b717",
   "metadata": {},
   "outputs": [],
   "source": [
    "data = np.random.randn(4, 3, 3, 4)"
   ]
  },
  {
   "cell_type": "code",
   "execution_count": 162,
   "id": "96ca6cd8",
   "metadata": {},
   "outputs": [
    {
     "data": {
      "text/plain": [
       "array([[[[-1.98920005e+00,  1.47505765e+00, -1.00391621e+00,\n",
       "           2.09254571e-01],\n",
       "         [-1.45821313e+00, -3.49610144e-01,  1.05532032e-01,\n",
       "          -5.96146792e-02],\n",
       "         [ 4.33297322e-01, -3.45984344e-01,  1.11639429e-03,\n",
       "          -3.57171176e-01]],\n",
       "\n",
       "        [[-1.44300576e-01,  3.04421696e+00,  5.20013942e-01,\n",
       "          -2.74078412e-01],\n",
       "         [-8.15595170e-02, -1.74639349e+00, -2.34402537e-03,\n",
       "           5.51523555e-01],\n",
       "         [ 6.16370181e-01, -7.32825859e-01, -1.12473388e+00,\n",
       "           4.93502322e-01]],\n",
       "\n",
       "        [[-1.39623282e+00,  9.67235006e-02, -7.68357835e-01,\n",
       "          -1.40045793e+00],\n",
       "         [ 1.32773397e+00,  6.82076158e-03,  4.01147778e-01,\n",
       "          -2.19811668e-01],\n",
       "         [-2.28084002e+00, -6.17650070e-01,  1.08012798e+00,\n",
       "           4.14067545e-02]]],\n",
       "\n",
       "\n",
       "       [[[-3.00861336e-01, -5.08445112e-01, -2.68457562e-01,\n",
       "          -1.06700233e-01],\n",
       "         [-5.48879442e-01, -1.05578584e+00, -1.45485167e+00,\n",
       "           8.23888984e-01],\n",
       "         [-1.79846935e+00, -7.64596472e-01,  1.75362235e+00,\n",
       "           6.48123377e-01]],\n",
       "\n",
       "        [[ 1.27645837e+00, -6.43261233e-01, -9.30427612e-01,\n",
       "           1.46660412e+00],\n",
       "         [-2.31818050e-01,  1.18759547e+00, -1.92097301e+00,\n",
       "           1.01925161e+00],\n",
       "         [-1.43454802e+00, -1.49365526e-01, -1.86329692e-01,\n",
       "           8.72973080e-01]],\n",
       "\n",
       "        [[-5.89483113e-01, -2.01335116e-01, -4.33676187e-01,\n",
       "           1.26674707e+00],\n",
       "         [ 6.79152204e-01,  8.78789908e-01, -8.02724307e-01,\n",
       "          -3.41302453e-01],\n",
       "         [-8.79735967e-01,  1.54527533e+00, -5.46737439e-01,\n",
       "          -5.98665069e-01]]],\n",
       "\n",
       "\n",
       "       [[[ 7.41275583e-01,  1.12798409e+00, -2.20309064e-02,\n",
       "          -1.17353846e+00],\n",
       "         [-1.27745696e+00,  4.20246045e-01,  5.62841937e-01,\n",
       "           4.08120673e-01],\n",
       "         [-8.78032417e-01,  2.19844782e+00, -1.18527307e+00,\n",
       "           4.83092695e-01]],\n",
       "\n",
       "        [[-1.06275961e+00,  1.06500051e+00, -2.45145015e-01,\n",
       "           1.04086719e+00],\n",
       "         [ 8.59435517e-01,  2.97316207e-01,  7.53258060e-01,\n",
       "           4.21865292e-01],\n",
       "         [ 5.34715262e-01,  1.49021618e+00, -1.34772409e+00,\n",
       "           9.78114356e-02]],\n",
       "\n",
       "        [[-2.53940238e-01,  9.19881071e-01, -3.85741760e-02,\n",
       "           3.47571239e-01],\n",
       "         [-7.84784549e-01,  9.31720046e-02,  1.08399086e+00,\n",
       "           1.46424486e+00],\n",
       "         [ 8.94722028e-01, -2.44227782e+00, -9.79499666e-01,\n",
       "          -5.12675692e-01]]],\n",
       "\n",
       "\n",
       "       [[[ 5.73258780e-01, -1.05233629e-01, -4.93556846e-01,\n",
       "           1.13250175e+00],\n",
       "         [-1.33034633e-01,  3.89797262e-01,  8.86075677e-01,\n",
       "           3.83405195e-01],\n",
       "         [-1.40533664e-01, -1.51534553e+00,  1.80283737e+00,\n",
       "           1.03027475e+00]],\n",
       "\n",
       "        [[ 1.93700135e+00, -1.13223761e+00,  2.26128792e+00,\n",
       "           5.75382379e-02],\n",
       "         [ 1.61646530e-01,  8.90557807e-02, -2.32037459e-01,\n",
       "          -9.55300555e-01],\n",
       "         [-1.94238170e-01, -7.79073442e-01,  2.43993280e-01,\n",
       "          -1.02600170e+00]],\n",
       "\n",
       "        [[ 5.17700155e-01, -3.39600046e-01, -3.95860000e-01,\n",
       "           1.52431678e-01],\n",
       "         [ 1.50092082e+00, -4.28961188e-01,  4.51189987e-01,\n",
       "           2.11439460e+00],\n",
       "         [-4.37512342e-01, -7.28345018e-01,  1.19612787e+00,\n",
       "          -7.60945971e-01]]]])"
      ]
     },
     "execution_count": 162,
     "metadata": {},
     "output_type": "execute_result"
    }
   ],
   "source": [
    "data"
   ]
  },
  {
   "cell_type": "code",
   "execution_count": 167,
   "id": "4ecf509a",
   "metadata": {},
   "outputs": [
    {
     "data": {
      "text/plain": [
       "array([ 0, 10, 20, 30, 40, 50, 60, 70, 80, 90])"
      ]
     },
     "execution_count": 167,
     "metadata": {},
     "output_type": "execute_result"
    }
   ],
   "source": [
    "# Addition\n",
    "np.arange(10)*10"
   ]
  },
  {
   "cell_type": "code",
   "execution_count": 171,
   "id": "dddf5706",
   "metadata": {},
   "outputs": [
    {
     "data": {
      "text/plain": [
       "array([[ 0.22346095, -0.93787349,  0.20922455],\n",
       "       [ 1.19972726,  1.07308436, -0.10519401],\n",
       "       [ 0.54397812,  0.25092391, -0.94440803],\n",
       "       [ 0.43611441,  1.3629319 , -1.83751042]])"
      ]
     },
     "execution_count": 171,
     "metadata": {},
     "output_type": "execute_result"
    }
   ],
   "source": [
    "a = np.random.randn(4, 3)\n",
    "a"
   ]
  },
  {
   "cell_type": "code",
   "execution_count": 172,
   "id": "12749c12",
   "metadata": {},
   "outputs": [
    {
     "data": {
      "text/plain": [
       "array([[ 0.4469219 , -1.87574699,  0.4184491 ],\n",
       "       [ 2.39945452,  2.14616873, -0.21038803],\n",
       "       [ 1.08795625,  0.50184781, -1.88881607],\n",
       "       [ 0.87222881,  2.7258638 , -3.67502085]])"
      ]
     },
     "execution_count": 172,
     "metadata": {},
     "output_type": "execute_result"
    }
   ],
   "source": [
    "a* 2"
   ]
  },
  {
   "cell_type": "code",
   "execution_count": 173,
   "id": "12ccd8ca",
   "metadata": {},
   "outputs": [
    {
     "name": "stderr",
     "output_type": "stream",
     "text": [
      "/tmp/ipykernel_17251/2835837605.py:1: RuntimeWarning: invalid value encountered in sqrt\n",
      "  np.sqrt(a)\n"
     ]
    },
    {
     "data": {
      "text/plain": [
       "array([[0.47271656,        nan, 0.4574107 ],\n",
       "       [1.09532062, 1.03589785,        nan],\n",
       "       [0.73754873, 0.50092306,        nan],\n",
       "       [0.66038959, 1.16744674,        nan]])"
      ]
     },
     "execution_count": 173,
     "metadata": {},
     "output_type": "execute_result"
    }
   ],
   "source": [
    "np.sqrt(a)"
   ]
  },
  {
   "cell_type": "code",
   "execution_count": 174,
   "id": "d0efeee6",
   "metadata": {},
   "outputs": [],
   "source": [
    "a = np.random.randn(4, 3)\n",
    "b = np.random.randn(4, 3)"
   ]
  },
  {
   "cell_type": "code",
   "execution_count": 176,
   "id": "1abd9579",
   "metadata": {},
   "outputs": [
    {
     "data": {
      "text/plain": [
       "array([[ 0.23950568,  0.22036679,  0.16344448],\n",
       "       [ 0.61938106, -0.60314805, -1.65789078],\n",
       "       [ 0.70511546,  0.56729881, -0.3435392 ],\n",
       "       [ 0.41970222, -0.40701071, -0.03911332]])"
      ]
     },
     "execution_count": 176,
     "metadata": {},
     "output_type": "execute_result"
    }
   ],
   "source": [
    "a* b"
   ]
  },
  {
   "cell_type": "code",
   "execution_count": 177,
   "id": "b86e4d94",
   "metadata": {},
   "outputs": [
    {
     "data": {
      "text/plain": [
       "array([[-3.35089152, -3.35546521, -2.33441051],\n",
       "       [ 0.82469475, -1.07671135, -0.74402488],\n",
       "       [-1.62079137,  1.34323778,  3.55918007],\n",
       "       [ 0.85592238,  3.19646555, -2.05532403]])"
      ]
     },
     "execution_count": 177,
     "metadata": {},
     "output_type": "execute_result"
    }
   ],
   "source": [
    "1/a"
   ]
  },
  {
   "cell_type": "code",
   "execution_count": 179,
   "id": "a93fe6d1",
   "metadata": {},
   "outputs": [
    {
     "data": {
      "text/plain": [
       "array([[-0.29842804, -0.29802127, -0.42837367],\n",
       "       [ 1.21256987, -0.92875402, -1.34404108],\n",
       "       [-0.61698256,  0.74446983,  0.28096359],\n",
       "       [ 1.16833024,  0.31284554, -0.48654129]])"
      ]
     },
     "execution_count": 179,
     "metadata": {},
     "output_type": "execute_result"
    }
   ],
   "source": [
    "a"
   ]
  },
  {
   "cell_type": "code",
   "execution_count": 180,
   "id": "9ceb2441",
   "metadata": {},
   "outputs": [],
   "source": [
    "a[a < 0]=0"
   ]
  },
  {
   "cell_type": "code",
   "execution_count": 181,
   "id": "88f08a96",
   "metadata": {},
   "outputs": [
    {
     "data": {
      "text/plain": [
       "array([[0.        , 0.        , 0.        ],\n",
       "       [1.21256987, 0.        , 0.        ],\n",
       "       [0.        , 0.74446983, 0.28096359],\n",
       "       [1.16833024, 0.31284554, 0.        ]])"
      ]
     },
     "execution_count": 181,
     "metadata": {},
     "output_type": "execute_result"
    }
   ],
   "source": [
    "a"
   ]
  },
  {
   "cell_type": "code",
   "execution_count": 182,
   "id": "0002a435",
   "metadata": {},
   "outputs": [],
   "source": [
    "names = np.array(['Bob', 'Joe', 'Will', 'Bob', 'Will', 'Joe', 'Joe'])"
   ]
  },
  {
   "cell_type": "code",
   "execution_count": 183,
   "id": "aa1ed516",
   "metadata": {},
   "outputs": [
    {
     "data": {
      "text/plain": [
       "array([ True, False, False,  True, False, False, False])"
      ]
     },
     "execution_count": 183,
     "metadata": {},
     "output_type": "execute_result"
    }
   ],
   "source": [
    "names == 'Bob'"
   ]
  },
  {
   "cell_type": "code",
   "execution_count": 185,
   "id": "24bb7d15",
   "metadata": {},
   "outputs": [],
   "source": [
    "# Reshape array\n",
    "arr = np.arange(32)"
   ]
  },
  {
   "cell_type": "code",
   "execution_count": 193,
   "id": "db51b391",
   "metadata": {},
   "outputs": [
    {
     "data": {
      "text/plain": [
       "(8, 4)"
      ]
     },
     "execution_count": 193,
     "metadata": {},
     "output_type": "execute_result"
    }
   ],
   "source": [
    "a = arr.reshape(8, 4)\n",
    "a.shape"
   ]
  },
  {
   "cell_type": "code",
   "execution_count": 196,
   "id": "970c56f0",
   "metadata": {},
   "outputs": [
    {
     "data": {
      "text/plain": [
       "array([[ 0,  4,  8, 12, 16, 20, 24, 28],\n",
       "       [ 1,  5,  9, 13, 17, 21, 25, 29],\n",
       "       [ 2,  6, 10, 14, 18, 22, 26, 30],\n",
       "       [ 3,  7, 11, 15, 19, 23, 27, 31]])"
      ]
     },
     "execution_count": 196,
     "metadata": {},
     "output_type": "execute_result"
    }
   ],
   "source": [
    "c = a.T\n",
    "c"
   ]
  },
  {
   "cell_type": "code",
   "execution_count": 195,
   "id": "9cba6471",
   "metadata": {},
   "outputs": [
    {
     "data": {
      "text/plain": [
       "(4, 8)"
      ]
     },
     "execution_count": 195,
     "metadata": {},
     "output_type": "execute_result"
    }
   ],
   "source": [
    "c.shape"
   ]
  },
  {
   "cell_type": "code",
   "execution_count": 197,
   "id": "ea63f07e",
   "metadata": {},
   "outputs": [
    {
     "data": {
      "text/plain": [
       "array([[0.        , 2.        , 2.82842712, 3.46410162, 4.        ,\n",
       "        4.47213595, 4.89897949, 5.29150262],\n",
       "       [1.        , 2.23606798, 3.        , 3.60555128, 4.12310563,\n",
       "        4.58257569, 5.        , 5.38516481],\n",
       "       [1.41421356, 2.44948974, 3.16227766, 3.74165739, 4.24264069,\n",
       "        4.69041576, 5.09901951, 5.47722558],\n",
       "       [1.73205081, 2.64575131, 3.31662479, 3.87298335, 4.35889894,\n",
       "        4.79583152, 5.19615242, 5.56776436]])"
      ]
     },
     "execution_count": 197,
     "metadata": {},
     "output_type": "execute_result"
    }
   ],
   "source": [
    "np.sqrt(c)"
   ]
  },
  {
   "cell_type": "code",
   "execution_count": 198,
   "id": "3940b2ea",
   "metadata": {},
   "outputs": [
    {
     "data": {
      "text/plain": [
       "array([[1.00000000e+00, 5.45981500e+01, 2.98095799e+03, 1.62754791e+05,\n",
       "        8.88611052e+06, 4.85165195e+08, 2.64891221e+10, 1.44625706e+12],\n",
       "       [2.71828183e+00, 1.48413159e+02, 8.10308393e+03, 4.42413392e+05,\n",
       "        2.41549528e+07, 1.31881573e+09, 7.20048993e+10, 3.93133430e+12],\n",
       "       [7.38905610e+00, 4.03428793e+02, 2.20264658e+04, 1.20260428e+06,\n",
       "        6.56599691e+07, 3.58491285e+09, 1.95729609e+11, 1.06864746e+13],\n",
       "       [2.00855369e+01, 1.09663316e+03, 5.98741417e+04, 3.26901737e+06,\n",
       "        1.78482301e+08, 9.74480345e+09, 5.32048241e+11, 2.90488497e+13]])"
      ]
     },
     "execution_count": 198,
     "metadata": {},
     "output_type": "execute_result"
    }
   ],
   "source": [
    "np.exp(c)"
   ]
  },
  {
   "cell_type": "code",
   "execution_count": 202,
   "id": "e9adf197",
   "metadata": {},
   "outputs": [
    {
     "data": {
      "text/plain": [
       "array([0, 1, 2, 3, 4, 5, 6, 7, 8, 9])"
      ]
     },
     "execution_count": 202,
     "metadata": {},
     "output_type": "execute_result"
    }
   ],
   "source": [
    "arr = np.arange(10)\n",
    "arr"
   ]
  },
  {
   "cell_type": "code",
   "execution_count": 203,
   "id": "38998cda",
   "metadata": {},
   "outputs": [],
   "source": [
    "arr2 = np.arange(20, 40 , 2)"
   ]
  },
  {
   "cell_type": "code",
   "execution_count": 204,
   "id": "8138a32f",
   "metadata": {},
   "outputs": [
    {
     "data": {
      "text/plain": [
       "array([20, 22, 24, 26, 28, 30, 32, 34, 36, 38])"
      ]
     },
     "execution_count": 204,
     "metadata": {},
     "output_type": "execute_result"
    }
   ],
   "source": [
    "arr2"
   ]
  },
  {
   "cell_type": "code",
   "execution_count": 205,
   "id": "b9d9c574",
   "metadata": {},
   "outputs": [
    {
     "data": {
      "text/plain": [
       "array([20, 22, 24, 26, 28, 30, 32, 34, 36, 38])"
      ]
     },
     "execution_count": 205,
     "metadata": {},
     "output_type": "execute_result"
    }
   ],
   "source": [
    "np.maximum(arr, arr2)"
   ]
  },
  {
   "cell_type": "code",
   "execution_count": 206,
   "id": "a8a858c9",
   "metadata": {},
   "outputs": [
    {
     "data": {
      "text/plain": [
       "array([0, 1, 2, 3, 4, 5, 6, 7, 8, 9])"
      ]
     },
     "execution_count": 206,
     "metadata": {},
     "output_type": "execute_result"
    }
   ],
   "source": [
    "np.minimum(arr, arr2)"
   ]
  },
  {
   "cell_type": "code",
   "execution_count": null,
   "id": "c220936d",
   "metadata": {},
   "outputs": [],
   "source": []
  },
  {
   "cell_type": "code",
   "execution_count": 209,
   "id": "8bdf0364",
   "metadata": {},
   "outputs": [],
   "source": [
    "a = 3.5"
   ]
  },
  {
   "cell_type": "code",
   "execution_count": 211,
   "id": "f06ac019",
   "metadata": {},
   "outputs": [
    {
     "data": {
      "text/plain": [
       "array([ 0.66073992,  1.18704503, -0.49718954, -0.28578854,  1.16018146,\n",
       "       -0.75157899, -1.03957334,  0.86483943, -0.12636172,  0.00483752])"
      ]
     },
     "execution_count": 211,
     "metadata": {},
     "output_type": "execute_result"
    }
   ],
   "source": [
    "# Floor- 3 &  - Ceil - 4\n",
    "\n",
    "a = np.random.randn(10)\n",
    "a"
   ]
  },
  {
   "cell_type": "code",
   "execution_count": 212,
   "id": "5b2b7362",
   "metadata": {},
   "outputs": [
    {
     "data": {
      "text/plain": [
       "array([ 0.,  1., -1., -1.,  1., -1., -2.,  0., -1.,  0.])"
      ]
     },
     "execution_count": 212,
     "metadata": {},
     "output_type": "execute_result"
    }
   ],
   "source": [
    "np.floor(a)"
   ]
  },
  {
   "cell_type": "code",
   "execution_count": 213,
   "id": "51ed87da",
   "metadata": {},
   "outputs": [
    {
     "data": {
      "text/plain": [
       "array([ 1.,  2., -0., -0.,  2., -0., -1.,  1., -0.,  1.])"
      ]
     },
     "execution_count": 213,
     "metadata": {},
     "output_type": "execute_result"
    }
   ],
   "source": [
    "np.ceil(a)"
   ]
  },
  {
   "cell_type": "markdown",
   "id": "e24c0a46",
   "metadata": {},
   "source": [
    "## Linear Algebra"
   ]
  },
  {
   "cell_type": "code",
   "execution_count": 218,
   "id": "b7b63229",
   "metadata": {},
   "outputs": [],
   "source": [
    "x = np.array([[1., 2., 3.], [4., 5., 6.]])\n",
    "y = np.array([[6., 23.], [-1, 7], [8, 9]])"
   ]
  },
  {
   "cell_type": "code",
   "execution_count": 222,
   "id": "88a31afb",
   "metadata": {},
   "outputs": [
    {
     "data": {
      "text/plain": [
       "(2, 3)"
      ]
     },
     "execution_count": 222,
     "metadata": {},
     "output_type": "execute_result"
    }
   ],
   "source": [
    "x.shape"
   ]
  },
  {
   "cell_type": "code",
   "execution_count": 221,
   "id": "98f97775",
   "metadata": {},
   "outputs": [
    {
     "data": {
      "text/plain": [
       "(3, 2)"
      ]
     },
     "execution_count": 221,
     "metadata": {},
     "output_type": "execute_result"
    }
   ],
   "source": [
    "y.shape"
   ]
  },
  {
   "cell_type": "code",
   "execution_count": 223,
   "id": "bab3200f",
   "metadata": {},
   "outputs": [
    {
     "data": {
      "text/plain": [
       "array([[ 28.,  64.],\n",
       "       [ 67., 181.]])"
      ]
     },
     "execution_count": 223,
     "metadata": {},
     "output_type": "execute_result"
    }
   ],
   "source": [
    "x.dot(y)"
   ]
  },
  {
   "cell_type": "code",
   "execution_count": 224,
   "id": "cf9fd70e",
   "metadata": {},
   "outputs": [
    {
     "data": {
      "text/plain": [
       "array([[ 1.27109135, -0.80165994,  0.15395169, -2.20440384, -0.24714397],\n",
       "       [ 1.55900881,  0.95606211, -0.64679368, -2.02579408,  1.020115  ],\n",
       "       [-0.69546056,  1.57095555, -0.82112486, -0.56672079,  0.03016879],\n",
       "       [-2.17568892,  0.8346791 ,  0.0442419 , -1.33767961,  3.07107095],\n",
       "       [ 1.16996449, -0.36139651, -1.3334307 ,  2.34762038, -0.60309984]])"
      ]
     },
     "execution_count": 224,
     "metadata": {},
     "output_type": "execute_result"
    }
   ],
   "source": [
    "X = np.random.randn(5, 5)\n",
    "X"
   ]
  },
  {
   "cell_type": "code",
   "execution_count": 225,
   "id": "8a8bf974",
   "metadata": {},
   "outputs": [],
   "source": [
    "mat = X.T.dot(X)"
   ]
  },
  {
   "cell_type": "code",
   "execution_count": 226,
   "id": "dded2c53",
   "metadata": {},
   "outputs": [
    {
     "data": {
      "text/plain": [
       "array([[10.63228628, -2.85983454, -1.8979336 ,  0.09090966, -6.13205593],\n",
       "       [-2.85983454,  4.85191139, -1.51291751, -3.02485088,  4.00212946],\n",
       "       [-1.8979336 , -1.51291751,  2.89628401, -1.75332294,  0.21743733],\n",
       "       [ 0.09090966, -3.02485088, -1.75332294, 16.5851186 , -7.06279354],\n",
       "       [-6.13205593,  4.00212946,  0.21743733, -7.06279354, 10.89783111]])"
      ]
     },
     "execution_count": 226,
     "metadata": {},
     "output_type": "execute_result"
    }
   ],
   "source": [
    "mat"
   ]
  },
  {
   "cell_type": "code",
   "execution_count": 227,
   "id": "d4c96200",
   "metadata": {},
   "outputs": [],
   "source": [
    "# 1. Create a 2D array by using list\n",
    "# 2. Create a 2D array using np.random.rand()\n",
    "# 3. Dot Product of 2 array's \n",
    "# 4. Arithmetic operation sum, multiply, divide"
   ]
  },
  {
   "cell_type": "markdown",
   "id": "13aaab95",
   "metadata": {},
   "source": [
    "## Pandas"
   ]
  },
  {
   "cell_type": "code",
   "execution_count": 234,
   "id": "6b68baac",
   "metadata": {},
   "outputs": [],
   "source": [
    "import pandas as pd"
   ]
  },
  {
   "cell_type": "code",
   "execution_count": 235,
   "id": "7a1b8bde",
   "metadata": {},
   "outputs": [],
   "source": [
    "arr = np.arange(10)"
   ]
  },
  {
   "cell_type": "code",
   "execution_count": 242,
   "id": "90ad484e",
   "metadata": {},
   "outputs": [
    {
     "data": {
      "text/plain": [
       "4"
      ]
     },
     "execution_count": 242,
     "metadata": {},
     "output_type": "execute_result"
    }
   ],
   "source": [
    "arr[4]"
   ]
  },
  {
   "cell_type": "code",
   "execution_count": 238,
   "id": "6efb877e",
   "metadata": {},
   "outputs": [],
   "source": [
    "a = pd.Series(np.arange(3), index=[\"a\", \"b\", \"c\"])"
   ]
  },
  {
   "cell_type": "code",
   "execution_count": 244,
   "id": "aac19445",
   "metadata": {},
   "outputs": [
    {
     "data": {
      "text/plain": [
       "a    0\n",
       "b    1\n",
       "c    2\n",
       "dtype: int64"
      ]
     },
     "execution_count": 244,
     "metadata": {},
     "output_type": "execute_result"
    }
   ],
   "source": [
    "a"
   ]
  },
  {
   "cell_type": "code",
   "execution_count": 241,
   "id": "1faa7c2d",
   "metadata": {},
   "outputs": [
    {
     "data": {
      "text/plain": [
       "2"
      ]
     },
     "execution_count": 241,
     "metadata": {},
     "output_type": "execute_result"
    }
   ],
   "source": [
    "a[\"c\"]"
   ]
  },
  {
   "cell_type": "code",
   "execution_count": 243,
   "id": "b971fc03",
   "metadata": {},
   "outputs": [
    {
     "data": {
      "text/plain": [
       "c    2\n",
       "dtype: int64"
      ]
     },
     "execution_count": 243,
     "metadata": {},
     "output_type": "execute_result"
    }
   ],
   "source": [
    "a[a>1]"
   ]
  },
  {
   "cell_type": "code",
   "execution_count": 245,
   "id": "0bb50dad",
   "metadata": {},
   "outputs": [
    {
     "data": {
      "text/plain": [
       "3"
      ]
     },
     "execution_count": 245,
     "metadata": {},
     "output_type": "execute_result"
    }
   ],
   "source": [
    "np.sum(a)"
   ]
  },
  {
   "cell_type": "markdown",
   "id": "e3eadaa5",
   "metadata": {},
   "source": [
    "## Data Frame - two methods creating DF\n",
    "1. List of list\n",
    "2. Dictionary"
   ]
  },
  {
   "cell_type": "code",
   "execution_count": 246,
   "id": "663df199",
   "metadata": {},
   "outputs": [],
   "source": [
    "list_of_list = [[1, 2], [3, 4]]"
   ]
  },
  {
   "cell_type": "code",
   "execution_count": 249,
   "id": "7cdb743b",
   "metadata": {},
   "outputs": [],
   "source": [
    "df = pd.DataFrame(list_of_list, columns=[\"A\", \"B\"], index=[\"a\", \"b\"])"
   ]
  },
  {
   "cell_type": "code",
   "execution_count": 251,
   "id": "99dfeaa2",
   "metadata": {},
   "outputs": [
    {
     "data": {
      "text/plain": [
       "pandas.core.series.Series"
      ]
     },
     "execution_count": 251,
     "metadata": {},
     "output_type": "execute_result"
    }
   ],
   "source": [
    "type(df[\"A\"])"
   ]
  },
  {
   "cell_type": "code",
   "execution_count": 253,
   "id": "9c115a25",
   "metadata": {},
   "outputs": [
    {
     "data": {
      "text/plain": [
       "4"
      ]
     },
     "execution_count": 253,
     "metadata": {},
     "output_type": "execute_result"
    }
   ],
   "source": [
    "np.sum(df[\"A\"])"
   ]
  },
  {
   "cell_type": "code",
   "execution_count": 254,
   "id": "2263c682",
   "metadata": {},
   "outputs": [],
   "source": [
    "df[\"C\"] = [3, 4]"
   ]
  },
  {
   "cell_type": "code",
   "execution_count": 255,
   "id": "313b7fbc",
   "metadata": {},
   "outputs": [
    {
     "data": {
      "text/html": [
       "<div>\n",
       "<style scoped>\n",
       "    .dataframe tbody tr th:only-of-type {\n",
       "        vertical-align: middle;\n",
       "    }\n",
       "\n",
       "    .dataframe tbody tr th {\n",
       "        vertical-align: top;\n",
       "    }\n",
       "\n",
       "    .dataframe thead th {\n",
       "        text-align: right;\n",
       "    }\n",
       "</style>\n",
       "<table border=\"1\" class=\"dataframe\">\n",
       "  <thead>\n",
       "    <tr style=\"text-align: right;\">\n",
       "      <th></th>\n",
       "      <th>A</th>\n",
       "      <th>B</th>\n",
       "      <th>C</th>\n",
       "    </tr>\n",
       "  </thead>\n",
       "  <tbody>\n",
       "    <tr>\n",
       "      <th>a</th>\n",
       "      <td>1</td>\n",
       "      <td>2</td>\n",
       "      <td>3</td>\n",
       "    </tr>\n",
       "    <tr>\n",
       "      <th>b</th>\n",
       "      <td>3</td>\n",
       "      <td>4</td>\n",
       "      <td>4</td>\n",
       "    </tr>\n",
       "  </tbody>\n",
       "</table>\n",
       "</div>"
      ],
      "text/plain": [
       "   A  B  C\n",
       "a  1  2  3\n",
       "b  3  4  4"
      ]
     },
     "execution_count": 255,
     "metadata": {},
     "output_type": "execute_result"
    }
   ],
   "source": [
    "df"
   ]
  },
  {
   "cell_type": "code",
   "execution_count": 258,
   "id": "0245cabe",
   "metadata": {},
   "outputs": [],
   "source": [
    "## Dictionary\n",
    "dict_data = {\"A\": [1, 2, 3, 4], \n",
    "            \"B\": [\"Anu\", \"Babu\", \"Raj\", \"Raja\"]}\n",
    "\n",
    "df = pd.DataFrame(dict_data, index=[\"a\", \"b\", \"c\", \"d\"])"
   ]
  },
  {
   "cell_type": "code",
   "execution_count": 261,
   "id": "6e9b54f4",
   "metadata": {},
   "outputs": [
    {
     "data": {
      "text/html": [
       "<div>\n",
       "<style scoped>\n",
       "    .dataframe tbody tr th:only-of-type {\n",
       "        vertical-align: middle;\n",
       "    }\n",
       "\n",
       "    .dataframe tbody tr th {\n",
       "        vertical-align: top;\n",
       "    }\n",
       "\n",
       "    .dataframe thead th {\n",
       "        text-align: right;\n",
       "    }\n",
       "</style>\n",
       "<table border=\"1\" class=\"dataframe\">\n",
       "  <thead>\n",
       "    <tr style=\"text-align: right;\">\n",
       "      <th></th>\n",
       "      <th>A</th>\n",
       "      <th>B</th>\n",
       "    </tr>\n",
       "  </thead>\n",
       "  <tbody>\n",
       "    <tr>\n",
       "      <th>a</th>\n",
       "      <td>1</td>\n",
       "      <td>Anu</td>\n",
       "    </tr>\n",
       "    <tr>\n",
       "      <th>b</th>\n",
       "      <td>2</td>\n",
       "      <td>Babu</td>\n",
       "    </tr>\n",
       "    <tr>\n",
       "      <th>c</th>\n",
       "      <td>3</td>\n",
       "      <td>Raj</td>\n",
       "    </tr>\n",
       "    <tr>\n",
       "      <th>d</th>\n",
       "      <td>4</td>\n",
       "      <td>Raja</td>\n",
       "    </tr>\n",
       "  </tbody>\n",
       "</table>\n",
       "</div>"
      ],
      "text/plain": [
       "   A     B\n",
       "a  1   Anu\n",
       "b  2  Babu\n",
       "c  3   Raj\n",
       "d  4  Raja"
      ]
     },
     "execution_count": 261,
     "metadata": {},
     "output_type": "execute_result"
    }
   ],
   "source": [
    "df"
   ]
  },
  {
   "cell_type": "code",
   "execution_count": 260,
   "id": "97849b90",
   "metadata": {},
   "outputs": [
    {
     "data": {
      "text/plain": [
       "A      1\n",
       "B    Anu\n",
       "Name: a, dtype: object"
      ]
     },
     "execution_count": 260,
     "metadata": {},
     "output_type": "execute_result"
    }
   ],
   "source": [
    "df.loc[\"a\"]"
   ]
  },
  {
   "cell_type": "code",
   "execution_count": 263,
   "id": "348e23fc",
   "metadata": {},
   "outputs": [],
   "source": [
    "# Create a student table - 5 records - using dictionary \"Roll no\", \"Name\", \"Eng\", \"Tam\", \"Soc\", \"Sci\", \"Mat\""
   ]
  },
  {
   "cell_type": "code",
   "execution_count": 286,
   "id": "06a1bf7d",
   "metadata": {},
   "outputs": [
    {
     "data": {
      "text/html": [
       "<div>\n",
       "<style scoped>\n",
       "    .dataframe tbody tr th:only-of-type {\n",
       "        vertical-align: middle;\n",
       "    }\n",
       "\n",
       "    .dataframe tbody tr th {\n",
       "        vertical-align: top;\n",
       "    }\n",
       "\n",
       "    .dataframe thead th {\n",
       "        text-align: right;\n",
       "    }\n",
       "</style>\n",
       "<table border=\"1\" class=\"dataframe\">\n",
       "  <thead>\n",
       "    <tr style=\"text-align: right;\">\n",
       "      <th></th>\n",
       "      <th>Name</th>\n",
       "      <th>Roll No</th>\n",
       "      <th>English</th>\n",
       "      <th>Maths</th>\n",
       "    </tr>\n",
       "  </thead>\n",
       "  <tbody>\n",
       "    <tr>\n",
       "      <th>0</th>\n",
       "      <td>Ankit</td>\n",
       "      <td>3</td>\n",
       "      <td>9</td>\n",
       "      <td>78</td>\n",
       "    </tr>\n",
       "    <tr>\n",
       "      <th>1</th>\n",
       "      <td>Aishwarya</td>\n",
       "      <td>1</td>\n",
       "      <td>90</td>\n",
       "      <td>67</td>\n",
       "    </tr>\n",
       "    <tr>\n",
       "      <th>2</th>\n",
       "      <td>Shaurya</td>\n",
       "      <td>2</td>\n",
       "      <td>76</td>\n",
       "      <td>56</td>\n",
       "    </tr>\n",
       "    <tr>\n",
       "      <th>3</th>\n",
       "      <td>Shivangi</td>\n",
       "      <td>4</td>\n",
       "      <td>42</td>\n",
       "      <td>89</td>\n",
       "    </tr>\n",
       "  </tbody>\n",
       "</table>\n",
       "</div>"
      ],
      "text/plain": [
       "        Name  Roll No  English  Maths\n",
       "0      Ankit        3        9     78\n",
       "1  Aishwarya        1       90     67\n",
       "2    Shaurya        2       76     56\n",
       "3   Shivangi        4       42     89"
      ]
     },
     "execution_count": 286,
     "metadata": {},
     "output_type": "execute_result"
    }
   ],
   "source": [
    "details = {\n",
    "    'Name' : ['Ankit', 'Aishwarya', 'Shaurya', 'Shivangi'],\n",
    "    'Roll No' : [3, 1, 2, 4],\n",
    "    'English':[9,90,76,42],\n",
    "    'Maths':[78,67,56,89]\n",
    "                 \n",
    "}\n",
    "  \n",
    "# creating a Dataframe object \n",
    "df = pd.DataFrame(details)\n",
    "\n",
    "df"
   ]
  },
  {
   "cell_type": "markdown",
   "id": "fd702790",
   "metadata": {},
   "source": [
    "## File Handling - FIle "
   ]
  },
  {
   "cell_type": "code",
   "execution_count": 268,
   "id": "b3d76a53",
   "metadata": {},
   "outputs": [],
   "source": [
    "# Excel\n",
    "# CSV, TSV\n",
    "# JSON\n",
    "# DB - Read"
   ]
  },
  {
   "cell_type": "code",
   "execution_count": 287,
   "id": "0a5383de",
   "metadata": {},
   "outputs": [],
   "source": [
    "# Save a dataframe as CSV\n",
    "df.to_csv(\"./data/student_data.csv\")"
   ]
  },
  {
   "cell_type": "code",
   "execution_count": 289,
   "id": "f7149ab3",
   "metadata": {},
   "outputs": [],
   "source": [
    "# Save a dataframe as Excel\n",
    "df.to_excel(\"./data/student_data.xlsx\")"
   ]
  },
  {
   "cell_type": "code",
   "execution_count": 270,
   "id": "57450f71",
   "metadata": {},
   "outputs": [],
   "source": [
    "# csv read file\n",
    "df= pd.read_csv(\"./data/city_sales.csv\")"
   ]
  },
  {
   "cell_type": "code",
   "execution_count": 272,
   "id": "03420dff",
   "metadata": {},
   "outputs": [
    {
     "data": {
      "text/html": [
       "<div>\n",
       "<style scoped>\n",
       "    .dataframe tbody tr th:only-of-type {\n",
       "        vertical-align: middle;\n",
       "    }\n",
       "\n",
       "    .dataframe tbody tr th {\n",
       "        vertical-align: top;\n",
       "    }\n",
       "\n",
       "    .dataframe thead th {\n",
       "        text-align: right;\n",
       "    }\n",
       "</style>\n",
       "<table border=\"1\" class=\"dataframe\">\n",
       "  <thead>\n",
       "    <tr style=\"text-align: right;\">\n",
       "      <th></th>\n",
       "      <th>date</th>\n",
       "      <th>num</th>\n",
       "      <th>city</th>\n",
       "    </tr>\n",
       "  </thead>\n",
       "  <tbody>\n",
       "    <tr>\n",
       "      <th>1795139</th>\n",
       "      <td>2019-01-31 15:56:00</td>\n",
       "      <td>3</td>\n",
       "      <td>Cambridge</td>\n",
       "    </tr>\n",
       "    <tr>\n",
       "      <th>1795140</th>\n",
       "      <td>2019-01-31 15:57:00</td>\n",
       "      <td>3</td>\n",
       "      <td>Cambridge</td>\n",
       "    </tr>\n",
       "    <tr>\n",
       "      <th>1795141</th>\n",
       "      <td>2019-01-31 15:58:00</td>\n",
       "      <td>3</td>\n",
       "      <td>Cambridge</td>\n",
       "    </tr>\n",
       "    <tr>\n",
       "      <th>1795142</th>\n",
       "      <td>2019-01-31 15:59:00</td>\n",
       "      <td>3</td>\n",
       "      <td>Cambridge</td>\n",
       "    </tr>\n",
       "    <tr>\n",
       "      <th>1795143</th>\n",
       "      <td>2019-01-31 16:00:00</td>\n",
       "      <td>2</td>\n",
       "      <td>Cambridge</td>\n",
       "    </tr>\n",
       "  </tbody>\n",
       "</table>\n",
       "</div>"
      ],
      "text/plain": [
       "                        date  num       city\n",
       "1795139  2019-01-31 15:56:00    3  Cambridge\n",
       "1795140  2019-01-31 15:57:00    3  Cambridge\n",
       "1795141  2019-01-31 15:58:00    3  Cambridge\n",
       "1795142  2019-01-31 15:59:00    3  Cambridge\n",
       "1795143  2019-01-31 16:00:00    2  Cambridge"
      ]
     },
     "execution_count": 272,
     "metadata": {},
     "output_type": "execute_result"
    }
   ],
   "source": [
    "df.tail()"
   ]
  },
  {
   "cell_type": "code",
   "execution_count": 273,
   "id": "b3723107",
   "metadata": {},
   "outputs": [
    {
     "data": {
      "text/html": [
       "<div>\n",
       "<style scoped>\n",
       "    .dataframe tbody tr th:only-of-type {\n",
       "        vertical-align: middle;\n",
       "    }\n",
       "\n",
       "    .dataframe tbody tr th {\n",
       "        vertical-align: top;\n",
       "    }\n",
       "\n",
       "    .dataframe thead th {\n",
       "        text-align: right;\n",
       "    }\n",
       "</style>\n",
       "<table border=\"1\" class=\"dataframe\">\n",
       "  <thead>\n",
       "    <tr style=\"text-align: right;\">\n",
       "      <th></th>\n",
       "      <th>Id</th>\n",
       "      <th>Time</th>\n",
       "      <th>Team1</th>\n",
       "      <th>Team2</th>\n",
       "      <th>court</th>\n",
       "    </tr>\n",
       "  </thead>\n",
       "  <tbody>\n",
       "    <tr>\n",
       "      <th>0</th>\n",
       "      <td>1</td>\n",
       "      <td>10:30:00</td>\n",
       "      <td>A</td>\n",
       "      <td>B</td>\n",
       "      <td>1</td>\n",
       "    </tr>\n",
       "    <tr>\n",
       "      <th>1</th>\n",
       "      <td>2</td>\n",
       "      <td>11:40:00</td>\n",
       "      <td>C</td>\n",
       "      <td>D</td>\n",
       "      <td>2</td>\n",
       "    </tr>\n",
       "    <tr>\n",
       "      <th>2</th>\n",
       "      <td>3</td>\n",
       "      <td>12:15:00</td>\n",
       "      <td>A</td>\n",
       "      <td>C</td>\n",
       "      <td>4</td>\n",
       "    </tr>\n",
       "    <tr>\n",
       "      <th>3</th>\n",
       "      <td>4</td>\n",
       "      <td>12:15:00</td>\n",
       "      <td>D</td>\n",
       "      <td>A</td>\n",
       "      <td>5</td>\n",
       "    </tr>\n",
       "    <tr>\n",
       "      <th>4</th>\n",
       "      <td>5</td>\n",
       "      <td>14:00:00</td>\n",
       "      <td>Winner -1</td>\n",
       "      <td>Runner – 1</td>\n",
       "      <td>2</td>\n",
       "    </tr>\n",
       "  </tbody>\n",
       "</table>\n",
       "</div>"
      ],
      "text/plain": [
       "   Id      Time      Team1       Team2  court\n",
       "0   1  10:30:00          A           B      1\n",
       "1   2  11:40:00          C           D      2\n",
       "2   3  12:15:00          A           C      4\n",
       "3   4  12:15:00          D           A      5\n",
       "4   5  14:00:00  Winner -1  Runner – 1      2"
      ]
     },
     "execution_count": 273,
     "metadata": {},
     "output_type": "execute_result"
    }
   ],
   "source": [
    "df = pd.read_excel(\"./data/tennis_schedule.xlsx\")\n",
    "df.head()"
   ]
  },
  {
   "cell_type": "code",
   "execution_count": 274,
   "id": "315a96d3",
   "metadata": {},
   "outputs": [],
   "source": [
    "# JSON\n",
    "import json"
   ]
  },
  {
   "cell_type": "code",
   "execution_count": 276,
   "id": "3f773839",
   "metadata": {},
   "outputs": [],
   "source": [
    "with open(\"./data/data.json\", 'r') as file:\n",
    "    data = json.load(file)"
   ]
  },
  {
   "cell_type": "code",
   "execution_count": 279,
   "id": "4857f859",
   "metadata": {},
   "outputs": [],
   "source": [
    "df_json = pd.DataFrame(data)"
   ]
  },
  {
   "cell_type": "code",
   "execution_count": 281,
   "id": "b6f17b14",
   "metadata": {},
   "outputs": [
    {
     "data": {
      "text/html": [
       "<div>\n",
       "<style scoped>\n",
       "    .dataframe tbody tr th:only-of-type {\n",
       "        vertical-align: middle;\n",
       "    }\n",
       "\n",
       "    .dataframe tbody tr th {\n",
       "        vertical-align: top;\n",
       "    }\n",
       "\n",
       "    .dataframe thead th {\n",
       "        text-align: right;\n",
       "    }\n",
       "</style>\n",
       "<table border=\"1\" class=\"dataframe\">\n",
       "  <thead>\n",
       "    <tr style=\"text-align: right;\">\n",
       "      <th></th>\n",
       "      <th>Name</th>\n",
       "      <th>Age</th>\n",
       "      <th>DOB</th>\n",
       "    </tr>\n",
       "  </thead>\n",
       "  <tbody>\n",
       "    <tr>\n",
       "      <th>0</th>\n",
       "      <td>Arun</td>\n",
       "      <td>23</td>\n",
       "      <td>10-10-1999</td>\n",
       "    </tr>\n",
       "    <tr>\n",
       "      <th>1</th>\n",
       "      <td>Raja</td>\n",
       "      <td>47</td>\n",
       "      <td>11-12-1990</td>\n",
       "    </tr>\n",
       "  </tbody>\n",
       "</table>\n",
       "</div>"
      ],
      "text/plain": [
       "   Name  Age         DOB\n",
       "0  Arun   23  10-10-1999\n",
       "1  Raja   47  11-12-1990"
      ]
     },
     "execution_count": 281,
     "metadata": {},
     "output_type": "execute_result"
    }
   ],
   "source": [
    "df_json"
   ]
  },
  {
   "cell_type": "code",
   "execution_count": 282,
   "id": "590927d5",
   "metadata": {},
   "outputs": [],
   "source": [
    "dict_data = [{\"Age\": 21, \"Name\":\"X\", \"BG\": \"b+\"}, {\"Age\": 42, \"Name\": \"A\", \"BG\": \"o+\"}]"
   ]
  },
  {
   "cell_type": "code",
   "execution_count": 283,
   "id": "0738d118",
   "metadata": {},
   "outputs": [],
   "source": [
    "# Write json \n",
    "with open(\"./data/data_new.json\", 'w') as file:\n",
    "    file.write(json.dumps(dict_data))"
   ]
  },
  {
   "cell_type": "code",
   "execution_count": 290,
   "id": "d95e3e14",
   "metadata": {},
   "outputs": [
    {
     "name": "stdout",
     "output_type": "stream",
     "text": [
      "city_sales.csv\tdata_new.json\t       student_data.csv\r\n",
      "college-majors\tipl\t\t       student_data.xlsx\r\n",
      "data.json\tsales-data-sample.csv  tennis_schedule.xlsx\r\n"
     ]
    }
   ],
   "source": [
    "!ls \"./data/\""
   ]
  },
  {
   "cell_type": "markdown",
   "id": "18346c86",
   "metadata": {},
   "source": [
    "## DataFrame"
   ]
  },
  {
   "cell_type": "code",
   "execution_count": 292,
   "id": "d6fedfaf",
   "metadata": {},
   "outputs": [],
   "source": [
    "data = {'state': ['Ohio', 'Ohio', 'Ohio', 'Nevada', 'Nevada', 'Nevada'],\n",
    "'year': [2000, 2001, 2002, 2001, 2002, 2003],\n",
    "'pop': [1.5, 1.7, 3.6, 2.4, 2.9, 3.2]}\n",
    "df = pd.DataFrame(data)"
   ]
  },
  {
   "cell_type": "code",
   "execution_count": 293,
   "id": "8dfbcd37",
   "metadata": {},
   "outputs": [
    {
     "data": {
      "text/html": [
       "<div>\n",
       "<style scoped>\n",
       "    .dataframe tbody tr th:only-of-type {\n",
       "        vertical-align: middle;\n",
       "    }\n",
       "\n",
       "    .dataframe tbody tr th {\n",
       "        vertical-align: top;\n",
       "    }\n",
       "\n",
       "    .dataframe thead th {\n",
       "        text-align: right;\n",
       "    }\n",
       "</style>\n",
       "<table border=\"1\" class=\"dataframe\">\n",
       "  <thead>\n",
       "    <tr style=\"text-align: right;\">\n",
       "      <th></th>\n",
       "      <th>state</th>\n",
       "      <th>year</th>\n",
       "      <th>pop</th>\n",
       "    </tr>\n",
       "  </thead>\n",
       "  <tbody>\n",
       "    <tr>\n",
       "      <th>0</th>\n",
       "      <td>Ohio</td>\n",
       "      <td>2000</td>\n",
       "      <td>1.5</td>\n",
       "    </tr>\n",
       "    <tr>\n",
       "      <th>1</th>\n",
       "      <td>Ohio</td>\n",
       "      <td>2001</td>\n",
       "      <td>1.7</td>\n",
       "    </tr>\n",
       "    <tr>\n",
       "      <th>2</th>\n",
       "      <td>Ohio</td>\n",
       "      <td>2002</td>\n",
       "      <td>3.6</td>\n",
       "    </tr>\n",
       "    <tr>\n",
       "      <th>3</th>\n",
       "      <td>Nevada</td>\n",
       "      <td>2001</td>\n",
       "      <td>2.4</td>\n",
       "    </tr>\n",
       "    <tr>\n",
       "      <th>4</th>\n",
       "      <td>Nevada</td>\n",
       "      <td>2002</td>\n",
       "      <td>2.9</td>\n",
       "    </tr>\n",
       "    <tr>\n",
       "      <th>5</th>\n",
       "      <td>Nevada</td>\n",
       "      <td>2003</td>\n",
       "      <td>3.2</td>\n",
       "    </tr>\n",
       "  </tbody>\n",
       "</table>\n",
       "</div>"
      ],
      "text/plain": [
       "    state  year  pop\n",
       "0    Ohio  2000  1.5\n",
       "1    Ohio  2001  1.7\n",
       "2    Ohio  2002  3.6\n",
       "3  Nevada  2001  2.4\n",
       "4  Nevada  2002  2.9\n",
       "5  Nevada  2003  3.2"
      ]
     },
     "execution_count": 293,
     "metadata": {},
     "output_type": "execute_result"
    }
   ],
   "source": [
    "df"
   ]
  },
  {
   "cell_type": "code",
   "execution_count": 304,
   "id": "d988e582",
   "metadata": {},
   "outputs": [
    {
     "data": {
      "text/plain": [
       "array([[2000, 1.5],\n",
       "       [2001, 1.7],\n",
       "       [2002, 3.6],\n",
       "       [2001, 2.4],\n",
       "       [2002, 2.9],\n",
       "       [2003, 3.2]], dtype=object)"
      ]
     },
     "execution_count": 304,
     "metadata": {},
     "output_type": "execute_result"
    }
   ],
   "source": [
    "df.values[0:, 1:3]"
   ]
  },
  {
   "cell_type": "code",
   "execution_count": 307,
   "id": "153f2cf3",
   "metadata": {},
   "outputs": [],
   "source": [
    "df[\"debt\"] = np.arange(6)"
   ]
  },
  {
   "cell_type": "code",
   "execution_count": 308,
   "id": "d18a9404",
   "metadata": {},
   "outputs": [
    {
     "data": {
      "text/html": [
       "<div>\n",
       "<style scoped>\n",
       "    .dataframe tbody tr th:only-of-type {\n",
       "        vertical-align: middle;\n",
       "    }\n",
       "\n",
       "    .dataframe tbody tr th {\n",
       "        vertical-align: top;\n",
       "    }\n",
       "\n",
       "    .dataframe thead th {\n",
       "        text-align: right;\n",
       "    }\n",
       "</style>\n",
       "<table border=\"1\" class=\"dataframe\">\n",
       "  <thead>\n",
       "    <tr style=\"text-align: right;\">\n",
       "      <th></th>\n",
       "      <th>state</th>\n",
       "      <th>year</th>\n",
       "      <th>pop</th>\n",
       "      <th>debt</th>\n",
       "    </tr>\n",
       "  </thead>\n",
       "  <tbody>\n",
       "    <tr>\n",
       "      <th>0</th>\n",
       "      <td>Ohio</td>\n",
       "      <td>2000</td>\n",
       "      <td>1.5</td>\n",
       "      <td>0</td>\n",
       "    </tr>\n",
       "    <tr>\n",
       "      <th>1</th>\n",
       "      <td>Ohio</td>\n",
       "      <td>2001</td>\n",
       "      <td>1.7</td>\n",
       "      <td>1</td>\n",
       "    </tr>\n",
       "    <tr>\n",
       "      <th>2</th>\n",
       "      <td>Ohio</td>\n",
       "      <td>2002</td>\n",
       "      <td>3.6</td>\n",
       "      <td>2</td>\n",
       "    </tr>\n",
       "    <tr>\n",
       "      <th>3</th>\n",
       "      <td>Nevada</td>\n",
       "      <td>2001</td>\n",
       "      <td>2.4</td>\n",
       "      <td>3</td>\n",
       "    </tr>\n",
       "    <tr>\n",
       "      <th>4</th>\n",
       "      <td>Nevada</td>\n",
       "      <td>2002</td>\n",
       "      <td>2.9</td>\n",
       "      <td>4</td>\n",
       "    </tr>\n",
       "    <tr>\n",
       "      <th>5</th>\n",
       "      <td>Nevada</td>\n",
       "      <td>2003</td>\n",
       "      <td>3.2</td>\n",
       "      <td>5</td>\n",
       "    </tr>\n",
       "  </tbody>\n",
       "</table>\n",
       "</div>"
      ],
      "text/plain": [
       "    state  year  pop  debt\n",
       "0    Ohio  2000  1.5     0\n",
       "1    Ohio  2001  1.7     1\n",
       "2    Ohio  2002  3.6     2\n",
       "3  Nevada  2001  2.4     3\n",
       "4  Nevada  2002  2.9     4\n",
       "5  Nevada  2003  3.2     5"
      ]
     },
     "execution_count": 308,
     "metadata": {},
     "output_type": "execute_result"
    }
   ],
   "source": [
    "df"
   ]
  },
  {
   "cell_type": "code",
   "execution_count": 310,
   "id": "ad68d294",
   "metadata": {},
   "outputs": [],
   "source": [
    "df[\"tot_debt\"] = df[\"pop\"] * df[\"debt\"]"
   ]
  },
  {
   "cell_type": "code",
   "execution_count": 311,
   "id": "653a25bb",
   "metadata": {},
   "outputs": [
    {
     "data": {
      "text/html": [
       "<div>\n",
       "<style scoped>\n",
       "    .dataframe tbody tr th:only-of-type {\n",
       "        vertical-align: middle;\n",
       "    }\n",
       "\n",
       "    .dataframe tbody tr th {\n",
       "        vertical-align: top;\n",
       "    }\n",
       "\n",
       "    .dataframe thead th {\n",
       "        text-align: right;\n",
       "    }\n",
       "</style>\n",
       "<table border=\"1\" class=\"dataframe\">\n",
       "  <thead>\n",
       "    <tr style=\"text-align: right;\">\n",
       "      <th></th>\n",
       "      <th>state</th>\n",
       "      <th>year</th>\n",
       "      <th>pop</th>\n",
       "      <th>debt</th>\n",
       "      <th>tot_debt</th>\n",
       "    </tr>\n",
       "  </thead>\n",
       "  <tbody>\n",
       "    <tr>\n",
       "      <th>0</th>\n",
       "      <td>Ohio</td>\n",
       "      <td>2000</td>\n",
       "      <td>1.5</td>\n",
       "      <td>0</td>\n",
       "      <td>0.0</td>\n",
       "    </tr>\n",
       "    <tr>\n",
       "      <th>1</th>\n",
       "      <td>Ohio</td>\n",
       "      <td>2001</td>\n",
       "      <td>1.7</td>\n",
       "      <td>1</td>\n",
       "      <td>1.7</td>\n",
       "    </tr>\n",
       "    <tr>\n",
       "      <th>2</th>\n",
       "      <td>Ohio</td>\n",
       "      <td>2002</td>\n",
       "      <td>3.6</td>\n",
       "      <td>2</td>\n",
       "      <td>7.2</td>\n",
       "    </tr>\n",
       "    <tr>\n",
       "      <th>3</th>\n",
       "      <td>Nevada</td>\n",
       "      <td>2001</td>\n",
       "      <td>2.4</td>\n",
       "      <td>3</td>\n",
       "      <td>7.2</td>\n",
       "    </tr>\n",
       "    <tr>\n",
       "      <th>4</th>\n",
       "      <td>Nevada</td>\n",
       "      <td>2002</td>\n",
       "      <td>2.9</td>\n",
       "      <td>4</td>\n",
       "      <td>11.6</td>\n",
       "    </tr>\n",
       "    <tr>\n",
       "      <th>5</th>\n",
       "      <td>Nevada</td>\n",
       "      <td>2003</td>\n",
       "      <td>3.2</td>\n",
       "      <td>5</td>\n",
       "      <td>16.0</td>\n",
       "    </tr>\n",
       "  </tbody>\n",
       "</table>\n",
       "</div>"
      ],
      "text/plain": [
       "    state  year  pop  debt  tot_debt\n",
       "0    Ohio  2000  1.5     0       0.0\n",
       "1    Ohio  2001  1.7     1       1.7\n",
       "2    Ohio  2002  3.6     2       7.2\n",
       "3  Nevada  2001  2.4     3       7.2\n",
       "4  Nevada  2002  2.9     4      11.6\n",
       "5  Nevada  2003  3.2     5      16.0"
      ]
     },
     "execution_count": 311,
     "metadata": {},
     "output_type": "execute_result"
    }
   ],
   "source": [
    "df"
   ]
  },
  {
   "cell_type": "code",
   "execution_count": 313,
   "id": "b3f1bdb5",
   "metadata": {},
   "outputs": [],
   "source": [
    "# eastern - state? create is_eastern \n",
    "df[\"is_eastern\"] = df[\"state\"] == \"Ohio\""
   ]
  },
  {
   "cell_type": "code",
   "execution_count": 315,
   "id": "41957c2a",
   "metadata": {},
   "outputs": [
    {
     "data": {
      "text/html": [
       "<div>\n",
       "<style scoped>\n",
       "    .dataframe tbody tr th:only-of-type {\n",
       "        vertical-align: middle;\n",
       "    }\n",
       "\n",
       "    .dataframe tbody tr th {\n",
       "        vertical-align: top;\n",
       "    }\n",
       "\n",
       "    .dataframe thead th {\n",
       "        text-align: right;\n",
       "    }\n",
       "</style>\n",
       "<table border=\"1\" class=\"dataframe\">\n",
       "  <thead>\n",
       "    <tr style=\"text-align: right;\">\n",
       "      <th></th>\n",
       "      <th>state</th>\n",
       "      <th>year</th>\n",
       "      <th>pop</th>\n",
       "      <th>debt</th>\n",
       "      <th>tot_debt</th>\n",
       "      <th>is_eastern</th>\n",
       "    </tr>\n",
       "  </thead>\n",
       "  <tbody>\n",
       "    <tr>\n",
       "      <th>0</th>\n",
       "      <td>Ohio</td>\n",
       "      <td>2000</td>\n",
       "      <td>1.5</td>\n",
       "      <td>0</td>\n",
       "      <td>0.0</td>\n",
       "      <td>True</td>\n",
       "    </tr>\n",
       "    <tr>\n",
       "      <th>1</th>\n",
       "      <td>Ohio</td>\n",
       "      <td>2001</td>\n",
       "      <td>1.7</td>\n",
       "      <td>1</td>\n",
       "      <td>1.7</td>\n",
       "      <td>True</td>\n",
       "    </tr>\n",
       "    <tr>\n",
       "      <th>2</th>\n",
       "      <td>Ohio</td>\n",
       "      <td>2002</td>\n",
       "      <td>3.6</td>\n",
       "      <td>2</td>\n",
       "      <td>7.2</td>\n",
       "      <td>True</td>\n",
       "    </tr>\n",
       "  </tbody>\n",
       "</table>\n",
       "</div>"
      ],
      "text/plain": [
       "  state  year  pop  debt  tot_debt  is_eastern\n",
       "0  Ohio  2000  1.5     0       0.0        True\n",
       "1  Ohio  2001  1.7     1       1.7        True\n",
       "2  Ohio  2002  3.6     2       7.2        True"
      ]
     },
     "execution_count": 315,
     "metadata": {},
     "output_type": "execute_result"
    }
   ],
   "source": [
    "# Filter the eastern states alone\n",
    "df.loc[df[\"is_eastern\"] == True]"
   ]
  },
  {
   "cell_type": "markdown",
   "id": "19fe18ac",
   "metadata": {},
   "source": [
    "## loc and iloc"
   ]
  },
  {
   "cell_type": "code",
   "execution_count": 336,
   "id": "c5f583c2",
   "metadata": {},
   "outputs": [
    {
     "data": {
      "text/html": [
       "<div>\n",
       "<style scoped>\n",
       "    .dataframe tbody tr th:only-of-type {\n",
       "        vertical-align: middle;\n",
       "    }\n",
       "\n",
       "    .dataframe tbody tr th {\n",
       "        vertical-align: top;\n",
       "    }\n",
       "\n",
       "    .dataframe thead th {\n",
       "        text-align: right;\n",
       "    }\n",
       "</style>\n",
       "<table border=\"1\" class=\"dataframe\">\n",
       "  <thead>\n",
       "    <tr style=\"text-align: right;\">\n",
       "      <th></th>\n",
       "      <th>state</th>\n",
       "      <th>year</th>\n",
       "      <th>pop</th>\n",
       "    </tr>\n",
       "  </thead>\n",
       "  <tbody>\n",
       "    <tr>\n",
       "      <th>0</th>\n",
       "      <td>Ohio</td>\n",
       "      <td>2000</td>\n",
       "      <td>1.5</td>\n",
       "    </tr>\n",
       "    <tr>\n",
       "      <th>1</th>\n",
       "      <td>Ohio</td>\n",
       "      <td>2001</td>\n",
       "      <td>1.7</td>\n",
       "    </tr>\n",
       "    <tr>\n",
       "      <th>2</th>\n",
       "      <td>Ohio</td>\n",
       "      <td>2002</td>\n",
       "      <td>3.6</td>\n",
       "    </tr>\n",
       "    <tr>\n",
       "      <th>3</th>\n",
       "      <td>Nevada</td>\n",
       "      <td>2001</td>\n",
       "      <td>2.4</td>\n",
       "    </tr>\n",
       "    <tr>\n",
       "      <th>4</th>\n",
       "      <td>Nevada</td>\n",
       "      <td>2002</td>\n",
       "      <td>2.9</td>\n",
       "    </tr>\n",
       "    <tr>\n",
       "      <th>5</th>\n",
       "      <td>Nevada</td>\n",
       "      <td>2003</td>\n",
       "      <td>3.2</td>\n",
       "    </tr>\n",
       "  </tbody>\n",
       "</table>\n",
       "</div>"
      ],
      "text/plain": [
       "    state  year  pop\n",
       "0    Ohio  2000  1.5\n",
       "1    Ohio  2001  1.7\n",
       "2    Ohio  2002  3.6\n",
       "3  Nevada  2001  2.4\n",
       "4  Nevada  2002  2.9\n",
       "5  Nevada  2003  3.2"
      ]
     },
     "execution_count": 336,
     "metadata": {},
     "output_type": "execute_result"
    }
   ],
   "source": [
    "df.loc[: , [\"state\", \"year\", \"pop\"]]"
   ]
  },
  {
   "cell_type": "code",
   "execution_count": 330,
   "id": "f2c23f87",
   "metadata": {},
   "outputs": [
    {
     "data": {
      "text/html": [
       "<div>\n",
       "<style scoped>\n",
       "    .dataframe tbody tr th:only-of-type {\n",
       "        vertical-align: middle;\n",
       "    }\n",
       "\n",
       "    .dataframe tbody tr th {\n",
       "        vertical-align: top;\n",
       "    }\n",
       "\n",
       "    .dataframe thead th {\n",
       "        text-align: right;\n",
       "    }\n",
       "</style>\n",
       "<table border=\"1\" class=\"dataframe\">\n",
       "  <thead>\n",
       "    <tr style=\"text-align: right;\">\n",
       "      <th></th>\n",
       "      <th>state</th>\n",
       "      <th>year</th>\n",
       "      <th>pop</th>\n",
       "    </tr>\n",
       "  </thead>\n",
       "  <tbody>\n",
       "    <tr>\n",
       "      <th>1</th>\n",
       "      <td>Ohio</td>\n",
       "      <td>2001</td>\n",
       "      <td>1.7</td>\n",
       "    </tr>\n",
       "    <tr>\n",
       "      <th>2</th>\n",
       "      <td>Ohio</td>\n",
       "      <td>2002</td>\n",
       "      <td>3.6</td>\n",
       "    </tr>\n",
       "  </tbody>\n",
       "</table>\n",
       "</div>"
      ],
      "text/plain": [
       "  state  year  pop\n",
       "1  Ohio  2001  1.7\n",
       "2  Ohio  2002  3.6"
      ]
     },
     "execution_count": 330,
     "metadata": {},
     "output_type": "execute_result"
    }
   ],
   "source": [
    "df.iloc[1:3, [0, 1, 2]]"
   ]
  },
  {
   "cell_type": "code",
   "execution_count": 333,
   "id": "4772712e",
   "metadata": {},
   "outputs": [
    {
     "data": {
      "text/plain": [
       "0      Ohio\n",
       "1      Ohio\n",
       "2      Ohio\n",
       "3    Nevada\n",
       "4    Nevada\n",
       "5    Nevada\n",
       "Name: state, dtype: object"
      ]
     },
     "execution_count": 333,
     "metadata": {},
     "output_type": "execute_result"
    }
   ],
   "source": [
    "df[\"state\"]"
   ]
  },
  {
   "cell_type": "code",
   "execution_count": 335,
   "id": "7868435e",
   "metadata": {},
   "outputs": [
    {
     "data": {
      "text/plain": [
       "0      Ohio\n",
       "1      Ohio\n",
       "2      Ohio\n",
       "3    Nevada\n",
       "4    Nevada\n",
       "5    Nevada\n",
       "Name: state, dtype: object"
      ]
     },
     "execution_count": 335,
     "metadata": {},
     "output_type": "execute_result"
    }
   ],
   "source": [
    "df.iloc[:, 0]"
   ]
  },
  {
   "cell_type": "markdown",
   "id": "70176bfc",
   "metadata": {},
   "source": [
    "### Visualization"
   ]
  },
  {
   "cell_type": "code",
   "execution_count": 337,
   "id": "eb22e850",
   "metadata": {},
   "outputs": [],
   "source": [
    "X = list(np.arange(9))\n",
    "Y = [20, 21, 35, 45, 70, 80, 54, 71, 73]"
   ]
  },
  {
   "cell_type": "code",
   "execution_count": 338,
   "id": "1ccbf66e",
   "metadata": {},
   "outputs": [
    {
     "data": {
      "text/plain": [
       "[0, 1, 2, 3, 4, 5, 6, 7, 8]"
      ]
     },
     "execution_count": 338,
     "metadata": {},
     "output_type": "execute_result"
    }
   ],
   "source": [
    "X"
   ]
  },
  {
   "cell_type": "code",
   "execution_count": 339,
   "id": "f06665da",
   "metadata": {},
   "outputs": [
    {
     "data": {
      "text/plain": [
       "[20, 21, 35, 45, 70, 80, 54, 71, 73]"
      ]
     },
     "execution_count": 339,
     "metadata": {},
     "output_type": "execute_result"
    }
   ],
   "source": [
    "Y"
   ]
  },
  {
   "cell_type": "code",
   "execution_count": 340,
   "id": "5121d622",
   "metadata": {},
   "outputs": [],
   "source": [
    "import matplotlib.pyplot as plt"
   ]
  },
  {
   "cell_type": "code",
   "execution_count": 355,
   "id": "5c20fcf6",
   "metadata": {},
   "outputs": [
    {
     "data": {
      "image/png": "[encoded data removed]",
      "text/plain": [
       "<Figure size 640x480 with 1 Axes>"
      ]
     },
     "metadata": {},
     "output_type": "display_data"
    }
   ],
   "source": [
    "# Markers v , r linestyle :, -., --, color: red, blue, violet\n",
    "plt.plot(X, Y, marker=\"v\", linestyle=\"-.\", color=\"blue\")\n",
    "plt.title(\"Student Mark\")\n",
    "plt.xlabel(\"Roll No\")\n",
    "plt.ylabel(\"Marks\")\n",
    "plt.show()"
   ]
  },
  {
   "cell_type": "code",
   "execution_count": 360,
   "id": "d3e43a83",
   "metadata": {},
   "outputs": [],
   "source": [
    "X = [0, 1, 2, 3, 4, 5, 7, 8, 9, 10]\n",
    "Y = [20, 25, 35, 50, 10, 12, 20, 40, 70, 95]\n",
    "\n",
    "X1 = [0, 1, 2, 3, 4, 5, 7, 8, 9, 10]\n",
    "Y2 = [90, 89, 87, 82, 72, 60, 45, 28, 10, 0]"
   ]
  },
  {
   "cell_type": "code",
   "execution_count": 361,
   "id": "7106db6f",
   "metadata": {},
   "outputs": [
    {
     "data": {
      "text/plain": [
       "[<matplotlib.lines.Line2D at 0x7f2d4099fa60>]"
      ]
     },
     "execution_count": 361,
     "metadata": {},
     "output_type": "execute_result"
    },
    {
     "data": {
      "image/png": "[encoded data removed]",
      "text/plain": [
       "<Figure size 640x480 with 1 Axes>"
      ]
     },
     "metadata": {},
     "output_type": "display_data"
    }
   ],
   "source": [
    "plt.plot(X, Y)\n",
    "plt.plot(X1, Y2)"
   ]
  },
  {
   "cell_type": "code",
   "execution_count": 362,
   "id": "261112bd",
   "metadata": {},
   "outputs": [
    {
     "data": {
      "image/png": "[encoded data removed]",
      "text/plain": [
       "<Figure size 640x480 with 1 Axes>"
      ]
     },
     "metadata": {},
     "output_type": "display_data"
    }
   ],
   "source": [
    "# Bar charts\n",
    "x = np.array([\"A\", \"B\", \"C\", \"D\"])\n",
    "y = np.array([3, 8, 1, 10])\n",
    "\n",
    "plt.bar(x,y)\n",
    "plt.show()"
   ]
  },
  {
   "cell_type": "code",
   "execution_count": 363,
   "id": "c72be91d",
   "metadata": {},
   "outputs": [
    {
     "data": {
      "image/png": "[encoded data removed]",
      "text/plain": [
       "<Figure size 640x480 with 1 Axes>"
      ]
     },
     "metadata": {},
     "output_type": "display_data"
    }
   ],
   "source": [
    "## Scatter Plot\n",
    "x = np.array([5,7,8,7,2,17,2,9,4,11,12,9,6])\n",
    "y = np.array([99,86,87,88,111,86,103,87,94,78,77,85,86])\n",
    "\n",
    "plt.scatter(x, y)\n",
    "plt.show()"
   ]
  },
  {
   "cell_type": "code",
   "execution_count": 364,
   "id": "4fd97978",
   "metadata": {},
   "outputs": [
    {
     "data": {
      "image/png": "[encoded data removed]",
      "text/plain": [
       "<Figure size 640x480 with 1 Axes>"
      ]
     },
     "metadata": {},
     "output_type": "display_data"
    }
   ],
   "source": [
    "# Pie Chart\n",
    "y = np.array([35, 25, 25, 15])\n",
    "\n",
    "plt.pie(y)\n",
    "plt.show()"
   ]
  },
  {
   "cell_type": "markdown",
   "id": "15c6c8ff",
   "metadata": {},
   "source": [
    "## Join Pandas"
   ]
  },
  {
   "cell_type": "code",
   "execution_count": 365,
   "id": "60df0e33",
   "metadata": {},
   "outputs": [],
   "source": [
    "## create two tables\n",
    "student_dict = {\n",
    "                \"Roll No\": [1, 2, 3, 4, 5, 6, 7],\n",
    "                \"Name\": [\"Arun\", \"Babu\", \"Chander\", \"Dinesh\", \"Ezhil\", \"Farzana\", \"Giri\"],\n",
    "                \"Department\": [\"CSE\", \"CSE\", \"IT\", \"IT\", \"CSE\", \"MECH\", \"CIVIL\"]\n",
    "             }\n",
    "\n",
    "placement_dict = {\n",
    "    \"Roll No\": [1, 2, 3, 4, 5, 6],\n",
    "    \"Flag\": [True, True, False, True, True, False]\n",
    "}"
   ]
  },
  {
   "cell_type": "code",
   "execution_count": 366,
   "id": "a8849fc0",
   "metadata": {},
   "outputs": [],
   "source": [
    "student_df = pd.DataFrame(student_dict)\n",
    "placement_df = pd.DataFrame(placement_dict)"
   ]
  },
  {
   "cell_type": "code",
   "execution_count": 367,
   "id": "f7194141",
   "metadata": {},
   "outputs": [
    {
     "data": {
      "text/html": [
       "<div>\n",
       "<style scoped>\n",
       "    .dataframe tbody tr th:only-of-type {\n",
       "        vertical-align: middle;\n",
       "    }\n",
       "\n",
       "    .dataframe tbody tr th {\n",
       "        vertical-align: top;\n",
       "    }\n",
       "\n",
       "    .dataframe thead th {\n",
       "        text-align: right;\n",
       "    }\n",
       "</style>\n",
       "<table border=\"1\" class=\"dataframe\">\n",
       "  <thead>\n",
       "    <tr style=\"text-align: right;\">\n",
       "      <th></th>\n",
       "      <th>Roll No</th>\n",
       "      <th>Name</th>\n",
       "      <th>Department</th>\n",
       "    </tr>\n",
       "  </thead>\n",
       "  <tbody>\n",
       "    <tr>\n",
       "      <th>0</th>\n",
       "      <td>1</td>\n",
       "      <td>Arun</td>\n",
       "      <td>CSE</td>\n",
       "    </tr>\n",
       "    <tr>\n",
       "      <th>1</th>\n",
       "      <td>2</td>\n",
       "      <td>Babu</td>\n",
       "      <td>CSE</td>\n",
       "    </tr>\n",
       "    <tr>\n",
       "      <th>2</th>\n",
       "      <td>3</td>\n",
       "      <td>Chander</td>\n",
       "      <td>IT</td>\n",
       "    </tr>\n",
       "    <tr>\n",
       "      <th>3</th>\n",
       "      <td>4</td>\n",
       "      <td>Dinesh</td>\n",
       "      <td>IT</td>\n",
       "    </tr>\n",
       "    <tr>\n",
       "      <th>4</th>\n",
       "      <td>5</td>\n",
       "      <td>Ezhil</td>\n",
       "      <td>CSE</td>\n",
       "    </tr>\n",
       "  </tbody>\n",
       "</table>\n",
       "</div>"
      ],
      "text/plain": [
       "   Roll No     Name Department\n",
       "0        1     Arun        CSE\n",
       "1        2     Babu        CSE\n",
       "2        3  Chander         IT\n",
       "3        4   Dinesh         IT\n",
       "4        5    Ezhil        CSE"
      ]
     },
     "execution_count": 367,
     "metadata": {},
     "output_type": "execute_result"
    }
   ],
   "source": [
    "student_df.head()"
   ]
  },
  {
   "cell_type": "code",
   "execution_count": 368,
   "id": "2aaff13e",
   "metadata": {},
   "outputs": [
    {
     "data": {
      "text/html": [
       "<div>\n",
       "<style scoped>\n",
       "    .dataframe tbody tr th:only-of-type {\n",
       "        vertical-align: middle;\n",
       "    }\n",
       "\n",
       "    .dataframe tbody tr th {\n",
       "        vertical-align: top;\n",
       "    }\n",
       "\n",
       "    .dataframe thead th {\n",
       "        text-align: right;\n",
       "    }\n",
       "</style>\n",
       "<table border=\"1\" class=\"dataframe\">\n",
       "  <thead>\n",
       "    <tr style=\"text-align: right;\">\n",
       "      <th></th>\n",
       "      <th>Roll No</th>\n",
       "      <th>Flag</th>\n",
       "    </tr>\n",
       "  </thead>\n",
       "  <tbody>\n",
       "    <tr>\n",
       "      <th>0</th>\n",
       "      <td>1</td>\n",
       "      <td>True</td>\n",
       "    </tr>\n",
       "    <tr>\n",
       "      <th>1</th>\n",
       "      <td>2</td>\n",
       "      <td>True</td>\n",
       "    </tr>\n",
       "    <tr>\n",
       "      <th>2</th>\n",
       "      <td>3</td>\n",
       "      <td>False</td>\n",
       "    </tr>\n",
       "    <tr>\n",
       "      <th>3</th>\n",
       "      <td>4</td>\n",
       "      <td>True</td>\n",
       "    </tr>\n",
       "    <tr>\n",
       "      <th>4</th>\n",
       "      <td>5</td>\n",
       "      <td>True</td>\n",
       "    </tr>\n",
       "  </tbody>\n",
       "</table>\n",
       "</div>"
      ],
      "text/plain": [
       "   Roll No   Flag\n",
       "0        1   True\n",
       "1        2   True\n",
       "2        3  False\n",
       "3        4   True\n",
       "4        5   True"
      ]
     },
     "execution_count": 368,
     "metadata": {},
     "output_type": "execute_result"
    }
   ],
   "source": [
    "placement_df.head()"
   ]
  },
  {
   "cell_type": "markdown",
   "id": "73684545",
   "metadata": {},
   "source": [
    "<img src=\"combine_df.png\" alt=\"combine-image\">"
   ]
  },
  {
   "cell_type": "code",
   "execution_count": 370,
   "id": "1dd647ea",
   "metadata": {},
   "outputs": [
    {
     "data": {
      "text/html": [
       "<div>\n",
       "<style scoped>\n",
       "    .dataframe tbody tr th:only-of-type {\n",
       "        vertical-align: middle;\n",
       "    }\n",
       "\n",
       "    .dataframe tbody tr th {\n",
       "        vertical-align: top;\n",
       "    }\n",
       "\n",
       "    .dataframe thead th {\n",
       "        text-align: right;\n",
       "    }\n",
       "</style>\n",
       "<table border=\"1\" class=\"dataframe\">\n",
       "  <thead>\n",
       "    <tr style=\"text-align: right;\">\n",
       "      <th></th>\n",
       "      <th>Roll No</th>\n",
       "      <th>Name</th>\n",
       "      <th>Department</th>\n",
       "      <th>Flag</th>\n",
       "    </tr>\n",
       "  </thead>\n",
       "  <tbody>\n",
       "    <tr>\n",
       "      <th>0</th>\n",
       "      <td>1</td>\n",
       "      <td>Arun</td>\n",
       "      <td>CSE</td>\n",
       "      <td>True</td>\n",
       "    </tr>\n",
       "    <tr>\n",
       "      <th>1</th>\n",
       "      <td>2</td>\n",
       "      <td>Babu</td>\n",
       "      <td>CSE</td>\n",
       "      <td>True</td>\n",
       "    </tr>\n",
       "    <tr>\n",
       "      <th>2</th>\n",
       "      <td>3</td>\n",
       "      <td>Chander</td>\n",
       "      <td>IT</td>\n",
       "      <td>False</td>\n",
       "    </tr>\n",
       "    <tr>\n",
       "      <th>3</th>\n",
       "      <td>4</td>\n",
       "      <td>Dinesh</td>\n",
       "      <td>IT</td>\n",
       "      <td>True</td>\n",
       "    </tr>\n",
       "    <tr>\n",
       "      <th>4</th>\n",
       "      <td>5</td>\n",
       "      <td>Ezhil</td>\n",
       "      <td>CSE</td>\n",
       "      <td>True</td>\n",
       "    </tr>\n",
       "    <tr>\n",
       "      <th>5</th>\n",
       "      <td>6</td>\n",
       "      <td>Farzana</td>\n",
       "      <td>MECH</td>\n",
       "      <td>False</td>\n",
       "    </tr>\n",
       "    <tr>\n",
       "      <th>6</th>\n",
       "      <td>7</td>\n",
       "      <td>Giri</td>\n",
       "      <td>CIVIL</td>\n",
       "      <td>NaN</td>\n",
       "    </tr>\n",
       "  </tbody>\n",
       "</table>\n",
       "</div>"
      ],
      "text/plain": [
       "   Roll No     Name Department   Flag\n",
       "0        1     Arun        CSE   True\n",
       "1        2     Babu        CSE   True\n",
       "2        3  Chander         IT  False\n",
       "3        4   Dinesh         IT   True\n",
       "4        5    Ezhil        CSE   True\n",
       "5        6  Farzana       MECH  False\n",
       "6        7     Giri      CIVIL    NaN"
      ]
     },
     "execution_count": 370,
     "metadata": {},
     "output_type": "execute_result"
    }
   ],
   "source": [
    "pd.merge(student_df, placement_df, on=\"Roll No\", how=\"left\")"
   ]
  },
  {
   "cell_type": "code",
   "execution_count": 371,
   "id": "9a372a50",
   "metadata": {},
   "outputs": [
    {
     "data": {
      "text/html": [
       "<div>\n",
       "<style scoped>\n",
       "    .dataframe tbody tr th:only-of-type {\n",
       "        vertical-align: middle;\n",
       "    }\n",
       "\n",
       "    .dataframe tbody tr th {\n",
       "        vertical-align: top;\n",
       "    }\n",
       "\n",
       "    .dataframe thead th {\n",
       "        text-align: right;\n",
       "    }\n",
       "</style>\n",
       "<table border=\"1\" class=\"dataframe\">\n",
       "  <thead>\n",
       "    <tr style=\"text-align: right;\">\n",
       "      <th></th>\n",
       "      <th>Roll No</th>\n",
       "      <th>Name</th>\n",
       "      <th>Department</th>\n",
       "      <th>Flag</th>\n",
       "    </tr>\n",
       "  </thead>\n",
       "  <tbody>\n",
       "    <tr>\n",
       "      <th>0</th>\n",
       "      <td>1</td>\n",
       "      <td>Arun</td>\n",
       "      <td>CSE</td>\n",
       "      <td>True</td>\n",
       "    </tr>\n",
       "    <tr>\n",
       "      <th>1</th>\n",
       "      <td>2</td>\n",
       "      <td>Babu</td>\n",
       "      <td>CSE</td>\n",
       "      <td>True</td>\n",
       "    </tr>\n",
       "    <tr>\n",
       "      <th>2</th>\n",
       "      <td>3</td>\n",
       "      <td>Chander</td>\n",
       "      <td>IT</td>\n",
       "      <td>False</td>\n",
       "    </tr>\n",
       "    <tr>\n",
       "      <th>3</th>\n",
       "      <td>4</td>\n",
       "      <td>Dinesh</td>\n",
       "      <td>IT</td>\n",
       "      <td>True</td>\n",
       "    </tr>\n",
       "    <tr>\n",
       "      <th>4</th>\n",
       "      <td>5</td>\n",
       "      <td>Ezhil</td>\n",
       "      <td>CSE</td>\n",
       "      <td>True</td>\n",
       "    </tr>\n",
       "    <tr>\n",
       "      <th>5</th>\n",
       "      <td>6</td>\n",
       "      <td>Farzana</td>\n",
       "      <td>MECH</td>\n",
       "      <td>False</td>\n",
       "    </tr>\n",
       "  </tbody>\n",
       "</table>\n",
       "</div>"
      ],
      "text/plain": [
       "   Roll No     Name Department   Flag\n",
       "0        1     Arun        CSE   True\n",
       "1        2     Babu        CSE   True\n",
       "2        3  Chander         IT  False\n",
       "3        4   Dinesh         IT   True\n",
       "4        5    Ezhil        CSE   True\n",
       "5        6  Farzana       MECH  False"
      ]
     },
     "execution_count": 371,
     "metadata": {},
     "output_type": "execute_result"
    }
   ],
   "source": [
    "pd.merge(student_df, placement_df, on=\"Roll No\", how=\"right\")"
   ]
  },
  {
   "cell_type": "code",
   "execution_count": 372,
   "id": "48eefa8d",
   "metadata": {},
   "outputs": [
    {
     "data": {
      "text/html": [
       "<div>\n",
       "<style scoped>\n",
       "    .dataframe tbody tr th:only-of-type {\n",
       "        vertical-align: middle;\n",
       "    }\n",
       "\n",
       "    .dataframe tbody tr th {\n",
       "        vertical-align: top;\n",
       "    }\n",
       "\n",
       "    .dataframe thead th {\n",
       "        text-align: right;\n",
       "    }\n",
       "</style>\n",
       "<table border=\"1\" class=\"dataframe\">\n",
       "  <thead>\n",
       "    <tr style=\"text-align: right;\">\n",
       "      <th></th>\n",
       "      <th>Roll No</th>\n",
       "      <th>Name</th>\n",
       "      <th>Department</th>\n",
       "      <th>Flag</th>\n",
       "    </tr>\n",
       "  </thead>\n",
       "  <tbody>\n",
       "    <tr>\n",
       "      <th>0</th>\n",
       "      <td>1</td>\n",
       "      <td>Arun</td>\n",
       "      <td>CSE</td>\n",
       "      <td>True</td>\n",
       "    </tr>\n",
       "    <tr>\n",
       "      <th>1</th>\n",
       "      <td>2</td>\n",
       "      <td>Babu</td>\n",
       "      <td>CSE</td>\n",
       "      <td>True</td>\n",
       "    </tr>\n",
       "    <tr>\n",
       "      <th>2</th>\n",
       "      <td>3</td>\n",
       "      <td>Chander</td>\n",
       "      <td>IT</td>\n",
       "      <td>False</td>\n",
       "    </tr>\n",
       "    <tr>\n",
       "      <th>3</th>\n",
       "      <td>4</td>\n",
       "      <td>Dinesh</td>\n",
       "      <td>IT</td>\n",
       "      <td>True</td>\n",
       "    </tr>\n",
       "    <tr>\n",
       "      <th>4</th>\n",
       "      <td>5</td>\n",
       "      <td>Ezhil</td>\n",
       "      <td>CSE</td>\n",
       "      <td>True</td>\n",
       "    </tr>\n",
       "    <tr>\n",
       "      <th>5</th>\n",
       "      <td>6</td>\n",
       "      <td>Farzana</td>\n",
       "      <td>MECH</td>\n",
       "      <td>False</td>\n",
       "    </tr>\n",
       "  </tbody>\n",
       "</table>\n",
       "</div>"
      ],
      "text/plain": [
       "   Roll No     Name Department   Flag\n",
       "0        1     Arun        CSE   True\n",
       "1        2     Babu        CSE   True\n",
       "2        3  Chander         IT  False\n",
       "3        4   Dinesh         IT   True\n",
       "4        5    Ezhil        CSE   True\n",
       "5        6  Farzana       MECH  False"
      ]
     },
     "execution_count": 372,
     "metadata": {},
     "output_type": "execute_result"
    }
   ],
   "source": [
    "pd.merge(student_df, placement_df, on=\"Roll No\", how=\"inner\")"
   ]
  },
  {
   "cell_type": "code",
   "execution_count": 373,
   "id": "b4328439",
   "metadata": {},
   "outputs": [
    {
     "data": {
      "text/html": [
       "<div>\n",
       "<style scoped>\n",
       "    .dataframe tbody tr th:only-of-type {\n",
       "        vertical-align: middle;\n",
       "    }\n",
       "\n",
       "    .dataframe tbody tr th {\n",
       "        vertical-align: top;\n",
       "    }\n",
       "\n",
       "    .dataframe thead th {\n",
       "        text-align: right;\n",
       "    }\n",
       "</style>\n",
       "<table border=\"1\" class=\"dataframe\">\n",
       "  <thead>\n",
       "    <tr style=\"text-align: right;\">\n",
       "      <th></th>\n",
       "      <th>Roll No</th>\n",
       "      <th>Name</th>\n",
       "      <th>Department</th>\n",
       "      <th>Flag</th>\n",
       "    </tr>\n",
       "  </thead>\n",
       "  <tbody>\n",
       "    <tr>\n",
       "      <th>0</th>\n",
       "      <td>1</td>\n",
       "      <td>Arun</td>\n",
       "      <td>CSE</td>\n",
       "      <td>True</td>\n",
       "    </tr>\n",
       "    <tr>\n",
       "      <th>1</th>\n",
       "      <td>2</td>\n",
       "      <td>Babu</td>\n",
       "      <td>CSE</td>\n",
       "      <td>True</td>\n",
       "    </tr>\n",
       "    <tr>\n",
       "      <th>2</th>\n",
       "      <td>3</td>\n",
       "      <td>Chander</td>\n",
       "      <td>IT</td>\n",
       "      <td>False</td>\n",
       "    </tr>\n",
       "    <tr>\n",
       "      <th>3</th>\n",
       "      <td>4</td>\n",
       "      <td>Dinesh</td>\n",
       "      <td>IT</td>\n",
       "      <td>True</td>\n",
       "    </tr>\n",
       "    <tr>\n",
       "      <th>4</th>\n",
       "      <td>5</td>\n",
       "      <td>Ezhil</td>\n",
       "      <td>CSE</td>\n",
       "      <td>True</td>\n",
       "    </tr>\n",
       "    <tr>\n",
       "      <th>5</th>\n",
       "      <td>6</td>\n",
       "      <td>Farzana</td>\n",
       "      <td>MECH</td>\n",
       "      <td>False</td>\n",
       "    </tr>\n",
       "    <tr>\n",
       "      <th>6</th>\n",
       "      <td>7</td>\n",
       "      <td>Giri</td>\n",
       "      <td>CIVIL</td>\n",
       "      <td>NaN</td>\n",
       "    </tr>\n",
       "  </tbody>\n",
       "</table>\n",
       "</div>"
      ],
      "text/plain": [
       "   Roll No     Name Department   Flag\n",
       "0        1     Arun        CSE   True\n",
       "1        2     Babu        CSE   True\n",
       "2        3  Chander         IT  False\n",
       "3        4   Dinesh         IT   True\n",
       "4        5    Ezhil        CSE   True\n",
       "5        6  Farzana       MECH  False\n",
       "6        7     Giri      CIVIL    NaN"
      ]
     },
     "execution_count": 373,
     "metadata": {},
     "output_type": "execute_result"
    }
   ],
   "source": [
    "pd.merge(student_df, placement_df, on=\"Roll No\", how=\"outer\")"
   ]
  },
  {
   "cell_type": "code",
   "execution_count": null,
   "id": "458b7a39",
   "metadata": {},
   "outputs": [],
   "source": []
  }
 ],
 "metadata": {
  "kernelspec": {
   "display_name": "Python 3 (ipykernel)",
   "language": "python",
   "name": "python3"
  },
  "language_info": {
   "codemirror_mode": {
    "name": "ipython",
    "version": 3
   },
   "file_extension": ".py",
   "mimetype": "text/x-python",
   "name": "python",
   "nbconvert_exporter": "python",
   "pygments_lexer": "ipython3",
   "version": "3.10.6"
  },
  "vscode": {
   "interpreter": {
    "hash": "916dbcbb3f70747c44a77c7bcd40155683ae19c65e1c03b4aa3499c5328201f1"
   }
  }
 },
 "nbformat": 4,
 "nbformat_minor": 5
}
