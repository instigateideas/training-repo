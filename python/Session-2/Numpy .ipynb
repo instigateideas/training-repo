{
 "cells": [
  {
   "cell_type": "markdown",
   "id": "cff2549c",
   "metadata": {},
   "source": [
    "### Python - Data Wrangling\n",
    "\n",
    "1. Manipulating \n",
    "2. Processing\n",
    "3. Cleaning\n",
    "4. Crunching data  \n",
    "\n",
    "***\n",
    "My goal is to offer a guide to the parts of the Python\n",
    "programming language and its data-oriented library ecosystem and tools that will\n",
    "equip you to become an effective data analyst."
   ]
  },
  {
   "cell_type": "markdown",
   "id": "7f380e01",
   "metadata": {},
   "source": [
    "### Kinds of Data\n",
    "- Tabular, CSV, Excel, Dictionary\n",
    "- Multi- Dimensional array\n",
    "- Multiple Table inter-related by columns (SQL)\n",
    "- JSON"
   ]
  },
  {
   "cell_type": "markdown",
   "id": "f579527b",
   "metadata": {},
   "source": [
    "### Essential Python Libraries\n",
    "\n",
    "1. Numpy\n",
    "2. Pandas\n",
    "3. Matplotlib\n",
    "4. Ipython & Jupyter"
   ]
  },
  {
   "cell_type": "markdown",
   "id": "8b7927de",
   "metadata": {},
   "source": [
    "### Advantages of using Numpy\n",
    "\n",
    "1. Fast vectorized array operations for data munging and cleaning, subsetting and filtering, transformation, and any other kinds of computations\n",
    "2. Common array algorithms like sorting, unique, and set operations\n",
    "3. Efficient descriptive statistics and aggregating/summarizing data\n",
    "4. Data alignment and relational data manipulations for merging and joining\n",
    "together heterogeneous datasets\n",
    "5. Expressing conditional logic as array expressions instead of loops with if-elif-\n",
    "else branches\n",
    "6. Group-wise data manipulations (aggregation, transformation, function applica‐\n",
    "tion)"
   ]
  },
  {
   "cell_type": "code",
   "execution_count": 4,
   "id": "29a15d7e",
   "metadata": {},
   "outputs": [],
   "source": [
    "# Let us see the performance difference in numpy\n",
    "import numpy as np"
   ]
  },
  {
   "cell_type": "code",
   "execution_count": 7,
   "id": "a127ed78",
   "metadata": {},
   "outputs": [],
   "source": [
    "# Create an array\n",
    "my_arr = np.arange(1000000)"
   ]
  },
  {
   "cell_type": "code",
   "execution_count": 8,
   "id": "c86a9962",
   "metadata": {},
   "outputs": [
    {
     "data": {
      "text/plain": [
       "array([     0,      1,      2, ..., 999997, 999998, 999999])"
      ]
     },
     "execution_count": 8,
     "metadata": {},
     "output_type": "execute_result"
    }
   ],
   "source": [
    "my_arr"
   ]
  },
  {
   "cell_type": "code",
   "execution_count": 9,
   "id": "a72f6b81",
   "metadata": {},
   "outputs": [],
   "source": [
    "my_list = list(range(1000000))"
   ]
  },
  {
   "cell_type": "code",
   "execution_count": 11,
   "id": "77421718",
   "metadata": {},
   "outputs": [
    {
     "name": "stdout",
     "output_type": "stream",
     "text": [
      "CPU times: user 6.36 ms, sys: 11 ms, total: 17.4 ms\n",
      "Wall time: 16.2 ms\n"
     ]
    }
   ],
   "source": [
    "%time for _ in range(10): my_arr2 = my_arr * 2"
   ]
  },
  {
   "cell_type": "code",
   "execution_count": 12,
   "id": "5f69aa34",
   "metadata": {},
   "outputs": [
    {
     "name": "stdout",
     "output_type": "stream",
     "text": [
      "CPU times: user 264 ms, sys: 55.5 ms, total: 320 ms\n",
      "Wall time: 319 ms\n"
     ]
    }
   ],
   "source": [
    "%time for _ in range(10): my_list2 = [x * 2 for x in my_list]"
   ]
  },
  {
   "cell_type": "code",
   "execution_count": 25,
   "id": "7228b249",
   "metadata": {},
   "outputs": [
    {
     "name": "stdout",
     "output_type": "stream",
     "text": [
      "We could have completed: 19.69 times running similar calculations using numpy rather than list operations\n",
      "Percentage of increase in timing:  1869.14 %\n"
     ]
    }
   ],
   "source": [
    "print(f\"We could have completed: {round(319/16.2, 2)} times running similar calculations using numpy rather than list operations\")\n",
    "print(\"Percentage of increase in timing: \", round((((319-16.2)/16.2)*100), 2), \"%\") "
   ]
  },
  {
   "cell_type": "markdown",
   "id": "b42dad5c",
   "metadata": {},
   "source": [
    "## Creating ndarrays"
   ]
  },
  {
   "cell_type": "code",
   "execution_count": 71,
   "id": "0bdffc0a",
   "metadata": {},
   "outputs": [],
   "source": [
    "data1 = [6, 5.3, 7, 3.2, 8.1]"
   ]
  },
  {
   "cell_type": "code",
   "execution_count": 73,
   "id": "c8f06350",
   "metadata": {},
   "outputs": [
    {
     "data": {
      "text/plain": [
       "dtype('float64')"
      ]
     },
     "execution_count": 73,
     "metadata": {},
     "output_type": "execute_result"
    }
   ],
   "source": [
    "arr1 = np.array(data1)\n",
    "arr1.dtype"
   ]
  },
  {
   "cell_type": "code",
   "execution_count": 74,
   "id": "ca88fac3",
   "metadata": {},
   "outputs": [
    {
     "data": {
      "text/plain": [
       "array([6. , 5.3, 7. , 3.2, 8.1])"
      ]
     },
     "execution_count": 74,
     "metadata": {},
     "output_type": "execute_result"
    }
   ],
   "source": [
    "arr1"
   ]
  },
  {
   "cell_type": "code",
   "execution_count": 75,
   "id": "fa1b9647",
   "metadata": {},
   "outputs": [],
   "source": [
    "# Create a 2D array\n",
    "data2 = [[1, 2, 3], [4, 5, 6]]"
   ]
  },
  {
   "cell_type": "code",
   "execution_count": 76,
   "id": "ee0dfd59",
   "metadata": {},
   "outputs": [
    {
     "data": {
      "text/plain": [
       "array([[1, 2, 3],\n",
       "       [4, 5, 6]])"
      ]
     },
     "execution_count": 76,
     "metadata": {},
     "output_type": "execute_result"
    }
   ],
   "source": [
    "arr2 = np.array(data2)\n",
    "arr2"
   ]
  },
  {
   "cell_type": "code",
   "execution_count": 77,
   "id": "8424e50a",
   "metadata": {},
   "outputs": [
    {
     "data": {
      "text/plain": [
       "(2, 3)"
      ]
     },
     "execution_count": 77,
     "metadata": {},
     "output_type": "execute_result"
    }
   ],
   "source": [
    "arr2.shape"
   ]
  },
  {
   "cell_type": "code",
   "execution_count": 79,
   "id": "a3e6d99b",
   "metadata": {},
   "outputs": [
    {
     "data": {
      "text/plain": [
       "array([0., 0., 0., 0., 0., 0., 0., 0., 0., 0.])"
      ]
     },
     "execution_count": 79,
     "metadata": {},
     "output_type": "execute_result"
    }
   ],
   "source": [
    "# Create a Zero's array\n",
    "zero_arr = np.zeros(10)\n",
    "zero_arr"
   ]
  },
  {
   "cell_type": "code",
   "execution_count": 82,
   "id": "273e5059",
   "metadata": {},
   "outputs": [
    {
     "data": {
      "text/plain": [
       "array([[0., 0., 0., 0., 0., 0.],\n",
       "       [0., 0., 0., 0., 0., 0.],\n",
       "       [0., 0., 0., 0., 0., 0.]])"
      ]
     },
     "execution_count": 82,
     "metadata": {},
     "output_type": "execute_result"
    }
   ],
   "source": [
    "# 2D Zero array\n",
    "zero_arr1 = np.zeros((3, 6))\n",
    "zero_arr1"
   ]
  },
  {
   "cell_type": "code",
   "execution_count": 93,
   "id": "25f18baa",
   "metadata": {},
   "outputs": [
    {
     "data": {
      "text/plain": [
       "array([[    22927191848,               0],\n",
       "       [   210453397595,    210453397562],\n",
       "       [140514150056029, 140517612144880]])"
      ]
     },
     "execution_count": 93,
     "metadata": {},
     "output_type": "execute_result"
    }
   ],
   "source": [
    "# Create a empty array intializing to a value 1\n",
    "arr3 = np.empty((3, 2), dtype=int)\n",
    "arr3"
   ]
  },
  {
   "cell_type": "code",
   "execution_count": 94,
   "id": "e116c914",
   "metadata": {},
   "outputs": [
    {
     "data": {
      "text/plain": [
       "array([[[93923514474338,              0],\n",
       "        [  210453397549,   193273528370],\n",
       "        [  210453397553,   210453397588]],\n",
       "\n",
       "       [[  249108103216,   240518168625],\n",
       "        [  206158430266,   197568495669],\n",
       "        [  240518168626,   386547056691]]])"
      ]
     },
     "execution_count": 94,
     "metadata": {},
     "output_type": "execute_result"
    }
   ],
   "source": [
    "arr4 = np.empty((2, 3, 2), dtype=int)\n",
    "arr4"
   ]
  },
  {
   "cell_type": "code",
   "execution_count": 96,
   "id": "743ae52b",
   "metadata": {},
   "outputs": [
    {
     "data": {
      "text/plain": [
       "array([[249108103216, 240518168625],\n",
       "       [206158430266, 197568495669],\n",
       "       [240518168626, 386547056691]])"
      ]
     },
     "execution_count": 96,
     "metadata": {},
     "output_type": "execute_result"
    }
   ],
   "source": [
    "arr4[1]"
   ]
  },
  {
   "cell_type": "code",
   "execution_count": 97,
   "id": "b7383cdd",
   "metadata": {},
   "outputs": [
    {
     "data": {
      "text/plain": [
       "array([249108103216, 240518168625])"
      ]
     },
     "execution_count": 97,
     "metadata": {},
     "output_type": "execute_result"
    }
   ],
   "source": [
    "arr4[1][0]"
   ]
  },
  {
   "cell_type": "markdown",
   "id": "a532d5f9",
   "metadata": {},
   "source": [
    "### Datatype in Numpy"
   ]
  },
  {
   "cell_type": "code",
   "execution_count": 100,
   "id": "62eba7fb",
   "metadata": {},
   "outputs": [
    {
     "data": {
      "text/plain": [
       "dtype('float64')"
      ]
     },
     "execution_count": 100,
     "metadata": {},
     "output_type": "execute_result"
    }
   ],
   "source": [
    "# Datatype \n",
    "arr1 = np.array([1, 2, 3], dtype=np.float64)\n",
    "arr1.dtype"
   ]
  },
  {
   "cell_type": "code",
   "execution_count": 99,
   "id": "127f657e",
   "metadata": {},
   "outputs": [
    {
     "data": {
      "text/plain": [
       "dtype('int32')"
      ]
     },
     "execution_count": 99,
     "metadata": {},
     "output_type": "execute_result"
    }
   ],
   "source": [
    "arr2 = np.array([1, 2, 3], dtype=np.int32)\n",
    "arr2.dtype"
   ]
  },
  {
   "cell_type": "code",
   "execution_count": 101,
   "id": "19dd99f2",
   "metadata": {},
   "outputs": [
    {
     "data": {
      "text/plain": [
       "dtype('int64')"
      ]
     },
     "execution_count": 101,
     "metadata": {},
     "output_type": "execute_result"
    }
   ],
   "source": [
    "# Change datatype\n",
    "arr = np.array([1, 2, 3, 4, 5])\n",
    "arr.dtype"
   ]
  },
  {
   "cell_type": "code",
   "execution_count": 103,
   "id": "90f68ddd",
   "metadata": {},
   "outputs": [
    {
     "data": {
      "text/plain": [
       "dtype('float64')"
      ]
     },
     "execution_count": 103,
     "metadata": {},
     "output_type": "execute_result"
    }
   ],
   "source": [
    "float_arr = arr.astype(np.float64)\n",
    "float_arr.dtype"
   ]
  },
  {
   "cell_type": "code",
   "execution_count": 105,
   "id": "e6d4826b",
   "metadata": {},
   "outputs": [
    {
     "data": {
      "text/plain": [
       "array([ 1.25, -9.6 , 42.  ])"
      ]
     },
     "execution_count": 105,
     "metadata": {},
     "output_type": "execute_result"
    }
   ],
   "source": [
    "# Numberic string type in numpy\n",
    "numeric_strings = np.array(['1.25', '-9.6', '42'], dtype=np.string_)\n",
    "numeric_strings.astype(float)"
   ]
  },
  {
   "cell_type": "code",
   "execution_count": 106,
   "id": "c9695543",
   "metadata": {},
   "outputs": [
    {
     "data": {
      "text/plain": [
       "dtype('S4')"
      ]
     },
     "execution_count": 106,
     "metadata": {},
     "output_type": "execute_result"
    }
   ],
   "source": [
    "numeric_strings.dtype"
   ]
  },
  {
   "cell_type": "markdown",
   "id": "89f18e56",
   "metadata": {},
   "source": [
    "### The NumPy ndarray: A Multidimensional Array Object"
   ]
  },
  {
   "cell_type": "code",
   "execution_count": 26,
   "id": "8d985a3e",
   "metadata": {},
   "outputs": [],
   "source": [
    "data = np.random.randn(2, 3)"
   ]
  },
  {
   "cell_type": "code",
   "execution_count": 28,
   "id": "e081c7ea",
   "metadata": {},
   "outputs": [
    {
     "data": {
      "text/plain": [
       "array([[ 0.20558311, -0.22443354,  1.34637973],\n",
       "       [ 1.26212962,  0.94194171, -1.41471774]])"
      ]
     },
     "execution_count": 28,
     "metadata": {},
     "output_type": "execute_result"
    }
   ],
   "source": [
    "data[:]"
   ]
  },
  {
   "cell_type": "code",
   "execution_count": 65,
   "id": "659609b4",
   "metadata": {},
   "outputs": [
    {
     "data": {
      "text/plain": [
       "array([[ 0.20558311, -0.22443354,  1.34637973]])"
      ]
     },
     "execution_count": 65,
     "metadata": {},
     "output_type": "execute_result"
    }
   ],
   "source": [
    "data[0:1]"
   ]
  },
  {
   "cell_type": "code",
   "execution_count": 58,
   "id": "c331e94f",
   "metadata": {},
   "outputs": [
    {
     "data": {
      "text/plain": [
       "array([[ 0.20558311, -0.22443354,  1.34637973],\n",
       "       [ 1.26212962,  0.94194171, -1.41471774]])"
      ]
     },
     "execution_count": 58,
     "metadata": {},
     "output_type": "execute_result"
    }
   ],
   "source": [
    "data[0:2]"
   ]
  },
  {
   "cell_type": "code",
   "execution_count": 60,
   "id": "6cdf6ec2",
   "metadata": {},
   "outputs": [
    {
     "data": {
      "text/plain": [
       "array([ 1.26212962,  0.94194171, -1.41471774])"
      ]
     },
     "execution_count": 60,
     "metadata": {},
     "output_type": "execute_result"
    }
   ],
   "source": [
    "data[1]"
   ]
  },
  {
   "cell_type": "code",
   "execution_count": 63,
   "id": "19a27789",
   "metadata": {},
   "outputs": [
    {
     "data": {
      "text/plain": [
       "0.20558310917824482"
      ]
     },
     "execution_count": 63,
     "metadata": {},
     "output_type": "execute_result"
    }
   ],
   "source": [
    "data[0][0]"
   ]
  },
  {
   "cell_type": "markdown",
   "id": "858b3e4a",
   "metadata": {},
   "source": [
    "### Arithmetic with NumPy Arrays"
   ]
  },
  {
   "cell_type": "code",
   "execution_count": 66,
   "id": "c1d681f4",
   "metadata": {},
   "outputs": [
    {
     "data": {
      "text/plain": [
       "array([[  2.05583109,  -2.24433539,  13.4637973 ],\n",
       "       [ 12.6212962 ,   9.4194171 , -14.14717744]])"
      ]
     },
     "execution_count": 66,
     "metadata": {},
     "output_type": "execute_result"
    }
   ],
   "source": [
    "# multiplication\n",
    "data *10"
   ]
  },
  {
   "cell_type": "code",
   "execution_count": 68,
   "id": "c606c154",
   "metadata": {},
   "outputs": [
    {
     "data": {
      "text/plain": [
       "array([[ 0.41116622, -0.44886708,  2.69275946],\n",
       "       [ 2.52425924,  1.88388342, -2.82943549]])"
      ]
     },
     "execution_count": 68,
     "metadata": {},
     "output_type": "execute_result"
    }
   ],
   "source": [
    "# Addition\n",
    "data+ data"
   ]
  },
  {
   "cell_type": "code",
   "execution_count": 107,
   "id": "aa7e5a79",
   "metadata": {},
   "outputs": [
    {
     "data": {
      "text/plain": [
       "array([[ 1.,  4.,  9.],\n",
       "       [16., 25., 36.]])"
      ]
     },
     "execution_count": 107,
     "metadata": {},
     "output_type": "execute_result"
    }
   ],
   "source": [
    "# Square\n",
    "arr = np.array([[1., 2., 3.], [4., 5., 6.]])\n",
    "arr * arr"
   ]
  },
  {
   "cell_type": "code",
   "execution_count": 108,
   "id": "23908ed4",
   "metadata": {},
   "outputs": [
    {
     "data": {
      "text/plain": [
       "array([[0., 0., 0.],\n",
       "       [0., 0., 0.]])"
      ]
     },
     "execution_count": 108,
     "metadata": {},
     "output_type": "execute_result"
    }
   ],
   "source": [
    "# Subraction\n",
    "arr - arr"
   ]
  },
  {
   "cell_type": "code",
   "execution_count": 109,
   "id": "5520d3c3",
   "metadata": {},
   "outputs": [
    {
     "data": {
      "text/plain": [
       "array([[1.        , 0.5       , 0.33333333],\n",
       "       [0.25      , 0.2       , 0.16666667]])"
      ]
     },
     "execution_count": 109,
     "metadata": {},
     "output_type": "execute_result"
    }
   ],
   "source": [
    "# division\n",
    "1/ arr"
   ]
  },
  {
   "cell_type": "code",
   "execution_count": 111,
   "id": "a61fbf3e",
   "metadata": {},
   "outputs": [
    {
     "data": {
      "text/plain": [
       "array([[ True,  True,  True],\n",
       "       [ True,  True,  True]])"
      ]
     },
     "execution_count": 111,
     "metadata": {},
     "output_type": "execute_result"
    }
   ],
   "source": [
    "# Comparision\n",
    "arr == arr"
   ]
  },
  {
   "cell_type": "code",
   "execution_count": 115,
   "id": "b760c786",
   "metadata": {},
   "outputs": [
    {
     "data": {
      "text/plain": [
       "array([[ True,  True,  True],\n",
       "       [ True,  True,  True]])"
      ]
     },
     "execution_count": 115,
     "metadata": {},
     "output_type": "execute_result"
    }
   ],
   "source": [
    "data < arr"
   ]
  },
  {
   "cell_type": "markdown",
   "id": "a01ba280",
   "metadata": {},
   "source": [
    "## Basic Indexing and Slicing"
   ]
  },
  {
   "cell_type": "code",
   "execution_count": 116,
   "id": "f2d8b25b",
   "metadata": {},
   "outputs": [],
   "source": [
    "arr = np.arange(10)"
   ]
  },
  {
   "cell_type": "code",
   "execution_count": 117,
   "id": "a21c2f6a",
   "metadata": {},
   "outputs": [
    {
     "data": {
      "text/plain": [
       "5"
      ]
     },
     "execution_count": 117,
     "metadata": {},
     "output_type": "execute_result"
    }
   ],
   "source": [
    "arr[5]"
   ]
  },
  {
   "cell_type": "code",
   "execution_count": 118,
   "id": "cf42f4f2",
   "metadata": {},
   "outputs": [
    {
     "data": {
      "text/plain": [
       "array([5, 6, 7])"
      ]
     },
     "execution_count": 118,
     "metadata": {},
     "output_type": "execute_result"
    }
   ],
   "source": [
    "arr[5:8]"
   ]
  },
  {
   "cell_type": "code",
   "execution_count": 119,
   "id": "21739303",
   "metadata": {},
   "outputs": [],
   "source": [
    "# Assign value\n",
    "arr[5:8] = 12"
   ]
  },
  {
   "cell_type": "code",
   "execution_count": 120,
   "id": "dc0aeea0",
   "metadata": {},
   "outputs": [
    {
     "data": {
      "text/plain": [
       "array([ 0,  1,  2,  3,  4, 12, 12, 12,  8,  9])"
      ]
     },
     "execution_count": 120,
     "metadata": {},
     "output_type": "execute_result"
    }
   ],
   "source": [
    "arr"
   ]
  },
  {
   "cell_type": "code",
   "execution_count": 125,
   "id": "a4970ab6",
   "metadata": {},
   "outputs": [],
   "source": [
    "# udpate the value - slicing\n",
    "arr[5:8] = np.array([5, 9, 7])"
   ]
  },
  {
   "cell_type": "code",
   "execution_count": 124,
   "id": "5340a1bd",
   "metadata": {},
   "outputs": [
    {
     "data": {
      "text/plain": [
       "array([0, 1, 2, 3, 4, 5, 9, 7, 8, 9])"
      ]
     },
     "execution_count": 124,
     "metadata": {},
     "output_type": "execute_result"
    }
   ],
   "source": [
    "arr"
   ]
  },
  {
   "cell_type": "code",
   "execution_count": 128,
   "id": "8e682241",
   "metadata": {},
   "outputs": [],
   "source": [
    "# assign to all elements in array\n",
    "arr[:] = 13"
   ]
  },
  {
   "cell_type": "code",
   "execution_count": 129,
   "id": "b43a36bf",
   "metadata": {},
   "outputs": [
    {
     "data": {
      "text/plain": [
       "array([13, 13, 13, 13, 13, 13, 13, 13, 13, 13])"
      ]
     },
     "execution_count": 129,
     "metadata": {},
     "output_type": "execute_result"
    }
   ],
   "source": [
    "arr"
   ]
  },
  {
   "cell_type": "code",
   "execution_count": 130,
   "id": "74ccf0e7",
   "metadata": {},
   "outputs": [],
   "source": [
    "# 2D array - indexing & slicing\n",
    "arr2d = np.array([[1, 2, 3], [4, 5, 6], [7, 8, 9]])"
   ]
  },
  {
   "cell_type": "markdown",
   "id": "b34a11f8",
   "metadata": {},
   "source": [
    "<img src=\"2darray.png\" alt=\"f-shaped\">"
   ]
  },
  {
   "cell_type": "code",
   "execution_count": 133,
   "id": "459cd700",
   "metadata": {},
   "outputs": [
    {
     "data": {
      "text/plain": [
       "array([[1, 2, 3],\n",
       "       [4, 5, 6],\n",
       "       [7, 8, 9]])"
      ]
     },
     "execution_count": 133,
     "metadata": {},
     "output_type": "execute_result"
    }
   ],
   "source": [
    "arr2d"
   ]
  },
  {
   "cell_type": "code",
   "execution_count": 138,
   "id": "794df85c",
   "metadata": {},
   "outputs": [
    {
     "data": {
      "text/plain": [
       "array([4, 5, 6])"
      ]
     },
     "execution_count": 138,
     "metadata": {},
     "output_type": "execute_result"
    }
   ],
   "source": [
    "arr2d[1]"
   ]
  },
  {
   "cell_type": "markdown",
   "id": "f2a5e3e5",
   "metadata": {},
   "source": [
    "<img src=\"indexing_arr.png\" alt=\"ndarray-index\" />"
   ]
  },
  {
   "cell_type": "code",
   "execution_count": 143,
   "id": "f0c675ff",
   "metadata": {},
   "outputs": [
    {
     "data": {
      "text/plain": [
       "array([[2, 3],\n",
       "       [5, 6]])"
      ]
     },
     "execution_count": 143,
     "metadata": {},
     "output_type": "execute_result"
    }
   ],
   "source": [
    "arr2d[0:2, 1:3]"
   ]
  },
  {
   "cell_type": "code",
   "execution_count": 145,
   "id": "03274dc4",
   "metadata": {},
   "outputs": [
    {
     "data": {
      "text/plain": [
       "array([[1],\n",
       "       [4],\n",
       "       [7]])"
      ]
     },
     "execution_count": 145,
     "metadata": {},
     "output_type": "execute_result"
    }
   ],
   "source": [
    "arr2d[0:3, 0:1]"
   ]
  },
  {
   "cell_type": "code",
   "execution_count": 146,
   "id": "e775b8c1",
   "metadata": {},
   "outputs": [
    {
     "data": {
      "text/plain": [
       "array([[1],\n",
       "       [4],\n",
       "       [7]])"
      ]
     },
     "execution_count": 146,
     "metadata": {},
     "output_type": "execute_result"
    }
   ],
   "source": [
    "arr2d[:, :1]"
   ]
  },
  {
   "cell_type": "markdown",
   "id": "e9b1a96d",
   "metadata": {},
   "source": [
    "## Boolean Indexing"
   ]
  },
  {
   "cell_type": "code",
   "execution_count": 150,
   "id": "955c2db4",
   "metadata": {},
   "outputs": [],
   "source": [
    "names = np.array(['Bob', 'Joe', 'Will', 'Bob', 'Will', 'Joe', 'Joe'])"
   ]
  },
  {
   "cell_type": "code",
   "execution_count": 151,
   "id": "678c8291",
   "metadata": {},
   "outputs": [
    {
     "data": {
      "text/plain": [
       "array([ True, False, False,  True, False, False, False])"
      ]
     },
     "execution_count": 151,
     "metadata": {},
     "output_type": "execute_result"
    }
   ],
   "source": [
    "names == 'Bob'"
   ]
  },
  {
   "cell_type": "code",
   "execution_count": 152,
   "id": "8a531b4d",
   "metadata": {},
   "outputs": [
    {
     "data": {
      "text/plain": [
       "array([[-0.55355478,  0.69291716,  0.71976347, -0.54371646],\n",
       "       [-0.39916908,  1.50865581, -0.70977123,  0.5294853 ],\n",
       "       [ 1.01449643,  0.74400372,  0.37915426, -0.96032866],\n",
       "       [ 0.68117901, -0.52982661, -1.36140644, -0.7621041 ],\n",
       "       [-1.50465374,  1.00342692,  1.27494599, -0.11109589],\n",
       "       [-1.59864835,  0.5381097 ,  0.49941037,  0.7369727 ],\n",
       "       [-0.49018702,  0.6523093 ,  0.18582939,  1.14643002]])"
      ]
     },
     "execution_count": 152,
     "metadata": {},
     "output_type": "execute_result"
    }
   ],
   "source": [
    "data = np.random.randn(7, 4)\n",
    "data"
   ]
  },
  {
   "cell_type": "code",
   "execution_count": 153,
   "id": "e54e9192",
   "metadata": {},
   "outputs": [
    {
     "data": {
      "text/plain": [
       "((7,), (7, 4))"
      ]
     },
     "execution_count": 153,
     "metadata": {},
     "output_type": "execute_result"
    }
   ],
   "source": [
    "names.shape, data.shape"
   ]
  },
  {
   "cell_type": "code",
   "execution_count": 157,
   "id": "5e17c758",
   "metadata": {},
   "outputs": [
    {
     "data": {
      "text/plain": [
       "array([[-0.55355478,  0.69291716,  0.71976347, -0.54371646],\n",
       "       [ 0.68117901, -0.52982661, -1.36140644, -0.7621041 ]])"
      ]
     },
     "execution_count": 157,
     "metadata": {},
     "output_type": "execute_result"
    }
   ],
   "source": [
    "# comparision\n",
    "data[names=='Bob']"
   ]
  },
  {
   "cell_type": "code",
   "execution_count": 158,
   "id": "bd8e45ae",
   "metadata": {},
   "outputs": [
    {
     "data": {
      "text/plain": [
       "array([[ 0.71976347, -0.54371646],\n",
       "       [-1.36140644, -0.7621041 ]])"
      ]
     },
     "execution_count": 158,
     "metadata": {},
     "output_type": "execute_result"
    }
   ],
   "source": [
    "# Slicing\n",
    "data[names=='Bob', 2:]"
   ]
  },
  {
   "cell_type": "code",
   "execution_count": 160,
   "id": "8a820020",
   "metadata": {},
   "outputs": [
    {
     "data": {
      "text/plain": [
       "array([[-0.70977123,  0.5294853 ],\n",
       "       [ 0.37915426, -0.96032866],\n",
       "       [ 1.27494599, -0.11109589],\n",
       "       [ 0.49941037,  0.7369727 ],\n",
       "       [ 0.18582939,  1.14643002]])"
      ]
     },
     "execution_count": 160,
     "metadata": {},
     "output_type": "execute_result"
    }
   ],
   "source": [
    "data[names!='Bob', 2:]"
   ]
  },
  {
   "cell_type": "code",
   "execution_count": 161,
   "id": "855afb26",
   "metadata": {},
   "outputs": [
    {
     "data": {
      "text/plain": [
       "array([[-0.55355478,  0.69291716,  0.71976347, -0.54371646],\n",
       "       [ 1.01449643,  0.74400372,  0.37915426, -0.96032866],\n",
       "       [ 0.68117901, -0.52982661, -1.36140644, -0.7621041 ],\n",
       "       [-1.50465374,  1.00342692,  1.27494599, -0.11109589]])"
      ]
     },
     "execution_count": 161,
     "metadata": {},
     "output_type": "execute_result"
    }
   ],
   "source": [
    "# Filter two names\n",
    "mask = (names == 'Bob') | (names == 'Will')\n",
    "data[mask]"
   ]
  },
  {
   "cell_type": "code",
   "execution_count": 167,
   "id": "37b95b8c",
   "metadata": {},
   "outputs": [],
   "source": [
    "# Setting -ve values to Zero\n",
    "data[data<0] = 0"
   ]
  },
  {
   "cell_type": "code",
   "execution_count": 166,
   "id": "fd03edde",
   "metadata": {},
   "outputs": [
    {
     "data": {
      "text/plain": [
       "array([[0.        , 0.69291716, 0.71976347, 0.        ],\n",
       "       [0.        , 1.50865581, 0.        , 0.5294853 ],\n",
       "       [1.01449643, 0.74400372, 0.37915426, 0.        ],\n",
       "       [0.68117901, 0.        , 0.        , 0.        ],\n",
       "       [0.        , 1.00342692, 1.27494599, 0.        ],\n",
       "       [0.        , 0.5381097 , 0.49941037, 0.7369727 ],\n",
       "       [0.        , 0.6523093 , 0.18582939, 1.14643002]])"
      ]
     },
     "execution_count": 166,
     "metadata": {},
     "output_type": "execute_result"
    }
   ],
   "source": [
    "data"
   ]
  },
  {
   "cell_type": "markdown",
   "id": "89a2dc66",
   "metadata": {},
   "source": [
    "## Fancy Indexing"
   ]
  },
  {
   "cell_type": "code",
   "execution_count": 168,
   "id": "e6b2e464",
   "metadata": {},
   "outputs": [],
   "source": [
    "arr = np.empty((8, 4))"
   ]
  },
  {
   "cell_type": "code",
   "execution_count": 170,
   "id": "9f9b3b78",
   "metadata": {},
   "outputs": [],
   "source": [
    "for i in range(8):\n",
    "    arr[i] = i"
   ]
  },
  {
   "cell_type": "code",
   "execution_count": 171,
   "id": "5919c952",
   "metadata": {},
   "outputs": [
    {
     "data": {
      "text/plain": [
       "array([[0., 0., 0., 0.],\n",
       "       [1., 1., 1., 1.],\n",
       "       [2., 2., 2., 2.],\n",
       "       [3., 3., 3., 3.],\n",
       "       [4., 4., 4., 4.],\n",
       "       [5., 5., 5., 5.],\n",
       "       [6., 6., 6., 6.],\n",
       "       [7., 7., 7., 7.]])"
      ]
     },
     "execution_count": 171,
     "metadata": {},
     "output_type": "execute_result"
    }
   ],
   "source": [
    "arr"
   ]
  },
  {
   "cell_type": "code",
   "execution_count": 173,
   "id": "c18d6ccb",
   "metadata": {},
   "outputs": [
    {
     "data": {
      "text/plain": [
       "array([[4., 4., 4., 4.],\n",
       "       [7., 7., 7., 7.],\n",
       "       [1., 1., 1., 1.]])"
      ]
     },
     "execution_count": 173,
     "metadata": {},
     "output_type": "execute_result"
    }
   ],
   "source": [
    "# Select subset of rows in particular order\n",
    "arr[[4, 7, 1]]"
   ]
  },
  {
   "cell_type": "code",
   "execution_count": 174,
   "id": "b2f8575f",
   "metadata": {},
   "outputs": [
    {
     "data": {
      "text/plain": [
       "array([[7., 7., 7., 7.],\n",
       "       [6., 6., 6., 6.]])"
      ]
     },
     "execution_count": 174,
     "metadata": {},
     "output_type": "execute_result"
    }
   ],
   "source": [
    "# Negative indices to select rows from bottom\n",
    "arr[[-1, -2]]"
   ]
  },
  {
   "cell_type": "markdown",
   "id": "bc5a312d",
   "metadata": {},
   "source": [
    "## Reshape array"
   ]
  },
  {
   "cell_type": "code",
   "execution_count": 183,
   "id": "d6e58443",
   "metadata": {},
   "outputs": [],
   "source": [
    "arr = np.arange(32)"
   ]
  },
  {
   "cell_type": "code",
   "execution_count": 187,
   "id": "dae7f376",
   "metadata": {},
   "outputs": [
    {
     "data": {
      "text/plain": [
       "array([[ 0,  1,  2,  3,  4,  5,  6,  7],\n",
       "       [ 8,  9, 10, 11, 12, 13, 14, 15],\n",
       "       [16, 17, 18, 19, 20, 21, 22, 23],\n",
       "       [24, 25, 26, 27, 28, 29, 30, 31]])"
      ]
     },
     "execution_count": 187,
     "metadata": {},
     "output_type": "execute_result"
    }
   ],
   "source": [
    "arr_reshaped = arr.reshape((4, 8))\n",
    "arr_reshaped"
   ]
  },
  {
   "cell_type": "code",
   "execution_count": 231,
   "id": "9e6ab5ec",
   "metadata": {},
   "outputs": [
    {
     "data": {
      "text/plain": [
       "array([[ 8,  9, 10, 11, 12, 13, 14, 15],\n",
       "       [24, 25, 26, 27, 28, 29, 30, 31]])"
      ]
     },
     "execution_count": 231,
     "metadata": {},
     "output_type": "execute_result"
    }
   ],
   "source": [
    "# row-wise selection with \n",
    "arr_reshaped[[1, 3]]"
   ]
  },
  {
   "cell_type": "code",
   "execution_count": 232,
   "id": "c4a188f0",
   "metadata": {},
   "outputs": [
    {
     "data": {
      "text/plain": [
       "array([ 9, 25])"
      ]
     },
     "execution_count": 232,
     "metadata": {},
     "output_type": "execute_result"
    }
   ],
   "source": [
    "# Columns wise \n",
    "arr_reshaped[[1, 3],[1]]"
   ]
  },
  {
   "cell_type": "code",
   "execution_count": 233,
   "id": "3c94b7f9",
   "metadata": {},
   "outputs": [],
   "source": [
    "### Transposing Arrays and Swapping Axes\n",
    "arr = np.arange(15).reshape((3, 5))"
   ]
  },
  {
   "cell_type": "code",
   "execution_count": 234,
   "id": "661b5c61",
   "metadata": {},
   "outputs": [
    {
     "data": {
      "text/plain": [
       "array([[ 0,  1,  2,  3,  4],\n",
       "       [ 5,  6,  7,  8,  9],\n",
       "       [10, 11, 12, 13, 14]])"
      ]
     },
     "execution_count": 234,
     "metadata": {},
     "output_type": "execute_result"
    }
   ],
   "source": [
    "arr"
   ]
  },
  {
   "cell_type": "code",
   "execution_count": 235,
   "id": "8f17571d",
   "metadata": {},
   "outputs": [
    {
     "data": {
      "text/plain": [
       "array([[ 0,  5, 10],\n",
       "       [ 1,  6, 11],\n",
       "       [ 2,  7, 12],\n",
       "       [ 3,  8, 13],\n",
       "       [ 4,  9, 14]])"
      ]
     },
     "execution_count": 235,
     "metadata": {},
     "output_type": "execute_result"
    }
   ],
   "source": [
    "arr.T"
   ]
  },
  {
   "cell_type": "code",
   "execution_count": 236,
   "id": "ce3d0ac9",
   "metadata": {},
   "outputs": [],
   "source": [
    "# arr of random numbers\n",
    "arr = np.random.randn(6, 3)"
   ]
  },
  {
   "cell_type": "code",
   "execution_count": 240,
   "id": "57229250",
   "metadata": {},
   "outputs": [],
   "source": [
    "arr_out = np.dot(arr.T, arr)"
   ]
  },
  {
   "cell_type": "code",
   "execution_count": 241,
   "id": "9cb67bbb",
   "metadata": {},
   "outputs": [
    {
     "data": {
      "text/plain": [
       "array([[5.7856105 , 1.70963473, 3.943386  ],\n",
       "       [1.70963473, 2.95219082, 3.39775832],\n",
       "       [3.943386  , 3.39775832, 7.90230714]])"
      ]
     },
     "execution_count": 241,
     "metadata": {},
     "output_type": "execute_result"
    }
   ],
   "source": [
    "arr_out"
   ]
  },
  {
   "cell_type": "code",
   "execution_count": 242,
   "id": "e356ceb8",
   "metadata": {},
   "outputs": [],
   "source": [
    "# Reshaping 3D array\n",
    "arr = np.arange(16).reshape((2, 2, 4))"
   ]
  },
  {
   "cell_type": "code",
   "execution_count": 243,
   "id": "e76a1792",
   "metadata": {},
   "outputs": [
    {
     "data": {
      "text/plain": [
       "array([[[ 0,  1,  2,  3],\n",
       "        [ 4,  5,  6,  7]],\n",
       "\n",
       "       [[ 8,  9, 10, 11],\n",
       "        [12, 13, 14, 15]]])"
      ]
     },
     "execution_count": 243,
     "metadata": {},
     "output_type": "execute_result"
    }
   ],
   "source": [
    "arr"
   ]
  },
  {
   "cell_type": "code",
   "execution_count": 247,
   "id": "dd0dacf2",
   "metadata": {},
   "outputs": [
    {
     "data": {
      "text/plain": [
       "array([0, 1, 2, 3])"
      ]
     },
     "execution_count": 247,
     "metadata": {},
     "output_type": "execute_result"
    }
   ],
   "source": [
    "arr[0][0]"
   ]
  },
  {
   "cell_type": "markdown",
   "id": "7a435b24",
   "metadata": {},
   "source": [
    "## Universal Functions: Fast Element-Wise Array FunctionsUniversal Functions: Fast Element-Wise Array Functions"
   ]
  },
  {
   "cell_type": "code",
   "execution_count": 249,
   "id": "ee2d7fb6",
   "metadata": {},
   "outputs": [],
   "source": [
    "arr = np.arange(10)"
   ]
  },
  {
   "cell_type": "code",
   "execution_count": 250,
   "id": "70b9e932",
   "metadata": {},
   "outputs": [
    {
     "data": {
      "text/plain": [
       "array([0, 1, 2, 3, 4, 5, 6, 7, 8, 9])"
      ]
     },
     "execution_count": 250,
     "metadata": {},
     "output_type": "execute_result"
    }
   ],
   "source": [
    "arr"
   ]
  },
  {
   "cell_type": "code",
   "execution_count": 251,
   "id": "b2e57914",
   "metadata": {},
   "outputs": [
    {
     "data": {
      "text/plain": [
       "array([0.        , 1.        , 1.41421356, 1.73205081, 2.        ,\n",
       "       2.23606798, 2.44948974, 2.64575131, 2.82842712, 3.        ])"
      ]
     },
     "execution_count": 251,
     "metadata": {},
     "output_type": "execute_result"
    }
   ],
   "source": [
    "# Square-root\n",
    "np.sqrt(arr)"
   ]
  },
  {
   "cell_type": "code",
   "execution_count": 252,
   "id": "165ad1ec",
   "metadata": {},
   "outputs": [
    {
     "data": {
      "text/plain": [
       "array([1.00000000e+00, 2.71828183e+00, 7.38905610e+00, 2.00855369e+01,\n",
       "       5.45981500e+01, 1.48413159e+02, 4.03428793e+02, 1.09663316e+03,\n",
       "       2.98095799e+03, 8.10308393e+03])"
      ]
     },
     "execution_count": 252,
     "metadata": {},
     "output_type": "execute_result"
    }
   ],
   "source": [
    "# exponential\n",
    "np.exp(arr)"
   ]
  },
  {
   "cell_type": "code",
   "execution_count": 257,
   "id": "b0fcb6f9",
   "metadata": {},
   "outputs": [
    {
     "data": {
      "text/plain": [
       "array([20, 22, 24, 26, 28, 30, 32, 34, 36, 38])"
      ]
     },
     "execution_count": 257,
     "metadata": {},
     "output_type": "execute_result"
    }
   ],
   "source": [
    "# maximum\n",
    "arr2 = np.arange(20, 40, 2)\n",
    "np.maximum(arr, arr2)"
   ]
  },
  {
   "cell_type": "code",
   "execution_count": 261,
   "id": "7db6749b",
   "metadata": {},
   "outputs": [
    {
     "name": "stdout",
     "output_type": "stream",
     "text": [
      "[ 7.83935528  3.90792284 -1.41930276  1.54086726  2.45527213 -2.02884679\n",
      "  3.14993949]\n"
     ]
    }
   ],
   "source": [
    "# modf function - remainder & whole number\n",
    "arr = np.random.randn(7) * 5\n",
    "print(arr)\n",
    "remainder, whole_part = np.modf(arr)"
   ]
  },
  {
   "cell_type": "code",
   "execution_count": 262,
   "id": "e10c3230",
   "metadata": {},
   "outputs": [
    {
     "data": {
      "text/plain": [
       "array([ 0.83935528,  0.90792284, -0.41930276,  0.54086726,  0.45527213,\n",
       "       -0.02884679,  0.14993949])"
      ]
     },
     "execution_count": 262,
     "metadata": {},
     "output_type": "execute_result"
    }
   ],
   "source": [
    "remainder"
   ]
  },
  {
   "cell_type": "code",
   "execution_count": 263,
   "id": "e030b4f7",
   "metadata": {},
   "outputs": [
    {
     "data": {
      "text/plain": [
       "array([ 7.,  3., -1.,  1.,  2., -2.,  3.])"
      ]
     },
     "execution_count": 263,
     "metadata": {},
     "output_type": "execute_result"
    }
   ],
   "source": [
    "whole_part"
   ]
  },
  {
   "cell_type": "code",
   "execution_count": 264,
   "id": "f9e0ac4b",
   "metadata": {},
   "outputs": [
    {
     "name": "stderr",
     "output_type": "stream",
     "text": [
      "/tmp/ipykernel_14421/2296558006.py:1: RuntimeWarning: invalid value encountered in sqrt\n",
      "  np.sqrt(arr)\n"
     ]
    },
    {
     "data": {
      "text/plain": [
       "array([2.79988487, 1.97684669,        nan, 1.24131675, 1.5669308 ,\n",
       "              nan, 1.77480689])"
      ]
     },
     "execution_count": 264,
     "metadata": {},
     "output_type": "execute_result"
    }
   ],
   "source": [
    "np.sqrt(arr)"
   ]
  },
  {
   "cell_type": "code",
   "execution_count": 265,
   "id": "e071255b",
   "metadata": {},
   "outputs": [
    {
     "data": {
      "text/plain": [
       "array([ 7.,  3., -2.,  1.,  2., -3.,  3.])"
      ]
     },
     "execution_count": 265,
     "metadata": {},
     "output_type": "execute_result"
    }
   ],
   "source": [
    "np.floor(arr)"
   ]
  },
  {
   "cell_type": "code",
   "execution_count": 266,
   "id": "94778c9b",
   "metadata": {},
   "outputs": [
    {
     "data": {
      "text/plain": [
       "array([ 8.,  4., -1.,  2.,  3., -2.,  4.])"
      ]
     },
     "execution_count": 266,
     "metadata": {},
     "output_type": "execute_result"
    }
   ],
   "source": [
    "np.ceil(arr)"
   ]
  },
  {
   "cell_type": "code",
   "execution_count": 269,
   "id": "24cbcfeb",
   "metadata": {},
   "outputs": [
    {
     "name": "stderr",
     "output_type": "stream",
     "text": [
      "/tmp/ipykernel_14421/2153533263.py:1: RuntimeWarning: invalid value encountered in log10\n",
      "  np.log10(arr)\n"
     ]
    },
    {
     "data": {
      "text/plain": [
       "array([0.89428035, 0.59194598,        nan, 0.18776523, 0.39009963,\n",
       "              nan, 0.49830221])"
      ]
     },
     "execution_count": 269,
     "metadata": {},
     "output_type": "execute_result"
    }
   ],
   "source": [
    "np.log10(arr)"
   ]
  },
  {
   "cell_type": "code",
   "execution_count": 268,
   "id": "26d25b6d",
   "metadata": {},
   "outputs": [
    {
     "data": {
      "text/plain": [
       "array([ 1.,  1., -1.,  1.,  1., -1.,  1.])"
      ]
     },
     "execution_count": 268,
     "metadata": {},
     "output_type": "execute_result"
    }
   ],
   "source": [
    "np.sign(arr)"
   ]
  },
  {
   "cell_type": "markdown",
   "id": "c73b0e52",
   "metadata": {},
   "source": [
    "## Expressing Conditional Logic as Array Operations"
   ]
  },
  {
   "cell_type": "code",
   "execution_count": 272,
   "id": "773aa79a",
   "metadata": {},
   "outputs": [],
   "source": [
    "xarr = np.array([1.1, 1.2, 1.3, 1.4, 1.5])\n",
    "yarr = np.array([2.1, 2.2, 2.3, 2.4, 2.5])\n",
    "cond = np.array([True, False, True, True, False])"
   ]
  },
  {
   "cell_type": "code",
   "execution_count": 273,
   "id": "a633eb24",
   "metadata": {},
   "outputs": [],
   "source": [
    "result = [x if c else y for x,y,c in zip(xarr, yarr, cond)]"
   ]
  },
  {
   "cell_type": "code",
   "execution_count": 274,
   "id": "fc435d11",
   "metadata": {},
   "outputs": [
    {
     "data": {
      "text/plain": [
       "[1.1, 2.2, 1.3, 1.4, 2.5]"
      ]
     },
     "execution_count": 274,
     "metadata": {},
     "output_type": "execute_result"
    }
   ],
   "source": [
    "result"
   ]
  },
  {
   "cell_type": "code",
   "execution_count": 276,
   "id": "47a26273",
   "metadata": {},
   "outputs": [
    {
     "data": {
      "text/plain": [
       "array([1.1, 2.2, 1.3, 1.4, 2.5])"
      ]
     },
     "execution_count": 276,
     "metadata": {},
     "output_type": "execute_result"
    }
   ],
   "source": [
    "result = np.where(cond, xarr, yarr)\n",
    "result"
   ]
  },
  {
   "cell_type": "code",
   "execution_count": 277,
   "id": "29bdbfbb",
   "metadata": {},
   "outputs": [],
   "source": [
    "arr = np.random.randn(4, 4)"
   ]
  },
  {
   "cell_type": "code",
   "execution_count": 278,
   "id": "db917d91",
   "metadata": {},
   "outputs": [
    {
     "data": {
      "text/plain": [
       "array([[False, False,  True,  True],\n",
       "       [False, False,  True, False],\n",
       "       [False, False, False,  True],\n",
       "       [False, False,  True,  True]])"
      ]
     },
     "execution_count": 278,
     "metadata": {},
     "output_type": "execute_result"
    }
   ],
   "source": [
    "arr>0"
   ]
  },
  {
   "cell_type": "code",
   "execution_count": 280,
   "id": "b8f7a10b",
   "metadata": {},
   "outputs": [
    {
     "data": {
      "text/plain": [
       "array([[-2, -2,  2,  2],\n",
       "       [-2, -2,  2, -2],\n",
       "       [-2, -2, -2,  2],\n",
       "       [-2, -2,  2,  2]])"
      ]
     },
     "execution_count": 280,
     "metadata": {},
     "output_type": "execute_result"
    }
   ],
   "source": [
    "# Negative-False values with -2 and postive-True values with 2\n",
    "np.where(arr>0, 2, -2)"
   ]
  },
  {
   "cell_type": "code",
   "execution_count": 282,
   "id": "0236ae84",
   "metadata": {},
   "outputs": [
    {
     "data": {
      "text/plain": [
       "array([[0, 0, 1, 1],\n",
       "       [0, 0, 1, 0],\n",
       "       [0, 0, 0, 1],\n",
       "       [0, 0, 1, 1]])"
      ]
     },
     "execution_count": 282,
     "metadata": {},
     "output_type": "execute_result"
    }
   ],
   "source": [
    "# True - 1, False - 0\n",
    "np.where(arr>0, 1, 0)"
   ]
  },
  {
   "cell_type": "code",
   "execution_count": 284,
   "id": "c646208d",
   "metadata": {},
   "outputs": [
    {
     "data": {
      "text/plain": [
       "array([[0.        , 0.        , 0.17617467, 1.95518805],\n",
       "       [0.        , 0.        , 1.30974186, 0.        ],\n",
       "       [0.        , 0.        , 0.        , 0.98734041],\n",
       "       [0.        , 0.        , 0.50745526, 1.20229099]])"
      ]
     },
     "execution_count": 284,
     "metadata": {},
     "output_type": "execute_result"
    }
   ],
   "source": [
    "# Set on -ve values to zero remain same\n",
    "np.where(arr> 0, arr, 0)"
   ]
  },
  {
   "cell_type": "markdown",
   "id": "bf65e8f2",
   "metadata": {},
   "source": [
    "### Mathematical and Statistical Methods"
   ]
  },
  {
   "cell_type": "code",
   "execution_count": 331,
   "id": "3ab4ef27",
   "metadata": {},
   "outputs": [],
   "source": [
    "arr = np.random.randn(5, 4)"
   ]
  },
  {
   "cell_type": "code",
   "execution_count": 286,
   "id": "e7a0a5b6",
   "metadata": {},
   "outputs": [
    {
     "data": {
      "text/plain": [
       "array([[ 0.52136743,  1.83244991,  2.38170836, -0.12709757],\n",
       "       [ 0.37664352,  0.97756376,  0.88677181,  1.3571472 ],\n",
       "       [ 1.75346147,  0.43803889,  1.04662123,  0.60842331],\n",
       "       [-1.04924672, -0.75077473,  1.90679234,  0.28137704],\n",
       "       [-1.05463988,  1.92296615, -1.94665785,  0.65154114]])"
      ]
     },
     "execution_count": 286,
     "metadata": {},
     "output_type": "execute_result"
    }
   ],
   "source": [
    "arr"
   ]
  },
  {
   "cell_type": "code",
   "execution_count": 288,
   "id": "cc933ce3",
   "metadata": {},
   "outputs": [
    {
     "data": {
      "text/plain": [
       "0.600722841449091"
      ]
     },
     "execution_count": 288,
     "metadata": {},
     "output_type": "execute_result"
    }
   ],
   "source": [
    "# Finding the mean\n",
    "arr.mean()"
   ]
  },
  {
   "cell_type": "code",
   "execution_count": 289,
   "id": "183fc3c8",
   "metadata": {},
   "outputs": [
    {
     "data": {
      "text/plain": [
       "0.600722841449091"
      ]
     },
     "execution_count": 289,
     "metadata": {},
     "output_type": "execute_result"
    }
   ],
   "source": [
    "np.mean(arr)"
   ]
  },
  {
   "cell_type": "code",
   "execution_count": 290,
   "id": "7e8ae38a",
   "metadata": {},
   "outputs": [
    {
     "data": {
      "text/plain": [
       "12.014456828981821"
      ]
     },
     "execution_count": 290,
     "metadata": {},
     "output_type": "execute_result"
    }
   ],
   "source": [
    "arr.sum()"
   ]
  },
  {
   "cell_type": "code",
   "execution_count": 293,
   "id": "d4c00b74",
   "metadata": {},
   "outputs": [
    {
     "data": {
      "text/plain": [
       "array([0.10951716, 0.8840488 , 0.85504718, 0.55427823])"
      ]
     },
     "execution_count": 293,
     "metadata": {},
     "output_type": "execute_result"
    }
   ],
   "source": [
    "# Axis = 0 rowise wise mean\n",
    "arr.mean(axis=0)"
   ]
  },
  {
   "cell_type": "code",
   "execution_count": 319,
   "id": "6518ac3c",
   "metadata": {},
   "outputs": [
    {
     "data": {
      "text/plain": [
       "0.10951716380489422"
      ]
     },
     "execution_count": 319,
     "metadata": {},
     "output_type": "execute_result"
    }
   ],
   "source": [
    "# Verified the first row mean\n",
    "np.mean(arr[0:, 0:1])"
   ]
  },
  {
   "cell_type": "code",
   "execution_count": 332,
   "id": "ce093f40",
   "metadata": {},
   "outputs": [
    {
     "data": {
      "text/plain": [
       "array([ 0.17221727,  0.05859742, -0.81001848,  1.15064881,  0.36514576])"
      ]
     },
     "execution_count": 332,
     "metadata": {},
     "output_type": "execute_result"
    }
   ],
   "source": [
    "# column mean\n",
    "arr.mean(axis=1)"
   ]
  },
  {
   "cell_type": "code",
   "execution_count": 322,
   "id": "25414347",
   "metadata": {},
   "outputs": [
    {
     "data": {
      "text/plain": [
       "array([ 0,  1,  3,  6, 10, 15, 21, 28])"
      ]
     },
     "execution_count": 322,
     "metadata": {},
     "output_type": "execute_result"
    }
   ],
   "source": [
    "# Cumulative sum\n",
    "arr = np.array([0, 1, 2, 3, 4, 5, 6, 7])\n",
    "arr.cumsum()"
   ]
  },
  {
   "cell_type": "code",
   "execution_count": 323,
   "id": "c05378b9",
   "metadata": {},
   "outputs": [
    {
     "data": {
      "text/plain": [
       "array([[ 0,  1,  2,  3],\n",
       "       [ 4,  5,  6,  7],\n",
       "       [ 8,  9, 10, 11],\n",
       "       [12, 13, 14, 15]])"
      ]
     },
     "execution_count": 323,
     "metadata": {},
     "output_type": "execute_result"
    }
   ],
   "source": [
    "# Cumulative sum on 2D array\n",
    "arr2d = np.arange(16).reshape(4, 4)\n",
    "arr2d"
   ]
  },
  {
   "cell_type": "code",
   "execution_count": 327,
   "id": "05c84b31",
   "metadata": {},
   "outputs": [
    {
     "data": {
      "text/plain": [
       "array([[ 0,  1,  2,  3],\n",
       "       [ 4,  6,  8, 10],\n",
       "       [12, 15, 18, 21],\n",
       "       [24, 28, 32, 36]])"
      ]
     },
     "execution_count": 327,
     "metadata": {},
     "output_type": "execute_result"
    }
   ],
   "source": [
    "# Rowsise wise\n",
    "arr2d.cumsum(axis=0)"
   ]
  },
  {
   "cell_type": "code",
   "execution_count": 329,
   "id": "c8dfbab7",
   "metadata": {},
   "outputs": [
    {
     "data": {
      "text/plain": [
       "array([[ 0,  1,  3,  6],\n",
       "       [ 4,  9, 15, 22],\n",
       "       [ 8, 17, 27, 38],\n",
       "       [12, 25, 39, 54]])"
      ]
     },
     "execution_count": 329,
     "metadata": {},
     "output_type": "execute_result"
    }
   ],
   "source": [
    "# columnwise\n",
    "arr2d.cumsum(axis=1)"
   ]
  },
  {
   "cell_type": "code",
   "execution_count": 326,
   "id": "1d0d00a5",
   "metadata": {},
   "outputs": [
    {
     "data": {
      "text/plain": [
       "array([[   0,    1,    2,    3],\n",
       "       [   0,    5,   12,   21],\n",
       "       [   0,   45,  120,  231],\n",
       "       [   0,  585, 1680, 3465]])"
      ]
     },
     "execution_count": 326,
     "metadata": {},
     "output_type": "execute_result"
    }
   ],
   "source": [
    "# cummulative product\n",
    "arr2d.cumprod(axis=0)"
   ]
  },
  {
   "cell_type": "code",
   "execution_count": 334,
   "id": "bcac88d1",
   "metadata": {},
   "outputs": [
    {
     "data": {
      "text/plain": [
       "array([4.47213595, 4.47213595, 4.47213595, 4.47213595])"
      ]
     },
     "execution_count": 334,
     "metadata": {},
     "output_type": "execute_result"
    }
   ],
   "source": [
    "# Standard dev\n",
    "arr2d.std(axis=0)"
   ]
  },
  {
   "cell_type": "code",
   "execution_count": 339,
   "id": "2ea5d022",
   "metadata": {},
   "outputs": [
    {
     "data": {
      "text/plain": [
       "array([0, 1, 2, 3])"
      ]
     },
     "execution_count": 339,
     "metadata": {},
     "output_type": "execute_result"
    }
   ],
   "source": [
    "# Minimum\n",
    "arr2d.min(axis=0)"
   ]
  },
  {
   "cell_type": "code",
   "execution_count": 340,
   "id": "d7cbfe09",
   "metadata": {},
   "outputs": [
    {
     "data": {
      "text/plain": [
       "array([ 3,  7, 11, 15])"
      ]
     },
     "execution_count": 340,
     "metadata": {},
     "output_type": "execute_result"
    }
   ],
   "source": [
    "arr2d.max(axis=1)"
   ]
  },
  {
   "cell_type": "markdown",
   "id": "a8a749ee",
   "metadata": {},
   "source": [
    "## Sorting"
   ]
  },
  {
   "cell_type": "code",
   "execution_count": 342,
   "id": "48a40f42",
   "metadata": {},
   "outputs": [
    {
     "data": {
      "text/plain": [
       "array([-2.00693271, -1.35928051, -1.28394393,  0.44614744,  0.4768788 ,\n",
       "        0.68944385])"
      ]
     },
     "execution_count": 342,
     "metadata": {},
     "output_type": "execute_result"
    }
   ],
   "source": [
    "arr = np.random.randn(6)\n",
    "arr.sort()\n",
    "arr"
   ]
  },
  {
   "cell_type": "code",
   "execution_count": 343,
   "id": "b0f1876c",
   "metadata": {},
   "outputs": [
    {
     "data": {
      "text/plain": [
       "array([[ 0.61372686, -0.27242428,  1.56301866],\n",
       "       [-0.17271793,  0.20215874, -0.44995911],\n",
       "       [-0.31194242, -1.04759774, -0.41243089],\n",
       "       [-1.73902487, -1.88242544,  0.51127678],\n",
       "       [ 0.26049718,  0.18097504,  1.01159549]])"
      ]
     },
     "execution_count": 343,
     "metadata": {},
     "output_type": "execute_result"
    }
   ],
   "source": [
    "arr = np.random.randn(5, 3)\n",
    "arr"
   ]
  },
  {
   "cell_type": "code",
   "execution_count": 344,
   "id": "8df17f3b",
   "metadata": {},
   "outputs": [],
   "source": [
    "arr.sort(axis=1)"
   ]
  },
  {
   "cell_type": "code",
   "execution_count": 345,
   "id": "78a8b36e",
   "metadata": {},
   "outputs": [
    {
     "data": {
      "text/plain": [
       "array([[-0.27242428,  0.61372686,  1.56301866],\n",
       "       [-0.44995911, -0.17271793,  0.20215874],\n",
       "       [-1.04759774, -0.41243089, -0.31194242],\n",
       "       [-1.88242544, -1.73902487,  0.51127678],\n",
       "       [ 0.18097504,  0.26049718,  1.01159549]])"
      ]
     },
     "execution_count": 345,
     "metadata": {},
     "output_type": "execute_result"
    }
   ],
   "source": [
    "arr"
   ]
  },
  {
   "cell_type": "code",
   "execution_count": 346,
   "id": "f913c95f",
   "metadata": {},
   "outputs": [],
   "source": [
    "## Unique out of array"
   ]
  },
  {
   "cell_type": "code",
   "execution_count": 347,
   "id": "0289dee0",
   "metadata": {},
   "outputs": [],
   "source": [
    "names = np.array(['Bob', 'Joe', 'Will', 'Bob', 'Will', 'Joe', 'Joe'])"
   ]
  },
  {
   "cell_type": "code",
   "execution_count": 349,
   "id": "55e9857b",
   "metadata": {},
   "outputs": [
    {
     "data": {
      "text/plain": [
       "array(['Bob', 'Joe', 'Will'], dtype='<U4')"
      ]
     },
     "execution_count": 349,
     "metadata": {},
     "output_type": "execute_result"
    }
   ],
   "source": [
    "np.unique(names)"
   ]
  },
  {
   "cell_type": "markdown",
   "id": "7d2a9049",
   "metadata": {},
   "source": [
    "## File Input and Output with Arrays"
   ]
  },
  {
   "cell_type": "code",
   "execution_count": 351,
   "id": "487ebe18",
   "metadata": {},
   "outputs": [],
   "source": [
    "arr = np.arange(10)"
   ]
  },
  {
   "cell_type": "code",
   "execution_count": 352,
   "id": "7ff5c036",
   "metadata": {},
   "outputs": [],
   "source": [
    "# Save the array\n",
    "np.save('some_array', arr)"
   ]
  },
  {
   "cell_type": "code",
   "execution_count": 354,
   "id": "6340e30d",
   "metadata": {},
   "outputs": [
    {
     "data": {
      "text/plain": [
       "array([0, 1, 2, 3, 4, 5, 6, 7, 8, 9])"
      ]
     },
     "execution_count": 354,
     "metadata": {},
     "output_type": "execute_result"
    }
   ],
   "source": [
    "# load the array\n",
    "np.load('some_array.npy')"
   ]
  },
  {
   "cell_type": "code",
   "execution_count": 355,
   "id": "c3d7a94c",
   "metadata": {},
   "outputs": [],
   "source": [
    "# compress array and save it\n",
    "np.savez(\"array_achieve.npz\", a=arr, b=arr)"
   ]
  },
  {
   "cell_type": "code",
   "execution_count": 356,
   "id": "686a00fd",
   "metadata": {},
   "outputs": [],
   "source": [
    "arch = np.load(\"array_achieve.npz\")"
   ]
  },
  {
   "cell_type": "code",
   "execution_count": 359,
   "id": "1a980942",
   "metadata": {},
   "outputs": [
    {
     "data": {
      "text/plain": [
       "<numpy.lib.npyio.NpzFile at 0x7fcc5ed49480>"
      ]
     },
     "execution_count": 359,
     "metadata": {},
     "output_type": "execute_result"
    }
   ],
   "source": [
    "arch"
   ]
  },
  {
   "cell_type": "code",
   "execution_count": 358,
   "id": "bf1c02c9",
   "metadata": {},
   "outputs": [
    {
     "data": {
      "text/plain": [
       "array([0, 1, 2, 3, 4, 5, 6, 7, 8, 9])"
      ]
     },
     "execution_count": 358,
     "metadata": {},
     "output_type": "execute_result"
    }
   ],
   "source": [
    "arch[\"a\"]"
   ]
  },
  {
   "cell_type": "markdown",
   "id": "7b959111",
   "metadata": {},
   "source": [
    "## Linear Algebra"
   ]
  },
  {
   "cell_type": "code",
   "execution_count": 360,
   "id": "e97cd908",
   "metadata": {},
   "outputs": [],
   "source": [
    "x = np.array([[1., 2., 3.], [4., 5., 6.]])\n",
    "y = np.array([[6., 23.], [-1, 7], [8, 9]])"
   ]
  },
  {
   "cell_type": "code",
   "execution_count": 361,
   "id": "e3f19544",
   "metadata": {},
   "outputs": [
    {
     "data": {
      "text/plain": [
       "array([[1., 2., 3.],\n",
       "       [4., 5., 6.]])"
      ]
     },
     "execution_count": 361,
     "metadata": {},
     "output_type": "execute_result"
    }
   ],
   "source": [
    "x"
   ]
  },
  {
   "cell_type": "code",
   "execution_count": 362,
   "id": "82ee66aa",
   "metadata": {},
   "outputs": [
    {
     "data": {
      "text/plain": [
       "array([[ 6., 23.],\n",
       "       [-1.,  7.],\n",
       "       [ 8.,  9.]])"
      ]
     },
     "execution_count": 362,
     "metadata": {},
     "output_type": "execute_result"
    }
   ],
   "source": [
    "y"
   ]
  },
  {
   "cell_type": "code",
   "execution_count": 363,
   "id": "5d173ce1",
   "metadata": {},
   "outputs": [
    {
     "data": {
      "text/plain": [
       "((2, 3), (3, 2))"
      ]
     },
     "execution_count": 363,
     "metadata": {},
     "output_type": "execute_result"
    }
   ],
   "source": [
    "x.shape, y.shape"
   ]
  },
  {
   "cell_type": "code",
   "execution_count": 364,
   "id": "3c473986",
   "metadata": {},
   "outputs": [
    {
     "data": {
      "text/plain": [
       "array([[ 28.,  64.],\n",
       "       [ 67., 181.]])"
      ]
     },
     "execution_count": 364,
     "metadata": {},
     "output_type": "execute_result"
    }
   ],
   "source": [
    "x.dot(y)"
   ]
  },
  {
   "cell_type": "code",
   "execution_count": 365,
   "id": "8372bb31",
   "metadata": {},
   "outputs": [],
   "source": [
    "from numpy.linalg import inv, qr"
   ]
  },
  {
   "cell_type": "code",
   "execution_count": 367,
   "id": "135327f3",
   "metadata": {},
   "outputs": [
    {
     "data": {
      "text/plain": [
       "array([[ 0.07246274,  1.35408548, -0.36858501, -1.84874586,  1.85835493],\n",
       "       [-1.26404865,  0.03700189, -0.71495744,  1.10369608, -0.12602793],\n",
       "       [-0.02986046,  0.32827062, -1.13034785,  0.64866328, -1.20260567],\n",
       "       [ 1.33250975,  1.7479067 ,  2.06516798,  0.99777986, -0.15097955],\n",
       "       [ 0.25791716,  0.72073285, -0.69863604,  1.5366955 , -0.72215045]])"
      ]
     },
     "execution_count": 367,
     "metadata": {},
     "output_type": "execute_result"
    }
   ],
   "source": [
    "X = np.random.randn(5, 5)\n",
    "X"
   ]
  },
  {
   "cell_type": "code",
   "execution_count": 368,
   "id": "726cafd6",
   "metadata": {},
   "outputs": [
    {
     "data": {
      "text/plain": [
       "array([[ 0.07246274, -1.26404865, -0.02986046,  1.33250975,  0.25791716],\n",
       "       [ 1.35408548,  0.03700189,  0.32827062,  1.7479067 ,  0.72073285],\n",
       "       [-0.36858501, -0.71495744, -1.13034785,  2.06516798, -0.69863604],\n",
       "       [-1.84874586,  1.10369608,  0.64866328,  0.99777986,  1.5366955 ],\n",
       "       [ 1.85835493, -0.12602793, -1.20260567, -0.15097955, -0.72215045]])"
      ]
     },
     "execution_count": 368,
     "metadata": {},
     "output_type": "execute_result"
    }
   ],
   "source": [
    "X.T"
   ]
  },
  {
   "cell_type": "code",
   "execution_count": 370,
   "id": "08608c8a",
   "metadata": {},
   "outputs": [
    {
     "data": {
      "text/plain": [
       "array([[ 3.44606497,  2.55653833,  3.48245125,  0.1774314 , -0.05755942],\n",
       "       [ 2.55653833,  5.51731189,  2.20958063,  0.60198903,  1.33255234],\n",
       "       [ 3.48245125,  2.20958063,  6.67771641,  0.14610131,  0.95722776],\n",
       "       [ 0.1774314 ,  0.60198903,  0.14610131,  8.41376805, -5.61517837],\n",
       "       [-0.05755942,  1.33255234,  0.95722776, -5.61517837,  5.4599226 ]])"
      ]
     },
     "execution_count": 370,
     "metadata": {},
     "output_type": "execute_result"
    }
   ],
   "source": [
    "mat = X.T.dot(X)\n",
    "mat"
   ]
  },
  {
   "cell_type": "code",
   "execution_count": 371,
   "id": "b08b57c5",
   "metadata": {},
   "outputs": [
    {
     "data": {
      "text/plain": [
       "array([[ 1.95197838, -1.02244423, -0.92309642,  1.07222514,  1.5346672 ],\n",
       "       [-1.02244423,  0.82081752,  0.42997578, -0.75190905, -1.05978092],\n",
       "       [-0.92309642,  0.42997578,  0.61254409, -0.54244431, -0.77993119],\n",
       "       [ 1.07222514, -0.75190905, -0.54244431,  1.12529977,  1.44721402],\n",
       "       [ 1.5346672 , -1.05978092, -0.77993119,  1.44721402,  2.08308534]])"
      ]
     },
     "execution_count": 371,
     "metadata": {},
     "output_type": "execute_result"
    }
   ],
   "source": [
    "inv(mat)"
   ]
  },
  {
   "cell_type": "code",
   "execution_count": 372,
   "id": "da03c9de",
   "metadata": {},
   "outputs": [
    {
     "data": {
      "text/plain": [
       "array([[ 1.00000000e+00,  3.96681128e-16,  5.13754886e-16,\n",
       "        -5.63045153e-16, -3.68385655e-16],\n",
       "       [ 1.21026184e-15,  1.00000000e+00, -1.77181598e-16,\n",
       "        -3.98416250e-16,  6.06190718e-16],\n",
       "       [ 1.60133588e-16, -2.50301253e-16,  1.00000000e+00,\n",
       "        -4.64872350e-16,  5.13615404e-16],\n",
       "       [ 1.77712816e-15, -6.07617933e-16, -1.86251800e-17,\n",
       "         1.00000000e+00,  1.76516370e-15],\n",
       "       [-2.89990994e-16, -4.28010181e-16,  3.45468544e-16,\n",
       "        -3.33546582e-16,  1.00000000e+00]])"
      ]
     },
     "execution_count": 372,
     "metadata": {},
     "output_type": "execute_result"
    }
   ],
   "source": [
    "mat.dot(inv(mat))"
   ]
  },
  {
   "cell_type": "code",
   "execution_count": 383,
   "id": "d44d64eb",
   "metadata": {},
   "outputs": [
    {
     "data": {
      "text/plain": [
       "array([[2, 0, 0],\n",
       "       [0, 2, 0],\n",
       "       [0, 0, 2]])"
      ]
     },
     "execution_count": 383,
     "metadata": {},
     "output_type": "execute_result"
    }
   ],
   "source": [
    "# Create a diagonal matrix\n",
    "np.diag((2, 2, 2))"
   ]
  },
  {
   "cell_type": "code",
   "execution_count": 382,
   "id": "2a64eb0b",
   "metadata": {},
   "outputs": [
    {
     "data": {
      "text/plain": [
       "6"
      ]
     },
     "execution_count": 382,
     "metadata": {},
     "output_type": "execute_result"
    }
   ],
   "source": [
    "# Diagonal sum\n",
    "arr = np.diag((2, 2, 2))\n",
    "np.trace(arr)"
   ]
  },
  {
   "cell_type": "markdown",
   "id": "a83cca4c",
   "metadata": {},
   "source": [
    "## Pseudorandom Number Generation"
   ]
  },
  {
   "cell_type": "code",
   "execution_count": 386,
   "id": "f532cf65",
   "metadata": {},
   "outputs": [
    {
     "data": {
      "text/plain": [
       "array([[ 1.32308169, -1.0297662 ,  1.14870952, -0.42881589],\n",
       "       [-0.62605925, -0.1496856 , -1.04538025,  0.65503252],\n",
       "       [-0.28174597,  0.1239507 , -0.71598859,  0.835844  ],\n",
       "       [-0.13839555,  1.88244721, -0.94381926,  0.18630987]])"
      ]
     },
     "execution_count": 386,
     "metadata": {},
     "output_type": "execute_result"
    }
   ],
   "source": [
    "samples = np.random.normal(size=(4, 4))\n",
    "samples"
   ]
  },
  {
   "cell_type": "code",
   "execution_count": 388,
   "id": "ded6bb2d",
   "metadata": {},
   "outputs": [
    {
     "data": {
      "text/plain": [
       "array([[1.32308169, 0.        , 1.14870952, 0.        ],\n",
       "       [0.        , 0.        , 0.        , 0.65503252],\n",
       "       [0.        , 0.1239507 , 0.        , 0.835844  ],\n",
       "       [0.        , 1.88244721, 0.        , 0.18630987]])"
      ]
     },
     "execution_count": 388,
     "metadata": {},
     "output_type": "execute_result"
    }
   ],
   "source": [
    "np.where(samples<0, 0, samples)"
   ]
  },
  {
   "cell_type": "code",
   "execution_count": 389,
   "id": "c45bd453",
   "metadata": {},
   "outputs": [
    {
     "data": {
      "text/plain": [
       "array([ 0.47143516, -1.19097569,  1.43270697, -0.3126519 , -0.72058873,\n",
       "        0.88716294,  0.85958841, -0.6365235 ,  0.01569637, -2.24268495])"
      ]
     },
     "execution_count": 389,
     "metadata": {},
     "output_type": "execute_result"
    }
   ],
   "source": [
    "## Seed setting\n",
    "rng = np.random.RandomState(1234)\n",
    "rng.randn(10)"
   ]
  },
  {
   "cell_type": "markdown",
   "id": "1c6ea906",
   "metadata": {},
   "source": [
    "## Simulating Many Random Walks at Once"
   ]
  },
  {
   "cell_type": "code",
   "execution_count": 396,
   "id": "c28ff963",
   "metadata": {},
   "outputs": [],
   "source": [
    "nwalks = 500\n",
    "nsteps = 1000\n",
    "draws = np.random.randint(0, 2, size=(nwalks, nsteps))"
   ]
  },
  {
   "cell_type": "code",
   "execution_count": 397,
   "id": "2a05d31b",
   "metadata": {},
   "outputs": [
    {
     "data": {
      "text/plain": [
       "array([[0, 1, 1, ..., 0, 1, 1],\n",
       "       [1, 1, 0, ..., 0, 0, 1],\n",
       "       [0, 1, 0, ..., 1, 0, 1],\n",
       "       ...,\n",
       "       [1, 1, 0, ..., 0, 1, 0],\n",
       "       [1, 0, 0, ..., 1, 0, 1],\n",
       "       [1, 0, 0, ..., 1, 0, 1]])"
      ]
     },
     "execution_count": 397,
     "metadata": {},
     "output_type": "execute_result"
    }
   ],
   "source": [
    "draws"
   ]
  },
  {
   "cell_type": "code",
   "execution_count": 398,
   "id": "6a752a71",
   "metadata": {},
   "outputs": [
    {
     "data": {
      "text/plain": [
       "(500, 1000)"
      ]
     },
     "execution_count": 398,
     "metadata": {},
     "output_type": "execute_result"
    }
   ],
   "source": [
    "draws.shape"
   ]
  },
  {
   "cell_type": "code",
   "execution_count": 399,
   "id": "35eebaec",
   "metadata": {},
   "outputs": [
    {
     "data": {
      "text/plain": [
       "array([[-1,  1,  1, ..., -1,  1,  1],\n",
       "       [ 1,  1, -1, ..., -1, -1,  1],\n",
       "       [-1,  1, -1, ...,  1, -1,  1],\n",
       "       ...,\n",
       "       [ 1,  1, -1, ..., -1,  1, -1],\n",
       "       [ 1, -1, -1, ...,  1, -1,  1],\n",
       "       [ 1, -1, -1, ...,  1, -1,  1]])"
      ]
     },
     "execution_count": 399,
     "metadata": {},
     "output_type": "execute_result"
    }
   ],
   "source": [
    "steps = np.where(draws>0, 1, -1)\n",
    "steps"
   ]
  },
  {
   "cell_type": "code",
   "execution_count": 401,
   "id": "6b9bf3b9",
   "metadata": {},
   "outputs": [],
   "source": [
    "# cumulative sum along the column\n",
    "walks = steps.cumsum(axis=1)"
   ]
  },
  {
   "cell_type": "code",
   "execution_count": 402,
   "id": "296fba79",
   "metadata": {},
   "outputs": [
    {
     "data": {
      "text/plain": [
       "-98"
      ]
     },
     "execution_count": 402,
     "metadata": {},
     "output_type": "execute_result"
    }
   ],
   "source": [
    "walks.min()"
   ]
  },
  {
   "cell_type": "code",
   "execution_count": 403,
   "id": "89221669",
   "metadata": {},
   "outputs": [
    {
     "data": {
      "text/plain": [
       "105"
      ]
     },
     "execution_count": 403,
     "metadata": {},
     "output_type": "execute_result"
    }
   ],
   "source": [
    "walks.max()"
   ]
  },
  {
   "cell_type": "code",
   "execution_count": 416,
   "id": "a9a823e9",
   "metadata": {},
   "outputs": [],
   "source": [
    "graph_plt = walks[0, 0:100]"
   ]
  },
  {
   "cell_type": "code",
   "execution_count": 417,
   "id": "67f23a99",
   "metadata": {},
   "outputs": [],
   "source": [
    "import matplotlib.pyplot as plt"
   ]
  },
  {
   "cell_type": "code",
   "execution_count": 420,
   "id": "14d8562e",
   "metadata": {},
   "outputs": [
    {
     "data": {
      "image/png": "[encoded data removed]",
      "text/plain": [
       "<Figure size 432x288 with 1 Axes>"
      ]
     },
     "metadata": {
      "needs_background": "light"
     },
     "output_type": "display_data"
    }
   ],
   "source": [
    "plt.plot(graph_plt[:100])\n",
    "plt.title(\"Random Walk\")\n",
    "plt.show()"
   ]
  },
  {
   "cell_type": "code",
   "execution_count": null,
   "id": "6390b03f",
   "metadata": {},
   "outputs": [],
   "source": []
  }
 ],
 "metadata": {
  "kernelspec": {
   "display_name": "Python 3 (ipykernel)",
   "language": "python",
   "name": "python3"
  },
  "language_info": {
   "codemirror_mode": {
    "name": "ipython",
    "version": 3
   },
   "file_extension": ".py",
   "mimetype": "text/x-python",
   "name": "python",
   "nbconvert_exporter": "python",
   "pygments_lexer": "ipython3",
   "version": "3.10.6"
  }
 },
 "nbformat": 4,
 "nbformat_minor": 5
}
