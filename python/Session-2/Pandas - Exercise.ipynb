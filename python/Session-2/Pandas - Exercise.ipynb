{
 "cells": [
  {
   "cell_type": "markdown",
   "id": "c99d38ce",
   "metadata": {},
   "source": [
    "### Create a dataframe with 5 student name and marks in each subject English, Tamil, Science, Social & Maths\n",
    "### use np.random.randint(1, 100) for marks\n",
    "\n",
    "1. Find the Total, Average in seperate columns\n",
    "2. Create a flag column when any of the subject mark is less than 35 marks the student is Fail\n",
    "3. Rank the students based on total if passed in all subjects\n",
    "4. Visualize the total - bar chart, average - line chart, % pass & fail - Pie chart"
   ]
  },
  {
   "cell_type": "code",
   "execution_count": 1,
   "id": "1017809d",
   "metadata": {},
   "outputs": [],
   "source": [
    "import numpy as np\n",
    "import pandas as pd"
   ]
  },
  {
   "cell_type": "code",
   "execution_count": 2,
   "id": "1c9793fd",
   "metadata": {
    "scrolled": true
   },
   "outputs": [
    {
     "data": {
      "text/html": [
       "<div>\n",
       "<style scoped>\n",
       "    .dataframe tbody tr th:only-of-type {\n",
       "        vertical-align: middle;\n",
       "    }\n",
       "\n",
       "    .dataframe tbody tr th {\n",
       "        vertical-align: top;\n",
       "    }\n",
       "\n",
       "    .dataframe thead th {\n",
       "        text-align: right;\n",
       "    }\n",
       "</style>\n",
       "<table border=\"1\" class=\"dataframe\">\n",
       "  <thead>\n",
       "    <tr style=\"text-align: right;\">\n",
       "      <th></th>\n",
       "      <th>Eng</th>\n",
       "      <th>Tam</th>\n",
       "      <th>Sci</th>\n",
       "      <th>Soc</th>\n",
       "      <th>Mat</th>\n",
       "    </tr>\n",
       "  </thead>\n",
       "  <tbody>\n",
       "    <tr>\n",
       "      <th>0</th>\n",
       "      <td>44</td>\n",
       "      <td>88</td>\n",
       "      <td>49</td>\n",
       "      <td>98</td>\n",
       "      <td>36</td>\n",
       "    </tr>\n",
       "    <tr>\n",
       "      <th>1</th>\n",
       "      <td>49</td>\n",
       "      <td>72</td>\n",
       "      <td>33</td>\n",
       "      <td>50</td>\n",
       "      <td>49</td>\n",
       "    </tr>\n",
       "    <tr>\n",
       "      <th>2</th>\n",
       "      <td>34</td>\n",
       "      <td>38</td>\n",
       "      <td>81</td>\n",
       "      <td>31</td>\n",
       "      <td>94</td>\n",
       "    </tr>\n",
       "    <tr>\n",
       "      <th>3</th>\n",
       "      <td>77</td>\n",
       "      <td>66</td>\n",
       "      <td>97</td>\n",
       "      <td>57</td>\n",
       "      <td>85</td>\n",
       "    </tr>\n",
       "    <tr>\n",
       "      <th>4</th>\n",
       "      <td>55</td>\n",
       "      <td>75</td>\n",
       "      <td>82</td>\n",
       "      <td>47</td>\n",
       "      <td>41</td>\n",
       "    </tr>\n",
       "  </tbody>\n",
       "</table>\n",
       "</div>"
      ],
      "text/plain": [
       "   Eng  Tam  Sci  Soc  Mat\n",
       "0   44   88   49   98   36\n",
       "1   49   72   33   50   49\n",
       "2   34   38   81   31   94\n",
       "3   77   66   97   57   85\n",
       "4   55   75   82   47   41"
      ]
     },
     "execution_count": 2,
     "metadata": {},
     "output_type": "execute_result"
    }
   ],
   "source": [
    "marks_df = pd.DataFrame(np.random.randint(20, 100, 25).reshape(5, 5), columns=[\"Eng\", \"Tam\", \"Sci\", \"Soc\", \"Mat\"])\n",
    "marks_df"
   ]
  },
  {
   "cell_type": "code",
   "execution_count": 3,
   "id": "dddd97c6",
   "metadata": {},
   "outputs": [],
   "source": [
    "# Add student name & re-index\n",
    "marks_df[\"Name\"] = [\"Arun\", \"Dinesh\", \"Raj\", \"Nisha\", \"Patel\"]\n",
    "marks_df = marks_df[[\"Name\", \"Eng\", \"Tam\", \"Sci\", \"Soc\", \"Mat\"]]"
   ]
  },
  {
   "cell_type": "code",
   "execution_count": 4,
   "id": "599cb696",
   "metadata": {},
   "outputs": [
    {
     "data": {
      "text/html": [
       "<div>\n",
       "<style scoped>\n",
       "    .dataframe tbody tr th:only-of-type {\n",
       "        vertical-align: middle;\n",
       "    }\n",
       "\n",
       "    .dataframe tbody tr th {\n",
       "        vertical-align: top;\n",
       "    }\n",
       "\n",
       "    .dataframe thead th {\n",
       "        text-align: right;\n",
       "    }\n",
       "</style>\n",
       "<table border=\"1\" class=\"dataframe\">\n",
       "  <thead>\n",
       "    <tr style=\"text-align: right;\">\n",
       "      <th></th>\n",
       "      <th>Name</th>\n",
       "      <th>Eng</th>\n",
       "      <th>Tam</th>\n",
       "      <th>Sci</th>\n",
       "      <th>Soc</th>\n",
       "      <th>Mat</th>\n",
       "    </tr>\n",
       "  </thead>\n",
       "  <tbody>\n",
       "    <tr>\n",
       "      <th>0</th>\n",
       "      <td>Arun</td>\n",
       "      <td>44</td>\n",
       "      <td>88</td>\n",
       "      <td>49</td>\n",
       "      <td>98</td>\n",
       "      <td>36</td>\n",
       "    </tr>\n",
       "    <tr>\n",
       "      <th>1</th>\n",
       "      <td>Dinesh</td>\n",
       "      <td>49</td>\n",
       "      <td>72</td>\n",
       "      <td>33</td>\n",
       "      <td>50</td>\n",
       "      <td>49</td>\n",
       "    </tr>\n",
       "    <tr>\n",
       "      <th>2</th>\n",
       "      <td>Raj</td>\n",
       "      <td>34</td>\n",
       "      <td>38</td>\n",
       "      <td>81</td>\n",
       "      <td>31</td>\n",
       "      <td>94</td>\n",
       "    </tr>\n",
       "    <tr>\n",
       "      <th>3</th>\n",
       "      <td>Nisha</td>\n",
       "      <td>77</td>\n",
       "      <td>66</td>\n",
       "      <td>97</td>\n",
       "      <td>57</td>\n",
       "      <td>85</td>\n",
       "    </tr>\n",
       "    <tr>\n",
       "      <th>4</th>\n",
       "      <td>Patel</td>\n",
       "      <td>55</td>\n",
       "      <td>75</td>\n",
       "      <td>82</td>\n",
       "      <td>47</td>\n",
       "      <td>41</td>\n",
       "    </tr>\n",
       "  </tbody>\n",
       "</table>\n",
       "</div>"
      ],
      "text/plain": [
       "     Name  Eng  Tam  Sci  Soc  Mat\n",
       "0    Arun   44   88   49   98   36\n",
       "1  Dinesh   49   72   33   50   49\n",
       "2     Raj   34   38   81   31   94\n",
       "3   Nisha   77   66   97   57   85\n",
       "4   Patel   55   75   82   47   41"
      ]
     },
     "execution_count": 4,
     "metadata": {},
     "output_type": "execute_result"
    }
   ],
   "source": [
    "marks_df"
   ]
  },
  {
   "cell_type": "code",
   "execution_count": 5,
   "id": "deb77da3",
   "metadata": {},
   "outputs": [],
   "source": [
    "def pass_or_fail(x):\n",
    "    if x[0] and x[1] and x[2] and x[3] and x[4]:\n",
    "        return \"Pass\"\n",
    "    else:\n",
    "        return \"Fail\""
   ]
  },
  {
   "cell_type": "code",
   "execution_count": 6,
   "id": "efcaa75d",
   "metadata": {},
   "outputs": [],
   "source": [
    "pass_or_fail_df = marks_df.iloc[0:, 1:] >= 35"
   ]
  },
  {
   "cell_type": "code",
   "execution_count": 7,
   "id": "47e8d2e9",
   "metadata": {},
   "outputs": [
    {
     "data": {
      "text/html": [
       "<div>\n",
       "<style scoped>\n",
       "    .dataframe tbody tr th:only-of-type {\n",
       "        vertical-align: middle;\n",
       "    }\n",
       "\n",
       "    .dataframe tbody tr th {\n",
       "        vertical-align: top;\n",
       "    }\n",
       "\n",
       "    .dataframe thead th {\n",
       "        text-align: right;\n",
       "    }\n",
       "</style>\n",
       "<table border=\"1\" class=\"dataframe\">\n",
       "  <thead>\n",
       "    <tr style=\"text-align: right;\">\n",
       "      <th></th>\n",
       "      <th>Eng</th>\n",
       "      <th>Tam</th>\n",
       "      <th>Sci</th>\n",
       "      <th>Soc</th>\n",
       "      <th>Mat</th>\n",
       "    </tr>\n",
       "  </thead>\n",
       "  <tbody>\n",
       "    <tr>\n",
       "      <th>0</th>\n",
       "      <td>True</td>\n",
       "      <td>True</td>\n",
       "      <td>True</td>\n",
       "      <td>True</td>\n",
       "      <td>True</td>\n",
       "    </tr>\n",
       "    <tr>\n",
       "      <th>1</th>\n",
       "      <td>True</td>\n",
       "      <td>True</td>\n",
       "      <td>False</td>\n",
       "      <td>True</td>\n",
       "      <td>True</td>\n",
       "    </tr>\n",
       "    <tr>\n",
       "      <th>2</th>\n",
       "      <td>False</td>\n",
       "      <td>True</td>\n",
       "      <td>True</td>\n",
       "      <td>False</td>\n",
       "      <td>True</td>\n",
       "    </tr>\n",
       "    <tr>\n",
       "      <th>3</th>\n",
       "      <td>True</td>\n",
       "      <td>True</td>\n",
       "      <td>True</td>\n",
       "      <td>True</td>\n",
       "      <td>True</td>\n",
       "    </tr>\n",
       "    <tr>\n",
       "      <th>4</th>\n",
       "      <td>True</td>\n",
       "      <td>True</td>\n",
       "      <td>True</td>\n",
       "      <td>True</td>\n",
       "      <td>True</td>\n",
       "    </tr>\n",
       "  </tbody>\n",
       "</table>\n",
       "</div>"
      ],
      "text/plain": [
       "     Eng   Tam    Sci    Soc   Mat\n",
       "0   True  True   True   True  True\n",
       "1   True  True  False   True  True\n",
       "2  False  True   True  False  True\n",
       "3   True  True   True   True  True\n",
       "4   True  True   True   True  True"
      ]
     },
     "execution_count": 7,
     "metadata": {},
     "output_type": "execute_result"
    }
   ],
   "source": [
    "pass_or_fail_df"
   ]
  },
  {
   "cell_type": "code",
   "execution_count": 8,
   "id": "bf9a0112",
   "metadata": {},
   "outputs": [],
   "source": [
    "marks_df = marks_df.copy()"
   ]
  },
  {
   "cell_type": "code",
   "execution_count": 9,
   "id": "1229e1da",
   "metadata": {},
   "outputs": [
    {
     "data": {
      "text/plain": [
       "0    Pass\n",
       "1    Fail\n",
       "2    Fail\n",
       "3    Pass\n",
       "4    Pass\n",
       "dtype: object"
      ]
     },
     "execution_count": 9,
     "metadata": {},
     "output_type": "execute_result"
    }
   ],
   "source": [
    "pass_or_fail_df.apply(pass_or_fail, axis=1)"
   ]
  },
  {
   "cell_type": "code",
   "execution_count": 10,
   "id": "1ffc6bb4",
   "metadata": {},
   "outputs": [],
   "source": [
    "marks_df[\"pass/fail\"] = pass_or_fail_df.apply(pass_or_fail, axis=1)"
   ]
  },
  {
   "cell_type": "code",
   "execution_count": 11,
   "id": "19ada7a2",
   "metadata": {},
   "outputs": [],
   "source": [
    "marks_df[\"Total\"] = marks_df.iloc[0:, 1:6].sum(axis=1)"
   ]
  },
  {
   "cell_type": "code",
   "execution_count": 12,
   "id": "68002595",
   "metadata": {},
   "outputs": [],
   "source": [
    "marks_df[\"Average\"] = marks_df.iloc[0:, 1:6].mean(axis=1)"
   ]
  },
  {
   "cell_type": "code",
   "execution_count": 13,
   "id": "d0524ab6",
   "metadata": {},
   "outputs": [
    {
     "data": {
      "text/html": [
       "<div>\n",
       "<style scoped>\n",
       "    .dataframe tbody tr th:only-of-type {\n",
       "        vertical-align: middle;\n",
       "    }\n",
       "\n",
       "    .dataframe tbody tr th {\n",
       "        vertical-align: top;\n",
       "    }\n",
       "\n",
       "    .dataframe thead th {\n",
       "        text-align: right;\n",
       "    }\n",
       "</style>\n",
       "<table border=\"1\" class=\"dataframe\">\n",
       "  <thead>\n",
       "    <tr style=\"text-align: right;\">\n",
       "      <th></th>\n",
       "      <th>Name</th>\n",
       "      <th>Eng</th>\n",
       "      <th>Tam</th>\n",
       "      <th>Sci</th>\n",
       "      <th>Soc</th>\n",
       "      <th>Mat</th>\n",
       "      <th>pass/fail</th>\n",
       "      <th>Total</th>\n",
       "      <th>Average</th>\n",
       "    </tr>\n",
       "  </thead>\n",
       "  <tbody>\n",
       "    <tr>\n",
       "      <th>0</th>\n",
       "      <td>Arun</td>\n",
       "      <td>44</td>\n",
       "      <td>88</td>\n",
       "      <td>49</td>\n",
       "      <td>98</td>\n",
       "      <td>36</td>\n",
       "      <td>Pass</td>\n",
       "      <td>315</td>\n",
       "      <td>63.0</td>\n",
       "    </tr>\n",
       "    <tr>\n",
       "      <th>1</th>\n",
       "      <td>Dinesh</td>\n",
       "      <td>49</td>\n",
       "      <td>72</td>\n",
       "      <td>33</td>\n",
       "      <td>50</td>\n",
       "      <td>49</td>\n",
       "      <td>Fail</td>\n",
       "      <td>253</td>\n",
       "      <td>50.6</td>\n",
       "    </tr>\n",
       "    <tr>\n",
       "      <th>2</th>\n",
       "      <td>Raj</td>\n",
       "      <td>34</td>\n",
       "      <td>38</td>\n",
       "      <td>81</td>\n",
       "      <td>31</td>\n",
       "      <td>94</td>\n",
       "      <td>Fail</td>\n",
       "      <td>278</td>\n",
       "      <td>55.6</td>\n",
       "    </tr>\n",
       "    <tr>\n",
       "      <th>3</th>\n",
       "      <td>Nisha</td>\n",
       "      <td>77</td>\n",
       "      <td>66</td>\n",
       "      <td>97</td>\n",
       "      <td>57</td>\n",
       "      <td>85</td>\n",
       "      <td>Pass</td>\n",
       "      <td>382</td>\n",
       "      <td>76.4</td>\n",
       "    </tr>\n",
       "    <tr>\n",
       "      <th>4</th>\n",
       "      <td>Patel</td>\n",
       "      <td>55</td>\n",
       "      <td>75</td>\n",
       "      <td>82</td>\n",
       "      <td>47</td>\n",
       "      <td>41</td>\n",
       "      <td>Pass</td>\n",
       "      <td>300</td>\n",
       "      <td>60.0</td>\n",
       "    </tr>\n",
       "  </tbody>\n",
       "</table>\n",
       "</div>"
      ],
      "text/plain": [
       "     Name  Eng  Tam  Sci  Soc  Mat pass/fail  Total  Average\n",
       "0    Arun   44   88   49   98   36      Pass    315     63.0\n",
       "1  Dinesh   49   72   33   50   49      Fail    253     50.6\n",
       "2     Raj   34   38   81   31   94      Fail    278     55.6\n",
       "3   Nisha   77   66   97   57   85      Pass    382     76.4\n",
       "4   Patel   55   75   82   47   41      Pass    300     60.0"
      ]
     },
     "execution_count": 13,
     "metadata": {},
     "output_type": "execute_result"
    }
   ],
   "source": [
    "marks_df"
   ]
  },
  {
   "cell_type": "code",
   "execution_count": 14,
   "id": "0f39fd21",
   "metadata": {},
   "outputs": [],
   "source": [
    "import matplotlib.pyplot as plt"
   ]
  },
  {
   "cell_type": "code",
   "execution_count": 15,
   "id": "0381512f",
   "metadata": {},
   "outputs": [
    {
     "data": {
      "image/png": "[encoded data removed]",
      "text/plain": [
       "<Figure size 300x200 with 1 Axes>"
      ]
     },
     "metadata": {},
     "output_type": "display_data"
    }
   ],
   "source": [
    "# Plot the student Average\n",
    "plt.figure(figsize=(3,2))\n",
    "plt.plot(\"Name\", \"Average\", data=marks_df)\n",
    "plt.title(\"Students Average\")\n",
    "plt.xlabel(\"Names\")\n",
    "plt.ylabel(\"Average\")\n",
    "plt.show()"
   ]
  },
  {
   "cell_type": "code",
   "execution_count": 16,
   "id": "4b69fc20",
   "metadata": {},
   "outputs": [
    {
     "data": {
      "image/png": "[encoded data removed]",
      "text/plain": [
       "<Figure size 300x200 with 1 Axes>"
      ]
     },
     "metadata": {},
     "output_type": "display_data"
    }
   ],
   "source": [
    "# Bar chart the total\n",
    "plt.figure(figsize=(3,2))\n",
    "plt.bar(\"Name\", \"Total\", data=marks_df)\n",
    "plt.title(\"Students Total\")\n",
    "plt.xlabel(\"Names\")\n",
    "plt.ylabel(\"Total\")\n",
    "plt.show()"
   ]
  },
  {
   "cell_type": "code",
   "execution_count": 17,
   "id": "cf6b8892",
   "metadata": {},
   "outputs": [],
   "source": [
    "# Pass fail % Pie chart\n",
    "num_students =len(marks_df)\n",
    "pass_percentage = len(marks_df.loc[marks_df[\"pass/fail\"] == \"Pass\"])/num_students*100\n",
    "fail_percentage = len(marks_df.loc[marks_df[\"pass/fail\"] == \"Fail\"])/num_students*100"
   ]
  },
  {
   "cell_type": "code",
   "execution_count": 18,
   "id": "0fc6e37f",
   "metadata": {},
   "outputs": [
    {
     "data": {
      "image/png": "[encoded data removed]",
      "text/plain": [
       "<Figure size 640x480 with 1 Axes>"
      ]
     },
     "metadata": {},
     "output_type": "display_data"
    }
   ],
   "source": [
    "labels = [f\"Pass -{pass_percentage}%\", f\"Fail -{fail_percentage}%\"]\n",
    "plt.pie([pass_percentage, fail_percentage], labels=labels)\n",
    "plt.show()"
   ]
  },
  {
   "cell_type": "code",
   "execution_count": 19,
   "id": "34c5c1d8",
   "metadata": {},
   "outputs": [
    {
     "data": {
      "text/html": [
       "<div>\n",
       "<style scoped>\n",
       "    .dataframe tbody tr th:only-of-type {\n",
       "        vertical-align: middle;\n",
       "    }\n",
       "\n",
       "    .dataframe tbody tr th {\n",
       "        vertical-align: top;\n",
       "    }\n",
       "\n",
       "    .dataframe thead th {\n",
       "        text-align: right;\n",
       "    }\n",
       "</style>\n",
       "<table border=\"1\" class=\"dataframe\">\n",
       "  <thead>\n",
       "    <tr style=\"text-align: right;\">\n",
       "      <th></th>\n",
       "      <th>Name</th>\n",
       "      <th>Eng</th>\n",
       "      <th>Tam</th>\n",
       "      <th>Sci</th>\n",
       "      <th>Soc</th>\n",
       "      <th>Mat</th>\n",
       "      <th>pass/fail</th>\n",
       "      <th>Total</th>\n",
       "      <th>Average</th>\n",
       "    </tr>\n",
       "  </thead>\n",
       "  <tbody>\n",
       "    <tr>\n",
       "      <th>0</th>\n",
       "      <td>Arun</td>\n",
       "      <td>44</td>\n",
       "      <td>88</td>\n",
       "      <td>49</td>\n",
       "      <td>98</td>\n",
       "      <td>36</td>\n",
       "      <td>Pass</td>\n",
       "      <td>315</td>\n",
       "      <td>63.0</td>\n",
       "    </tr>\n",
       "    <tr>\n",
       "      <th>1</th>\n",
       "      <td>Dinesh</td>\n",
       "      <td>49</td>\n",
       "      <td>72</td>\n",
       "      <td>33</td>\n",
       "      <td>50</td>\n",
       "      <td>49</td>\n",
       "      <td>Fail</td>\n",
       "      <td>253</td>\n",
       "      <td>50.6</td>\n",
       "    </tr>\n",
       "    <tr>\n",
       "      <th>2</th>\n",
       "      <td>Raj</td>\n",
       "      <td>34</td>\n",
       "      <td>38</td>\n",
       "      <td>81</td>\n",
       "      <td>31</td>\n",
       "      <td>94</td>\n",
       "      <td>Fail</td>\n",
       "      <td>278</td>\n",
       "      <td>55.6</td>\n",
       "    </tr>\n",
       "    <tr>\n",
       "      <th>3</th>\n",
       "      <td>Nisha</td>\n",
       "      <td>77</td>\n",
       "      <td>66</td>\n",
       "      <td>97</td>\n",
       "      <td>57</td>\n",
       "      <td>85</td>\n",
       "      <td>Pass</td>\n",
       "      <td>382</td>\n",
       "      <td>76.4</td>\n",
       "    </tr>\n",
       "    <tr>\n",
       "      <th>4</th>\n",
       "      <td>Patel</td>\n",
       "      <td>55</td>\n",
       "      <td>75</td>\n",
       "      <td>82</td>\n",
       "      <td>47</td>\n",
       "      <td>41</td>\n",
       "      <td>Pass</td>\n",
       "      <td>300</td>\n",
       "      <td>60.0</td>\n",
       "    </tr>\n",
       "  </tbody>\n",
       "</table>\n",
       "</div>"
      ],
      "text/plain": [
       "     Name  Eng  Tam  Sci  Soc  Mat pass/fail  Total  Average\n",
       "0    Arun   44   88   49   98   36      Pass    315     63.0\n",
       "1  Dinesh   49   72   33   50   49      Fail    253     50.6\n",
       "2     Raj   34   38   81   31   94      Fail    278     55.6\n",
       "3   Nisha   77   66   97   57   85      Pass    382     76.4\n",
       "4   Patel   55   75   82   47   41      Pass    300     60.0"
      ]
     },
     "execution_count": 19,
     "metadata": {},
     "output_type": "execute_result"
    }
   ],
   "source": [
    "## Rank the students\n",
    "marks_df"
   ]
  },
  {
   "cell_type": "code",
   "execution_count": 20,
   "id": "06423628",
   "metadata": {},
   "outputs": [],
   "source": [
    "marks_df[\"Rank\"] = marks_df[\"Total\"].rank(ascending=False, method=\"first\")"
   ]
  },
  {
   "cell_type": "code",
   "execution_count": 21,
   "id": "0b0d0b44",
   "metadata": {},
   "outputs": [
    {
     "data": {
      "text/html": [
       "<div>\n",
       "<style scoped>\n",
       "    .dataframe tbody tr th:only-of-type {\n",
       "        vertical-align: middle;\n",
       "    }\n",
       "\n",
       "    .dataframe tbody tr th {\n",
       "        vertical-align: top;\n",
       "    }\n",
       "\n",
       "    .dataframe thead th {\n",
       "        text-align: right;\n",
       "    }\n",
       "</style>\n",
       "<table border=\"1\" class=\"dataframe\">\n",
       "  <thead>\n",
       "    <tr style=\"text-align: right;\">\n",
       "      <th></th>\n",
       "      <th>Name</th>\n",
       "      <th>Eng</th>\n",
       "      <th>Tam</th>\n",
       "      <th>Sci</th>\n",
       "      <th>Soc</th>\n",
       "      <th>Mat</th>\n",
       "      <th>pass/fail</th>\n",
       "      <th>Total</th>\n",
       "      <th>Average</th>\n",
       "      <th>Rank</th>\n",
       "    </tr>\n",
       "  </thead>\n",
       "  <tbody>\n",
       "    <tr>\n",
       "      <th>0</th>\n",
       "      <td>Arun</td>\n",
       "      <td>44</td>\n",
       "      <td>88</td>\n",
       "      <td>49</td>\n",
       "      <td>98</td>\n",
       "      <td>36</td>\n",
       "      <td>Pass</td>\n",
       "      <td>315</td>\n",
       "      <td>63.0</td>\n",
       "      <td>2.0</td>\n",
       "    </tr>\n",
       "    <tr>\n",
       "      <th>1</th>\n",
       "      <td>Dinesh</td>\n",
       "      <td>49</td>\n",
       "      <td>72</td>\n",
       "      <td>33</td>\n",
       "      <td>50</td>\n",
       "      <td>49</td>\n",
       "      <td>Fail</td>\n",
       "      <td>253</td>\n",
       "      <td>50.6</td>\n",
       "      <td>5.0</td>\n",
       "    </tr>\n",
       "    <tr>\n",
       "      <th>2</th>\n",
       "      <td>Raj</td>\n",
       "      <td>34</td>\n",
       "      <td>38</td>\n",
       "      <td>81</td>\n",
       "      <td>31</td>\n",
       "      <td>94</td>\n",
       "      <td>Fail</td>\n",
       "      <td>278</td>\n",
       "      <td>55.6</td>\n",
       "      <td>4.0</td>\n",
       "    </tr>\n",
       "    <tr>\n",
       "      <th>3</th>\n",
       "      <td>Nisha</td>\n",
       "      <td>77</td>\n",
       "      <td>66</td>\n",
       "      <td>97</td>\n",
       "      <td>57</td>\n",
       "      <td>85</td>\n",
       "      <td>Pass</td>\n",
       "      <td>382</td>\n",
       "      <td>76.4</td>\n",
       "      <td>1.0</td>\n",
       "    </tr>\n",
       "    <tr>\n",
       "      <th>4</th>\n",
       "      <td>Patel</td>\n",
       "      <td>55</td>\n",
       "      <td>75</td>\n",
       "      <td>82</td>\n",
       "      <td>47</td>\n",
       "      <td>41</td>\n",
       "      <td>Pass</td>\n",
       "      <td>300</td>\n",
       "      <td>60.0</td>\n",
       "      <td>3.0</td>\n",
       "    </tr>\n",
       "  </tbody>\n",
       "</table>\n",
       "</div>"
      ],
      "text/plain": [
       "     Name  Eng  Tam  Sci  Soc  Mat pass/fail  Total  Average  Rank\n",
       "0    Arun   44   88   49   98   36      Pass    315     63.0   2.0\n",
       "1  Dinesh   49   72   33   50   49      Fail    253     50.6   5.0\n",
       "2     Raj   34   38   81   31   94      Fail    278     55.6   4.0\n",
       "3   Nisha   77   66   97   57   85      Pass    382     76.4   1.0\n",
       "4   Patel   55   75   82   47   41      Pass    300     60.0   3.0"
      ]
     },
     "execution_count": 21,
     "metadata": {},
     "output_type": "execute_result"
    }
   ],
   "source": [
    "marks_df"
   ]
  },
  {
   "cell_type": "code",
   "execution_count": null,
   "id": "cda35bac",
   "metadata": {},
   "outputs": [],
   "source": []
  }
 ],
 "metadata": {
  "kernelspec": {
   "display_name": "Python 3 (ipykernel)",
   "language": "python",
   "name": "python3"
  },
  "language_info": {
   "codemirror_mode": {
    "name": "ipython",
    "version": 3
   },
   "file_extension": ".py",
   "mimetype": "text/x-python",
   "name": "python",
   "nbconvert_exporter": "python",
   "pygments_lexer": "ipython3",
   "version": "3.10.6"
  }
 },
 "nbformat": 4,
 "nbformat_minor": 5
}
